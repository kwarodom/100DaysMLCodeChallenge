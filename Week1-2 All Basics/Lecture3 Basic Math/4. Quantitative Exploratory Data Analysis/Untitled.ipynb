{
 "cells": [
  {
   "cell_type": "code",
   "execution_count": 4,
   "metadata": {},
   "outputs": [
    {
     "name": "stdout",
     "output_type": "stream",
     "text": [
      "[[1.         0.78666809]\n",
      " [0.78666809 1.        ]]\n",
      "0.7866680885228169\n"
     ]
    }
   ],
   "source": [
    "'''\n",
    "Computing the Pearson correlation coefficient\n",
    "\n",
    "As mentioned in the video, the Pearson correlation coefficient, also called the\n",
    "Pearson r, is often easier to interpret than the covariance. It is computed using\n",
    "the np.corrcoef() function. Like np.cov(), it takes two arrays as arguments and\n",
    "returns a 2D array. Entries [0,0] and [1,1] are necessarily equal to 1 (can you\n",
    "think about why?), and the value we are after is entry [0,1].\n",
    "\n",
    "In this exercise, you will write a function, pearson_r(x, y) that takes in two\n",
    "arrays and returns the Pearson correlation coefficient. You will then use this\n",
    "function to compute it for the petal lengths and widths of I. versicolor.\n",
    "\n",
    "Again, we include the scatter plot you generated in a previous exercise to remind\n",
    "you how the petal width and length are related.\n",
    "\n",
    "Instructions\n",
    "-Define a function with signature pearson_r(x, y).\n",
    "    -Use np.corrcoef() to compute the correlation matrix of x and y (pass them to\n",
    "    np.corrcoef() in that order).\n",
    "    -The function returns entry [0,1] of the correlation matrix.\n",
    "-Compute the Pearson correlation between the data in the arrays versicolor_petal_length\n",
    "and versicolor_petal_width. Assign the result to r.\n",
    "-Print the result.\n",
    "'''\n",
    "import numpy as np\n",
    "\n",
    "versicolor_petal_length = np.array([4.7,  4.5,  4.9,  4.,  4.6,  4.5,  4.7,  3.3,  4.6,  3.9,  3.5,\n",
    "                                    4.2,  4.,  4.7,  3.6,  4.4,  4.5,  4.1,  4.5,  3.9,  4.8,  4.,\n",
    "                                    4.9,  4.7,  4.3,  4.4,  4.8,  5.,  4.5,  3.5,  3.8,  3.7,  3.9,\n",
    "                                    5.1,  4.5,  4.5,  4.7,  4.4,  4.1,  4.,  4.4,  4.6,  4.,  3.3,\n",
    "                                    4.2,  4.2,  4.2,  4.3,  3.,  4.1])\n",
    "\n",
    "versicolor_petal_width = np.array([1.4,  1.5,  1.5,  1.3,  1.5,  1.3,  1.6,  1.,  1.3,  1.4,  1.,\n",
    "                                   1.5,  1.,  1.4,  1.3,  1.4,  1.5,  1.,  1.5,  1.1,  1.8,  1.3,\n",
    "                                   1.5,  1.2,  1.3,  1.4,  1.4,  1.7,  1.5,  1.,  1.1,  1.,  1.2,\n",
    "                                   1.6,  1.5,  1.6,  1.5,  1.3,  1.3,  1.3,  1.2,  1.4,  1.2,  1.,\n",
    "                                   1.3,  1.2,  1.3,  1.3,  1.1,  1.3])\n",
    "\n",
    "\n",
    "def pearson_r(x, y):\n",
    "    \"\"\"Compute Pearson correlation coefficient between two arrays.\"\"\"\n",
    "    # Compute correlation matrix: corr_mat\n",
    "    corr_mat = np.corrcoef(x, y)\n",
    "    # Return entry [0,1]\n",
    "    return corr_mat[0, 1]\n",
    "\n",
    "def pearson_r(x, y):\n",
    "    x_diff = [i-x.mean() for i in x]\n",
    "    y_diff = [i-y.mean() for i in y]\n",
    "    multipy = np.dot(x_diff,y_diff)\n",
    "    cov = multipy/x.shape[0]\n",
    "    \n",
    "    std_x = np.std(x)\n",
    "    std_y = np.std(y)\n",
    "\n",
    "    #cov(x,y)/(std(x)*std(y))\n",
    "    return cov/(std_x*std_y)\n",
    "\n",
    "# Compute Pearson correlation coefficient for I. versicolor: r\n",
    "r = pearson_r(versicolor_petal_length, versicolor_petal_width)\n",
    "\n",
    "# Print the result\n",
    "print(r)"
   ]
  },
  {
   "cell_type": "code",
   "execution_count": null,
   "metadata": {},
   "outputs": [],
   "source": []
  }
 ],
 "metadata": {
  "kernelspec": {
   "display_name": "Python 3",
   "language": "python",
   "name": "python3"
  },
  "language_info": {
   "codemirror_mode": {
    "name": "ipython",
    "version": 3
   },
   "file_extension": ".py",
   "mimetype": "text/x-python",
   "name": "python",
   "nbconvert_exporter": "python",
   "pygments_lexer": "ipython3",
   "version": "3.6.7"
  }
 },
 "nbformat": 4,
 "nbformat_minor": 2
}

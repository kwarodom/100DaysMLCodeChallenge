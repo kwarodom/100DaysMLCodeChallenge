{
 "cells": [
  {
   "cell_type": "markdown",
   "metadata": {
    "colab_type": "text",
    "id": "O66tunR___rL"
   },
   "source": [
    "# 3. thinking-probabilistically--discrete-variables"
   ]
  },
  {
   "cell_type": "markdown",
   "metadata": {
    "colab_type": "text",
    "id": "9YFZJZD17urr"
   },
   "source": [
    "**Generating random numbers using the np.random module**"
   ]
  },
  {
   "cell_type": "code",
   "execution_count": 0,
   "metadata": {
    "colab": {},
    "colab_type": "code",
    "id": "WxFNXPiD7nkg"
   },
   "outputs": [],
   "source": [
    "# Import numpy\n",
    "import numpy as np\n",
    "import matplotlib.pyplot as plt\n",
    "import seaborn as sns\n",
    "\n",
    "# Seed the random number generator\n",
    "np.random.seed(42)\n",
    "\n",
    "# Initialize random numbers: random_numbers\n",
    "random_numbers = np.empty(100000)\n"
   ]
  },
  {
   "cell_type": "code",
   "execution_count": 0,
   "metadata": {
    "colab": {},
    "colab_type": "code",
    "id": "77i-WT-h7nnC"
   },
   "outputs": [],
   "source": [
    "# Generate random numbers by looping over range(100000)\n",
    "for i in range(100000):\n",
    "    random_numbers[i] = np.random.random()\n",
    "    print(random_numbers[i])\n"
   ]
  },
  {
   "cell_type": "code",
   "execution_count": 0,
   "metadata": {
    "colab": {},
    "colab_type": "code",
    "id": "jF7ItP31AS5M"
   },
   "outputs": [],
   "source": [
    "# Plot a histogram\n",
    "_ = plt.hist(random_numbers)\n",
    "\n",
    "# Show the plot\n",
    "plt.show()"
   ]
  },
  {
   "cell_type": "markdown",
   "metadata": {
    "colab_type": "text",
    "id": "1f8cSD717yho"
   },
   "source": [
    "**How many defaults might we expect?**\n",
    "\n",
    "\n",
    "Instructions\n",
    "- Seed the random number generator to 42.\n",
    "- Initialize n_defaults, an empty array, using np.empty(). It should contain 1000 entries,\n",
    "since we are doing 1000 simulations.\n",
    "- Write a for loop with 1000 iterations to compute the number of defaults per 100 loans using\n",
    "the perform_bernoulli_trials() function. It accepts two arguments: the number of trials n -\n",
    "in this case 100 - and the probability of success p - in this case the probability of a default,\n",
    "which is 0.05. On each iteration of the loop store the result in an entry of n_defaults.\n",
    "- Plot a histogram of n_defaults. Include the normed=True keyword argument so that the height of\n",
    "the bars of the histogram indicate the probability.\n",
    "- Show your plot."
   ]
  },
  {
   "cell_type": "code",
   "execution_count": 0,
   "metadata": {
    "colab": {},
    "colab_type": "code",
    "id": "S5kr5dzp7npO"
   },
   "outputs": [],
   "source": [
    "def perform_bernoulli_trials(n, p):\n",
    "    \"\"\"Perform n Bernoulli trials with success probability p\n",
    "    and return number of successes.\"\"\"\n",
    "    # Initialize number of successes: n_success\n",
    "    n_success = 0\n",
    "\n",
    "    # Perform trials\n",
    "    for i in range(n):\n",
    "        # Choose random number between zero and one: random_number\n",
    "        random_number = np.random.random()\n",
    "\n",
    "        # If less than p, it's a success so add one to n_success\n",
    "        if random_number < p:\n",
    "            n_success += 1\n",
    "\n",
    "    return n_success"
   ]
  },
  {
   "cell_type": "code",
   "execution_count": 0,
   "metadata": {
    "colab": {},
    "colab_type": "code",
    "id": "Tyi_sdac7nrZ"
   },
   "outputs": [],
   "source": [
    "# Seed random number generator\n",
    "np.random.seed(42)\n",
    "\n",
    "# Initialize the number of defaults: n_defaults\n",
    "n_defaults = np.empty(1000)\n",
    "\n",
    "# Compute the number of defaults\n",
    "for i in range(1000):\n",
    "    n_defaults[i] = perform_bernoulli_trials(100, 0.05)"
   ]
  },
  {
   "cell_type": "code",
   "execution_count": 0,
   "metadata": {
    "colab": {},
    "colab_type": "code",
    "id": "2DfiLSGi7ntt"
   },
   "outputs": [],
   "source": [
    "# Plot the histogram with default number of bins; label your axes\n",
    "_ = plt.hist(n_defaults, normed=True)\n",
    "_ = plt.xlabel('number of defaults out of 100 loans')\n",
    "_ = plt.ylabel('probability')\n",
    "\n",
    "# Show the plot\n",
    "plt.show()"
   ]
  },
  {
   "cell_type": "markdown",
   "metadata": {
    "colab_type": "text",
    "id": "jdFOcIa18ksj"
   },
   "source": [
    "**Plotting the Binomial PMF**\n",
    "\n",
    "Instructions\n",
    "- Using np.arange(), compute the bin edges such that the bins are centered on the integers.\n",
    "Store the resulting array in the variable bins.\n",
    "- Use plt.hist() to plot the histogram of n_defaults with the normed=True and bins=bins\n",
    "keyword arguments.\n",
    "- Leave a 2% margin and label your axes.\n",
    "-Show the plot."
   ]
  },
  {
   "cell_type": "code",
   "execution_count": 0,
   "metadata": {
    "colab": {},
    "colab_type": "code",
    "id": "eE5U5EcH8ULc"
   },
   "outputs": [],
   "source": [
    "versicolor_petal_length = np.array([ 4.7,  4.5,  4.9,  4. ,  4.6,  4.5,  4.7,  3.3,  4.6,  3.9,  3.5,\n",
    "        4.2,  4. ,  4.7,  3.6,  4.4,  4.5,  4.1,  4.5,  3.9,  4.8,  4. ,\n",
    "        4.9,  4.7,  4.3,  4.4,  4.8,  5. ,  4.5,  3.5,  3.8,  3.7,  3.9,\n",
    "        5.1,  4.5,  4.5,  4.7,  4.4,  4.1,  4. ,  4.4,  4.6,  4. ,  3.3,\n",
    "        4.2,  4.2,  4.2,  4.3,  3. ,  4.1])\n",
    "\n",
    "# Set default Seaborn style\n",
    "sns.set()\n",
    "\n",
    "# Plot histogram of versicolor petal lengths\n",
    "_ = plt.hist(versicolor_petal_length)\n",
    "\n",
    "# Show histogram\n",
    "plt.show()"
   ]
  },
  {
   "cell_type": "markdown",
   "metadata": {
    "colab_type": "text",
    "id": "rnO87bqP8vOM"
   },
   "source": [
    "**plotting-the-ecdf**\n",
    "\n",
    "**Instructions**\n",
    "- Use ecdf() to compute the ECDF of versicolor_petal_length. Unpack the output into x_vers and y_vers.\n",
    "- Plot the ECDF as dots. Remember to include marker = '.' and linestyle = 'none' in addition to x_vers and y_vers as arguments inside plt.plot().\n",
    "- Set the margins of the plot with plt.margins() so that no data points are cut off. Use a 2% margin.\n",
    "- Label the axes. You can label the y-axis 'ECDF'.\n",
    "- Show your plot."
   ]
  },
  {
   "cell_type": "code",
   "execution_count": 0,
   "metadata": {
    "colab": {},
    "colab_type": "code",
    "id": "fwXvHc3M8UNz"
   },
   "outputs": [],
   "source": [
    "def ecdf(data):\n",
    "    \"\"\"Compute ECDF for a one-dimensional array of measurements.\"\"\"\n",
    "\n",
    "    # Number of data points: n\n",
    "    n = len(data)\n",
    "\n",
    "    # x-data for the ECDF: x\n",
    "    x = np.sort(data)\n",
    "\n",
    "    # y-data for the ECDF: y\n",
    "    y = np.arange(1, n + 1) / n\n",
    "\n",
    "    return x, y"
   ]
  },
  {
   "cell_type": "code",
   "execution_count": 0,
   "metadata": {
    "colab": {},
    "colab_type": "code",
    "id": "SkzEglt98UP2"
   },
   "outputs": [],
   "source": [
    "# Seed random number generator\n",
    "np.random.seed(42)\n",
    "\n",
    "# Take 10,000 samples out of the binomial distribution: n_defaults\n",
    "n_defaults = np.random.binomial(n=100, p=0.05, size=10000)\n",
    "\n",
    "# Compute bin edges: bins\n",
    "bins = np.arange(min(n_defaults), max(n_defaults) + 1.5) - 0.5"
   ]
  },
  {
   "cell_type": "code",
   "execution_count": 0,
   "metadata": {
    "colab": {},
    "colab_type": "code",
    "id": "o2gTDPVm8URz"
   },
   "outputs": [],
   "source": [
    "# Generate histogram\n",
    "_ = plt.hist(n_defaults, normed=True, bins=bins)\n",
    "\n",
    "# Set margins\n",
    "_ = plt.margins(0.02)\n",
    "\n",
    "# Label axes\n",
    "_ = plt.xlabel('x')\n",
    "_ = plt.ylabel('y')\n",
    "\n",
    "# Show the plot\n",
    "plt.show()"
   ]
  },
  {
   "cell_type": "markdown",
   "metadata": {
    "colab_type": "text",
    "id": "g_pbk3UVA5JS"
   },
   "source": [
    "**Relationship between Binomial and Poisson distributions**\n",
    "\n",
    "Instructions\n",
    "- Using the np.random.poisson() function, draw 10000 samples from a Poisson distribution with\n",
    "a mean of 10.\n",
    "- Make a list of the n and p values to consider for the Binomial distribution. Choose n =\n",
    "[20, 100, 1000] and p = [0.5, 0.1, 0.01] so that np is always 10.\n",
    "- Using np.random.binomial() inside the provided for loop, draw 10000 samples from a Binomial\n",
    "distribution with each n, p pair and print the mean and standard deviation of the samples.\n",
    "There are 3 n, p pairs: 20, 0.5, 100, 0.1, and 1000, 0.01. These can be accessed inside the\n",
    "loop as n[i], p[i]."
   ]
  },
  {
   "cell_type": "code",
   "execution_count": 0,
   "metadata": {
    "colab": {},
    "colab_type": "code",
    "id": "nT68Ao3QA5a0"
   },
   "outputs": [],
   "source": [
    "# Seed random number generator\n",
    "np.random.seed(42)\n",
    "\n",
    "# Draw 10,000 samples out of Poisson distribution: samples_poisson\n",
    "samples_poisson = np.random.poisson(10, size=10000)\n",
    "\n",
    "# Print the mean and standard deviation\n",
    "print('Poisson:     ', np.mean(samples_poisson),\n",
    "      np.std(samples_poisson))"
   ]
  },
  {
   "cell_type": "code",
   "execution_count": 0,
   "metadata": {
    "colab": {},
    "colab_type": "code",
    "id": "CZiFI54yA5dV"
   },
   "outputs": [],
   "source": [
    "# Specify values of n and p to consider for Binomial: n, p\n",
    "n = [20, 100, 1000]\n",
    "p = [0.5, 0.1, 0.01]\n",
    "\n",
    "# Draw 10,000 samples for each n,p pair: samples_binomial\n",
    "for i in range(3):\n",
    "    samples_binomial = np.random.binomial(n[i], p[i], 10000)\n",
    "\n",
    "    # Print results\n",
    "    print('n =', n[i], 'Binom:', np.mean(samples_binomial),\n",
    "          np.std(samples_binomial))"
   ]
  },
  {
   "cell_type": "markdown",
   "metadata": {
    "colab_type": "text",
    "id": "eczvLhtvA56b"
   },
   "source": [
    "**Sampling out of the Binomial distribution**\n",
    "\n",
    "Instructions\n",
    "- Draw samples out of the Binomial distribution using np.random.binomial(). You should use\n",
    "parameters n = 100 and p = 0.05, and set the size keyword argument to 10000.\n",
    "- Compute the CDF using your previously-written ecdf() function.\n",
    "- Plot the CDF with axis labels. The x-axis here is the number of defaults out of 100 loans,\n",
    "while the y-axis is the CDF.\n",
    "- Show the plot."
   ]
  },
  {
   "cell_type": "code",
   "execution_count": 0,
   "metadata": {
    "colab": {},
    "colab_type": "code",
    "id": "apisZj-6A6B4"
   },
   "outputs": [],
   "source": [
    "def ecdf(data):\n",
    "    \"\"\"Compute ECDF for a one-dimensional array of measurements.\"\"\"\n",
    "\n",
    "    # Number of data points: n\n",
    "    n = len(data)\n",
    "\n",
    "    # x-data for the ECDF: x\n",
    "    x = np.sort(data)\n",
    "\n",
    "    # y-data for the ECDF: y\n",
    "    y = np.arange(1, n + 1) / n\n",
    "\n",
    "    return x, y"
   ]
  },
  {
   "cell_type": "code",
   "execution_count": 0,
   "metadata": {
    "colab": {},
    "colab_type": "code",
    "id": "aN2CuTNzA6G7"
   },
   "outputs": [],
   "source": [
    "# Seed random number generator\n",
    "np.random.seed(42)\n",
    "\n",
    "# Take 10,000 samples out of the binomial distribution: n_defaults\n",
    "n_defaults = np.random.binomial(n=100, p=0.05, size=10000)\n",
    "\n",
    "# Compute CDF: x, y\n",
    "\n",
    "x, y = ecdf(n_defaults)"
   ]
  },
  {
   "cell_type": "code",
   "execution_count": 0,
   "metadata": {
    "colab": {},
    "colab_type": "code",
    "id": "cNDodyqOA6En"
   },
   "outputs": [],
   "source": [
    "# Plot the CDF with axis labels\n",
    "_ = plt.plot(x, y, marker='.', linestyle='none')\n",
    "_ = plt.xlabel('Defaults out of 100')\n",
    "_ = plt.ylabel('CDF')\n",
    "\n",
    "# Show the plot\n",
    "plt.show()"
   ]
  },
  {
   "cell_type": "markdown",
   "metadata": {
    "colab_type": "text",
    "id": "XGrq2Ga6A55c"
   },
   "source": [
    "**The np.random module and Bernoulli trials**\n",
    "\n",
    "Instructions\n",
    "- Define a function with signature perform_bernoulli_trials(n, p).\n",
    "    -Initialize to zero a variable n_success the counter of Trues, which are Bernoulli trial successes.\n",
    "    - Write a for loop where you perform a Bernoulli trial in each iteration and increment the number of success if the result is True. Perform n iterations by looping over range(n).\n",
    "    - To perform a Bernoulli trial, choose a random number between zero and one using np.random.random(). If the number you chose is less than p, increment n_success (use the += 1 operator to achieve this).\n",
    "    - The function returns the number of successes n_success."
   ]
  },
  {
   "cell_type": "code",
   "execution_count": 0,
   "metadata": {
    "colab": {},
    "colab_type": "code",
    "id": "qBNn1E1rBREj"
   },
   "outputs": [],
   "source": [
    "def perform_bernoulli_trials(n, p):\n",
    "    \"\"\"Perform n Bernoulli trials with success probability p\n",
    "    and return number of successes.\"\"\"\n",
    "    # Initialize number of successes: n_success\n",
    "    n_success = 0\n",
    "\n",
    "    # Perform trials\n",
    "    for i in range(n):\n",
    "        # Choose random number between zero and one: random_number\n",
    "        random_number = np.random.random()\n",
    "\n",
    "        # If less than p, it's a success so add one to n_success\n",
    "        if random_number < p:\n",
    "            n_success += 1\n",
    "\n",
    "    return n_success\n"
   ]
  },
  {
   "cell_type": "code",
   "execution_count": 0,
   "metadata": {
    "colab": {},
    "colab_type": "code",
    "id": "f9yfiMJ3BRG4"
   },
   "outputs": [],
   "source": [
    "print(perform_bernoulli_trials(10000, 0.65))"
   ]
  },
  {
   "cell_type": "markdown",
   "metadata": {
    "colab_type": "text",
    "id": "N08CWIY1BQJu"
   },
   "source": [
    "**Was 2015 anomalous?**\n",
    "\n",
    "Instructions\n",
    "- Draw 10000 samples from a Poisson distribution with a mean of 251/115 and assign to n_nohitters.\n",
    "- Determine how many of your samples had a result greater than or equal to 7 and assign to n_large.\n",
    "- Compute the probability, p_large, of having 7 or more no-hitters by dividing n_large by the total\n",
    "number of samples (10000).\n",
    "- Hit 'Submit Answer' to print the probability that you calculated."
   ]
  },
  {
   "cell_type": "code",
   "execution_count": 0,
   "metadata": {
    "colab": {},
    "colab_type": "code",
    "id": "1eRCZTFxBQVK"
   },
   "outputs": [],
   "source": [
    "# Seed random number generator\n",
    "np.random.seed(42)\n",
    "\n",
    "# Draw 10,000 samples out of Poisson distribution: n_nohitters\n",
    "n_nohitters = np.random.poisson((251 / 115), size=10000)\n",
    "\n",
    "# Compute number of samples that are seven or greater: n_large\n",
    "n_large = np.sum(n_nohitters >= 7)\n",
    "\n",
    "# Compute probability of getting seven or more: p_large\n",
    "p_large = n_large / 10000"
   ]
  },
  {
   "cell_type": "code",
   "execution_count": 0,
   "metadata": {
    "colab": {},
    "colab_type": "code",
    "id": "zRZht6qABhzm"
   },
   "outputs": [],
   "source": [
    "# Print the result\n",
    "print('Probability of seven or more no-hitters:', p_large)"
   ]
  },
  {
   "cell_type": "markdown",
   "metadata": {
    "colab_type": "text",
    "id": "_BDhJPR0Bp3X"
   },
   "source": [
    "**Will the bank fail?**\n",
    "\n",
    "Instructions\n",
    "- Compute the x and y values for the ECDF of n_defaults.\n",
    "- Plot the ECDF, making sure to label the axes. Remember to include marker = '.' and\n",
    "linestyle = 'none' in addition to x and y in your call plt.plot().\n",
    "- Show the plot.\n",
    "- Compute the total number of entries in your n_defaults array that were greater than or\n",
    "equal to 10. To do so, compute a boolean array that tells you whether a given entry of\n",
    "n_defaults is >= 10. Then sum all the entries in this array using np.sum(). For example,\n",
    "np.sum(n_defaults <= 5) would compute the number of defaults with 5 or fewer defaults.\n",
    "- The probability that the bank loses money is the fraction of n_defaults that are greater\n",
    "than or equal to 10. Print this result by hitting 'Submit Answer'!"
   ]
  },
  {
   "cell_type": "code",
   "execution_count": 0,
   "metadata": {
    "colab": {},
    "colab_type": "code",
    "id": "Qk3OCtA0Bp-v"
   },
   "outputs": [],
   "source": [
    "def ecdf(data):\n",
    "    \"\"\"Compute ECDF for a one-dimensional array of measurements.\"\"\"\n",
    "\n",
    "    # Number of data points: n\n",
    "    n = len(data)\n",
    "\n",
    "    # x-data for the ECDF: x\n",
    "    x = np.sort(data)\n",
    "\n",
    "    # y-data for the ECDF: y\n",
    "    y = np.arange(1, n + 1) / n\n",
    "\n",
    "    return x, y"
   ]
  },
  {
   "cell_type": "code",
   "execution_count": 0,
   "metadata": {
    "colab": {},
    "colab_type": "code",
    "id": "4CqXxPZUBqBb"
   },
   "outputs": [],
   "source": [
    "n_defaults = np.array([6,  5,  7,  8,  5,  5,  3,  2,  7,  6,  7,  3,  8,  3,  8,  5,  2,\n",
    "                       6,  4,  5,  3,  2,  9,  5,  5,  3,  8,  7,  7,  5,  4,  3,  4,  5,\n",
    "                       6,  1,  8,  4,  2,  9,  6,  5,  2,  6,  3,  6,  2,  6,  4,  4,  6,\n",
    "                       4,  5,  4,  3,  4,  6,  3,  4,  8,  2,  4,  1,  6,  6,  6,  2,  2,\n",
    "                       3,  8,  7,  2,  6,  6,  3,  6,  3, 10,  7,  6,  4,  5,  8,  4,  6,\n",
    "                       4,  6,  1, 10,  4,  4,  4,  5,  4,  5,  2,  8,  7,  3,  7,  9,  6,\n",
    "                       8,  2,  5,  4,  3,  6,  2,  6,  9,  5,  6,  6,  4,  4,  7,  6,  6,\n",
    "                       7,  1,  5,  4,  1,  4,  6,  3,  2,  3,  8,  8,  6,  7,  6,  4,  4,\n",
    "                       7,  2,  4,  7,  5,  4,  6,  6,  8,  4,  2,  5,  6,  3,  7,  6,  5,\n",
    "                       10,  4,  4,  5,  7,  7,  6,  6,  4,  6,  9,  4,  4,  7,  4,  8,  5,\n",
    "                       4,  3,  3,  6,  6,  1,  5,  7,  3,  7,  3,  4,  4,  3,  2,  2,  0,\n",
    "                       7,  3,  7,  7,  3,  8,  6,  4,  3,  4,  4,  5,  2,  4,  4,  3,  7,\n",
    "                       3,  6,  4,  2,  6,  6,  6,  7,  6,  4,  6,  6,  7,  8,  7,  3,  3,\n",
    "                       3,  4,  7,  6,  5,  3,  6,  4,  2,  3,  2,  4,  6,  3,  4,  5,  1,\n",
    "                       3,  6,  3,  6,  1,  6,  6,  7,  4,  7,  7,  4,  2,  8,  6,  3,  7,\n",
    "                       3,  4,  4,  5,  1,  7,  1,  5,  3,  4,  8,  9,  3,  9,  8,  4,  0,\n",
    "                       11,  7,  6,  7,  6,  7,  4,  5,  4,  5,  3,  6,  3,  3,  2,  5,  4,\n",
    "                       6,  4,  3, 14,  5,  8,  1,  1,  4,  4,  4,  6,  4,  5,  3,  5,  6,\n",
    "                       4,  5,  6,  3,  3,  8,  4,  1,  8,  5,  7,  5,  3,  2,  8,  4,  5,\n",
    "                       4,  5,  8,  4,  2,  4,  3,  2,  9,  5,  6,  6,  3,  5,  8,  6,  4,\n",
    "                       5,  1,  5,  8,  6,  5,  5, 10,  1,  0,  2,  3,  6, 10,  1,  6,  7,\n",
    "                       5,  6, 13,  6,  4,  3,  3,  6,  3,  6,  3,  8,  4,  4,  6,  3,  5,\n",
    "                       5,  1,  5,  7,  8,  9,  5,  7,  7,  6,  5,  7,  6,  2,  6,  4,  5,\n",
    "                       6,  6,  2, 15,  8,  3,  5,  5,  6,  4,  4,  4,  2,  6,  7,  5,  3,\n",
    "                       6,  7,  4,  2,  4,  7,  4,  5,  3,  8,  5,  3,  2,  8,  2,  4,  6,\n",
    "                       3,  5,  1,  2,  5,  5,  4,  5,  5,  4,  7,  7,  4,  7,  6,  5,  6,\n",
    "                       8,  5,  5,  4,  4,  1,  4,  3,  2,  4,  2,  6,  4,  6,  1,  6,  5,\n",
    "                       5,  8,  7,  6,  3,  7,  6,  9,  5,  6,  1,  6,  6,  5,  6,  6,  5,\n",
    "                       6,  2,  7,  4,  3, 13,  6,  7,  3,  4,  2,  8,  6,  5,  6,  4,  3,\n",
    "                       7,  6,  4,  6,  6,  6,  6,  3,  7,  3,  7,  6,  2,  4,  4,  8,  6,\n",
    "                       8,  4,  4,  5,  6,  7,  2,  8,  1,  6,  3,  9,  7,  1,  2,  7,  5,\n",
    "                       4,  5, 11,  4,  3,  4,  7,  5,  7,  9,  4,  7,  7,  4,  7,  8,  4,\n",
    "                       2,  7,  5,  3, 10,  3,  4,  4,  2,  2,  7,  3,  6,  7,  6,  6,  2,\n",
    "                       2,  5,  7,  7,  6,  5,  3, 10,  6,  4,  4,  4,  4,  2,  6,  5,  7,\n",
    "                       4,  5,  3,  8,  4,  2, 15,  3,  7,  9,  6,  3,  3,  3,  2,  3,  8,\n",
    "                       8,  3,  8,  7,  3,  2,  8,  3,  5,  7,  1,  6,  5,  2,  4,  5,  2,\n",
    "                       4,  4,  2,  5,  0,  6,  8,  5,  6,  3,  6,  5,  7,  3,  3,  4,  5,\n",
    "                       7,  1,  6,  5,  7,  6,  6,  7,  2,  6,  3,  6,  4,  5,  5,  5,  7,\n",
    "                       8,  3,  5,  4,  3,  8,  7,  3,  6,  4,  7,  4,  5,  4,  6,  1,  2,\n",
    "                       2,  6,  3,  4,  7,  1,  7,  5,  6,  3,  7,  2, 10,  5,  3,  9,  7,\n",
    "                       8,  2,  4,  5,  6,  5,  6,  5,  3,  4,  6,  8, 10,  7,  2,  3,  4,\n",
    "                       5,  2,  5,  6,  6, 11,  4,  8,  4,  2,  4,  7,  3,  5,  1,  6,  4,\n",
    "                       2,  5,  3,  3,  3,  3,  4,  3,  6,  6,  7,  6,  5,  6,  6,  9,  1,\n",
    "                       2,  4,  4,  6,  8,  6,  4,  5,  5,  6,  6,  9,  4,  6,  3,  3,  6,\n",
    "                       3,  2,  4,  6,  3,  6,  5,  6,  8,  5,  2,  4,  6,  7,  7,  9,  8,\n",
    "                       4,  5,  3,  1,  4,  6,  1,  6,  2,  3,  5,  5,  3,  4,  6,  4,  5,\n",
    "                       4,  7,  6,  3,  2,  4,  7,  6,  3,  4,  2,  5,  6,  7,  4,  8,  3,\n",
    "                       3, 10,  3,  2,  5,  4,  5,  6,  6,  5,  2,  5,  2,  4,  6,  8,  4,\n",
    "                       3,  6,  2,  1,  6,  3,  5,  9,  6,  2,  9,  4,  4,  6,  4,  5,  7,\n",
    "                       5,  7,  4,  8,  4,  4,  4,  4,  7,  3,  7,  8,  2,  6,  2,  7,  7,\n",
    "                       4,  3,  7,  9,  5,  5,  7,  4,  5,  3,  7,  7,  4,  3,  3,  3,  6,\n",
    "                       5,  6,  8,  2,  9,  9,  4,  7,  8,  3,  4,  4,  7,  4,  2,  6,  8,\n",
    "                       5,  6,  5,  3,  6,  9,  3,  1,  6,  4,  4,  3,  5,  5,  5, 12,  5,\n",
    "                       10, 11,  3,  9,  3,  7,  5,  5,  5,  4,  5,  8,  9,  6,  6,  4,  6,\n",
    "                       4,  6,  3,  6,  7,  5,  4,  2,  4,  6,  2,  3,  4,  6,  6,  1,  3,\n",
    "                       7,  3,  7,  3,  1,  5,  5,  1,  8,  6,  8,  5,  5,  8,  6,  3,  2,\n",
    "                       6,  4,  9,  6,  4,  8,  3,  8,  4,  3,  3,  4,  4,  3,  4,  5,  2,\n",
    "                       4,  4, 10,  9,  7,  2,  9,  5,  4,  3,  5,  4,  5,  4,  4,  4,  4,\n",
    "                       3,  4,  5,  7,  3,  5,  3,  2,  2,  5,  5,  7,  7,  2])"
   ]
  },
  {
   "cell_type": "code",
   "execution_count": 0,
   "metadata": {
    "colab": {},
    "colab_type": "code",
    "id": "iwh8zSMjBzZ3"
   },
   "outputs": [],
   "source": [
    "# Compute ECDF: x, y\n",
    "x, y = ecdf(n_defaults)\n",
    "\n",
    "# Plot the ECDF with labeled axes\n",
    "_ = plt.plot(x, y, marker='.', linestyle='none')\n",
    "_ = plt.xlabel('x')\n",
    "_ = plt.ylabel('y')\n",
    "\n",
    "# Show the plot\n",
    "plt.show()"
   ]
  },
  {
   "cell_type": "code",
   "execution_count": 0,
   "metadata": {
    "colab": {},
    "colab_type": "code",
    "id": "zFo473PlBzks"
   },
   "outputs": [],
   "source": [
    "# Compute the number of 100-loan simulations with 10 or more defaults: n_lose_money\n",
    "n_lose_money = np.sum(n_defaults >= 10)\n",
    "\n",
    "# Compute and print probability of losing money\n",
    "print('Probability of losing money =', n_lose_money / len(n_defaults))"
   ]
  },
  {
   "cell_type": "code",
   "execution_count": 0,
   "metadata": {
    "colab": {},
    "colab_type": "code",
    "id": "q6VL8IMP_Aij"
   },
   "outputs": [],
   "source": []
  },
  {
   "cell_type": "code",
   "execution_count": 0,
   "metadata": {
    "colab": {},
    "colab_type": "code",
    "id": "DVwtz5YI_Ak7"
   },
   "outputs": [],
   "source": []
  }
 ],
 "metadata": {
  "colab": {
   "collapsed_sections": [],
   "name": "3. thinking-probabilistically--discrete-variables.ipynb",
   "provenance": [],
   "toc_visible": true,
   "version": "0.3.2"
  },
  "kernelspec": {
   "display_name": "Python 3",
   "language": "python",
   "name": "python3"
  },
  "language_info": {
   "codemirror_mode": {
    "name": "ipython",
    "version": 3
   },
   "file_extension": ".py",
   "mimetype": "text/x-python",
   "name": "python",
   "nbconvert_exporter": "python",
   "pygments_lexer": "ipython3",
   "version": "3.6.7"
  }
 },
 "nbformat": 4,
 "nbformat_minor": 1
}

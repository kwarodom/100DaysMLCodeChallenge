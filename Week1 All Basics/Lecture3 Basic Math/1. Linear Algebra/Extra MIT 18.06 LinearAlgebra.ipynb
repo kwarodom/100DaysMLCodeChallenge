{
 "cells": [
  {
   "cell_type": "markdown",
   "metadata": {
    "colab_type": "text",
    "id": "10IBbFh2mNFz"
   },
   "source": [
    "# Linear Algebra\n",
    "\n",
    "\n",
<<<<<<< HEAD
    "Lesson notes from https://www.youtube.com/playlist?list=PLE7DDD91010BC51F8\n"
=======
    "Lesson notes from https://www.youtube.com/playlist?list=PLE7DDD91010BC51F8\n",
    "\n",
    "Origial Google Colab : https://colab.research.google.com/drive/1_D_t2GngsXlbvuA8ol2jHhw6SS9u35Oy#forceEdit=true&offline=true&sandboxMode=true&scrollTo=0dz2eMEWx8eP \n"
>>>>>>> 8733363694b72fb26ea86e6a722f4fa48179de3b
   ]
  },
  {
   "cell_type": "markdown",
   "metadata": {
    "colab_type": "toc",
    "id": "PIZAeEzr1TEg"
   },
   "source": [
    ">[Linear Algebra](#forceEdit=true&offline=true&sandboxMode=true&scrollTo=10IBbFh2mNFz)\n",
    "\n",
    ">>>[Cheat Sheet](#forceEdit=true&offline=true&sandboxMode=true&scrollTo=PH8e9wTNmNFz)\n",
    "\n",
    ">>>[Matrix Multiplication](#forceEdit=true&offline=true&sandboxMode=true&scrollTo=CxsSFN75zy-U)\n",
    "\n",
    ">>>>[Lecture 1](#forceEdit=true&offline=true&sandboxMode=true&scrollTo=hzoGivWmXXKP)\n",
    "\n",
    ">>>>[Problems](#forceEdit=true&offline=true&sandboxMode=true&scrollTo=hYlLzbWjid_N)\n",
    "\n",
    ">>>[Singular Matrix](#forceEdit=true&offline=true&sandboxMode=true&scrollTo=w1IJ8u773djQ)\n",
    "\n",
    ">>>[Gauss-Jordan Elimination](#forceEdit=true&offline=true&sandboxMode=true&scrollTo=sTa1lbFGz3ID)\n",
    "\n",
    ">>>>[Lecture 2 Video](#forceEdit=true&offline=true&sandboxMode=true&scrollTo=XfHUfm1SXljE)\n",
    "\n",
    ">>>>[Lecture 3 Video](#forceEdit=true&offline=true&sandboxMode=true&scrollTo=w8174y75XrCh)\n",
    "\n",
    ">>>>[Calculation complexity of LU decomposition](#forceEdit=true&offline=true&sandboxMode=true&scrollTo=WAbqH8ZlDY8j)\n",
    "\n",
    ">>>>[Row replacement and permutations](#forceEdit=true&offline=true&sandboxMode=true&scrollTo=pLIeItphzYXa)\n",
    "\n",
    ">>>>[Lecture 5 Video](#forceEdit=true&offline=true&sandboxMode=true&scrollTo=mi1HNlOnXzQy)\n",
    "\n",
    ">>>[LU Decomposition](#forceEdit=true&offline=true&sandboxMode=true&scrollTo=mN-ig_a-GEnp)\n",
    "\n",
    ">>>>[Problem 4.1:](#forceEdit=true&offline=true&sandboxMode=true&scrollTo=lfHmBaw2GUU7)\n",
    "\n",
    ">>>>[Problem 4.2:](#forceEdit=true&offline=true&sandboxMode=true&scrollTo=HYpwEheVPr5R)\n",
    "\n",
    ">>>[Sub Spaces](#forceEdit=true&offline=true&sandboxMode=true&scrollTo=0dz2eMEWx8eP)\n",
    "\n",
    ">>>>[Lecture 6 Video](#forceEdit=true&offline=true&sandboxMode=true&scrollTo=jByv87-iYAt7)\n",
    "\n",
    ">>>>[Problem 6.2:](#forceEdit=true&offline=true&sandboxMode=true&scrollTo=c_D__zer5rVN)\n",
    "\n",
    ">>>>[Problem 6.3:](#forceEdit=true&offline=true&sandboxMode=true&scrollTo=NPsEHNWU_-AJ)\n",
    "\n",
    ">>>[Null Spaces (Ax=0)](#forceEdit=true&offline=true&sandboxMode=true&scrollTo=FpTyOqMfHTkr)\n",
    "\n",
    ">>>>[Lecture 7 Video](#forceEdit=true&offline=true&sandboxMode=true&scrollTo=HtGsb0AfYMPz)\n",
    "\n",
    ">>>>[Problem 7.1:](#forceEdit=true&offline=true&sandboxMode=true&scrollTo=bd_xCstdHytS)\n",
    "\n",
    ">>>>[Problem 7.2:](#forceEdit=true&offline=true&sandboxMode=true&scrollTo=lVpqyMGHNJc4)\n",
    "\n",
    ">>>[Ax=b](#forceEdit=true&offline=true&sandboxMode=true&scrollTo=Km23TPqtUiGl)\n",
    "\n",
    ">>>>[Lecture 8 Video](#forceEdit=true&offline=true&sandboxMode=true&scrollTo=yJDfy9oaYWUQ)\n",
    "\n",
    ">>>>[Problem 8.1:](#forceEdit=true&offline=true&sandboxMode=true&scrollTo=p4z1VKO3kKDg)\n",
    "\n",
    ">>>>[Problem 8.2:](#forceEdit=true&offline=true&sandboxMode=true&scrollTo=QAqvOJ9Ikxeb)\n",
    "\n",
    ">>>>[Problem 8.3:](#forceEdit=true&offline=true&sandboxMode=true&scrollTo=BQOKrDdRqPg9)\n",
    "\n",
    ">>>[Independence and Basis from Ax=0](#forceEdit=true&offline=true&sandboxMode=true&scrollTo=DhU7YtTYuq95)\n",
    "\n",
    ">>>>[Lecture 9 Video](#forceEdit=true&offline=true&sandboxMode=true&scrollTo=MLsNH2uBYsBz)\n",
    "\n",
    ">>>>[Problem 9.1:](#forceEdit=true&offline=true&sandboxMode=true&scrollTo=nrjwEH3ZXIv4)\n",
    "\n",
    ">>>>[Problem 9.2:](#forceEdit=true&offline=true&sandboxMode=true&scrollTo=ZkIjlgRnc8Xw)\n",
    "\n",
    ">>>[Four Fundamental Spaces of a Matrix.](#forceEdit=true&offline=true&sandboxMode=true&scrollTo=TXUtCWi6PnWg)\n",
    "\n",
    ">>>>[Lecture 10 Video](#forceEdit=true&offline=true&sandboxMode=true&scrollTo=Xm14kQbEY0IL)\n",
    "\n",
    ">>>>[Problem 10.1:](#forceEdit=true&offline=true&sandboxMode=true&scrollTo=4bTFa_3mvOmT)\n",
    "\n",
    ">>>>[Problem 10.2:](#forceEdit=true&offline=true&sandboxMode=true&scrollTo=4C8kBb4oydcE)\n",
    "\n",
    ">>>[Matrices as Spaces](#forceEdit=true&offline=true&sandboxMode=true&scrollTo=ZKbi727ZZQAe)\n",
    "\n",
    ">>>>[Lecture 11 Video](#forceEdit=true&offline=true&sandboxMode=true&scrollTo=pnP1SIFcY8xo)\n",
    "\n",
    ">>>>[Problem 11.1:](#forceEdit=true&offline=true&sandboxMode=true&scrollTo=pDvKLi1N36Z9)\n",
    "\n",
    ">>>>[Problem 11.2:](#forceEdit=true&offline=true&sandboxMode=true&scrollTo=fQ1Xqdpy-d6T)\n",
    "\n",
    ">>>[Graphs, Networks and Incidence Matrices](#forceEdit=true&offline=true&sandboxMode=true&scrollTo=1Vtta1O42R18)\n",
    "\n",
    ">>>>[Lecture 12 Video](#forceEdit=true&offline=true&sandboxMode=true&scrollTo=s-w1NNl4ZExv)\n",
    "\n",
    ">>>>[Problem 12.1:](#forceEdit=true&offline=true&sandboxMode=true&scrollTo=uoxMC6F9HDas)\n",
    "\n",
    ">>>>[Problem 12.2:](#forceEdit=true&offline=true&sandboxMode=true&scrollTo=WAVX5xXwLW73)\n",
    "\n",
    ">>>>[Lecture 13 Video](#forceEdit=true&offline=true&sandboxMode=true&scrollTo=HNgN-gIo3A0R)\n",
    "\n",
    ">>>[Orthogonal Vectors and Subspaces](#forceEdit=true&offline=true&sandboxMode=true&scrollTo=EvFwrIlChCvi)\n",
    "\n",
    ">>>>[Lecture 14 Video](#forceEdit=true&offline=true&sandboxMode=true&scrollTo=PG5T0FA7g3Yb)\n",
    "\n",
    ">>>[Projections onto Subspaces](#forceEdit=true&offline=true&sandboxMode=true&scrollTo=jVF8Ld9cLdGb)\n",
    "\n",
    ">>>>>[Example](#forceEdit=true&offline=true&sandboxMode=true&scrollTo=ba_Y9Xl4SNFY)\n",
    "\n",
    ">>>>[Problems](#forceEdit=true&offline=true&sandboxMode=true&scrollTo=RaY8ACrbVn-y)\n",
    "\n",
    ">>>>>[Problem 15.1:](#forceEdit=true&offline=true&sandboxMode=true&scrollTo=6bj7HSWmjBOK)\n",
    "\n",
    ">>>>>[Problem 15.2:](#forceEdit=true&offline=true&sandboxMode=true&scrollTo=N74cz_eQlXRi)\n",
    "\n",
    ">>>>>[Problem 16.1:](#forceEdit=true&offline=true&sandboxMode=true&scrollTo=Pa0oNM23m3dM)\n",
    "\n",
    ">>>>>[Problem 16.2:](#forceEdit=true&offline=true&sandboxMode=true&scrollTo=MpPPfmtvVP3m)\n",
    "\n",
    ">>>>>[Problem 16.3:](#forceEdit=true&offline=true&sandboxMode=true&scrollTo=db--7OTchRbk)\n",
    "\n",
    ">>>>>[Problem 16.4:](#forceEdit=true&offline=true&sandboxMode=true&scrollTo=eV6fRHsb7a3n)\n",
    "\n",
    ">>>>>[Problem 16.5:](#forceEdit=true&offline=true&sandboxMode=true&scrollTo=Vun27MQR_6iH)\n",
    "\n",
    ">>>>>[Problem 16.6:](#forceEdit=true&offline=true&sandboxMode=true&scrollTo=o7L9WK05DzX6)\n",
    "\n",
    ">>>>[Lecture 15 Video](#forceEdit=true&offline=true&sandboxMode=true&scrollTo=OvS5d1vghx1x)\n",
    "\n",
    ">>>[Projection Matrices And Least Square Matrices.](#forceEdit=true&offline=true&sandboxMode=true&scrollTo=-12EGoyb_BKB)\n",
    "\n",
    ">>>>[Lecture 16 Video](#forceEdit=true&offline=true&sandboxMode=true&scrollTo=yBLHi-kx-FUn)\n",
    "\n",
    ">>>[Orthogonal Matrices and Gram-Schmidt](#forceEdit=true&offline=true&sandboxMode=true&scrollTo=lXwV-Qyu37_m)\n",
    "\n",
    ">>>>[Example](#forceEdit=true&offline=true&sandboxMode=true&scrollTo=iS3kS5lqpU1d)\n",
    "\n",
    ">>>>[Problems](#forceEdit=true&offline=true&sandboxMode=true&scrollTo=SFcFWxdZ5vtP)\n",
    "\n",
    ">>>>>[Problem 17.1:](#forceEdit=true&offline=true&sandboxMode=true&scrollTo=dCEzOzdT5yr2)\n",
    "\n",
    ">>>>>[Problem 17.2:](#forceEdit=true&offline=true&sandboxMode=true&scrollTo=xQr1pAsd6dI0)\n",
    "\n",
    ">>>>[Lecture 17 Video](#forceEdit=true&offline=true&sandboxMode=true&scrollTo=4ZoXJFt8QExL)\n",
    "\n",
    ">>>[Properties of Determinents](#forceEdit=true&offline=true&sandboxMode=true&scrollTo=ct8tDfVzAaWI)\n",
    "\n",
    ">>>>[Problems](#forceEdit=true&offline=true&sandboxMode=true&scrollTo=EzHxGoDiMAP9)\n",
    "\n",
    ">>>>>[Problem 18.1:](#forceEdit=true&offline=true&sandboxMode=true&scrollTo=1j6HFR6DMREp)\n",
    "\n",
    ">>>>>[Problem 18.2:](#forceEdit=true&offline=true&sandboxMode=true&scrollTo=xRERcMRzP0tB)\n",
    "\n",
    ">>>>[Lecture 18 Video](#forceEdit=true&offline=true&sandboxMode=true&scrollTo=K_E9PKxyMUTx)\n",
    "\n",
    ">>>[Calculating determinants, Cofactor Formula and Tridiagonal Formula](#forceEdit=true&offline=true&sandboxMode=true&scrollTo=n0ugBvGUTcZh)\n",
    "\n",
    ">>>>[Problems](#forceEdit=true&offline=true&sandboxMode=true&scrollTo=BLad_PeHbdWx)\n",
    "\n",
    ">>>>>[Problem 19.1:](#forceEdit=true&offline=true&sandboxMode=true&scrollTo=uvZQeq5sbja_)\n",
    "\n",
    ">>>>>[Problem 19.2:](#forceEdit=true&offline=true&sandboxMode=true&scrollTo=eFbsjzNRcLi8)\n",
    "\n",
    ">>>>[Lecture 19 Video](#forceEdit=true&offline=true&sandboxMode=true&scrollTo=N8PvHuU7fp-b)\n",
    "\n",
    ">>>[Cramer's Rule, Inverse Matrix and Volume](#forceEdit=true&offline=true&sandboxMode=true&scrollTo=xSdikm46fxas)\n",
    "\n",
    ">>>>[Problems](#forceEdit=true&offline=true&sandboxMode=true&scrollTo=hQbFghoAmlQe)\n",
    "\n",
    ">>>>>[Problem 20.1:](#forceEdit=true&offline=true&sandboxMode=true&scrollTo=TEsyBQxumpB7)\n",
    "\n",
    ">>>>>[Problem 20.2:](#forceEdit=true&offline=true&sandboxMode=true&scrollTo=UQPmlZIbqGZG)\n",
    "\n",
    ">>>>[Lecture 20 Video](#forceEdit=true&offline=true&sandboxMode=true&scrollTo=eaOOF5zsgAyQ)\n",
    "\n",
    ">>>[Eigen Vectors & Eigen Values](#forceEdit=true&offline=true&sandboxMode=true&scrollTo=cyle6cxMmNF0)\n",
    "\n",
    ">>>>>[Getting Eigen Values](#forceEdit=true&offline=true&sandboxMode=true&scrollTo=cyle6cxMmNF0)\n",
    "\n",
    ">>>>>[Getting Eigen Vectors](#forceEdit=true&offline=true&sandboxMode=true&scrollTo=cyle6cxMmNF0)\n",
    "\n",
    ">>>>>[Properties of Eigen Values and Eigen Vectors](#forceEdit=true&offline=true&sandboxMode=true&scrollTo=cyle6cxMmNF0)\n",
    "\n",
    ">>>>>>[Algebraic and Geometric Multiplicity](#forceEdit=true&offline=true&sandboxMode=true&scrollTo=cyle6cxMmNF0)\n",
    "\n",
    ">>>>[For any Matrix $A$ with complex numbers](#forceEdit=true&offline=true&sandboxMode=true&scrollTo=cyle6cxMmNF0)\n",
    "\n",
    ">>>>[Special Cases where handling of Matrices becomes easier.](#forceEdit=true&offline=true&sandboxMode=true&scrollTo=cyle6cxMmNF0)\n",
    "\n",
    ">>>>[Problems](#forceEdit=true&offline=true&sandboxMode=true&scrollTo=pz0StXdRJHNH)\n",
    "\n",
    ">>>>>[Problem 21.1:](#forceEdit=true&offline=true&sandboxMode=true&scrollTo=ekf3TgwsJL6x)\n",
    "\n",
    ">>>>>[Problem 21.2:](#forceEdit=true&offline=true&sandboxMode=true&scrollTo=RHiP0m8vP0fW)\n",
    "\n",
    ">>>>[Lecture 21 Video](#forceEdit=true&offline=true&sandboxMode=true&scrollTo=t5f56ZkayqLQ)\n",
    "\n",
    ">>>[Diagnolisable](#forceEdit=true&offline=true&sandboxMode=true&scrollTo=GoyjGsVyyVkE)\n",
    "\n",
    ">>>>[Problems](#forceEdit=true&offline=true&sandboxMode=true&scrollTo=t8crwNN-hOvH)\n",
    "\n",
    ">>>>>[Problem 22.1:](#forceEdit=true&offline=true&sandboxMode=true&scrollTo=z5X3ZQdRhRqm)\n",
    "\n",
    ">>>>>[Problem 22.2:](#forceEdit=true&offline=true&sandboxMode=true&scrollTo=pg8AVvn6q31p)\n",
    "\n",
    ">>>>[Lecture 22 Video](#forceEdit=true&offline=true&sandboxMode=true&scrollTo=f6royn9WYLpf)\n",
    "\n",
    ">>>[Differential Equations, $e^{At}$](#forceEdit=true&offline=true&sandboxMode=true&scrollTo=XaaDQQol868Q)\n",
    "\n",
    ">>>>[Problems](#forceEdit=true&offline=true&sandboxMode=true&scrollTo=u60OJLf5KIz9)\n",
    "\n",
    ">>>>>[Problem 23.1:](#forceEdit=true&offline=true&sandboxMode=true&scrollTo=dX9KTa9WKNti)\n",
    "\n",
    ">>>>>[Problem 23.2:](#forceEdit=true&offline=true&sandboxMode=true&scrollTo=CO1D2eSiM0eH)\n",
    "\n",
    ">>>>[Lecture 23 Video](#forceEdit=true&offline=true&sandboxMode=true&scrollTo=FZbvhENy9S_3)\n",
    "\n",
    ">>>[App of Eigen: Markov Matrices & Fourier Series](#forceEdit=true&offline=true&sandboxMode=true&scrollTo=uEczepS2-jA4)\n",
    "\n",
    ">>>>[Problems](#forceEdit=true&offline=true&sandboxMode=true&scrollTo=XcYWd1-5L2Fn)\n",
    "\n",
    ">>>>>[Problem 24.1:](#forceEdit=true&offline=true&sandboxMode=true&scrollTo=RlrclndaL4_g)\n",
    "\n",
    ">>>>>[Problem 24.2:](#forceEdit=true&offline=true&sandboxMode=true&scrollTo=6thmYa3_xH8W)\n",
    "\n",
    ">>>>>[Problem 24.3:](#forceEdit=true&offline=true&sandboxMode=true&scrollTo=lm5IHYCMGXzt)\n",
    "\n",
    ">>>>[Lecture 24 Video](#forceEdit=true&offline=true&sandboxMode=true&scrollTo=1dSQk7oa-men)\n",
    "\n",
    ">>>>[Lecture 24b Video](#forceEdit=true&offline=true&sandboxMode=true&scrollTo=aeQuEheIUDzI)\n",
    "\n",
    ">>>[Symmetric and Positive Definite Matrices](#forceEdit=true&offline=true&sandboxMode=true&scrollTo=DOYO3S08MrU-)\n",
    "\n",
    ">>>>[Positive Determinants](#forceEdit=true&offline=true&sandboxMode=true&scrollTo=DOYO3S08MrU-)\n",
    "\n",
    ">>>>[Problems](#forceEdit=true&offline=true&sandboxMode=true&scrollTo=SM7rBfA7kedp)\n",
    "\n",
    ">>>>>[Problem 25.1:](#forceEdit=true&offline=true&sandboxMode=true&scrollTo=wqwOtXUUklWi)\n",
    "\n",
    ">>>>>[Problem 25.2:](#forceEdit=true&offline=true&sandboxMode=true&scrollTo=dWfwoQM5oN0Z)\n",
    "\n",
    ">>>>[Lecture 25 Video](#forceEdit=true&offline=true&sandboxMode=true&scrollTo=jG7NeDGl4fPQ)\n",
    "\n",
    ">>>[Complex Matrices and Fast Fourier Transform](#forceEdit=true&offline=true&sandboxMode=true&scrollTo=6TdFMoh2SBVg)\n",
    "\n",
    ">>>>[Fast Fourier Matrices](#forceEdit=true&offline=true&sandboxMode=true&scrollTo=6TdFMoh2SBVg)\n",
    "\n",
    ">>>>[Problems](#forceEdit=true&offline=true&sandboxMode=true&scrollTo=f4EaFe9Awjpo)\n",
    "\n",
    ">>>>>[Problem 26.1:](#forceEdit=true&offline=true&sandboxMode=true&scrollTo=HQxLY2Wrwm_u)\n",
    "\n",
    ">>>>>[Problem 26.2:](#forceEdit=true&offline=true&sandboxMode=true&scrollTo=1tR_Z5pVx4PK)\n",
    "\n",
    ">>>>[Lecture 26 Video](#forceEdit=true&offline=true&sandboxMode=true&scrollTo=SKydK1Bz4ZUQ)\n",
    "\n",
    ">>>[Positive Definite and Minima](#forceEdit=true&offline=true&sandboxMode=true&scrollTo=234t8Ovh4Q2y)\n",
    "\n",
    ">>>>[Problems](#forceEdit=true&offline=true&sandboxMode=true&scrollTo=MZQHZvSu-6Ry)\n",
    "\n",
    ">>>>>[Problem 27.1: (6.5 #33. Introduction to Linear Algebra: Strang)](#forceEdit=true&offline=true&sandboxMode=true&scrollTo=FX8fv_OL-8pn)\n",
    "\n",
    ">>>>>[Problem 27.2:](#forceEdit=true&offline=true&sandboxMode=true&scrollTo=2jDeV1t1CZeu)\n",
    "\n",
    ">>>>[Lecture 27 Video](#forceEdit=true&offline=true&sandboxMode=true&scrollTo=mk4kyA2FXnJD)\n",
    "\n",
    ">>>[Similar Matrices and Jordan Form](#forceEdit=true&offline=true&sandboxMode=true&scrollTo=o5wZ8mBRF2WD)\n",
    "\n",
    ">>>>[Problems](#forceEdit=true&offline=true&sandboxMode=true&scrollTo=VTFuNoHFMx5c)\n",
    "\n",
    ">>>>>>[Problem 28.1:](#forceEdit=true&offline=true&sandboxMode=true&scrollTo=yek1dYZ0M00z)\n",
    "\n",
    ">>>>>[Problem 28.2:](#forceEdit=true&offline=true&sandboxMode=true&scrollTo=RCZhB5zNOVvO)\n",
    "\n",
    ">>>>[Lecture 25 Video](#forceEdit=true&offline=true&sandboxMode=true&scrollTo=dOjroXqPXbHk)\n",
    "\n",
    ">>>[Singular Value Decomposition](#forceEdit=true&offline=true&sandboxMode=true&scrollTo=6-SeS68eydZJ)\n",
    "\n",
    ">>>>[Why Square root of $\\lambda$??](#forceEdit=true&offline=true&sandboxMode=true&scrollTo=6-SeS68eydZJ)\n",
    "\n",
    ">>>>[What vectors and lambdas to drop from A^TA??](#forceEdit=true&offline=true&sandboxMode=true&scrollTo=6-SeS68eydZJ)\n",
    "\n",
    ">>>>[Problems](#forceEdit=true&offline=true&sandboxMode=true&scrollTo=UDQGzJwQiT6V)\n",
    "\n",
    ">>>>>[Problem 29.1:](#forceEdit=true&offline=true&sandboxMode=true&scrollTo=G2hSffQPzZxA)\n",
    "\n",
    ">>>>>[Problem 29.2:](#forceEdit=true&offline=true&sandboxMode=true&scrollTo=HSgaY2QTRkJE)\n",
    "\n",
    ">>>>[Lecture 29 Video](#forceEdit=true&offline=true&sandboxMode=true&scrollTo=ajqBtWutXONU)\n",
    "\n",
    ">>>[Linear Transformations](#forceEdit=true&offline=true&sandboxMode=true&scrollTo=8VBMghZ5ThwH)\n",
    "\n",
    ">>>>[Problems](#forceEdit=true&offline=true&sandboxMode=true&scrollTo=HLeX0U2Kb3iY)\n",
    "\n",
    ">>>>>[Problem 30.1:](#forceEdit=true&offline=true&sandboxMode=true&scrollTo=5Jyr0_q8xV3K)\n",
    "\n",
    ">>>>>[Problem 30.2:](#forceEdit=true&offline=true&sandboxMode=true&scrollTo=3yUffkVNxv8M)\n",
    "\n",
    ">>>>[Lecture 30 Video](#forceEdit=true&offline=true&sandboxMode=true&scrollTo=HjfjWHDLiFl9)\n",
    "\n",
    ">>>[Change of basis:Image compression](#forceEdit=true&offline=true&sandboxMode=true&scrollTo=ei-tYrfn1m_w)\n",
    "\n",
    ">>>>[Problems](#forceEdit=true&offline=true&sandboxMode=true&scrollTo=QiioqiZW8MLC)\n",
    "\n",
    ">>>>>[Example1](#forceEdit=true&offline=true&sandboxMode=true&scrollTo=3mEwDW2O8R2f)\n",
    "\n",
    ">>>>>[Problem 31.1:](#forceEdit=true&offline=true&sandboxMode=true&scrollTo=TVpzIfs0_rJY)\n",
    "\n",
    ">>>>>[Problem 31.2:](#forceEdit=true&offline=true&sandboxMode=true&scrollTo=o5pr7pDMAqQJ)\n",
    "\n",
    ">>>[Review and Exam 3](#forceEdit=true&offline=true&sandboxMode=true&scrollTo=jTq6CqKvFxnv)\n",
    "\n",
    ">>>>[Review Lecture Video](#forceEdit=true&offline=true&sandboxMode=true&scrollTo=EI17dzgLLuVZ)\n",
    "\n",
    ">>>[Right and Left Inverses and PsuedoInverse](#forceEdit=true&offline=true&sandboxMode=true&scrollTo=-kyEX7ayq1l_)\n",
    "\n",
    ">>>>[Problems](#forceEdit=true&offline=true&sandboxMode=true&scrollTo=3Jcy1fc46Yzo)\n",
    "\n",
    ">>>>>[Recitation](#forceEdit=true&offline=true&sandboxMode=true&scrollTo=3jL1rQmH6c96)\n",
    "\n",
    ">>>>[Lecture 33 Video](#forceEdit=true&offline=true&sandboxMode=true&scrollTo=VRq0Jewpnrt3)\n",
    "\n",
    ">>>[Final Review](#forceEdit=true&offline=true&sandboxMode=true&scrollTo=5gUEisQourZY)\n",
    "\n",
    ">>>>[Lecture 34 Video](#forceEdit=true&offline=true&sandboxMode=true&scrollTo=eMd6xDZquvF-)\n",
    "\n",
    ">>[Examples](#forceEdit=true&offline=true&sandboxMode=true&scrollTo=EL9TkAZxmNF3)\n",
    "\n",
    ">>>[Example of how to get eigen values and their respective Eigen Vectors](#forceEdit=true&offline=true&sandboxMode=true&scrollTo=EL9TkAZxmNF3)\n",
    "\n",
    ">>>[Another Example of decomposition for a diagonal matrix](#forceEdit=true&offline=true&sandboxMode=true&scrollTo=EL9TkAZxmNF3)\n",
    "\n",
    ">>>[SVD Example](#forceEdit=true&offline=true&sandboxMode=true&scrollTo=Aja7bvLamNF3)\n",
    "\n",
    ">>>>>[Single Value Decomposition](#forceEdit=true&offline=true&sandboxMode=true&scrollTo=1GFNrxNxmNGF)\n",
    "\n",
    ">>>>>[Known notes](#forceEdit=true&offline=true&sandboxMode=true&scrollTo=hNeIJ6lXmNGG)\n",
    "\n",
    ">>>[Unknown Terms that should be learnt](#forceEdit=true&offline=true&sandboxMode=true&scrollTo=JTTV1w9qmNGH)\n",
    "\n",
    ">>>>>>[Useful is SVD](#forceEdit=true&offline=true&sandboxMode=true&scrollTo=JTTV1w9qmNGH)\n",
    "\n",
    ">>>[Assignment Problems](#forceEdit=true&offline=true&sandboxMode=true&scrollTo=9nrMlPBtmNGI)\n",
    "\n",
    ">>>>>>[Problem A-1.](#forceEdit=true&offline=true&sandboxMode=true&scrollTo=_fqjPECNmNGJ)\n",
    "\n",
    ">>>>>>[Problem A-2](#forceEdit=true&offline=true&sandboxMode=true&scrollTo=Zp-5uWDUmNGJ)\n",
    "\n",
    ">>>>>>[Problem B-1.](#forceEdit=true&offline=true&sandboxMode=true&scrollTo=Ouyqro1qmNGO)\n",
    "\n",
    ">>>>>>[Problem B-2.](#forceEdit=true&offline=true&sandboxMode=true&scrollTo=7TilbCM0mNGO)\n",
    "\n",
    ">>>>>[Q](#forceEdit=true&offline=true&sandboxMode=true&scrollTo=q0AjuuDWuB_T)\n",
    "\n",
    ">>>>>[Q](#forceEdit=true&offline=true&sandboxMode=true&scrollTo=XNs1Wwrvnb5q)\n",
    "\n"
   ]
  },
  {
   "cell_type": "markdown",
   "metadata": {
    "colab_type": "text",
    "id": "PH8e9wTNmNFz"
   },
   "source": [
    "### Cheat Sheet\n",
    "\n",
    "$Av=\\lambda v$ Where $A$ is a Transitional matrix that scales vector in $v$ space by $\\lambda $  \n",
    "$\\lambda $ is called the eigen value and $v$ the corresponding eigen vector for transitional matrix A  \n",
    "$|A-\\lambda I|$ can used to evaluate eigen values for a given transitional matrix A. And thus also the corresponding eigen vectors.  \n",
    "**Eigen Value Decomposition**  \n",
    "If matrix $A$ is symmetrical then  \n",
    "* all $\\lambda $ would be real.\n",
    "* $A=UDU^T$  \n",
    "Where is D is a diagonal matrix with eigen values in the diagonal and U is has the eigen vectors in the corresponding columns, this is called Diagonalisation of a matrix.  \n",
    "\n",
    "**Single Value Decomposition**  \n",
    "For any non-symmetrical matrix $A_m*n$  \n",
    "$A_{m*n}=U_{m*m}\\sum_{m*n}V_{n*n}^T$  \n",
    "Simplified as for a matrix $A_{m*n}$ where $m<n$     \n",
    "$A_{m*n}=U_{m*m}\\sum_{m*m}V_{n*m}^T$   \n",
    "Given solution for $A^TA=V_sDV_s^{-1}$  \n",
    "From $V_s$ can be discard the vectors $i>m$ till $i=n$ and get $A$'s $V$  \n",
    "From $D$ get $\\sum$ by taking squareroot of all the positive λs (call it $\\sigma$)and taking largest $m$ of $n$.  \n",
    "Now get $U$ by $u_i=\\frac{Av_i}{\\sigma_i}$  \n",
    "**Importantly we need to make sure that $U$ and $V$ are normalized to vector length of 1***  \n",
    "\n",
    "\n",
    "$\\qquad\\gamma _{A}(\\lambda )=n-\\operatorname {rank} (A-\\lambda I).$"
   ]
  },
  {
   "cell_type": "markdown",
   "metadata": {
    "colab_type": "text",
    "id": "CxsSFN75zy-U"
   },
   "source": [
    "### Matrix Multiplication\n",
    "\n",
    "$\\left[\\begin{matrix} 2\\\\3\\end{matrix}\\right]\\left[\\begin{matrix} 1&2\\end{matrix}\\right]=\\left[\\begin{matrix} 2&4\\\\3&6\\end{matrix}\\right]$\n",
    "\n",
    "Matrix multiplication AB=C can be looked as  \n",
    "C being a combination of columns of A.  \n",
    "C being a combination of rows of B.\n",
    "\n",
    "$\\left[\\begin{matrix} 2&1\\\\3&2\\end{matrix}\\right]\\left[\\begin{matrix} 1&2\\\\0&0\\end{matrix}\\right]=\\left[\\begin{matrix} 2&4\\\\3&6\\end{matrix}\\right]$  \n",
    "\n",
    "Here C is still the combination of columns of A, just that the second multiplies is zero, so we get the same result.  \n",
    "Here C is still the combination of rows of B, just that the second row is zero, so we get the same result.\n",
    "\n",
    "$\\left[\\begin{matrix} 2&1\\\\3&2\\end{matrix}\\right]\\left[\\begin{matrix} 1&2\\\\1&1\\end{matrix}\\right]=\\left[\\begin{matrix} 3&5\\\\5&8\\end{matrix}\\right]$  "
   ]
  },
  {
   "cell_type": "markdown",
   "metadata": {
    "colab_type": "text",
    "id": "hzoGivWmXXKP"
   },
   "source": [
    "#### Lecture 1 "
   ]
  },
  {
   "cell_type": "code",
   "execution_count": 1,
   "metadata": {
    "cellView": "code",
    "colab": {
     "base_uri": "https://localhost:8080/",
     "height": 10
    },
    "colab_type": "code",
    "id": "BJrkYA8A9g4C",
    "outputId": "f4f689bf-45a6-4761-ca1f-d2b5b6e97b82"
   },
   "outputs": [
    {
     "data": {
      "text/html": [
       "<iframe width=\"560\" height=\"315\" src=\"https://www.youtube.com/embed/ZK3O402wf1c?rel=0\" frameborder=\"0\" allow=\"autoplay; encrypted-media\" allowfullscreen></iframe>\n"
      ],
      "text/plain": [
       "<IPython.core.display.HTML object>"
      ]
     },
     "metadata": {},
     "output_type": "display_data"
    }
   ],
   "source": [
    "%%HTML\n",
    "<iframe width=\"560\" height=\"315\" src=\"https://www.youtube.com/embed/ZK3O402wf1c?rel=0\" frameborder=\"0\" allow=\"autoplay; encrypted-media\" allowfullscreen></iframe>"
   ]
  },
  {
   "cell_type": "markdown",
   "metadata": {
    "colab_type": "text",
    "id": "hYlLzbWjid_N"
   },
   "source": [
    "#### Problems\n",
    "Problem 3.1: Add AB to AC and compare with A(B + C) :   \n",
    "$A=\\left[\\begin{matrix}\n",
    "1&2\\\\\n",
    "3&4\\end{matrix}\\right]\n",
    "\\quad B=\\left[\\begin{matrix}\n",
    "1&0\\\\\n",
    "0&0\\end{matrix}\\right]\n",
    "\\quad C=\\left[\\begin{matrix}\n",
    "0&0\\\\\n",
    "5&6\n",
    "\\end{matrix}\\right]$\n",
    "\n",
    "$AB=\\left[\\begin{matrix}\n",
    "1&0\\\\\n",
    "3&0\\end{matrix}\\right]\n",
    "\\quad AC=\\left[\\begin{matrix}\n",
    "10&12\\\\\n",
    "20&24\\end{matrix}\\right]\n",
    "\\quad AB+AC=\\left[\\begin{matrix}\n",
    "11&12\\\\\n",
    "23&24\\end{matrix}\\right]\n",
    "$  \n",
    "$B+C=\\left[\\begin{matrix}\n",
    "1&0\\\\\n",
    "5&6\\end{matrix}\\right]\n",
    "\\quad A(B+C)=\\left[\\begin{matrix}\n",
    "11&12\\\\\n",
    "23&24\\end{matrix}\\right]\n",
    "$  \n"
   ]
  },
  {
   "cell_type": "markdown",
   "metadata": {
    "colab_type": "text",
    "id": "w1IJ8u773djQ"
   },
   "source": [
    "### Singular Matrix\n",
    "\n",
    "If we can find a vector x, such that Ax=0, where x is not zero vector, then...  \n",
    "\n",
    "$Ax=0\\quad\\text{mulitply both sides by }A^-1\\\\\n",
    "A^{-1}Ax=A^{-1}0\\\\\n",
    "Ix=0$  \n",
    "As x is not a zero vector, right side should really be x itself. Thus $A^{-1}$ doesn't exist.\n",
    "\n",
    "Ax=0 means that there is a combination of columns of A that is zero.  \n",
    "\n",
    "A in this case is called **Singular**"
   ]
  },
  {
   "cell_type": "markdown",
   "metadata": {
    "colab_type": "text",
    "id": "sTa1lbFGz3ID"
   },
   "source": [
    "### Gauss-Jordan Elimination\n",
    "\n",
    "$E[A|I]=[EA|EI]=[I|E]=[I|A^{-1}]$  "
   ]
  },
  {
   "cell_type": "markdown",
   "metadata": {
    "colab_type": "text",
    "id": "AI1QvRVYQP-p"
   },
   "source": [
    "$A=\\left[\\begin{matrix} 1&2\\\\2&3\\end{matrix}\\right]$  \n",
    "Let's consider a matrix E such that EA=I  \n",
    "$E[A|I]=[EA|EI]=[I|E]=[I|A^{-1}]$  \n",
    "Since $EA=I, E=A^{-1}$  \n",
    "\n",
    "So let'se do some transformations as below:-\n",
    "\n",
    "$\\left[\\begin{array}{cc|cc} 1&2&1&0\\\\2&3&0&1\\end{array}\\right]\\overrightarrow{r_2-2r_1}\\left[\\begin{array}{cc|cc} 1&2&1&0\\\\0&-1&-2&1\\end{array}\\right]\\overrightarrow{r_1+2r_2}\\left[\\begin{array}{cc|cc} 1&0&-3&2\\\\0&-1&-2&1\\end{array}\\right]\\overrightarrow{r_2-2r_2}\\left[\\begin{array}{cc|cc} 1&0&-3&2\\\\0&1&2&-1\\end{array}\\right]$  \n",
    "\n",
    "First transformation is where Gaussian transformation ends, but Jacobian transfomation moves ahead to get to I matrix.  \n",
    "$A^{-1}=\\left[\\begin{matrix} -3&2\\\\2&-1\\end{matrix}\\right]$  \n",
    "\n",
    "$AA^{-1}=\\left[\\begin{matrix} 1&2\\\\2&3\\end{matrix}\\right]\\left[\\begin{matrix} -3&2\\\\2&-1\\end{matrix}\\right]=\\left[\\begin{matrix} 1&0\\\\0&1\\end{matrix}\\right]$\n",
    "\n",
    "\n"
   ]
  },
  {
   "cell_type": "markdown",
   "metadata": {
    "colab_type": "text",
    "id": "XfHUfm1SXljE"
   },
   "source": [
    "#### Lecture 2 Video"
   ]
  },
  {
   "cell_type": "code",
   "execution_count": 2,
   "metadata": {
    "cellView": "both",
    "colab": {
     "base_uri": "https://localhost:8080/",
     "height": 10
    },
    "colab_type": "code",
    "id": "9gub0HeH84Uc",
    "outputId": "d7d87240-2731-45e8-c8ce-8f9925c93ece"
   },
   "outputs": [
    {
     "data": {
      "text/html": [
       "<iframe width=\"560\" height=\"315\" src=\"https://www.youtube.com/embed/QVKj3LADCnA?rel=0\" frameborder=\"0\" allow=\"autoplay; encrypted-media\" allowfullscreen></iframe>\n"
      ],
      "text/plain": [
       "<IPython.core.display.HTML object>"
      ]
     },
     "metadata": {},
     "output_type": "display_data"
    }
   ],
   "source": [
    "%%HTML\n",
    "<iframe width=\"560\" height=\"315\" src=\"https://www.youtube.com/embed/QVKj3LADCnA?rel=0\" frameborder=\"0\" allow=\"autoplay; encrypted-media\" allowfullscreen></iframe>"
   ]
  },
  {
   "cell_type": "markdown",
   "metadata": {
    "colab_type": "text",
    "id": "w8174y75XrCh"
   },
   "source": [
    "#### Lecture 3 Video"
   ]
  },
  {
   "cell_type": "code",
   "execution_count": 3,
   "metadata": {
    "cellView": "both",
    "colab": {
     "base_uri": "https://localhost:8080/",
     "height": 336
    },
    "colab_type": "code",
    "id": "_nZ23FKE75Eo",
    "outputId": "8b9023b6-b60b-492c-9092-8ba2cdf8d646"
   },
   "outputs": [
    {
     "data": {
      "text/html": [
       "<iframe width=\"560\" height=\"315\" src=\"https://www.youtube.com/embed/FX4C-JpTFgY?rel=0\" frameborder=\"0\" allow=\"autoplay; encrypted-media\" allowfullscreen></iframe>\n"
      ],
      "text/plain": [
       "<IPython.core.display.HTML object>"
      ]
     },
     "metadata": {},
     "output_type": "display_data"
    }
   ],
   "source": [
    "%%HTML\n",
    "<iframe width=\"560\" height=\"315\" src=\"https://www.youtube.com/embed/FX4C-JpTFgY?rel=0\" frameborder=\"0\" allow=\"autoplay; encrypted-media\" allowfullscreen></iframe>"
   ]
  },
  {
   "cell_type": "markdown",
   "metadata": {
    "colab_type": "text",
    "id": "YMHscbWNUmkk"
   },
   "source": [
    "Problem 2.1: In the two-by-two system of linear equations below, what multiple of the first equation should be subtracted from the second equation\n",
    "when using the method of elimination? Convert this system of equations to matrix form, apply elimination (what are the pivots?), and use\n",
    "back substitution to find a solution. Try to check your work before looking up the answer.  \n",
    "2x + 3y = 5  \n",
    "6x + 15y = 12   \n",
    "**Ans:**  \n",
    "$Ax=b$  \n",
    "$\\left[\\begin{matrix} 2&3\\\\6&15\\end{matrix}\\right]\\left[\\begin{matrix} x\\\\y\\end{matrix}\\right]=\\left[\\begin{matrix} 5\\\\12\\end{matrix}\\right]\\\\\n",
    "\\left[\\begin{matrix} 2&3\\\\0&6\\end{matrix}\\right]\\left[\\begin{matrix} x\\\\y\\end{matrix}\\right]=\\left[\\begin{matrix} 5\\\\-3\\end{matrix}\\right]\\\\\n",
    "\\left[\\begin{matrix} 2&3\\\\0&1\\end{matrix}\\right]\\left[\\begin{matrix} x\\\\y\\end{matrix}\\right]=\\left[\\begin{matrix} 5\\\\-\\frac{3}{6}\\end{matrix}\\right]\\\\\n",
    "\\left[\\begin{matrix} 2&0\\\\0&1\\end{matrix}\\right]\\left[\\begin{matrix} x\\\\y\\end{matrix}\\right]=\\left[\\begin{matrix} 5+\\frac{3}{2}\\\\-\\frac{3}{6}\\end{matrix}\\right]\\\\\n",
    "\\left[\\begin{matrix} 1&0\\\\0&1\\end{matrix}\\right]\\left[\\begin{matrix} x\\\\y\\end{matrix}\\right]=\\left[\\begin{matrix} \\frac{5}{2}+\\frac{3}{4}\\\\-\\frac{3}{6}\\end{matrix}\\right]\\\\\n",
    "\\left[\\begin{matrix} 1&0\\\\0&1\\end{matrix}\\right]\\left[\\begin{matrix} x\\\\y\\end{matrix}\\right]=\\left[\\begin{matrix} \\frac{13}{4}\\\\-\\frac{1}{2}\\end{matrix}\\right]$"
   ]
  },
  {
   "cell_type": "markdown",
   "metadata": {
    "colab_type": "text",
    "id": "kPP16J-uW33M"
   },
   "source": [
    "**Problem 2.2:** (2.3 #29. Introduction to Linear Algebra: Strang) Find the triangular\n",
    "matrix E that reduces “Pascal’s matrix” to a smaller Pascal:\n",
    "$E\\left[\\begin{matrix} 1 &0& 0& 0\\\\\n",
    "1 &1& 0& 0\\\\\n",
    "1& 2& 1 &0\\\\\n",
    "1&3&3& 1\\end{matrix}\\right]=\\left[\n",
    "\\begin{matrix}\n",
    "1&0& 0& 0\\\\\n",
    "0 &1& 0& 0\\\\\n",
    "0& 1& 1& 0\\\\\n",
    "0& 1& 2& 1\n",
    "\\end{matrix}\n",
    "\\right]$  \n",
    "\n",
    "Which matrix M (multiplying several E’s) reduces Pascal all the way\n",
    "to I? \n",
    "\n",
    "$EA=B$  \n",
    "$E[A,I]=[EA,E]$\n",
    "\n",
    "$E[A,I]=[I,EI]$  \n",
    "$EA=I$  \n",
    "\n",
    "$\\left[\\begin{array}{cccc|cccc} 1 &0& 0& 0&1&0&0&0\\\\\n",
    "1 &1& 0& 0&0&1&0&0\\\\\n",
    "1& 2& 1 &0&0&0&1&0\\\\\n",
    "1&3&3& 1&0&0&0&1\\end{array}\\right]\n",
    "\\to\n",
    "\\left[\\begin{array}{cccc|cccc} \n",
    "1 & 0 & 0 & 0   &   1 & 0 & 0 & 0\\\\\n",
    "0 & 1 & 0 & 0   &   -1 & 1 & 0 & 0\\\\\n",
    "0 & 2 & 1 & 0   &   -1 & 0 & 1 & 0\\\\\n",
    "0 & 3 & 3 & 1   &   -1 & 0 & 0 & 1\\end{array}\\right]\n",
    "\\to\n",
    "\\left[\\begin{array}{cccc|cccc} \n",
    "1 & 0 & 0 & 0   &   1  & 0  & 0 & 0\\\\\n",
    "0 & 1 & 0 & 0   &   -1 & 1  & 0 & 0\\\\\n",
    "0 & 1 & 1 & 0   &   0  & -1 & 1 & 0\\\\\n",
    "0 & 1 & 3 & 1   &   1  & -2  & 0 & 1\\end{array}\\right]\n",
    "\\to\n",
    "\\left[\\begin{array}{cccc|cccc} \n",
    "1 & 0 & 0 & 0   &   1  & 0  & 0 & 0\\\\\n",
    "0 & 1 & 0 & 0   &   -1 & 1  & 0 & 0\\\\\n",
    "0 & 1 & 1 & 0   &   0  & -1 & 1 & 0\\\\\n",
    "0 & 1 & 2 & 1   &   0  & 0 & -1 & 1\\end{array}\\right]\n",
    "$\n",
    "\n",
    "**Problem 3.2:** (2.5 #24. Introduction to Linear Algebra: Strang) Use GaussJordan\n",
    "elimination on [U I] to find the upper triangular $U^{−1}$ :  \n",
    "\n",
    "$UU^{-1}=I\\qquad\n",
    "\\left[\\begin{matrix}\n",
    "1 & a & b\\\\\n",
    "0 & 1 & c\\\\\n",
    "0 & 0 & 1\\end{matrix}\\right]\n",
    "\\left[\\begin{matrix}\n",
    "\\\\\n",
    "x1 & x2 & x3\\\\\n",
    "\\\\ \n",
    "\\end{matrix}\\right]=\n",
    "\\left[\\begin{matrix}\n",
    "1 & 0 & 0\\\\\n",
    "0 & 1 & 0\\\\\n",
    "0 & 0 & 1\n",
    "\\end{matrix}\\right]$\n",
    "\n",
    "$\\left[\\begin{array}{ccc|ccc}\n",
    "1 & a & b   &   1 & 0 & 0\\\\\n",
    "0 & 1 & c   &   0 & 1 & 0\\\\\n",
    "0 & 0 & 1   &   0 & 0 & 1\\end{array}\\right]\n",
    "\\to\n",
    "\\left[\\begin{array}{ccc|ccc}\n",
    "1 & a & 0   &   1 & 0 & -b\\\\\n",
    "0 & 1 & 0   &   0 & 1 & -c\\\\\n",
    "0 & 0 & 1   &   0 & 0 & 1\\end{array}\\right]\n",
    "\\to\n",
    "\\left[\\begin{array}{ccc|ccc}\n",
    "1 & 0 & 0   &   1 & -a & -b\\\\\n",
    "0 & 1 & 0   &   0 & 1 & -c\\\\\n",
    "0 & 0 & 1   &   0 & 0 & 1\\end{array}\\right]\n",
    "$  \n",
    "\n",
    "$U^{-1}=\\left[\\begin{matrix}\n",
    "1 & -a & -b\\\\\n",
    "0 & 1 & -c\\\\\n",
    "0 & 0 & 1\\end{matrix}\\right]$\n",
    "\n"
   ]
  },
  {
   "cell_type": "markdown",
   "metadata": {
    "colab_type": "text",
    "id": "WAbqH8ZlDY8j"
   },
   "source": [
    "#### Calculation complexity of LU decomposition\n",
    "\n",
    "LU decomposition on a n x n matrix is an operation that has calculations of the order of approximately $n^3$.  \n",
    "Exmaple for a 100 x 100 matrix elimination of first column is an operation of 100^2 which is (multiplication and then substraction together). Then it boils down to operation on 99x99 matrix. Thus the whole operation considering there are no zeros is $\\displaystyle\\sum_{k=1}^n k^2=\\frac{n(n+1)(2n+1)}{6}$. Which is of the order $\\frac{n^3}{3}$. "
   ]
  },
  {
   "cell_type": "markdown",
   "metadata": {
    "colab_type": "text",
    "id": "pLIeItphzYXa"
   },
   "source": [
    "#### Row replacement and permutations\n",
    "Permutation of Identity Matrices: This is useful in understanding row exchanges when pivots are zero, which is not a useful condition for elimination process.\n",
    "\n",
    "$I_1=\\left[\\begin{matrix}\n",
    "1&0&0\\\\\n",
    "0&1&0\\\\\n",
    "0&0&1\\end{matrix}\\right]\\quad\n",
    "I_2=\\left[\\begin{matrix}\n",
    "0&1&0\\\\\n",
    "1&0&0\\\\\n",
    "0&0&1\\end{matrix}\\right]\\quad\n",
    "I_3=\\left[\\begin{matrix}\n",
    "0&0&1\\\\\n",
    "0&1&0\\\\\n",
    "1&0&0\\end{matrix}\\right]\\quad\n",
    "I_4=\\left[\\begin{matrix}\n",
    "1&0&0\\\\\n",
    "0&0&1\\\\\n",
    "0&1&0\\end{matrix}\\right]\\quad\n",
    "I_5=\\left[\\begin{matrix}\n",
    "0&1&0\\\\\n",
    "0&0&1\\\\\n",
    "1&0&0\\end{matrix}\\right]\\quad\n",
    "I_6=\\left[\\begin{matrix}\n",
    "0&0&1\\\\\n",
    "1&0&0\\\\\n",
    "0&1&0\\end{matrix}\\right]$\n",
    "\n",
    "All the above matrices are permutations of I. These can be considered as row exchange matrices. And Inverse of each of these matrices are themselves.  \n",
    "As if exchange row-1 and row-2, the inverse of such an operation is again an exchange of row-1 and row-2.  \n",
    "\n",
    "\n",
    "When we need row exchanges to maintain non zero pivots.\n",
    "\n",
    "$PA=LU$ where P is one the permutation matrices of $I$ as shown above. For a nxn matrix there are n! permutations possible."
   ]
  },
  {
   "cell_type": "markdown",
   "metadata": {
    "colab_type": "text",
    "id": "mi1HNlOnXzQy"
   },
   "source": [
    "#### Lecture 5 Video"
   ]
  },
  {
   "cell_type": "code",
   "execution_count": 4,
   "metadata": {
    "cellView": "both",
    "colab": {
     "base_uri": "https://localhost:8080/",
     "height": 336
    },
    "colab_type": "code",
    "id": "1HEjtLU57jd_",
    "outputId": "bb65282b-04d0-4e78-a51a-902eb13ccd96"
   },
   "outputs": [
    {
     "data": {
      "text/html": [
       "<iframe width=\"560\" height=\"315\" src=\"https://www.youtube.com/embed/JibVXBElKL0?rel=0\" frameborder=\"0\" allow=\"autoplay; encrypted-media\" allowfullscreen></iframe>\n"
      ],
      "text/plain": [
       "<IPython.core.display.HTML object>"
      ]
     },
     "metadata": {},
     "output_type": "display_data"
    }
   ],
   "source": [
    "%%HTML\n",
    "<iframe width=\"560\" height=\"315\" src=\"https://www.youtube.com/embed/JibVXBElKL0?rel=0\" frameborder=\"0\" allow=\"autoplay; encrypted-media\" allowfullscreen></iframe>"
   ]
  },
  {
   "cell_type": "markdown",
   "metadata": {
    "colab_type": "text",
    "id": "mN-ig_a-GEnp"
   },
   "source": [
    "### LU Decomposition\n",
    "By example\n"
   ]
  },
  {
   "cell_type": "markdown",
   "metadata": {
    "colab_type": "text",
    "id": "lfHmBaw2GUU7"
   },
   "source": [
    "#### Problem 4.1: \n",
    "What matrix E puts A into triangular form EA = U? Multiply by $E^{−1} = L$ to factor A into LU.  \n",
    "$\\left[\\begin{matrix}\n",
    "1 & 3 & 0\\\\\n",
    "2 & 4 & 0\\\\\n",
    "2 & 0 & 1\n",
    "\\end{matrix}\\right]$\n",
    "\n",
    "Decomposing gives  \n",
    "\n",
    "$\\left[\\begin{matrix}\n",
    "1 & 3 & 0\\\\\n",
    "2 & 4 & 0\\\\\n",
    "2 & 0 & 1\n",
    "\\end{matrix}\\right]\n",
    "\\to\n",
    "\\left[\\begin{matrix}\n",
    "1 & 3  & 0\\\\\n",
    "0 & -2 & 0\\\\\n",
    "0 & -6 & 1\n",
    "\\end{matrix}\\right]\n",
    "\\to\n",
    "\\left[\\begin{matrix}\n",
    "1 & 3  & 0\\\\\n",
    "0 & -2 & 0\\\\\n",
    "0 & 0 & 1\n",
    "\\end{matrix}\\right]\n",
    "$  \n",
    "Transformations we applied are  \n",
    "$\\left[\\begin{matrix}\n",
    "1 & 0 & 0\\\\\n",
    "0 & 1 & 0\\\\\n",
    "0 & 0 & 1\n",
    "\\end{matrix}\\right]\n",
    "\\overrightarrow{T_1}\n",
    "\\left[\\begin{matrix}\n",
    " 1 & 0 & 0\\\\\n",
    "-2 & 1 & 0\\\\\n",
    "-2 & 0 & 1\n",
    "\\end{matrix}\\right]\n",
    "\\overrightarrow{T_2}\n",
    "\\left[\\begin{matrix}\n",
    "1 &  0  & 0\\\\\n",
    "0 &  1  & 0\\\\\n",
    "0 & -3 & 1\n",
    "\\end{matrix}\\right]$  \n",
    "\n",
    "$EA=U\\\\\\implies E^{-1}EA=A=E^{-1}U\\\\\\implies A=E^{-1}U=LU\\\\\\implies E^{-1}=L$\n",
    "\n",
    "Thus for L we just need to reverse the transformations and find that $E^{-1}$...\n",
    "\n",
    "Using the transformations above for getting to U:  \n",
    "$L=\\left[\\begin{matrix}\n",
    " 1 & 0 & 0\\\\\n",
    "-2 & 1 & 0\\\\\n",
    "-2 & 0 & 1\n",
    "\\end{matrix}\\right]^{-1}\n",
    "\\left[\\begin{matrix}\n",
    "1 &  0  & 0\\\\\n",
    "0 &  1  & 0\\\\\n",
    "0 & -3  & 1\n",
    "\\end{matrix}\\right]^{-1}=\n",
    "\\left[\\begin{matrix}\n",
    " 1 & 0 & 0\\\\\n",
    " 2 & 1 & 0\\\\\n",
    " 2 & 0 & 1\n",
    "\\end{matrix}\\right]\n",
    "\\left[\\begin{matrix}\n",
    "1 &  0  & 0\\\\\n",
    "0 &  1  & 0\\\\\n",
    "0 &  3 & 1\n",
    "\\end{matrix}\\right]=\n",
    "\\left[\\begin{matrix}\n",
    "1 &  0  & 0\\\\\n",
    "2 &  1  & 0\\\\\n",
    "2 &  3  & 1\n",
    "\\end{matrix}\\right]\n",
    "$  \n",
    "\n",
    "Now let's see if we did this properly...\n",
    "\n",
    "$LU=\\left[\\begin{matrix}\n",
    "1 &  0  & 0\\\\\n",
    "2 &  1  & 0\\\\\n",
    "2 &  3  & 1\n",
    "\\end{matrix}\\right]\n",
    "\\left[\\begin{matrix}\n",
    "1 & 3  & 0\\\\\n",
    "0 & -2 & 0\\\\\n",
    "0 & 0 & 1\n",
    "\\end{matrix}\\right]=\\left[\\begin{matrix}\n",
    "1 & 3  & 0\\\\\n",
    "2 & 4 & 0\\\\\n",
    "2 & 0 & 1\n",
    "\\end{matrix}\\right]\n",
    "$  \n",
    "\n",
    "And $E=T_2T_1$  "
   ]
  },
  {
   "cell_type": "markdown",
   "metadata": {
    "colab_type": "text",
    "id": "HYpwEheVPr5R"
   },
   "source": [
    "#### Problem 4.2:\n",
    "(2.6 #13. Introduction to Linear Algebra: Strang) Compute L and U for the symmetric matrix\n",
    "\n",
    "$A=\n",
    "\\left[\\begin{matrix}\n",
    "a & a & a & a\\\\\n",
    "a & b & b & b\\\\\n",
    "a & b & c & c\\\\\n",
    "a & b & c & d\n",
    "\\end{matrix}\\right]$\n",
    "Find four conditions on a, b, c, d to get A = LU with four pivots.\n",
    "\n",
    "**Ans:**  \n",
    "$\\left[\\begin{matrix}\n",
    "a & a & a & a\\\\\n",
    "a & b & b & b\\\\\n",
    "a & b & c & c\\\\\n",
    "a & b & c & d\n",
    "\\end{matrix}\\right]\n",
    "\\to\n",
    "\\left[\\begin{matrix}\n",
    "a & a   & a   & a\\\\\n",
    "0 & b-a & b-a & b-a\\\\\n",
    "0 & b-a & c-a & c-a\\\\\n",
    "0 & b-a & c-a & d-a\n",
    "\\end{matrix}\\right]\n",
    "\\to\n",
    "\\left[\\begin{matrix}\n",
    "a & a   & a       & a\\\\\n",
    "0 & b-a & b-a     & b-a\\\\\n",
    "0 & 0   & c-b & c-b\\\\\n",
    "0 & 0   & c-b & d-b\n",
    "\\end{matrix}\\right]\n",
    "\\to\n",
    "\\left[\\begin{matrix}\n",
    "a & a   & a       & a\\\\\n",
    "0 & b-a & b-a     & b-a\\\\\n",
    "0 & 0   & c-b & c-b\\\\\n",
    "0 & 0   & 0   & d-c\n",
    "\\end{matrix}\\right]\n",
    "$  \n",
    "And the transformations applied are..  \n",
    "$\\left[\\begin{matrix}\n",
    "1 & 0 & 0 & 0\\\\\n",
    "0 & 1 & 0 & 0\\\\\n",
    "0 & 0 & 1 & 0\\\\\n",
    "0 & 0 & 0 & 1\\\\\n",
    "\\end{matrix}\\right]\n",
    "\\overrightarrow{T_1}\n",
    "\\left[\\begin{matrix}\n",
    " 1 & 0 & 0 & 0\\\\\n",
    "-1 & 1 & 0 & 0\\\\\n",
    "-1 & 0 & 1 & 0\\\\\n",
    "-1 & 0 & 0 & 1\\\\\n",
    "\\end{matrix}\\right]\n",
    "\\overrightarrow{T_2}\n",
    "\\left[\\begin{matrix}\n",
    "1 & 0  & 0 & 0\\\\\n",
    "0 & 1  & 0 & 0\\\\\n",
    "0 & -1 & 1 & 0\\\\\n",
    "0 & -1 & 0 & 1\\\\\n",
    "\\end{matrix}\\right]\n",
    "\\overrightarrow{T_3}\n",
    "\\left[\\begin{matrix}\n",
    "1 & 0 & 0 & 0\\\\\n",
    "0 & 1 & 0 & 0\\\\\n",
    "0 & 0 & 1 & 0\\\\\n",
    "0 & 0 & -1 & 1\\\\\n",
    "\\end{matrix}\\right]=T_3T_2T_1=\\\\\n",
    "\\left[\\begin{matrix}\n",
    "  1 &  0 & 0 & 0\\\\\n",
    " -1 &  1 & 0 & 0\\\\\n",
    " -1 & -1 & 1 & 0\\\\\n",
    " -1 & -1 & 0 & 1\\\\\n",
    "\\end{matrix}\\right]\\to\n",
    "\\left[\\begin{matrix}\n",
    "1 & 0 & 0 & 0\\\\\n",
    "0 & 1 & 0 & 0\\\\\n",
    "0 & 0 & 1 & 0\\\\\n",
    "0 & 0 & -1 & 1\\\\\n",
    "\\end{matrix}\\right]=\\\\\n",
    "\\left[\\begin{matrix}\n",
    " 1 &  0 &  0 & 0\\\\\n",
    "-1 &  1 &  0 & 0\\\\\n",
    "-1 & -1 &  1 & 0\\\\\n",
    "-1 & -1 & -1 & 1\\\\\n",
    "\\end{matrix}\\right]\n",
    "$  \n",
    "\n",
    "  \n"
   ]
  },
  {
   "cell_type": "code",
   "execution_count": 0,
   "metadata": {
    "colab": {
     "base_uri": "https://localhost:8080/",
     "height": 293
    },
    "colab_type": "code",
    "id": "Z4uSj4RtiIHC",
    "outputId": "2d590840-3032-4f74-88cb-4731b92dc2a1"
   },
   "outputs": [
    {
     "name": "stdout",
     "output_type": "stream",
     "text": [
      "[[ 1.  0.  0.  0.]\n",
      " [ 0.  1.  0.  0.]\n",
      " [ 0.  0.  1.  0.]\n",
      " [ 0.  0. -1.  1.]]\n",
      "[[1. 0. 0. 0.]\n",
      " [0. 1. 0. 0.]\n",
      " [0. 0. 1. 0.]\n",
      " [0. 0. 1. 1.]]\n",
      "[[ 1.  0.  0.  0.]\n",
      " [ 0.  1.  0.  0.]\n",
      " [ 0. -1.  1.  0.]\n",
      " [ 0. -1.  0.  1.]]\n",
      "[[1. 0. 0. 0.]\n",
      " [0. 1. 0. 0.]\n",
      " [0. 1. 1. 0.]\n",
      " [0. 1. 0. 1.]]\n"
     ]
    }
   ],
   "source": [
    "import numpy as np\n",
    "A=np.identity(4)\n",
    "A[3,2]=-1\n",
    "print(A)\n",
    "print(np.linalg.inv(A))\n",
    "\n",
    "A=np.identity(4)\n",
    "A[2\n",
    "  ,1]=-1\n",
    "A[3,1]=-1\n",
    "print(A)\n",
    "print(np.linalg.inv(A))\n"
   ]
  },
  {
   "cell_type": "markdown",
   "metadata": {
    "colab_type": "text",
    "id": "TlSDmCUM1yaT"
   },
   "source": [
    "And inverting the transformations we get applied are..  \n",
    "$T_1^{-1}T_2^{-1}T_3^{-1}=\\\\\n",
    "\\left[\\begin{matrix}\n",
    " 1 & 0 & 0 & 0\\\\\n",
    "-1 & 1 & 0 & 0\\\\\n",
    "-1 & 0 & 1 & 0\\\\\n",
    "-1 & 0 & 0 & 1\\\\\n",
    "\\end{matrix}\\right]^{-1}\n",
    "\\left[\\begin{matrix}\n",
    "1 &  0  & 0 & 0\\\\\n",
    "0 &  1  & 0 & 0\\\\\n",
    "0 & -1  & 1 & 0\\\\\n",
    "0 & -1  & 0 & 1\\\\\n",
    "\\end{matrix}\\right]^{-1}\n",
    "\\left[\\begin{matrix}\n",
    "1 & 0 & 0 & 0\\\\\n",
    "0 & 1 & 0 & 0\\\\\n",
    "0 & 0 & 1 & 0\\\\\n",
    "0 & 0 & -1 & 1\\\\\n",
    "\\end{matrix}\\right]^{-1}\\\\\n",
    "=\\left[\\begin{matrix}\n",
    " 1 & 0 & 0 & 0\\\\\n",
    " 1 & 1 & 0 & 0\\\\\n",
    " 1 & 0 & 1 & 0\\\\\n",
    " 1 & 0 & 0 & 1\\\\\n",
    "\\end{matrix}\\right]\n",
    "\\left[\\begin{matrix}\n",
    "1 & 0  & 0 & 0\\\\\n",
    "0 & 1  & 0 & 0\\\\\n",
    "0 & 1  & 1 & 0\\\\\n",
    "0 & 1  & 0 & 1\\\\\n",
    "\\end{matrix}\\right]\n",
    "\\left[\\begin{matrix}\n",
    "1 & 0 & 0 & 0\\\\\n",
    "0 & 1 & 0 & 0\\\\\n",
    "0 & 0 & 1 & 0\\\\\n",
    "0 & 0 & 1 & 1\\\\\n",
    "\\end{matrix}\\right]\\\\\n",
    "=\\left[\\begin{matrix}\n",
    "1 & 0  & 0 & 0\\\\\n",
    "1 & 1  & 0 & 0\\\\\n",
    "1 & 1  & 1 & 0\\\\\n",
    "1 & 1  & 0 & 1\\\\\n",
    "\\end{matrix}\\right]\n",
    "\\left[\\begin{matrix}\n",
    "1 & 0 & 0 & 0\\\\\n",
    "0 & 1 & 0 & 0\\\\\n",
    "0 & 0 & 1 & 0\\\\\n",
    "0 & 0 & 1 & 1\\\\\n",
    "\\end{matrix}\\right]\\\\\\quad=\\left[\\begin{matrix}\n",
    "1 & 0 & 0 & 0\\\\\n",
    "1 & 1 & 0 & 0\\\\\n",
    "1 & 1 & 1 & 0\\\\\n",
    "1 & 1 & 1 & 1\\\\\n",
    "\\end{matrix}\\right]\\\\\n",
    "$  \n",
    "\n",
    "Test LU=A\n",
    "\n",
    "$LU=\\left[\\begin{matrix}\n",
    "1 & 0 & 0 & 0\\\\\n",
    "1 & 1 & 0 & 0\\\\\n",
    "1 & 1 & 1 & 0\\\\\n",
    "1 & 1 & 1 & 1\\\\\n",
    "\\end{matrix}\\right]\n",
    "\\left[\\begin{matrix}\n",
    "a & a   & a   & a\\\\\n",
    "0 & b-a & b-a & b-a\\\\\n",
    "0 & 0   & c-b & c-b\\\\\n",
    "0 & 0   & 0   & d-c\n",
    "\\end{matrix}\\right]\\\\\\quad=\\left[\\begin{matrix}\n",
    "a & a   & a       & a\\\\\n",
    "a & b   & b       & b\\\\\n",
    "a & b   & c       & c\\\\\n",
    "a & b   & c       & d\n",
    "\\end{matrix}\\right]$\n",
    "\n",
    "The four conditions are \n",
    "$a\\neq0\\\\\n",
    "a\\neq b\\\\\n",
    "b\\neq c\\\\\n",
    "c\\neq d$\n"
   ]
  },
  {
   "cell_type": "markdown",
   "metadata": {
    "colab_type": "text",
    "id": "0dz2eMEWx8eP"
   },
   "source": [
    "### Sub Spaces\n",
    "\n",
    "Eight rules of vector space are based on two things.\n",
    "1. When multiplied by  scalar(scaled), the vector should still be in the vector space.\n",
    "2. Addition of any two vectors should still in the vector space.\n",
    "\n",
    "If $A,B$ are separate subspaces  \n",
    "* $A\\cup B$ is not a sub-space\n",
    "* $A\\cap B$ is a sub-space  \n",
    "(Note that if A and B belong to same vector space then AUB is also a subspace.)  \n",
    "The column space of $A=\\left[\\begin{matrix}\n",
    "1&3\\\\\n",
    "2&4\\\\\n",
    "3&5\\\\\n",
    "4&6\n",
    "\\end{matrix}\\right]$ is a sub-space in $R^4$ spanned by the two vectors   \n",
    "$\\qquad v_1=x_1+2x_2+3x_3+4x_4\\\\\n",
    "\\qquad v_2=3x_1+4x_2+5x_3+6x_4$\n",
    "\n",
    "$Ax=b$ will have a solution only when $b$ is in the sub-space spawned by the column-space of $A$. If $b$ is outside this sub-space, then there will be no solution. Therefore when $b=\\left[\\begin{matrix}\n",
    "0\\\\\n",
    "0\\\\\n",
    "0\\\\\n",
    "0\n",
    "\\end{matrix}\\right]$ there would definetly be a solution.\n",
    "\n",
    "Note that algebraically this has four equations with two unknowns. So this throw contradictory solutions when b is not in the sub-space of spawned by the column-space of $A$\n",
    "\n",
    "\n",
    "Note that columns pace of $A=\\left[\\begin{matrix}\n",
    "1&3&4\\\\\n",
    "2&4&6\\\\\n",
    "3&5&8\\\\\n",
    "4&6&10\n",
    "\\end{matrix}\\right]$ is spawns a sub-space of $R^2$ in $R^4$ as the the $3^{rd}$ lies int he plane of first two vectors. "
   ]
  },
  {
   "cell_type": "markdown",
   "metadata": {
    "colab_type": "text",
    "id": "jByv87-iYAt7"
   },
   "source": [
    "#### Lecture 6 Video"
   ]
  },
  {
   "cell_type": "code",
   "execution_count": 5,
   "metadata": {
    "cellView": "both",
    "colab": {
     "base_uri": "https://localhost:8080/",
     "height": 10
    },
    "colab_type": "code",
    "id": "lqONkdSP7IIz",
    "outputId": "0e3f9061-06f1-477b-9b2e-2fda38e4277e"
   },
   "outputs": [
    {
     "data": {
      "text/html": [
       "<iframe width=\"560\" height=\"315\" src=\"https://www.youtube.com/embed/8o5Cmfpeo6g\" frameborder=\"0\" allow=\"autoplay; encrypted-media\" allowfullscreen></iframe>\n"
      ],
      "text/plain": [
       "<IPython.core.display.HTML object>"
      ]
     },
     "metadata": {},
     "output_type": "display_data"
    }
   ],
   "source": [
    "%%HTML\n",
    "<iframe width=\"560\" height=\"315\" src=\"https://www.youtube.com/embed/8o5Cmfpeo6g\" frameborder=\"0\" allow=\"autoplay; encrypted-media\" allowfullscreen></iframe>"
   ]
  },
  {
   "cell_type": "markdown",
   "metadata": {
    "colab_type": "text",
    "id": "c_D__zer5rVN"
   },
   "source": [
    "#### Problem 6.2: \n",
    "(3.2 #18.) The plane x − 3y − z = 12 is parallel to the plane x − 3y − z = 0. One particular point on this plane is (12, 0, 0). All points on the plane have the form (fill in the first components) \n",
    "\n",
    "$\\qquad \\left[\\begin{matrix}x\\\\y\\\\z\\end{matrix}\\right]=\\left[\\begin{matrix}\\\\0\\\\0\\end{matrix}\\right]+y\\left[\\begin{matrix}\\\\1\\\\0\\end{matrix}\\right]+z\\left[\\begin{matrix}\\\\0\\\\1\\end{matrix}\\right]$  \n",
    "**Ans**  \n",
    "$\\qquad \\left[\\begin{matrix}x\\\\y\\\\z\\end{matrix}\\right]=\\left[\\begin{matrix}12\\\\0\\\\0\\end{matrix}\\right]+y\\left[\\begin{matrix}3\\\\1\\\\0\\end{matrix}\\right]+z\\left[\\begin{matrix}1\\\\0\\\\1\\end{matrix}\\right]$  \n",
    "\n"
   ]
  },
  {
   "cell_type": "markdown",
   "metadata": {
    "colab_type": "text",
    "id": "NPsEHNWU_-AJ"
   },
   "source": [
    "#### Problem 6.3: \n",
    "(3.2 #36.) How is the nullspace N(C) related to the spaces N(A) and N(B), if C =$\\left[\\begin{matrix}A\\\\B\\end{matrix}\\right]$  \n",
    "\n",
    "Null space of A is Ax=0  \n",
    "Null space of B is By=0  \n",
    "One thing to note is that A and B should have the same number of columns.  \n",
    "x and y should be of same dimension vectors.  \n",
    "Null space of C is $\\left[\\begin{matrix}A\\\\B\\end{matrix}\\right]z=0\\\\\n",
    "\\implies\\left[\\begin{matrix}Az\\\\Bz\\end{matrix}\\right]=0\\\\\n",
    "\\implies Az=0\\text{ and }Bz=0$   \n",
    "x,y and z should be of same dimension vectors.\n",
    "\n",
    "$z=x\\bigcap y$\n",
    "\n"
   ]
  },
  {
   "cell_type": "markdown",
   "metadata": {
    "colab_type": "text",
    "id": "FpTyOqMfHTkr"
   },
   "source": [
    "### Null Spaces (Ax=0)\n",
    "\n",
    "Bring any matrix A to it's **echelon** form by reduction.  \n",
    "Continue further till the pivot's values are all 1s to get to the  *Reduced Echelon Form**\n"
   ]
  },
  {
   "cell_type": "markdown",
   "metadata": {
    "colab_type": "text",
    "id": "HtGsb0AfYMPz"
   },
   "source": [
    "#### Lecture 7 Video"
   ]
  },
  {
   "cell_type": "code",
   "execution_count": 6,
   "metadata": {
    "cellView": "both",
    "colab": {
     "base_uri": "https://localhost:8080/",
     "height": 10
    },
    "colab_type": "code",
    "id": "JPF25ESV62aM",
    "outputId": "a310986d-71d5-4a3f-f8a2-8c8cb7617729"
   },
   "outputs": [
    {
     "data": {
      "text/html": [
       "<iframe width=\"560\" height=\"315\" src=\"https://www.youtube.com/embed/VqP2tREMvt0\" frameborder=\"0\" allow=\"autoplay; encrypted-media\" allowfullscreen></iframe>\n"
      ],
      "text/plain": [
       "<IPython.core.display.HTML object>"
      ]
     },
     "metadata": {},
     "output_type": "display_data"
    }
   ],
   "source": [
    "%%HTML\n",
    "<iframe width=\"560\" height=\"315\" src=\"https://www.youtube.com/embed/VqP2tREMvt0\" frameborder=\"0\" allow=\"autoplay; encrypted-media\" allowfullscreen></iframe>"
   ]
  },
  {
   "cell_type": "markdown",
   "metadata": {
    "colab_type": "text",
    "id": "bd_xCstdHytS"
   },
   "source": [
    "#### Problem 7.1:\n",
    "a) Find the row reduced form of:\n",
    "$A=\\left[\\begin{matrix}\n",
    "1 &  5 &  7 & 9\\\\\n",
    "0 &  4 &  1 & 7\\\\\n",
    "2 & −2 & 11 & −3\n",
    "\\end{matrix}\\right]$  \n",
    "b) What is the rank of this matrix?  \n",
    "c) Find any special solutions to the equation Ax = 0  \n",
    "\n",
    "**Ans**  \n",
    "$A=\\left[\\begin{matrix}\n",
    "1 &  5 &  7 & 9\\\\\n",
    "0 &  4 &  1 & 7\\\\\n",
    "2 & −2 & 11 & −3\n",
    "\\end{matrix}\\right]\n",
    "\\to\n",
    "\\left[\\begin{matrix}\n",
    "1 &  5  &  7 & 9\\\\\n",
    "0 &  4  &  1 & 7\\\\\n",
    "0 & −12 & -3 & −21\n",
    "\\end{matrix}\\right]\n",
    "\\overrightarrow{\\text{echelon form}}\n",
    "\\left[\\begin{matrix}\n",
    "1 &  5  &  7 & 9\\\\\n",
    "0 &  4  &  1 & 7\\\\\n",
    "0 &  0  &  0 & 0\n",
    "\\end{matrix}\\right]\n",
    "\\to\n",
    "\\left[\\begin{matrix}\n",
    "1 &  5  &  7 & 9\\\\\n",
    "0 &  1  &  1/4 & 7/4\\\\\n",
    "0 &  0  &  0 & 0\n",
    "\\end{matrix}\\right]\n",
    "\\to\n",
    "\\left[\\begin{matrix}\n",
    "1 &  0  &  7-5/4 & 9-35/4\\\\\n",
    "0 &  1  &  1/4 & 7/4\\\\\n",
    "0 &  0  &  0 & 0\n",
    "\\end{matrix}\\right]\\\\\\\\\\quad=\\left[\\begin{matrix}\n",
    "1 &  0  &  23/4 & 1/4\\\\\n",
    "0 &  1  &  1/4 & 7/4\\\\\n",
    "0 &  0  &  0 & 0\n",
    "\\end{matrix}\\right]\\\\\n",
    "$  \n",
    "(This is reduced echelon form)  \n",
    "Thus **rank** of the matrix is 2.  \n",
    "\n",
    "Special solutions to Ax=0 is all matrices of the form\n",
    "\n",
    "$\\left[\\begin{array}{c|c}I&F\\\\\n",
    "\\hline\n",
    "0&0\n",
    "\\end{array}\\right]\n",
    "\\left[\\begin{array}{c}a\\\\\n",
    "\\hline\n",
    "c\n",
    "\\end{array}\\right]=\\left[\\begin{array}{c}Ia+cF\\\\\n",
    "\\hline\n",
    "0a+0c\n",
    "\\end{array}\\right]\n",
    "$  \n",
    "\n",
    "Thus Null Space is defined by  \n",
    "$N=\\left[\\begin{array}{c}\n",
    "-23/4&-1/4\\\\\n",
    "-1/4&-7/4\\\\\n",
    "1&0\\\\\n",
    "0&1\n",
    "\\end{array}\\right]=\\left[\\begin{array}{c}\n",
    "-23&-1\\\\\n",
    "-1&-7\\\\\n",
    "4&0\\\\\n",
    "0&4\n",
    "\\end{array}\\right]$  \n",
    "\n",
    "Other way to put is that the null space is defined by\n",
    "\n",
    "$N=a\\left[\\begin{matrix}\n",
    "-23\\\\\n",
    "-1\\\\\n",
    "4\\\\\n",
    "0\n",
    "\\end{matrix}\\right]\n",
    "+\n",
    "b\\left[\\begin{matrix}\n",
    "-1\\\\\n",
    "-7\\\\\n",
    "0\\\\\n",
    "4\n",
    "\\end{matrix}\\right]\n",
    "$  \n",
    "\n",
    "\n"
   ]
  },
  {
   "cell_type": "markdown",
   "metadata": {
    "colab_type": "text",
    "id": "lVpqyMGHNJc4"
   },
   "source": [
    "#### Problem 7.2: \n",
    "(3.3 #17.b Introduction to Linear Algebra: Strang) Find $A_1$ and $A_2$ so that rank($A_1B$) = 1 and rank($A_2B$) = 0 for B = $\\left[\\begin{matrix}\n",
    "1&1\\\\\n",
    "1&1\n",
    "\\end{matrix}\\right]$  \n",
    "\n",
    "$B$ is already of rank 1. So $A_1$ is just I matrix.\n",
    "\n",
    "Now if we want the rank($A_2B$)=0, that means we need a zero matrix. As only zero matrix has a rank of zero.\n",
    "\n",
    "$\\left[\\begin{matrix}\n",
    "1&-1\\\\\n",
    "1&-1\n",
    "\\end{matrix}\\right]\n",
    "\\left[\\begin{matrix}\n",
    "1&1\\\\\n",
    "1&1\n",
    "\\end{matrix}\\right]=\n",
    "\\left[\\begin{matrix}\n",
    "0&0\\\\\n",
    "0&0\n",
    "\\end{matrix}\\right]\n",
    "$  "
   ]
  },
  {
   "cell_type": "markdown",
   "metadata": {
    "colab_type": "text",
    "id": "Km23TPqtUiGl"
   },
   "source": [
    "### Ax=b\n",
    "For mxn matrix A  \n",
    "**RANK TELLS YOU EVERYTHING!!!**  \n",
    "* **Square Matrices with full rank**  \n",
    "  There exists a solution for any b. And only one solution exists.\n",
    "* **Full Column Rank**  \n",
    "  There exists a solution for specific b. b should be a combination of columns of A.  \n",
    "* **Full Row Rank**  \n",
    "  Solution for all b. Infinetly many solutions\n",
    "* **Rank<m<n**  \n",
    "  either none of infinetly many solutions. the zero rows after transformation should be reflected with RHS zeros on b. Only then solution will exist.\n",
    "\n",
    "$\\begin{array}{c|c|c|c|c}\n",
    "A_{m\\times n}&\\text{Sqr Mat w FullRank}&\\text{FullColumnRank}&\\text{FullRowRank}&\\text{Rank<min(m,n)}\\\\\n",
    "\\text{RedEchelonForm}\n",
    "&\n",
    "I\n",
    "&\n",
    "\\left[\\begin{matrix}I\\\\0\\end{matrix}\\right]\n",
    "&\n",
    "\\left[\\begin{matrix}I&F\\end{matrix}\\right]\n",
    "&\n",
    "\\left[\\begin{matrix}I&F\\\\0&0\\end{matrix}\\right]\\\\\n",
    "b\\text{ for Soln to exist}\n",
    "&\n",
    "\\text{any }b\n",
    "&\n",
    "\\text{ only when }b\\, \\epsilon \\text{ col space of }A\n",
    "&\n",
    "\\text{any }b\n",
    "&\n",
    "\\text{LHS 0s shld match b 0s}\\\\\n",
    "\\text{No. of soln.}\n",
    "&\n",
    "1\n",
    "&\n",
    "1\n",
    "&\n",
    "\\text{inf. many}\n",
    "&\n",
    "\\text{0 or inf. many}\\\\\n",
    "\\text{Null Space}\n",
    "&\n",
    "\\text{None}\n",
    "&\n",
    "\\text{None}\n",
    "&\n",
    "\\text{Full Null Space}\n",
    "&\n",
    "\\text{Full Null Space}\\\\\n",
    "\\text{No. Of Var}\n",
    "&\n",
    "m=n\n",
    "&\n",
    "n<m\n",
    "&\n",
    "n>m\n",
    "&\n",
    "n>r\\\\\n",
    "\\text{No. of Eq}\n",
    "&\n",
    "m=n=r\n",
    "&\n",
    "m>n\n",
    "&\n",
    "m<n\n",
    "&\n",
    "m>r\n",
    "\\end{array}$  \n",
    "**LHS 0s shld match b 0s=>b should be in column space of A. That is defined by the basis vectors of A**"
   ]
  },
  {
   "cell_type": "markdown",
   "metadata": {
    "colab_type": "text",
    "id": "yJDfy9oaYWUQ"
   },
   "source": [
    "#### Lecture 8 Video"
   ]
  },
  {
   "cell_type": "code",
   "execution_count": 7,
   "metadata": {
    "cellView": "both",
    "colab": {
     "base_uri": "https://localhost:8080/",
     "height": 336
    },
    "colab_type": "code",
    "id": "nAilxHMx6Ci0",
    "outputId": "f57b288c-becc-4e52-a780-6584a6e1e6d3"
   },
   "outputs": [
    {
     "data": {
      "text/html": [
       "<iframe width=\"560\" height=\"315\" src=\"https://www.youtube.com/embed/9Q1q7s1jTzU?rel=0\" frameborder=\"0\" allow=\"autoplay; encrypted-media\" allowfullscreen></iframe>\n"
      ],
      "text/plain": [
       "<IPython.core.display.HTML object>"
      ]
     },
     "metadata": {},
     "output_type": "display_data"
    }
   ],
   "source": [
    "%%HTML\n",
    "<iframe width=\"560\" height=\"315\" src=\"https://www.youtube.com/embed/9Q1q7s1jTzU?rel=0\" frameborder=\"0\" allow=\"autoplay; encrypted-media\" allowfullscreen></iframe>"
   ]
  },
  {
   "cell_type": "markdown",
   "metadata": {
    "colab_type": "text",
    "id": "p4z1VKO3kKDg"
   },
   "source": [
    "#### Problem 8.1: \n",
    "(3.4 #13.(a,b,d) Introduction to Linear Algebra: Strang) Explain why these are all false:  \n",
    "a) The complete solution is any linear combination of $x_p$ and $x_n$.  \n",
    "b) The system Ax = b has at most one particular solution.  \n",
    "c) If A is invertible there is no solution $x_n$ in the nullspace.  \n",
    "\n",
    "**Ans:**  \n",
    "a. the complete solution is $x_p$+C$x_n$  \n",
    "b. no Ax=b could have infinetly many solutions when rank<n, where n is the number of columns.  \n",
    "c. $x_n$=0 is a solution in the nullspace for an invertible A.  "
   ]
  },
  {
   "cell_type": "markdown",
   "metadata": {
    "colab_type": "text",
    "id": "QAqvOJ9Ikxeb"
   },
   "source": [
    "#### Problem 8.2: \n",
    "(3.4 #28.) Let \n",
    "$\\qquad U=\\left[\\begin{matrix}1&2&3\\\\0&0&4\\end{matrix}\\right]\\,\\,\\,c=\\left[\\begin{matrix}5\\\\8\\end{matrix}\\right]$  \n",
    "Use Gauss-Jordan elimination to reduce the matrices [U 0] and [U c] to [R 0] and [R d]. Solve Rx = 0 and Rx = d.  \n",
    "Check your work by plugging your values into the equations Ux = 0 and Ux = c.  \n",
    "**Ans:**  \n",
    "$\\left[\\begin{array}{c|c}U&c\\end{array}\\right]=\n",
    "\\left[\\begin{array}{ccc|c}\n",
    "1&2&3&5\\\\\n",
    "0&0&4&8\n",
    "\\end{array}\\right]=\n",
    "\\left[\\begin{array}{ccc|c}\n",
    "1&2&3&5\\\\\n",
    "0&0&1&2\n",
    "\\end{array}\\right]=\n",
    "\\left[\\begin{array}{ccc|c}\n",
    "1&2&0&-1\\\\\n",
    "0&0&1&2\n",
    "\\end{array}\\right]=\n",
    "\\left[\\begin{array}{c|c}R&d\\end{array}\\right]\n",
    "$  \n",
    "\n",
    "Particular solution is\n",
    "\n",
    "$x_3=2$ and if $x_2=1$ then $x_1=-1-2=-3$  \n",
    "\n",
    "Null Space is  \n",
    "\n",
    "$N=\\left[\\begin{matrix}\n",
    "-2\\\\\n",
    "1\\\\\n",
    "0\n",
    "\\end{matrix}\\right]$  \n",
    "\n",
    "Full solution is\n",
    "\n",
    "$x=\n",
    "\\left[\\begin{matrix}\n",
    "-3\\\\\n",
    "1\\\\\n",
    "2\n",
    "\\end{matrix}\\right]\n",
    "+k\n",
    "\\left[\\begin{matrix}\n",
    "-2\\\\\n",
    "1\\\\\n",
    "0\n",
    "\\end{matrix}\\right]\n",
    "$  \n",
    "\n",
    "Test Ux=0  \n",
    "$Ux=k\n",
    "\\left[\\begin{matrix}\n",
    "1&2&3\\\\\n",
    "0&0&4\n",
    "\\end{matrix}\\right]\n",
    "\\left[\\begin{matrix}\n",
    "-2\\\\\n",
    "1\\\\\n",
    "0\n",
    "\\end{matrix}\\right]\\\\\n",
    "=k\\left[\\begin{matrix}\n",
    "-2+2\\\\\n",
    "0\n",
    "\\end{matrix}\\right]\\\\\n",
    "k\\left[\\begin{matrix}\n",
    "0\\\\\n",
    "0\n",
    "\\end{matrix}\\right]\n",
    "$  \n",
    "\n",
    "Test Ux=c  \n",
    "$Ux=\n",
    "\\left[\\begin{matrix}\n",
    "1&2&3\\\\\n",
    "0&0&4\n",
    "\\end{matrix}\\right]\\left(\n",
    "\\left[\\begin{matrix}\n",
    "-3\\\\\n",
    "1\\\\\n",
    "2\n",
    "\\end{matrix}\\right]\n",
    "+k\n",
    "\\left[\\begin{matrix}\n",
    "-2\\\\\n",
    "1\\\\\n",
    "0\n",
    "\\end{matrix}\\right]\n",
    "\\right)\\\\\\quad=\\left[\\begin{matrix}\n",
    "1&2&3\\\\\n",
    "0&0&4\n",
    "\\end{matrix}\\right]\n",
    "\\left[\\begin{matrix}\n",
    "-3\\\\\n",
    "1\\\\\n",
    "2\n",
    "\\end{matrix}\\right]\n",
    "+k\n",
    "\\left[\\begin{matrix}\n",
    "1&2&3\\\\\n",
    "0&0&4\n",
    "\\end{matrix}\\right]\n",
    "\\left[\\begin{matrix}\n",
    "-2\\\\\n",
    "1\\\\\n",
    "0\n",
    "\\end{matrix}\\right]\\\\\\quad=\\left[\\begin{matrix}\n",
    "-3+2+6\\\\\n",
    "0+0+8\n",
    "\\end{matrix}\\right]\n",
    "+\n",
    "k\\left[\\begin{matrix}\n",
    "0\\\\\n",
    "0\n",
    "\\end{matrix}\\right]=\\left[\\begin{matrix}\n",
    "5\\\\\n",
    "8\n",
    "\\end{matrix}\\right]\n",
    "$  \n"
   ]
  },
  {
   "cell_type": "markdown",
   "metadata": {
    "colab_type": "text",
    "id": "BQOKrDdRqPg9"
   },
   "source": [
    "#### Problem 8.3:\n",
    "\n",
    "(3.4 #36.) Suppose Ax = b and Cx = b have the same (complete) solutions for every b. Is it true that A = C? \n",
    "\n",
    "**Ans:**  \n",
    "A and B need to have the same null space and particular solution, thus redering them to live in the same sub-space, if two matrices have the same sub-space then they should be equal.\n",
    "\n",
    "Choose any y that has proper Ay. Now get Ay and set b=Ay, thus for Ax=b, y is a solution. if y is a solution to Ax=b it should be a solution to Cx=b. Thus for any arbitrary y Ay=b=Cy. Thus Ay=Cy for any arbitrary y, thus A=C."
   ]
  },
  {
   "cell_type": "markdown",
   "metadata": {
    "colab_type": "text",
    "id": "DhU7YtTYuq95"
   },
   "source": [
    "### Independence and Basis from Ax=0  \n",
    "\n",
    "***For any mxn matrix..**  \n",
    "$\\begin{array}{c|c|c|c|c}\n",
    "&\\text{Sqr Mat w FullRank}&\\text{FullColumnRank}&\\text{FullRowRank}&\\text{Rank<min(m,n)}\\\\\n",
    "\\text{Column Space dimension}\n",
    "&\n",
    "m=n\n",
    "&\n",
    "n\n",
    "&\n",
    "m\n",
    "&\n",
    "r\\\\\n",
    "\\text{Null Space dimention}\n",
    "&\n",
    "0\n",
    "&\n",
    "0\n",
    "&\n",
    "n-m\n",
    "&\n",
    "n-r\n",
    "\\end{array}$  \n",
    "\n",
    "Dimension of a **Col. Space**=Number of basis vectors needed to spawn the space= Rank of the matrix(in case of Column Space)=Number of Pivot Columns=No. of Pivot Values  \n",
    "Dimension of a **Null Space**=Number of free variables=n-Rank=Number of basis vectors needed to spawn the Null Space."
   ]
  },
  {
   "cell_type": "markdown",
   "metadata": {
    "colab_type": "text",
    "id": "MLsNH2uBYsBz"
   },
   "source": [
    "#### Lecture 9 Video"
   ]
  },
  {
   "cell_type": "code",
   "execution_count": 0,
   "metadata": {
    "cellView": "both",
    "colab": {
     "base_uri": "https://localhost:8080/",
     "height": 10
    },
    "colab_type": "code",
    "id": "JDqb_uX94juc",
    "outputId": "0fcca5a2-3a64-4254-8401-1c1272ea1372"
   },
   "outputs": [
    {
     "data": {
      "text/html": [
       "<iframe width=\"560\" height=\"315\" src=\"https://www.youtube.com/embed/yjBerM5jWsc?rel=0\" frameborder=\"0\" allow=\"autoplay; encrypted-media\" allowfullscreen></iframe>"
      ],
      "text/plain": [
       "<IPython.core.display.HTML object>"
      ]
     },
     "metadata": {
      "tags": []
     },
     "output_type": "display_data"
    }
   ],
   "source": [
    "%%HTML\n",
    "<iframe width=\"560\" height=\"315\" src=\"https://www.youtube.com/embed/yjBerM5jWsc?rel=0\" frameborder=\"0\" allow=\"autoplay; encrypted-media\" allowfullscreen></iframe>"
   ]
  },
  {
   "cell_type": "markdown",
   "metadata": {
    "colab_type": "text",
    "id": "nrjwEH3ZXIv4"
   },
   "source": [
    "#### Problem 9.1: \n",
    "(3.5 #2. Introduction to Linear Algebra: Strang) Find the largest possible number of independent vectors among:  \n",
    "\n",
    "$v_1=\\left[\\begin{matrix}\n",
    "1\\\\\n",
    "-1\\\\\n",
    "0\\\\\n",
    "0\n",
    "\\end{matrix}\\right]\\quad,\\quad\n",
    "v_2=\\left[\\begin{matrix}\n",
    "1\\\\\n",
    "0\\\\\n",
    "-1\\\\\n",
    "0\n",
    "\\end{matrix}\\right]\\quad,\\quad\n",
    "v_3=\\left[\\begin{matrix}\n",
    "1\\\\\n",
    "0\\\\\n",
    "0\\\\\n",
    "-1\n",
    "\\end{matrix}\\right]\\quad,\\quad\n",
    "v_4=\\left[\\begin{matrix}\n",
    "0\\\\\n",
    "1\\\\\n",
    "-1\\\\\n",
    "0\n",
    "\\end{matrix}\\right]\\quad,\\quad\n",
    "v_5=\\left[\\begin{matrix}\n",
    "0\\\\\n",
    "1\\\\\n",
    "0\\\\\n",
    "-1\n",
    "\\end{matrix}\\right]\\quad,\\quad\n",
    "v_6=\\left[\\begin{matrix}\n",
    "0\\\\\n",
    "0\\\\\n",
    "1\\\\\n",
    "-1\n",
    "\\end{matrix}\\right]\\quad\\,\\quad$  \n",
    "\n",
    "As the vectors in $R^4$, the maximum number of independent vectors would be four. We need find a basis from the the 6 given vectors... Let's start with A  \n",
    "\n",
    "$A=\\left[\\begin{matrix}\n",
    " 1 & 1 & 1 & 0 & 0 & 0\\\\\n",
    "-1 & 0 & 0 & 1 & 1 & 0\\\\\n",
    " 0 &-1 & 0 &-1 & 0 & 1\\\\\n",
    " 0 & 0 &-1 & 0 &-1 &-1\n",
    "\\end{matrix}\\right]\n",
    "\\to\n",
    "\\left[\\begin{matrix}\n",
    " 1 & 1 & 1 & 0 & 0 & 0\\\\\n",
    " 0 & 1 & 1 & 1 & 1 & 0\\\\\n",
    " 0 &-1 & 0 &-1 & 0 & 1\\\\\n",
    " 0 & 0 &-1 & 0 &-1 &-1\n",
    "\\end{matrix}\\right]\n",
    "\\to\n",
    "\\left[\\begin{matrix}\n",
    " 1 & 1 & 1 & 0 & 0 & 0\\\\\n",
    " 0 & 1 & 1 & 1 & 1 & 0\\\\\n",
    " 0 & 0 & 1 & 0 & 1 & 1\\\\\n",
    " 0 & 0 &-1 & 0 &-1 &-1\n",
    "\\end{matrix}\\right]\n",
    "\\to\n",
    "\\left[\\begin{matrix}\n",
    " 1 & 1 & 1 & 0 & 0 & 0\\\\\n",
    " 0 & 1 & 1 & 1 & 1 & 0\\\\\n",
    " 0 & 0 & 1 & 0 & 1 & 1\\\\\n",
    " 0 & 0 & 0 & 0 & 0 & 0\n",
    "\\end{matrix}\\right]\n",
    "$  \n",
    "\n",
    "Thus we have a rank of only 3   \n",
    "=> The vector space spawned by the 6 vectors is 3 dimensions in $R^4$.  \n",
    "=> There are a maximum of 3 basis vectors for this space.\n",
    "=> There can be only 3 independent vectors, any fourth could be derived by a combination of those 3.\n",
    "=> Like $(v_1,v_2,v_3)$ is a set of independent vectors and $v_4,v_5,v_6$ could be derived as $v_2-v_1,v_3-v_1,v_3-v_2$"
   ]
  },
  {
   "cell_type": "markdown",
   "metadata": {
    "colab_type": "text",
    "id": "ZkIjlgRnc8Xw"
   },
   "source": [
    "#### Problem 9.2: \n",
    "(3.5 #20.) Find a basis for the plane x − 2y + 3z=0 in $R^3$.Then find a basis for the intersection of that plane with the xy plane. Then find a basis for all vectors perpendicular to the plane.\n",
    "\n",
    "This can be written as\n",
    "\n",
    "$\\left[\\begin{matrix}\n",
    "1&-2&3\n",
    "\\end{matrix}\\right]\n",
    "\\left[\\begin{matrix}\n",
    "x\\\\\n",
    "y\\\\\n",
    "z\n",
    "\\end{matrix}\\right]=0$  \n",
    "\n",
    "For Null-Space, which would be our intended plane..  \n",
    "$N=\\left[\\begin{matrix}-F\\\\I\\end{matrix}\\right]=\\left[\\begin{matrix}2&-3\\\\1&0\\\\0&1\\end{matrix}\\right]$  \n",
    "\n",
    "Thus the plane can be defined as  \n",
    "$P=k\\left[\\begin{matrix}2\\\\1\\\\0\\end{matrix}\\right]+l\\left[\\begin{matrix}-3\\\\0\\\\1\\end{matrix}\\right]$  \n",
    "\n",
    "For this plane to intersect with xy plane all the z-should be zeros \n",
    "=> $l=0$  \n",
    "=> Intersection $I=k\\left[\\begin{matrix}2\\\\1\\\\0\\end{matrix}\\right]$  \n",
    "\n",
    "A vector perpendicular to $A$ and $B$ would be $A\\times B$. Thus the basis for vectors perpendicular to the above plane is  \n",
    "$V=\\left[\\begin{matrix}\n",
    "\\hat{i}&\\hat{j}&\\hat{k}\\\\\n",
    "2&1&0\\\\\n",
    "-3&0&1\\end{matrix}\\right]=\\hat{i}-2\\hat{j}+3\\hat{k}=c\\left[\\begin{matrix}\n",
    "1\\\\\n",
    "-2\\\\\n",
    "3\n",
    "\\end{matrix}\\right]$\n"
   ]
  },
  {
   "cell_type": "markdown",
   "metadata": {
    "colab_type": "text",
    "id": "TXUtCWi6PnWg"
   },
   "source": [
    "### Four Fundamental Spaces of a Matrix.\n",
    "\n",
    "$\\begin{array}{c|c|c|c|c}\n",
    "A_{m\\times n}&\\text{Column Space}&\\text{Column-Null Space}&\\text{Row Space}&\\text{Row-Null Space}\\\\  \n",
    "\\hline\\\\\n",
    "\\text{Notation}&C(A_{m\\times n})&N(A_{m\\times n})&C(A_{m\\times n}^T)&N(A_{m\\times n}^T)\\\\\n",
    "\\hline\\\\\n",
    "R^x\\text{(domain)}&R^{m}&R^{n}&R^{n}&R^{m}\\\\\n",
    "\\hline\n",
    "\\text{Dimension}&r&n-r&r&m-r\\\\\\end{array}$"
   ]
  },
  {
   "cell_type": "markdown",
   "metadata": {
    "colab_type": "text",
    "id": "Xm14kQbEY0IL"
   },
   "source": [
    "#### Lecture 10 Video"
   ]
  },
  {
   "cell_type": "code",
   "execution_count": 0,
   "metadata": {
    "cellView": "both",
    "colab": {
     "base_uri": "https://localhost:8080/",
     "height": 10
    },
    "colab_type": "code",
    "id": "y6DGzyik3uo6",
    "outputId": "5df92882-deff-48c7-8f70-6ef3ee888fbc"
   },
   "outputs": [
    {
     "data": {
      "text/html": [
       "\n",
       "<iframe width=\"560\" height=\"315\" src=\"https://www.youtube.com/embed/nHlE7EgJFds?rel=0\" frameborder=\"0\" allow=\"autoplay; encrypted-media\" allowfullscreen></iframe>"
      ],
      "text/plain": [
       "<IPython.core.display.HTML object>"
      ]
     },
     "metadata": {
      "tags": []
     },
     "output_type": "display_data"
    }
   ],
   "source": [
    "%%HTML\n",
    "\n",
    "<iframe width=\"560\" height=\"315\" src=\"https://www.youtube.com/embed/nHlE7EgJFds?rel=0\" frameborder=\"0\" allow=\"autoplay; encrypted-media\" allowfullscreen></iframe>\n"
   ]
  },
  {
   "cell_type": "markdown",
   "metadata": {
    "colab_type": "text",
    "id": "4bTFa_3mvOmT"
   },
   "source": [
    "#### Problem 10.1: \n",
    "(3.6 #11. Introduction to Linear Algebra: Strang) A is an m by n matrix of rank r. Suppose there are right sides b for which Ax = b has no solution.  \n",
    "a) What are all the inequalities (< or ≤) that must be true between m, n, and r?  \n",
    "b) How do you know that $A^Ty = 0$ has solutions other than y = 0?  \n",
    "\n",
    "\n",
    "**Ans:**\n",
    "When m<n , all b's will have a solution.\n",
    "When m=n and invertible then there exists exactly one solution for every b.\n",
    "\n",
    "When m>n and n=r, then b should be in column space of A for the solution to exist.\n",
    "When m>n and r<n, then b should obey the zero rules for infinite solutions to exist.\n",
    "\n",
    "Certain b's will not give you a solution when r≤n<m.\n",
    "\n",
    "For **b)**  \n",
    "\n",
    "As certain b's do not have solutions m>n. \n",
    "\n",
    "$Dim(C(A))  + Dim(N(A^T))=m$ note both are in $R^m$    \n",
    "$Dim(C(A^T))+ Dim(N(A))  =n$ note both are in $R^n$   \n",
    "\n",
    "$Dim(C(A))=r≤n<m.\\\\  \n",
    "Dim(N(A^T))=m-r>0$  \n",
    "Thus it will have a Null Space of dimension >0, and thus has infinetly many solutions.\n"
   ]
  },
  {
   "cell_type": "markdown",
   "metadata": {
    "colab_type": "text",
    "id": "4C8kBb4oydcE"
   },
   "source": [
    "#### Problem 10.2: \n",
    "(3.6 #24.) $A^Ty = d$ is solvable when d is in which of the four subspaces? The solution y is unique when the ________ contains only the zero vector.  \n",
    "\n",
    "**Ans** \n",
    "\n",
    "$A^Ty = d$ is solvable when d is in the row space.  \n",
    "The solution y is unique when the null space of $A^T$ contains only the zero vector."
   ]
  },
  {
   "cell_type": "markdown",
   "metadata": {
    "colab_type": "text",
    "id": "ZKbi727ZZQAe"
   },
   "source": [
    "### Matrices as Spaces"
   ]
  },
  {
   "cell_type": "markdown",
   "metadata": {
    "colab_type": "text",
    "id": "pnP1SIFcY8xo"
   },
   "source": [
    "#### Lecture 11 Video"
   ]
  },
  {
   "cell_type": "code",
   "execution_count": 0,
   "metadata": {
    "cellView": "both",
    "colab": {
     "base_uri": "https://localhost:8080/",
     "height": 336
    },
    "colab_type": "code",
    "id": "Xjd0iYyg-pZ8",
    "outputId": "9d00f417-2f68-43a9-8bb8-c3e7352c5c97"
   },
   "outputs": [
    {
     "data": {
      "text/html": [
       "<iframe width=\"560\" height=\"315\" src=\"https://www.youtube.com/embed/2IdtqGM6KWU?rel=0\" frameborder=\"0\" allow=\"autoplay; encrypted-media\" allowfullscreen></iframe>"
      ],
      "text/plain": [
       "<IPython.core.display.HTML object>"
      ]
     },
     "metadata": {
      "tags": []
     },
     "output_type": "display_data"
    }
   ],
   "source": [
    "%%HTML\n",
    "<iframe width=\"560\" height=\"315\" src=\"https://www.youtube.com/embed/2IdtqGM6KWU?rel=0\" frameborder=\"0\" allow=\"autoplay; encrypted-media\" allowfullscreen></iframe>"
   ]
  },
  {
   "cell_type": "markdown",
   "metadata": {
    "colab_type": "text",
    "id": "pDvKLi1N36Z9"
   },
   "source": [
    "#### Problem 11.1:\n",
    "[Optional] (3.5 #41. Introduction to Linear Algebra: Strang)\n",
    "Write the 3 by 3 identity matrix as a combination of the other five permutation matrices. Then show that those five matrices are linearly independent.\n",
    "(Assume a combination gives $c_1P_1 + · · · + c_5P_5 = 0$ and check entries to prove c_i is zero.) The five permutation matrices are a basis for the\n",
    "subspace of three by three matrices with row and column sums all equal.  \n",
    "**Ans**  \n",
    "\n",
    "$I=\\left[\\begin{matrix}\n",
    "1&0&0\\\\\n",
    "0&1&0\\\\\n",
    "0&0&1\n",
    "\\end{matrix}\\right]$  \n",
    "$P_1=\\left[\\begin{matrix}\n",
    "1&0&0\\\\\n",
    "0&0&1\\\\\n",
    "0&1&0\n",
    "\\end{matrix}\\right]\n",
    ",\n",
    "P_2=\\left[\\begin{matrix}\n",
    "0&1&0\\\\\n",
    "1&0&0\\\\\n",
    "0&0&1\n",
    "\\end{matrix}\\right]\n",
    ",\n",
    "P_3=\\left[\\begin{matrix}\n",
    "0&1&0\\\\\n",
    "0&0&1\\\\\n",
    "1&0&0\n",
    "\\end{matrix}\\right]\n",
    ",\n",
    "P_4=\\left[\\begin{matrix}\n",
    "0&0&1\\\\\n",
    "1&0&0\\\\\n",
    "0&1&0\n",
    "\\end{matrix}\\right]\n",
    ",\n",
    "P_5=\\left[\\begin{matrix}\n",
    "0&0&1\\\\\n",
    "0&1&0\\\\\n",
    "1&0&0\n",
    "\\end{matrix}\\right]\n",
    "$  \n",
    "\n",
    "$I=P_1+P_5+P_2-P_3-P4$  \n",
    "\n",
    "$c_1=0$ as there is 1 at 1,1 for only 1 matrix.  \n",
    "$c_2=0$ as there is 1 at 3,3 for only 1 matrix.  \n",
    "$c_3=0$ as there is 1 at 2,3 for only 1 remaining matrices, as $c_1=0$  \n",
    "$c_4=0$ as there is 1 at 2,1 for only 1 remaining matrices, as $c_2=0$  \n",
    "$c_5=0$ as there is 1 at 2,2 for only 1 matrix.   \n",
    "\n",
    "As the 5 matrices are independent we can make a vector space from the five matrices.\n",
    "\n",
    "$V=c_1P_1+c_2P_2 \\dots c_5p_5=$  \n",
    "$\\left[\\begin{matrix}\n",
    "c_1    &    c_2+c_3&    c_4+c_5\\\\\n",
    "c_2+c_4&    c_5    &    c_1+c_3\\\\\n",
    "c_3+c_5&    c_1c_4&    c_2\n",
    "\\end{matrix}\\right]$\n"
   ]
  },
  {
   "cell_type": "markdown",
   "metadata": {
    "colab_type": "text",
    "id": "fQ1Xqdpy-d6T"
   },
   "source": [
    "#### Problem 11.2: \n",
    "(3.6 #31.) M is the space of three by three matrices. Multiply each matrix X in M by:  \n",
    "$A=\\left[\\begin{matrix}\n",
    " 1 & 0 &-1\\\\\n",
    "−1 & 1 & 0\\\\\n",
    " 0 &-1 & 1\n",
    "\\end{matrix}\\right]$\n",
    "\n",
    "Notice that $A\\left[\\begin{matrix}\n",
    " 1\\\\\n",
    " 1\\\\\n",
    " 1\n",
    "\\end{matrix}\\right]=\\left[\\begin{matrix}\n",
    " 0\\\\\n",
    " 0\\\\\n",
    " 0\n",
    "\\end{matrix}\\right]$\n",
    "\n",
    "a) Which matrices X lead to AX = 0?  \n",
    "b) Which matrices have the form AX for some matrix X?  \n",
    "c) Part (a) finds the “nullspace” of the operation AX and part (b) finds the “column space.” What are the dimensions of those two subspaces\n",
    "of M? Why do the dimensions add to (n − r) + r = 9?  \n",
    "\n",
    "**Ans**\n",
    "\n",
    "a)\n",
    "Matrices of the form=$\\left[\\begin{matrix}\n",
    " a & b & c\\\\\n",
    " a & b & c\\\\\n",
    " a & b & c\n",
    "\\end{matrix}\\right]$  \n",
    "b)\n",
    "\n",
    "AX will be of the form=$\\left[\\begin{matrix}\n",
    "a-c\\\\\n",
    "b-a\\\\\n",
    "c-b\n",
    "\\end{matrix}\\right]$ for a matrix X with rows as a,b,c. As AX is represented as combination of rows of A. Sum of each column should be zero.    \n",
    "\n",
    "AX will be of the form=$\\left[\\begin{matrix}\n",
    "a&c&e\\\\\n",
    "b&d&f\\\\\n",
    "-a-b&-c-d&-e-f\n",
    "\\end{matrix}\\right]$ Here AX is represented as combination of columns of A. Sum of each column should be zero.  \n",
    "\n",
    "c) Dimension of the null space is 3(a,b,c), dimension of the column space is 6(a,b,c,d,e,f). Both of which add up to the total dimension of **M** which is 9.\n",
    "\n",
    "\n",
    "\n"
   ]
  },
  {
   "cell_type": "markdown",
   "metadata": {
    "colab_type": "text",
    "id": "1Vtta1O42R18"
   },
   "source": [
    "### Graphs, Networks and Incidence Matrices\n",
    "\n",
    "Euler's formula **#nodes-#edges+#loops=1**\n",
    "\n",
    "When there are no loops the graph becomes a tree. #nodes-#edges=1"
   ]
  },
  {
   "cell_type": "code",
   "execution_count": 0,
   "metadata": {
    "colab": {
     "base_uri": "https://localhost:8080/",
     "height": 362
    },
    "colab_type": "code",
    "id": "DcohfUo5mjEW",
    "outputId": "52e5f988-f75b-4efe-9868-80a3848e8a31"
   },
   "outputs": [
    {
     "data": {
      "image/png": "iVBORw0KGgoAAAANSUhEUgAAAecAAAFZCAYAAACizedRAAAABHNCSVQICAgIfAhkiAAAAAlwSFlz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\nQmCC\n",
      "text/plain": [
       "<matplotlib.figure.Figure at 0x7f140b826a90>"
      ]
     },
     "metadata": {
      "tags": []
     },
     "output_type": "display_data"
    }
   ],
   "source": [
    "import networkx as nx\n",
    "import matplotlib.pyplot as plt\n",
    "nodes=[1,2,3,4]\n",
    "edges=[(1,2),(1,3),(1,4),(2,3),(3,4)]\n",
    "edgelabels={e:i+1 for i,e in enumerate(edges)}\n",
    "\n",
    "G=nx.DiGraph()\n",
    "G.add_nodes_from(nodes)\n",
    "G.add_edges_from(edges)\n",
    "pos=nx.spring_layout(G)\n",
    "nx.draw_networkx(G,pos,with_labels=1,arrows=True,ax=None,node_color='c')\n",
    "nx.draw_networkx_edge_labels(G,pos,edge_labels=edgelabels)\n",
    "plt.axis('off')\n",
    "plt.title(\"Electrical Circuit\")\n",
    "plt.show()\n"
   ]
  },
  {
   "cell_type": "markdown",
   "metadata": {
    "colab_type": "text",
    "id": "zkJiWn6kmpHX"
   },
   "source": [
    "The above graph can be represented as below  \n",
    "$\\begin{array}{c|cccc}\n",
    "\\text{Nodes}\\rightarrow&1&2&3&4\\\\\n",
    "\\text{Edges}\\downarrow\\\\\n",
    "\\hline\\\\\n",
    "1&-1& 1& 0&0\\\\\n",
    "2&-1& 0& 1&0\\\\\n",
    "3&-1& 0& 0&1\\\\\n",
    "4& 0&-1& 1&0\\\\\n",
    "5& 0& 0&-1&1\n",
    "\\end{array}$  \n",
    "\n",
    "And thus as a matrix A  \n",
    "\n",
    "$A=\\left[\\begin{matrix}\n",
    "-1& 1& 0&0\\\\\n",
    "-1& 0& 1&0\\\\\n",
    "-1& 0& 0&1\\\\\n",
    " 0&-1& 1&0\\\\\n",
    " 0& 0&-1&1\n",
    "\\end{matrix}\\right]$  \n",
    "\n",
    "First thing to note is take a look at a loop and the corresponding edges in this case row 1,2 and 4. Note that row1+row4=row2, we have dependence matrix for all edges in a loop.\n",
    "\n",
    "Let's try and see if there is a null-space to answer the question if the column vectors in A are dependent or independent.\n",
    "$\\left[\\begin{matrix}\n",
    "-1& 1& 0&0\\\\\n",
    "-1& 0& 1&0\\\\\n",
    "-1& 0& 0&1\\\\\n",
    " 0&-1& 1&0\\\\\n",
    " 0& 0&-1&1\n",
    "\\end{matrix}\\right]\n",
    "\\to\n",
    "\\left[\\begin{matrix}\n",
    "-1& 1& 0&0\\\\\n",
    " 0&-1& 1&0\\\\\n",
    " 0&-1& 0&1\\\\\n",
    " 0&-1& 1&0\\\\\n",
    " 0& 0&-1&1\n",
    "\\end{matrix}\\right]\n",
    "\\to\n",
    "\\left[\\begin{matrix}\n",
    "-1& 1& 0&0\\\\\n",
    " 0&-1& 1&0\\\\\n",
    " 0& 0&-1&1\\\\\n",
    " 0& 0& 0&0\\\\\n",
    " 0& 0&-1&1\n",
    "\\end{matrix}\\right]\n",
    "\\to\n",
    "\\left[\\begin{matrix}\n",
    "-1& 1& 0&0\\\\\n",
    " 0&-1& 1&0\\\\\n",
    " 0& 0&-1&1\\\\\n",
    " 0& 0& 0&0\\\\\n",
    " 0& 0& 0&0\n",
    "\\end{matrix}\\right]\n",
    "\\to\n",
    "\\left[\\begin{matrix}\n",
    " 1&-1& 0& 0\\\\\n",
    " 0& 1&-1& 0\\\\\n",
    " 0& 0& 1&-1\\\\\n",
    " 0& 0& 0& 0\\\\\n",
    " 0& 0& 0& 0\n",
    "\\end{matrix}\\right]\n",
    "\\to\n",
    "\\left[\\begin{matrix}\n",
    " 1& 0& 0&-1\\\\\n",
    " 0& 1& 0&-1\\\\\n",
    " 0& 0& 1&-1\\\\\n",
    " 0& 0& 0& 0\\\\\n",
    " 0& 0& 0& 0\n",
    "\\end{matrix}\\right]\n",
    "$  \n",
    "\n",
    "1. Column Space of A is 3 dimensional in $R^5$, as the rank of the matrix is 3.\n",
    "2. The NullSpace(A) in $R^4$ is\n",
    "$k\\left[\\begin{matrix}\n",
    "1\\\\\n",
    "1\\\\\n",
    "1\\\\\n",
    "1\n",
    "\\end{matrix}\\right]$  \n",
    "\n",
    "Another way to look at it is  \n",
    "\n",
    "Ax=0\n",
    "$\\implies\\left[\\begin{matrix}\n",
    "-1& 1& 0&0\\\\\n",
    "-1& 0& 1&0\\\\\n",
    "-1& 0& 0&1\\\\\n",
    " 0&-1& 1&0\\\\\n",
    " 0& 0&-1&1\n",
    "\\end{matrix}\\right]\n",
    "\\left[\\begin{matrix}\n",
    "x_1\\\\\n",
    "x_2\\\\\n",
    "x_3\\\\\n",
    "x_4\n",
    "\\end{matrix}\\right]=\\left[\\begin{matrix}\n",
    "x_2-x_1\\\\\n",
    "x_3-x_1\\\\\n",
    "x_4-x_1\\\\\n",
    "x_3-x_2\\\\\n",
    "x_4-x_3\n",
    "\\end{matrix}\\right]=0$  \n",
    "\n",
    "If we consider $x_1,x_2,x_3,x_4$ as the potential at respective points in electrical circuit. Then **x** in A**x**=0 represents the potential differences across the edges. All the  potential differences would be zero only when all the potentials are same. Thus the basis vector for the Null-Space is\n",
    "$x=\\left[\\begin{matrix}\n",
    "1\\\\\n",
    "1\\\\\n",
    "1\\\\\n",
    "1\n",
    "\\end{matrix}\\right]$  \n",
    "\n",
    "Now let's try for Left Null Space or Null-Space  $N(A^T)$\n",
    "\n",
    "\n",
    "$A^T=\\left[\\begin{matrix}\n",
    "-1&-1& -1& 0 & 0\\\\\n",
    " 1& 0&  0&-1 & 0\\\\\n",
    " 0& 1&  0& 1 &-1\\\\\n",
    " 0& 0&  1& 0 & 1\\\\\n",
    "\\end{matrix}\\right]$  \n",
    "Now $A^Ty=0\\implies\\left[\\begin{matrix}\n",
    "-1&-1& -1& 0 & 0\\\\\n",
    " 1& 0&  0&-1 & 0\\\\\n",
    " 0& 1&  0& 1 &-1\\\\\n",
    " 0& 0&  1& 0 & 1\\\\\n",
    "\\end{matrix}\\right]\n",
    "\\left[\\begin{matrix}\n",
    "y_1\\\\\n",
    "y_2\\\\\n",
    "y_3\\\\\n",
    "y_4\\\\\n",
    "y_5\n",
    "\\end{matrix}\\right]=\n",
    "\\left[\\begin{matrix}\n",
    "-y_1-y_2-y_3\\\\\n",
    "y_1-y_4\\\\\n",
    "y_2+y_4-y_5\\\\\n",
    "y_3+y_5\n",
    "\\end{matrix}\\right]=0$  \n",
    "\n",
    "\n",
    "Now y's are the currents through the edges. Thus $A^Ty=0$ represents the Kirchoff's Law.  \n",
    "\n",
    "Now if we make current run through each loop then we will have a basis for $N(A^T)$.\n",
    "\n",
    "Basis would be $y=a\\left[\\begin{matrix}\n",
    " 1\\\\\n",
    "-1\\\\\n",
    " 0\\\\\n",
    " 1\\\\\n",
    " 0\n",
    "\\end{matrix}\\right]+b\\left[\\begin{matrix}\n",
    " 0\\\\\n",
    " 1\\\\\n",
    "-1\\\\\n",
    " 0\\\\\n",
    " 1\n",
    "\\end{matrix}\\right]$.  Thus the dimension of $N(A^T)$ represents the number of loops.  \n",
    "\n",
    "Also note from $A^T$ matrix that the basis vectors for $C(A^T)=\\left[\\begin{matrix}\n",
    "-1\\\\\n",
    " 1\\\\\n",
    " 0\\\\\n",
    " 0\n",
    "\\end{matrix}\\right],\\left[\\begin{matrix}\n",
    "-1\\\\\n",
    "0\\\\\n",
    "0\\\\\n",
    "1\n",
    "\\end{matrix}\\right],\\left[\\begin{matrix}\n",
    " 0\\\\\n",
    "-1\\\\\n",
    " 1\\\\\n",
    " 0\n",
    "\\end{matrix}\\right]$ And these represent the basis edges with no loops. That is #nodes-#edges=1. As we have observed earlier there is dependency around a loop in other words the new edge can be defined using the basis edges. When there are no loops the graph is called a **Tree**\n",
    "\n",
    "$\\operatorname{Dim}(N(A^T))=m-\\operatorname{Dim}(C(A))$  \n",
    "$\\operatorname{Dim}(N(A^T))=m-(n-1)$  \n",
    "**#loops=#edges-#nodes+1**  \n",
    "Euler's formula **#nodes-#edges+#loops=1**\n",
    "\n",
    "\n",
    "\n",
    "\n",
    "\n",
    "Now we know that currents=potential-diffs*Conductance.\n",
    "\n",
    "Thus the above can be rewritten as..  \n",
    "\n",
    "$A^TCAx=0$  \n",
    "\n"
   ]
  },
  {
   "cell_type": "markdown",
   "metadata": {
    "colab_type": "text",
    "id": "s-w1NNl4ZExv"
   },
   "source": [
    "#### Lecture 12 Video"
   ]
  },
  {
   "cell_type": "code",
   "execution_count": 0,
   "metadata": {
    "cellView": "both",
    "colab": {
     "base_uri": "https://localhost:8080/",
     "height": 336
    },
    "colab_type": "code",
    "id": "2xHFGeic-8lk",
    "outputId": "f5d0f3b1-4440-4581-86d9-2565fde54b5d"
   },
   "outputs": [
    {
     "data": {
      "text/html": [
       "<iframe width=\"560\" height=\"315\" src=\"https://www.youtube.com/embed/6-wh6yvk6uc?rel=0\" frameborder=\"0\" allow=\"autoplay; encrypted-media\" allowfullscreen></iframe>"
      ],
      "text/plain": [
       "<IPython.core.display.HTML object>"
      ]
     },
     "metadata": {
      "tags": []
     },
     "output_type": "display_data"
    }
   ],
   "source": [
    "%%HTML\n",
    "<iframe width=\"560\" height=\"315\" src=\"https://www.youtube.com/embed/6-wh6yvk6uc?rel=0\" frameborder=\"0\" allow=\"autoplay; encrypted-media\" allowfullscreen></iframe>"
   ]
  },
  {
   "cell_type": "markdown",
   "metadata": {
    "colab_type": "text",
    "id": "uoxMC6F9HDas"
   },
   "source": [
    "#### Problem 12.1: \n",
    "(8.2 #1. Introduction to Linear Algebra: Strang) Write down the four by four incidence matrix A for the square graph, shown below.\n",
    "(Hint: the first row has -1 in column 1 and +1 in column 2.) What vectors (x1, x2, x3, x4) are in the nullspace of A? How do you know that (1,0,0,0) is not in the row space of A? \n"
   ]
  },
  {
   "cell_type": "code",
   "execution_count": 0,
   "metadata": {
    "colab": {
     "base_uri": "https://localhost:8080/",
     "height": 362
    },
    "colab_type": "code",
    "id": "iqjL9ATkHXaA",
    "outputId": "94e83cea-18e0-46f6-ad26-a11de2646c86"
   },
   "outputs": [
    {
     "data": {
      "image/png": "iVBORw0KGgoAAAANSUhEUgAAAfIAAAFZCAYAAABjSq39AAAABHNCSVQICAgIfAhkiAAAAAlwSFlz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\nCfs/K1/6zP94VAkAAAAASUVORK5CYII=\n",
      "text/plain": [
       "<matplotlib.figure.Figure at 0x7f1408be07f0>"
      ]
     },
     "metadata": {
      "tags": []
     },
     "output_type": "display_data"
    }
   ],
   "source": [
    "import networkx as nx\n",
    "import matplotlib.pyplot as plt\n",
    "nodes=[1,2,3,4]\n",
    "edges=[(1,2),(2,3),(1,4),(4,3)]\n",
    "edgelabels={e:i+1 for i,e in enumerate(edges)}\n",
    "\n",
    "G=nx.DiGraph()\n",
    "G.add_nodes_from(nodes)\n",
    "G.add_edges_from(edges)\n",
    "pos=nx.spring_layout(G)\n",
    "nx.draw_networkx(G,pos,with_labels=1,arrows=True,ax=None,node_color='c')\n",
    "nx.draw_networkx_edge_labels(G,pos,edge_labels=edgelabels)\n",
    "plt.axis('off')\n",
    "plt.title(\"Electrical Circuit\")\n",
    "plt.show()"
   ]
  },
  {
   "cell_type": "markdown",
   "metadata": {
    "colab_type": "text",
    "id": "GfkbYO2PHtge"
   },
   "source": [
    "**Ans**\n",
    "\n",
    "Incidence Matrix A is   \n",
    "$A=\\left[\\begin{matrix}\n",
    "-1&1&0&0\\\\\n",
    "-1&0&0&1\\\\\n",
    "0&-1&1&0\\\\\n",
    "0&0&1&-1\n",
    "\\end{matrix}\\right]$  \n",
    "\n",
    "For Ax=0   \n",
    "Remember that x can considered as potentials at point A.  \n",
    "So N(A) is one dimensional and the vector forming the basis should be $v=\\left[\\begin{matrix}1\\\\1\\\\1\\\\1\\end{matrix}\\right]$  \n",
    "\n",
    "**nodes-#edges+#loops=1**  \n",
    "4-4+1=1!\n",
    "\n",
    "Basis vectors or row space would be basis vectors for $\\operatorname{basis}(A^T)=\\left[\\begin{matrix}-1\\\\1\\\\0\\\\0\\end{matrix}\\right],\\left[\\begin{matrix}-1\\\\0\\\\0\\\\1\\end{matrix}\\right],\\left[\\begin{matrix}0\\\\-1\\\\1\\\\0\\end{matrix}\\right]$  \n",
    "\n",
    "If $\\left[\\begin{matrix}1\\\\0\\\\0\\\\0\\end{matrix}\\right]$ was in row space it would be $a\\hat{b_1}+b\\hat{b_2}+c\\hat{b_c}$  \n",
    "-a-b=1  \n",
    "a-c=0  \n",
    "c=1  \n",
    "b=1  \n",
    "\n",
    "a-1=0=>a=1\n",
    "-1-1=1 from equation 1.  \n",
    "\n",
    "\n",
    "This the vector is not in row space.  "
   ]
  },
  {
   "cell_type": "markdown",
   "metadata": {
    "colab_type": "text",
    "id": "WAVX5xXwLW73"
   },
   "source": [
    "#### Problem 12.2: \n",
    "(8.2 #7.) Continuing with the network from problem one, suppose the conductance matrix is   \n",
    "$\\qquad C=\\left[\\begin{matrix}\n",
    "1&0&0&0\\\\\n",
    "0&2&0&0\\\\\n",
    "0&0&2&0\\\\\n",
    "0&0&0&1\n",
    "\\end{matrix}\\right]$  \n",
    "Multiply matrices to find $A^TCA$. For f = (1, 0, −1, 0), find a solution to $A^TCAx = f$. Write the potentials x and currents $y = −CAx$ on the square graph (see above) for this current source f going into node 1 and out from node 3. \n",
    "\n",
    "$A^TCA=\n",
    "\\left[\\begin{matrix}\n",
    "-1&-1& 0& 0\\\\\n",
    " 1& 0&-1& 0\\\\\n",
    " 0& 0& 1& 1\\\\\n",
    " 0& 1& 0&-1\n",
    "\\end{matrix}\\right]\n",
    "\\left[\\begin{matrix}\n",
    "1&0&0&0\\\\\n",
    "0&2&0&0\\\\\n",
    "0&0&2&0\\\\\n",
    "0&0&0&1\n",
    "\\end{matrix}\\right]\n",
    "\\left[\\begin{matrix}\n",
    "-1&1&0&0\\\\\n",
    "-1&0&0&1\\\\\n",
    "0&-1&1&0\\\\\n",
    "0&0&1&-1\n",
    "\\end{matrix}\\right]=\n",
    "\\left[\\begin{matrix}\n",
    "-1&-2& 0& 0\\\\\n",
    " 1& 0&-2& 0\\\\\n",
    " 0& 0& 2& 1\\\\\n",
    " 0& 2& 0&-1\n",
    "\\end{matrix}\\right]\n",
    "\\left[\\begin{matrix}\n",
    "-1&1&0&0\\\\\n",
    "-1&0&0&1\\\\\n",
    "0&-1&1&0\\\\\n",
    "0&0&1&-1\n",
    "\\end{matrix}\\right]=\n",
    "\\left[\\begin{matrix}\n",
    "3&-1&0&-2\\\\\n",
    "-1&3&-2&0\\\\\n",
    "0&-2&3&0-1\\\\\n",
    "-2&0&-1&3\n",
    "\\end{matrix}\\right]$  \n",
    "\n",
    "Now for the solution $A^TCAx=f$ find a solution for\n",
    "\n"
   ]
  },
  {
   "cell_type": "code",
   "execution_count": 0,
   "metadata": {
    "colab": {
     "base_uri": "https://localhost:8080/",
     "height": 397
    },
    "colab_type": "code",
    "id": "O__AKjK0RZE5",
    "outputId": "d40fc2fa-6141-4f58-dc07-723f9434f098"
   },
   "outputs": [
    {
     "name": "stdout",
     "output_type": "stream",
     "text": [
      "[-0.   -0.5  -0.75 -0.25]\n",
      "[-0.5 -0.5 -0.5 -0.5]\n"
     ]
    },
    {
     "data": {
      "image/png": "iVBORw0KGgoAAAANSUhEUgAAAe0AAAFZCAYAAAC173eYAAAABHNCSVQICAgIfAhkiAAAAAlwSFlz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\n",
      "text/plain": [
       "<matplotlib.figure.Figure at 0x7f1408d12e80>"
      ]
     },
     "metadata": {
      "tags": []
     },
     "output_type": "display_data"
    }
   ],
   "source": [
    "import numpy as np\n",
    "ATy=np.array([\n",
    "  [-3,-1, 0,-2],\n",
    "  [-1, 3,-2, 0],\n",
    "  [ 0,-2, 3,-1],\n",
    "  [-2, 0,-1, 3]])\n",
    "f=np.array([1,0,-1,0])\n",
    "C=[[1,0,0,0],\n",
    "   [0,2,0,0],\n",
    "   [0,0,2,0],\n",
    "   [0,0,0,1]]\n",
    "A=[[-1,1,0,0],\n",
    "   [-1,0,0,1],\n",
    "   [0,-1,1,0],\n",
    "   [0,0,1,-1]]\n",
    "\n",
    "x=np.linalg.solve(ATy,f)\n",
    "print(x)\n",
    "\n",
    "y=np.matmul(np.matmul(C,A),x)\n",
    "print(y)\n",
    "\n",
    "G2=nx.DiGraph()\n",
    "\n",
    "nodes=[1,2,3,4]\n",
    "nodes=[str(node)+\"==\"+str(x[node-1]) for node in nodes]\n",
    "edges=[(1,2),(2,3),(1,4),(4,3)]\n",
    "edges=[(nodes[i-1],nodes[j-1]) for (i,j) in edges]\n",
    "G2.add_nodes_from(nodes)\n",
    "G2.add_edges_from(edges)\n",
    "edgelabels={e:str(i+1)+'=='+str(y[i]) for i,e in enumerate(edges)}\n",
    "pos=nx.spring_layout(G2)\n",
    "nx.draw_networkx(G2,pos,with_labels=1,arrows=True,ax=None,node_color='c')\n",
    "nx.draw_networkx_edge_labels(G2,pos,edge_labels=edgelabels)\n",
    "plt.axis('off')\n",
    "plt.title(\"Electrical Circuit\")\n",
    "plt.show()"
   ]
  },
  {
   "cell_type": "markdown",
   "metadata": {
    "colab_type": "text",
    "id": "HNgN-gIo3A0R"
   },
   "source": [
    "#### Lecture 13 Video"
   ]
  },
  {
   "cell_type": "code",
   "execution_count": 0,
   "metadata": {
    "colab": {
     "base_uri": "https://localhost:8080/",
     "height": 336
    },
    "colab_type": "code",
    "id": "rLEJQNFP3IWk",
    "outputId": "47d5597d-7ec8-4428-a67e-ad2a37af85f7"
   },
   "outputs": [
    {
     "data": {
      "text/html": [
       "<iframe width=\"560\" height=\"315\" src=\"https://www.youtube.com/embed/l88D4r74gtM?rel=0\" frameborder=\"0\" allow=\"autoplay; encrypted-media\" allowfullscreen></iframe>"
      ],
      "text/plain": [
       "<IPython.core.display.HTML object>"
      ]
     },
     "metadata": {
      "tags": []
     },
     "output_type": "display_data"
    }
   ],
   "source": [
    "%%HTML\n",
    "<iframe width=\"560\" height=\"315\" src=\"https://www.youtube.com/embed/l88D4r74gtM?rel=0\" frameborder=\"0\" allow=\"autoplay; encrypted-media\" allowfullscreen></iframe>"
   ]
  },
  {
   "cell_type": "markdown",
   "metadata": {
    "colab_type": "text",
    "id": "EvFwrIlChCvi"
   },
   "source": [
    "\n",
    "### Orthogonal Vectors and Subspaces"
   ]
  },
  {
   "cell_type": "markdown",
   "metadata": {
    "colab_type": "text",
    "id": "PG5T0FA7g3Yb"
   },
   "source": [
    "#### Lecture 14 Video"
   ]
  },
  {
   "cell_type": "code",
   "execution_count": 8,
   "metadata": {
    "colab": {
     "base_uri": "https://localhost:8080/",
     "height": 10
    },
    "colab_type": "code",
    "id": "3378L5Fsgzt8",
    "outputId": "39600665-8029-4394-d367-86da8c5c5314"
   },
   "outputs": [
    {
     "data": {
      "text/html": [
       "<iframe width=\"560\" height=\"315\" src=\"https://www.youtube.com/embed/YzZUIYRCE38?rel=0\" frameborder=\"0\" allow=\"autoplay; encrypted-media\" allowfullscreen></iframe>\n"
      ],
      "text/plain": [
       "<IPython.core.display.HTML object>"
      ]
     },
     "metadata": {},
     "output_type": "display_data"
    }
   ],
   "source": [
    "%%HTML\n",
    "<iframe width=\"560\" height=\"315\" src=\"https://www.youtube.com/embed/YzZUIYRCE38?rel=0\" frameborder=\"0\" allow=\"autoplay; encrypted-media\" allowfullscreen></iframe>"
   ]
  },
  {
   "cell_type": "markdown",
   "metadata": {
    "colab_type": "text",
    "id": "jVF8Ld9cLdGb"
   },
   "source": [
    "### Projections onto Subspaces\n",
    "If X and Y are orthogonal then $X^TY=0$ because of below...\n",
    "\n",
    "$|X|^2+|Y|^2=|X+Y|^2\\\\\n",
    "\\implies X^TX+Y^TY=(X+Y)^T(X+Y)\\\\\n",
    "\\implies X^TX+Y^TY=(X^T+Y^T)(X+Y)\\\\\n",
    "\\implies X^TX+Y^TY=X^TX+Y^TX +X^TY+Y^TY\\\\\n",
    "\\implies Y^TX +X^TY=0\\\\\n",
    "\\implies 2X^TY=0\\quad\\text{as }X^TY=Y^TX\\text{ is a scalar dot product of vectors X&Y}\\\\\n",
    "\\implies X^TY=0$  \n",
    "\n",
    "**Projection**  \n",
    "$Ax$ is always in C(A).  \n",
    "If a given b in equation $Ax=b$ has no solution then b is not in C(A).  \n",
    "But we can find the closest solution possible by doing $Ax=\\hat b$ where $\\hat b$ is projection of b onto C(A).  \n",
    "This can be written as $A\\hat x=\\hat b$  \n",
    "\n",
    "Let projection of b onto C(A) be $A\\hat x$, then $(b-A\\hat x)$ will be orthogonal to A..  \n",
    "$\\implies A^T(b-A\\hat x)=0$  \n",
    "$\\implies A^Tb=A^TA\\hat x$  \n",
    "$\\implies \\hat x=(A^TA)^{-1}A^Tb$  \n",
    "\n",
    "So  \n",
    "**Projection P  $\\hat b=A\\hat x=A(A^TA)^{-1}A^Tb$**\n",
    "\n",
    "So the projection matrix is $P=A(A^TA)^{-1}A^T$  \n",
    "\n",
    "P is symmetric so $P^T=P$  \n",
    "\n",
    "If we project the vector twice on to A then the results should not change so $P^2=P$  \n",
    "$P^2=A(A^TA)^{-1}A^TA(A^TA)^{-1}A^T=A(A^TA)^{-1}[A^TA(A^TA)^{-1}]A^T=A(A^TA)^{-1}A^T$  \n",
    "\n"
   ]
  },
  {
   "cell_type": "markdown",
   "metadata": {
    "colab_type": "text",
    "id": "ba_Y9Xl4SNFY"
   },
   "source": [
    "##### Example\n",
    "Find the closest fit of line through (1,1),(2,2),(3,2).  \n",
    "\n",
    "Let's consider the line to be c+mx=y, or solve...\n",
    "\n",
    "$\\left[\\begin{matrix}\n",
    "1&1\\\\\n",
    "1&2\\\\\n",
    "1&3\n",
    "\\end{matrix}\\right]\n",
    "\\left[\\begin{matrix}\n",
    "c\\\\\n",
    "m\\end{matrix}\\right]=\n",
    "\\left[\\begin{matrix}\n",
    "1\\\\\n",
    "2\\\\\n",
    "2\\end{matrix}\\right]$\n",
    "\n",
    "As perfect solution is not possible the closest solution must be in the C(A), thus both sides should be same when projected onto A, thus...\n",
    "$\\left[\\begin{matrix}\n",
    "1&1\\\\\n",
    "1&2\\\\\n",
    "1&3\n",
    "\\end{matrix}\\right]^T\\left[\\begin{matrix}\n",
    "1&1\\\\\n",
    "1&2\\\\\n",
    "1&3\n",
    "\\end{matrix}\\right]\n",
    "\\left[\\begin{matrix}\n",
    "c\\\\\n",
    "m\\end{matrix}\\right]=\\left[\\begin{matrix}\n",
    "1&1\\\\\n",
    "1&2\\\\\n",
    "1&3\n",
    "\\end{matrix}\\right]^T\n",
    "\\left[\\begin{matrix}\n",
    "1\\\\\n",
    "2\\\\\n",
    "2\\end{matrix}\\right]\\\\\n",
    "\\implies\n",
    "\\left[\\begin{matrix}\n",
    "1&1&1\\\\\n",
    "1&2&3\n",
    "\\end{matrix}\\right]\n",
    "\\left[\\begin{matrix}\n",
    "1&1\\\\\n",
    "1&2\\\\\n",
    "1&3\n",
    "\\end{matrix}\\right]\n",
    "\\left[\\begin{matrix}\n",
    "c\\\\\n",
    "m\\end{matrix}\\right]=\n",
    "\\left[\\begin{matrix}\n",
    "1&1&1\\\\\n",
    "1&2&3\n",
    "\\end{matrix}\\right]\n",
    "\\left[\\begin{matrix}\n",
    "1\\\\\n",
    "2\\\\\n",
    "2\\end{matrix}\\right]\n",
    "\\implies\n",
    "\\left[\\begin{matrix}\n",
    "3&6\\\\\n",
    "6&14\n",
    "\\end{matrix}\\right]\n",
    "\\left[\\begin{matrix}\n",
    "c\\\\\n",
    "m\\end{matrix}\\right]=\n",
    "\\left[\\begin{matrix}\n",
    "5\\\\\n",
    "11\n",
    "\\end{matrix}\\right]\n",
    "\\implies\n",
    "\\left[\\begin{matrix}\n",
    "3&6\\\\\n",
    "0&2\n",
    "\\end{matrix}\\right]\n",
    "\\left[\\begin{matrix}\n",
    "c\\\\\n",
    "m\\end{matrix}\\right]=\n",
    "\\left[\\begin{matrix}\n",
    "5\\\\\n",
    "1\n",
    "\\end{matrix}\\right]$  \n",
    "$m=\\frac{1}{2}$ and $c=\\frac{2}{3}$  \n",
    "\n",
    "So the closest fit line is $y=\\frac{1}{2}x+\\frac{2}{3}$  \n"
   ]
  },
  {
   "cell_type": "markdown",
   "metadata": {
    "colab_type": "text",
    "id": "RaY8ACrbVn-y"
   },
   "source": [
    "#### Problems"
   ]
  },
  {
   "cell_type": "markdown",
   "metadata": {
    "colab_type": "text",
    "id": "6bj7HSWmjBOK"
   },
   "source": [
    "##### Problem 15.1: \n",
    "(4.2 #13. Introduction to Linear Algebra: Strang) \n",
    "Suppose A is the four by four identity matrix with its last column removed; A is four by three. Project b = (1, 2, 3, 4) onto the column space of A. What shape is the projection matrix P and what is P?  \n",
    "\n",
    "Projection of b on A is\n",
    "\n",
    "$A(A^TA)^{-1}A^Tb$"
   ]
  },
  {
   "cell_type": "code",
   "execution_count": 0,
   "metadata": {
    "colab": {
     "base_uri": "https://localhost:8080/",
     "height": 103
    },
    "colab_type": "code",
    "id": "c9I3AI7nj31t",
    "outputId": "48528f4b-2e71-43e4-cd00-5b8096785705"
   },
   "outputs": [
    {
     "name": "stdout",
     "output_type": "stream",
     "text": [
      "[[1. 0. 0. 0.]\n",
      " [0. 1. 0. 0.]\n",
      " [0. 0. 1. 0.]\n",
      " [0. 0. 0. 0.]]\n",
      "Projection of b onto A is [1. 2. 3. 0.]\n"
     ]
    }
   ],
   "source": [
    "A=np.array([[1,0,0],\n",
    "           [0,1,0],\n",
    "           [0,0,1],\n",
    "           [0,0,0]])\n",
    "b=[1,2,3,4]\n",
    "At=np.transpose(A)\n",
    "AtA=np.matmul(At,A)\n",
    "P=np.matmul(A,np.linalg.inv(AtA))\n",
    "P=np.matmul(P,At)\n",
    "print(P)\n",
    "print(\"Projection of b onto A is {}\".format(np.matmul(P,b)))"
   ]
  },
  {
   "cell_type": "markdown",
   "metadata": {
    "colab_type": "text",
    "id": "N74cz_eQlXRi"
   },
   "source": [
    "##### Problem 15.2: \n",
    "(4.2 #17.) If $P^2 = P$, show that $(I − P)^2 = I − P$. For the matrices A and P from the previous question, P projects onto the column space of A and I − P projects onto the ______ ____ .  \n",
    "\n",
    "$P=A(A^TA)^{-1}A^T$  \n",
    "$(I-P)^2=I^2-2P+P^2\\\\\n",
    "\\quad=I-2P+P\\\\\n",
    "\\quad=I-P$  \n",
    "\n",
    "I-P projects onto a space orthogonal to C(A), which is nullspace of a $A^T, N(A^T)$.\n"
   ]
  },
  {
   "cell_type": "markdown",
   "metadata": {
    "colab_type": "text",
    "id": "Pa0oNM23m3dM"
   },
   "source": [
    "##### Problem 16.1: \n",
    "(4.3 #17. Introduction to Linear Algebra: Strang)  \n",
    "Write down three equations for the line b = C + Dt to go through b = 7 at t = −1, b = 7 at t = 1, and b = 21 at t = 2. Find the least squares solution $\\hat x$ = (C, D) and draw the closest line.   \n",
    "\n",
    "**Ans:**\n",
    "\n",
    "Ax=y is  \n",
    "$\\left[\\begin{matrix}\n",
    "1&-1\\\\\n",
    "1&1\\\\\n",
    "1&2\\end{matrix}\\right]\n",
    "\\left[\\begin{matrix}\n",
    "C\\\\\n",
    "D\\end{matrix}\\right]=\n",
    "\\left[\\begin{matrix}\n",
    "7\\\\\n",
    "7\\\\\n",
    "21\\end{matrix}\\right]\n",
    "$  \n",
    "\n",
    "$A^TAx=A^Tb$  \n",
    "$\\implies\\left[\\begin{matrix}\n",
    "1&1&1\\\\\n",
    "-1&1&2\n",
    "\\end{matrix}\\right]\n",
    "\\left[\\begin{matrix}\n",
    "1&-1\\\\\n",
    "1&1\\\\\n",
    "1&2\\end{matrix}\\right]\n",
    "\\left[\\begin{matrix}\n",
    "C\\\\\n",
    "D\\end{matrix}\\right]=\n",
    "\\left[\\begin{matrix}\n",
    "1&1&1\\\\\n",
    "-1&1&2\n",
    "\\end{matrix}\\right]\n",
    "\\left[\\begin{matrix}\n",
    "7\\\\\n",
    "7\\\\\n",
    "21\\end{matrix}\\right]\\\\\n",
    "\\implies\n",
    "\\left[\\begin{matrix}\n",
    "3&2\\\\\n",
    "2&6\n",
    "\\end{matrix}\\right]\n",
    "\\left[\\begin{matrix}\n",
    "C\\\\\n",
    "D\\end{matrix}\\right]=\n",
    "\\left[\\begin{matrix}\n",
    "35\\\\\n",
    "42\\\\\n",
    "\\end{matrix}\\right]\\\\\n",
    "\\implies\n",
    "\\left[\\begin{matrix}\n",
    "3&2\\\\\n",
    "-7&0\n",
    "\\end{matrix}\\right]\n",
    "\\left[\\begin{matrix}\n",
    "C\\\\\n",
    "D\\end{matrix}\\right]=\n",
    "\\left[\\begin{matrix}\n",
    "35\\\\\n",
    "-63\n",
    "\\end{matrix}\\right]\\\\\n",
    "\\implies C=9,\\,\\,D=(35-27)/2=4\n",
    "$\n",
    "\n",
    "Let's see how y and $\\hat y$  worked out\n",
    "\n",
    "\n",
    "t|y|$\\hat y$\n",
    "---|---|---\n",
    "-1|7|5\n",
    "1|7|13\n",
    "2|21|17\n",
    "\n",
    "\n"
   ]
  },
  {
   "cell_type": "markdown",
   "metadata": {
    "colab_type": "text",
    "id": "MpPPfmtvVP3m"
   },
   "source": [
    "##### Problem 16.2: \n",
    "(4.3 #18.) Find the projection p = Axˆ in the previous problem. This gives the three heights of the closest line. Show that the error\n",
    "vector is e = (2, −6, 4). Why is Pe = 0?  \n",
    "**Ans**  \n",
    "\n",
    "$Pb=A\\hat x=\\left[\\begin{matrix}\n",
    "1&-1\\\\\n",
    "1&1\\\\\n",
    "1&2\\end{matrix}\\right]\n",
    "\\left[\\begin{matrix}\n",
    "9\\\\\n",
    "4\\end{matrix}\\right]=\n",
    "\\left[\\begin{matrix}\n",
    "5\\\\\n",
    "13\\\\\n",
    "17\n",
    "\\end{matrix}\\right]$\n",
    "\n",
    "$e=b-Pb$  \n",
    "$Pe=Pb-P^2b=Pb-Pb=0\\quad$By properties of projection matrix.  \n",
    "\n",
    "Projection of error vector e onto A is zero. As e is always orthogonal to columnspace of A.\n",
    "\n",
    "\n"
   ]
  },
  {
   "cell_type": "markdown",
   "metadata": {
    "colab_type": "text",
    "id": "db--7OTchRbk"
   },
   "source": [
    "##### Problem 16.3: \n",
    "(4.3 #19.) Suppose the measurements at t = −1, 1, 2 are the errors 2, -6, 4 in the previous problem. Compute xˆ and the closest\n",
    "line to these new measurements. Explain the answer: b = (2, −6, 4) is perpendicular to \\_\\_\\_\\_\\_\\_ so the projection is p = 0. \n",
    "\n",
    "**Ans**\n",
    "\n",
    "$Pb$ is in $C(A)$  \n",
    "$(I-P)b$ is in $N(A^T)$ or othogonal to $C(A)$.  \n",
    "\n",
    "Original solution for the line was b=9+4t.\n",
    "\n",
    "$\\hat x=[9,4]$\n",
    "\n",
    "$A^TA\\hat x=A^Tb$  \n",
    "$\\hat x=(A^TA)^{-1}A^Tb$  \n",
    "$P=A\\hat x$  \n",
    "\n",
    "\n",
    "Errors were $b-Pb=(I-P)b$.  \n",
    "$b_2=(I-P)b$  \n",
    "\n",
    "\n",
    "Now for new $\\hat{x_2}$.. \n",
    "\n",
    "$A^TA\\hat{x_2}=A^Tb_2$  \n",
    "Now $b_2$ is already orthogonal to $A$, from original question. As the error belongs to the nullspace of $A^T$ which implies any vector in that space x will have $A^Tx=0$  \n",
    "\n",
    "I terms of projections we can write it as\n",
    "\n",
    "$P_2=A(A^TA)^{-1}A^Tb_2$  \n",
    "Now we know that $A^Tb_2=0$, we can try and solve it as below...\n",
    "\n",
    "$\\left[\\begin{matrix}\n",
    "1&1&1\\\\\n",
    "-1&1&2\n",
    "\\end{matrix}\\right]\n",
    "\\left[\\begin{matrix}\n",
    "2\\\\\n",
    "-6\\\\\n",
    "4\n",
    "\\end{matrix}\\right]=\n",
    "\\left[\\begin{matrix}\n",
    "0\\\\\n",
    "0\n",
    "\\end{matrix}\\right]!\n",
    "$  \n",
    "\n",
    "More generically  \n",
    "\n",
    "$A^Tb_2=A^T(I-P)b=A^Tb-A^TPb=A^Tb-A^T(A(A^TA)^{-1}A^Tb)=A^Tb-A^Tb=0$\n",
    "\n",
    "\n",
    "Thus the new projection matrix for b_2 is zero.  \n",
    "\n",
    "So for $\\hat{x_2}$ C=0, D=0!"
   ]
  },
  {
   "cell_type": "markdown",
   "metadata": {
    "colab_type": "text",
    "id": "eV6fRHsb7a3n"
   },
   "source": [
    "##### Problem 16.4: \n",
    "(4.3 #20.) Suppose the measurements at t = −1, 1, 2 are b = (5, 13, 17). Compute xˆ and the closest line and e. The error is e = 0 because this b is in \\_\\_\\_\\_\\_.  \n",
    "\n",
    "$A^TA\\hat x=A^Tb$\n",
    "\n",
    "\n",
    "$\\left[\\begin{matrix}\n",
    "3&2\\\\\n",
    "2&6\n",
    "\\end{matrix}\\right]\n",
    "\\left[\\begin{matrix}\n",
    "C\\\\\n",
    "D\n",
    "\\end{matrix}\\right]=\n",
    "\\left[\\begin{matrix}\n",
    "1&1&1\\\\\n",
    "-1&1&2\n",
    "\\end{matrix}\\right]\n",
    "\\left[\\begin{matrix}\n",
    "5\\\\\n",
    "13\\\\\n",
    "17\n",
    "\\end{matrix}\\right]\\\\\n",
    "\\implies\n",
    "\\left[\\begin{matrix}\n",
    "3&2\\\\\n",
    "2&6\n",
    "\\end{matrix}\\right]\n",
    "\\left[\\begin{matrix}\n",
    "C\\\\\n",
    "D\n",
    "\\end{matrix}\\right]=\n",
    "\\left[\\begin{matrix}\n",
    "35\\\\\n",
    "42\n",
    "\\end{matrix}\\right]\\\\\n",
    "\\implies\n",
    "\\left[\\begin{matrix}\n",
    "3&2\\\\\n",
    "-7&0\n",
    "\\end{matrix}\\right]\n",
    "\\left[\\begin{matrix}\n",
    "C\\\\\n",
    "D\n",
    "\\end{matrix}\\right]=\n",
    "\\left[\\begin{matrix}\n",
    "35\\\\\n",
    "-63\n",
    "\\end{matrix}\\right]\\\\\n",
    "\\implies C=9,\\,\\,D=(35-27)/2=4\n",
    "$\n",
    "\n",
    "$\\hat{x}=\\left[\\begin{matrix}\n",
    "9\\\\\n",
    "4\n",
    "\\end{matrix}\\right]$  \n",
    "\n",
    "\n",
    "$e=b-A\\hat{x}\\\\\\quad=\\left[\\begin{matrix}\n",
    "1&-1\\\\\n",
    "1&1\\\\\n",
    "1&2\\end{matrix}\\right]\n",
    "\\left[\\begin{matrix}\n",
    "9\\\\\n",
    "4\n",
    "\\end{matrix}\\right]-\\left[\\begin{matrix}\n",
    "5\\\\\n",
    "13\\\\\n",
    "17\n",
    "\\end{matrix}\\right]=\n",
    "\\left[\\begin{matrix}\n",
    "1&-1\\\\\n",
    "1&1\\\\\n",
    "1&2\\end{matrix}\\right]=\n",
    "\\left[\\begin{matrix}\n",
    "5\\\\\n",
    "13\\\\\n",
    "17\n",
    "\\end{matrix}\\right]-\\left[\\begin{matrix}\n",
    "5\\\\\n",
    "13\\\\\n",
    "17\n",
    "\\end{matrix}\\right]$  \n",
    "The error is e = 0 because this b is in ColumnSpace of A."
   ]
  },
  {
   "cell_type": "markdown",
   "metadata": {
    "colab_type": "text",
    "id": "Vun27MQR_6iH"
   },
   "source": [
    "##### Problem 16.5: \n",
    "(4.3 #21.) Which of the four subspaces contains the error vector e? Which contains p? Which contains xˆ? What is the nullspace of\n",
    "A? \n",
    "\n",
    "$e\\epsilon N(A^T)$  \n",
    "$p$ is not in any of the spaces as it is a $m\\times m$projection matrix . But $Pb$ would be in $C(A)$.  \n",
    "\n",
    "${\\hat x} \\epsilon R^n\\quad$ is in Rowspace of A or $C(A^T)$.  \n",
    "$N(A)=0$ as the matrix is a full column rank matrix.  "
   ]
  },
  {
   "cell_type": "markdown",
   "metadata": {
    "colab_type": "text",
    "id": "o7L9WK05DzX6"
   },
   "source": [
    "##### Problem 16.6: \n",
    "(4.3 #22.) Find the best line C + Dt to fit b = 4, 2, −1, 0, 0 at times t = −2, −1, 0, 1, 2. \n",
    "\n",
    "$A^TA\\hat x=A^Tb\\\\\n",
    "\\implies\n",
    "\\left[\\begin{matrix}\n",
    "1&1&1&1&1\\\\\n",
    "-2&-1&0&1&2\n",
    "\\end{matrix}\\right]\n",
    "\\left[\\begin{matrix}\n",
    "1&-2\\\\\n",
    "1&-1\\\\\n",
    "1&0\\\\\n",
    "1&1\\\\\n",
    "1&2\n",
    "\\end{matrix}\\right]\n",
    "\\left[\\begin{matrix}\n",
    "C\\\\\n",
    "D\n",
    "\\end{matrix}\\right]=\n",
    "\\left[\\begin{matrix}\n",
    "1&1&1&1&1\\\\\n",
    "-2&-1&0&1&2\n",
    "\\end{matrix}\\right]\n",
    "\\left[\\begin{matrix}\n",
    "4\\\\\n",
    "2\\\\\n",
    "-1\\\\\n",
    "0\\\\\n",
    "0\n",
    "\\end{matrix}\\right]\\\\\n",
    "\\implies\n",
    "\\left[\\begin{matrix}\n",
    "5&0\\\\\n",
    "0&10\n",
    "\\end{matrix}\\right]\n",
    "\\left[\\begin{matrix}\n",
    "C\\\\\n",
    "D\n",
    "\\end{matrix}\\right]=\n",
    "\\left[\\begin{matrix}\n",
    "5\\\\\n",
    "-10\n",
    "\\end{matrix}\\right]\\\\\n",
    "\\implies C=1,\\,\\,D=1\n",
    "$\n",
    "\n",
    "Errors are  \n",
    "$e=\n",
    "\\left[\\begin{matrix}\n",
    "4\\\\\n",
    "2\\\\\n",
    "-1\\\\\n",
    "0\\\\\n",
    "0\n",
    "\\end{matrix}\\right]-A\\hat{x}=\n",
    "\\left[\\begin{matrix}\n",
    "4\\\\\n",
    "2\\\\\n",
    "-1\\\\\n",
    "0\\\\\n",
    "0\n",
    "\\end{matrix}\\right]-\\left[\\begin{matrix}\n",
    "1&-2\\\\\n",
    "1&-1\\\\\n",
    "1&0\\\\\n",
    "1&1\\\\\n",
    "1&2\n",
    "\\end{matrix}\\right]\n",
    "\\left[\\begin{matrix}\n",
    "1\\\\\n",
    "1\n",
    "\\end{matrix}\\right]\\\\\\quad=\\left[\\begin{matrix}\n",
    "4\\\\\n",
    "2\\\\\n",
    "-1\\\\\n",
    "0\\\\\n",
    "0\n",
    "\\end{matrix}\\right]-\\left[\\begin{matrix}\n",
    "1-2\\\\\n",
    "1-1\\\\\n",
    "1\\\\\n",
    "1+1\\\\\n",
    "1+2\n",
    "\\end{matrix}\\right]\\\\\\quad=\\left[\\begin{matrix}\n",
    "4\\\\\n",
    "2\\\\\n",
    "-1\\\\\n",
    "0\\\\\n",
    "0\n",
    "\\end{matrix}\\right]-\\left[\\begin{matrix}\n",
    "-1\\\\\n",
    "0\\\\\n",
    "1\\\\\n",
    "2\\\\\n",
    "3\n",
    "\\end{matrix}\\right]\\\\\\quad=\\left[\\begin{matrix}\n",
    "4+1\\\\\n",
    "2\\\\\n",
    "-1-1\\\\\n",
    "-2\\\\\n",
    "-3\n",
    "\\end{matrix}\\right]=\\left[\\begin{matrix}\n",
    "5\\\\\n",
    "2\\\\\n",
    "-2\\\\\n",
    "-2\\\\\n",
    "-3\n",
    "\\end{matrix}\\right]\n",
    "$\n",
    "\n"
   ]
  },
  {
   "cell_type": "markdown",
   "metadata": {
    "colab_type": "text",
    "id": "OvS5d1vghx1x"
   },
   "source": [
    " #### Lecture 15 Video"
   ]
  },
  {
   "cell_type": "code",
   "execution_count": 0,
   "metadata": {
    "colab": {
     "base_uri": "https://localhost:8080/",
     "height": 336
    },
    "colab_type": "code",
    "id": "G3BVJTpToECs",
    "outputId": "191894ab-ec6b-4caa-c4e9-f8ab490f1b5e"
   },
   "outputs": [
    {
     "data": {
      "text/html": [
       "<iframe width=\"560\" height=\"315\" src=\"https://www.youtube.com/embed/Y_Ac6KiQ1t0?rel=0\" frameborder=\"0\" allow=\"autoplay; encrypted-media\" allowfullscreen></iframe>"
      ],
      "text/plain": [
       "<IPython.core.display.HTML object>"
      ]
     },
     "metadata": {
      "tags": []
     },
     "output_type": "display_data"
    }
   ],
   "source": [
    "%%HTML\n",
    "<iframe width=\"560\" height=\"315\" src=\"https://www.youtube.com/embed/Y_Ac6KiQ1t0?rel=0\" frameborder=\"0\" allow=\"autoplay; encrypted-media\" allowfullscreen></iframe>"
   ]
  },
  {
   "cell_type": "markdown",
   "metadata": {
    "colab_type": "text",
    "id": "-12EGoyb_BKB"
   },
   "source": [
    "### Projection Matrices And Least Square Matrices."
   ]
  },
  {
   "cell_type": "markdown",
   "metadata": {
    "colab_type": "text",
    "id": "yBLHi-kx-FUn"
   },
   "source": [
    "#### Lecture 16 Video"
   ]
  },
  {
   "cell_type": "code",
   "execution_count": 0,
   "metadata": {
    "colab": {
     "base_uri": "https://localhost:8080/",
     "height": 10
    },
    "colab_type": "code",
    "id": "1zw_Es2e-K11",
    "outputId": "b424587b-a6e7-4054-f9e3-25109c23dd6e"
   },
   "outputs": [
    {
     "data": {
      "text/html": [
       "<iframe width=\"560\" height=\"315\" src=\"https://www.youtube.com/embed/osh80YCg_GM?rel=0\" frameborder=\"0\" allow=\"autoplay; encrypted-media\" allowfullscreen></iframe>"
      ],
      "text/plain": [
       "<IPython.core.display.HTML object>"
      ]
     },
     "metadata": {
      "tags": []
     },
     "output_type": "display_data"
    }
   ],
   "source": [
    "%%HTML\n",
    "<iframe width=\"560\" height=\"315\" src=\"https://www.youtube.com/embed/osh80YCg_GM?rel=0\" frameborder=\"0\" allow=\"autoplay; encrypted-media\" allowfullscreen></iframe>"
   ]
  },
  {
   "cell_type": "markdown",
   "metadata": {
    "colab_type": "text",
    "id": "lXwV-Qyu37_m"
   },
   "source": [
    "###Orthogonal Matrices and Gram-Schmidt\n",
    "If A can be converted to an orthonormal matrix Q. Then $Q^TQ=I$..\n",
    "\n",
    "Thus the original $A^TA\\hat x=A^Tb$ becomes $\\hat x=Q^Tb$  \n",
    "\n",
    "The projection matrix $P=A(A^TA)^{-1}A^T=QQ^T$"
   ]
  },
  {
   "cell_type": "markdown",
   "metadata": {
    "colab_type": "text",
    "id": "iS3kS5lqpU1d"
   },
   "source": [
    "#### Example\n",
    "$a=\\left[\\begin{matrix}1\\\\1\\\\1\\end{matrix}\\right],\\,\\,b=\\left[\\begin{matrix}1\\\\0\\\\2\\end{matrix}\\right]$  \n",
    "\n",
    "$\\hat a=\\left[\\begin{matrix}1\\\\1\\\\1\\end{matrix}\\right]$  \n",
    "$\\hat b=(b-\\frac{a^Tb}{a^Ta}a)\n",
    "=\\left[\\begin{matrix}1\\\\0\\\\2\\end{matrix}\\right]-\\frac{1}{3}\\left[\\begin{matrix}1&1&1\\end{matrix}\\right]\\left[\\begin{matrix}1\\\\0\\\\2\\end{matrix}\\right]\\left[\\begin{matrix}1\\\\1\\\\1\\end{matrix}\\right]\n",
    "=\\left[\\begin{matrix}1\\\\0\\\\2\\end{matrix}\\right]-\\frac{3}{3}\\left[\\begin{matrix}1\\\\1\\\\1\\end{matrix}\\right]=\\left[\\begin{matrix}1-1\\\\-1\\\\2-1\\end{matrix}\\right]=\\left[\\begin{matrix}0\\\\-1\\\\1\\end{matrix}\\right]$  \n",
    "Note that $\\hat a.\\hat b=0$  \n",
    "$Q=\\left[\\begin{matrix}\\frac{1}{\\sqrt3}&0\\\\\\frac{1}{\\sqrt3}&-\\frac{1}{\\sqrt2}\\\\\\frac{1}{\\sqrt3}&\\frac{1}{\\sqrt2}\\end{matrix}\\right]$  \n",
    "$Q^TQ=\n",
    "\\left[\\begin{matrix}\n",
    "\\frac{1}{\\sqrt3}&\\frac{1}{\\sqrt3}&\\frac{1}{\\sqrt3}\\\\\n",
    "0&-\\frac{1}{\\sqrt2}&\\frac{1}{\\sqrt2}\n",
    "\\end{matrix}\\right]\n",
    "\\left[\\begin{matrix}\\frac{1}{\\sqrt3}&0\\\\\\frac{1}{\\sqrt3}&-\\frac{1}{\\sqrt2}\\\\\\frac{1}{\\sqrt3}&\\frac{1}{\\sqrt2}\\end{matrix}\\right]\n",
    "=\\left[\\begin{matrix}\n",
    "\\frac{1}{3}+\\frac{1}{3}+\\frac{1}{3}&0\\frac{1}{\\sqrt3}-\\frac{1}{\\sqrt2}\\frac{1}{\\sqrt3}+\\frac{1}{\\sqrt2}\\frac{1}{\\sqrt3}\\\\\n",
    "0\\frac{1}{\\sqrt3}-\\frac{1}{\\sqrt2}\\frac{1}{\\sqrt3}+\\frac{1}{\\sqrt2}\\frac{1}{\\sqrt3}&0+\\frac{1}{2}+\\frac{1}{2}\n",
    "\\end{matrix}\\right]\n",
    "=\\left[\\begin{matrix}\n",
    "1&0\\\\\n",
    "0&1\n",
    "\\end{matrix}\\right]\n",
    "$  "
   ]
  },
  {
   "cell_type": "markdown",
   "metadata": {
    "colab_type": "text",
    "id": "SFcFWxdZ5vtP"
   },
   "source": [
    "#### Problems"
   ]
  },
  {
   "cell_type": "markdown",
   "metadata": {
    "colab_type": "text",
    "id": "dCEzOzdT5yr2"
   },
   "source": [
    "##### Problem 17.1: \n",
    "(4.4 #10.b Introduction to Linear Algebra: Strang)\n",
    "Orthonormal vectors are automatically linearly independent.Matrix Proof: Show that Qx = 0 implies x = 0. Since Q may be rectangular, you can use $Q^T$ but not $Q^{−1}$. \n",
    "\n",
    "**Ans**\n",
    "\n",
    "For Orthonormal matrices, $Q^TQ=I$  \n",
    "If Qx=0  \n",
    "$\\implies Q^TQx=0\\\\\n",
    "\\implies Ix=0\n",
    "\\implies x=0\n",
    "$\n"
   ]
  },
  {
   "cell_type": "markdown",
   "metadata": {
    "colab_type": "text",
    "id": "xQr1pAsd6dI0"
   },
   "source": [
    "##### Problem 17.2: \n",
    "(4.4 #18) \n",
    "Given the vectors a, b and c listed below, use the Gram-Schmidt process to find orthogonal vectors A, B, and C that span the same space.\n",
    "a = (1, −1, 0, 0), b = (0, 1, −1, 0), c = (0, 0, 1, −1). Show that {A, B, C} and {a, b, c} are bases for the space of vectors perpendicular\n",
    "to d = (1, 1, 1, 1).  \n",
    "\n",
    "$A=\\left[\\begin{matrix}\n",
    "1\\\\\n",
    "-1\\\\\n",
    "0\\\\\n",
    "0\\end{matrix}\\right]$  \n",
    "$B=b-\\frac{a^Tb}{a^Ta}a\\\\\n",
    "=\\left[\\begin{matrix}\n",
    "0\\\\\n",
    "1\\\\\n",
    "-1\\\\\n",
    "0\\end{matrix}\\right]-\\frac{1}{2}\n",
    "\\left[\\begin{matrix}\n",
    "1&-1&0&0\n",
    "\\end{matrix}\\right]\n",
    "\\left[\\begin{matrix}\n",
    "0\\\\\n",
    "1\\\\\n",
    "-1\\\\\n",
    "0\n",
    "\\end{matrix}\\right]\n",
    "\\left[\\begin{matrix}\n",
    "1\\\\\n",
    "-1\\\\\n",
    "0\\\\\n",
    "0\\end{matrix}\\right]=\n",
    "\\left[\\begin{matrix}\n",
    "0\\\\\n",
    "1\\\\\n",
    "-1\\\\\n",
    "0\\end{matrix}\\right]\n",
    "+\\frac{1}{2}\n",
    "\\left[\\begin{matrix}\n",
    "1\\\\\n",
    "-1\\\\\n",
    "0\\\\\n",
    "0\\end{matrix}\\right]=\n",
    "\\left[\\begin{matrix}\n",
    "1/2\\\\\n",
    "1/2\\\\\n",
    "-1\\\\\n",
    "0\\end{matrix}\\right]=\n",
    "\\left[\\begin{matrix}\n",
    "1\\\\\n",
    "1\\\\\n",
    "-2\\\\\n",
    "0\\end{matrix}\\right]=\n",
    "$  \n",
    "$C=c-\\frac{A^Tc}{A^TA}A-\\frac{B^Tc}{B^TB}B\\\\\\quad=\\left[\\begin{matrix}\n",
    "0\\\\\n",
    "0\\\\\n",
    "1\\\\\n",
    "-1\\end{matrix}\\right]\n",
    "-0\n",
    "-\\frac{2}{6}\n",
    "\\left[\\begin{matrix}\n",
    "1\\\\\n",
    "1\\\\\n",
    "-2\\\\\n",
    "0\\end{matrix}\\right]=\\left[\\begin{matrix}\n",
    "-1/3\\\\\n",
    "-1/3\\\\\n",
    "1+2/3\\\\\n",
    "-1\n",
    "\\end{matrix}\\right]=\\left[\\begin{matrix}\n",
    "-1\\\\\n",
    "-1\\\\\n",
    "5\\\\\n",
    "-3\n",
    "\\end{matrix}\\right]\n",
    "$\n",
    "\n",
    "To show that {A,B,C} is a basis for space perpendicular to d(1,1,1,1), it is enough to show that $[A\\, B\\, C]^Td=0$\n",
    "\n",
    "$[A\\, B\\, C]^Td=\n",
    "\\left[\\begin{matrix}\n",
    "1&-1&0&0\\\\\n",
    "1&1&-2&0\\\\\n",
    "-1&-1&5&-3\n",
    "\\end{matrix}\\right]\n",
    "\\left[\\begin{matrix}\n",
    "1\\\\\n",
    "1\\\\\n",
    "1\\\\\n",
    "1\n",
    "\\end{matrix}\\right]=\n",
    "\\left[\\begin{matrix}\n",
    "0\\\\\n",
    "0\\\\\n",
    "0\n",
    "\\end{matrix}\\right]\n",
    "$\n",
    "\n",
    "To show that {a,b,c} is a basis for space perpendicular to d(1,1,1,1), it is enough to show that $[a\\, b\\, c]^Td=0$\n",
    "\n",
    "$[a\\, b\\, c]^Td=\n",
    "\\left[\\begin{matrix}\n",
    "1&-1&0&0\\\\\n",
    "0&1&-1&0\\\\\n",
    "0&0&1&-1\n",
    "\\end{matrix}\\right]\n",
    "\\left[\\begin{matrix}\n",
    "1\\\\\n",
    "1\\\\\n",
    "1\\\\\n",
    "1\n",
    "\\end{matrix}\\right]=\n",
    "\\left[\\begin{matrix}\n",
    "0\\\\\n",
    "0\\\\\n",
    "0\n",
    "\\end{matrix}\\right]\n",
    "$\n",
    "\n",
    "\n",
    "\n",
    "\n"
   ]
  },
  {
   "cell_type": "markdown",
   "metadata": {
    "colab_type": "text",
    "id": "4ZoXJFt8QExL"
   },
   "source": [
    "#### Lecture 17 Video\n"
   ]
  },
  {
   "cell_type": "code",
   "execution_count": 0,
   "metadata": {
    "colab": {
     "base_uri": "https://localhost:8080/",
     "height": 336
    },
    "colab_type": "code",
    "id": "Xh9pLFLZQKCa",
    "outputId": "90717c91-3953-4a5d-cf06-a1bc44a316fb"
   },
   "outputs": [
    {
     "data": {
      "text/html": [
       "<iframe width=\"560\" height=\"315\" src=\"https://www.youtube.com/embed/uNsCkP9mgRk?rel=0\" frameborder=\"0\" allow=\"autoplay; encrypted-media\" allowfullscreen></iframe>"
      ],
      "text/plain": [
       "<IPython.core.display.HTML object>"
      ]
     },
     "metadata": {
      "tags": []
     },
     "output_type": "display_data"
    }
   ],
   "source": [
    "%%HTML\n",
    "<iframe width=\"560\" height=\"315\" src=\"https://www.youtube.com/embed/uNsCkP9mgRk?rel=0\" frameborder=\"0\" allow=\"autoplay; encrypted-media\" allowfullscreen></iframe>"
   ]
  },
  {
   "cell_type": "markdown",
   "metadata": {
    "colab_type": "text",
    "id": "ct8tDfVzAaWI"
   },
   "source": [
    "### Properties of Determinents\n",
    "\n",
    "1. $\\operatorname{det}(I)=1$  \n",
    "2. Exchange of rows makes the det negative.  \n",
    "3. Two parts(Essence is determinant is linear on single row. Esp. |A+B|$\\neq$|A|+|B| in most cases)\n",
    "  *  $\\left|\\begin{matrix}\n",
    "ta&tb\\\\\n",
    "c&d\n",
    "\\end{matrix}\\right|=t\\left|\\begin{matrix}\n",
    "a&b\\\\\n",
    "c&d\n",
    "\\end{matrix}\\right|$  \n",
    "  * $\\left|\\begin{matrix}\n",
    "a+x&b+y\\\\\n",
    "c&d\n",
    "\\end{matrix}\\right|=\\left|\\begin{matrix}\n",
    "a&b\\\\\n",
    "c&d\n",
    "\\end{matrix}\\right|+\\left|\\begin{matrix}\n",
    "x&y\\\\\n",
    "c&d\n",
    "\\end{matrix}\\right|$  \n",
    "\n",
    "\n",
    "**REST OF THE PROPERTIES ARE DERIVED FROM ABOVE THREE**\n",
    "\n",
    "---\n",
    "4. If two rows are equal then |A|=0.\n",
    "  * Since exchange the equal rows, we get the same matrix from prop.2 it shows |A|=0\n",
    "5. If we substract p*$\\text{row}_i$ from $\\text{row}_j$, the determinant doesn't change \n",
    "  * $\\left|\\begin{matrix}\n",
    "a&b\\\\\n",
    "c-pa&d-pb\n",
    "\\end{matrix}\\right|=\\left|\\begin{matrix}\n",
    "a&b\\\\\n",
    "c&d\n",
    "\\end{matrix}\\right|-p\\left|\\begin{matrix}\n",
    "a&b\\\\\n",
    "a&b\n",
    "\\end{matrix}\\right|=\\left|\\begin{matrix}\n",
    "a&b\\\\\n",
    "c&d\n",
    "\\end{matrix}\\right|$  \n",
    "6. If we have a row of zeros then |A|=0.\n",
    "   * $\\left|\\begin{matrix}\n",
    "t0&t0\\\\\n",
    "c&d\n",
    "\\end{matrix}\\right|=t\\left|\\begin{matrix}\n",
    "0&0\\\\\n",
    "c&d\n",
    "\\end{matrix}\\right|=\\left|\\begin{matrix}\n",
    "0&0\\\\\n",
    "c&d\n",
    "\\end{matrix}\\right|\\implies 5|A|=|A|\\implies|A|=0$  \n",
    "7. $|U|=\\prod d_i$. Det of a triangular matrix is just the product of diagonal elements.\n",
    "   * Given an Upper triangular matrix we can arrive at a diagonal matrix via elimination. Thus  \n",
    "   $\\left|\\begin{matrix}d_1&0&0&\\dots&\\dots \\\\0&d_2&0&\\dots&\\dots \\\\\\vdots\\\\&\\dots&&d_i&\\dots\\\\\\vdots\\\\&&&\\dots&d_n\\end{matrix}\\right|=\n",
    "d_1\\left|\\begin{matrix}1&0&0&\\dots&\\dots\\\\\n",
    "0&d_2&0&\\dots&\\dots\\\\\n",
    "\\vdots\\\\\n",
    "&\\dots&&d_i&\\dots\\\\\n",
    "\\vdots\\\\\n",
    "&&&\\dots&d_n\\end{matrix}\\right|=d_1d_2..d_i..d_n\\left|\\begin{matrix}1&0&0&\\dots&\\dots\\\\\n",
    "0&1&0&\\dots&\\dots\\\\\n",
    "\\vdots\\\\\n",
    "&\\dots&&1&\\dots\\\\\n",
    "\\vdots\\\\\n",
    "&&&\\dots&1\\end{matrix}\\right|=\\prod d_i$  \n",
    "8. |A|=0 when A is singular. |A|$\\neq$0 if A is invertible.  \n",
    "9. |AB|=|A||B|  \n",
    "  * $|2A|=2^n|A|$\n",
    "  * $|A^{-1}|=\\frac{1}{|A|}$ this is clear from the fact that if A is a diagonal matrix then $A^{-1}$ has it's diagonal elements $\\frac{1}/{d_i}$. Thus If we can represent A by diagonal matrices then |AB|=|A||B| is proved.  \n",
    "  \n",
    "10. |$A^T$|=|A|  \n",
    "  * If we write A=LU the $|U^T||L^T|=|L||U|$, as it is just the product of diagonal elements both are equal.\n",
    "\n",
    "Based on 1\n",
    "$\\left|\\begin{matrix}\n",
    "1&0\\\\\n",
    "0&1\n",
    "\\end{matrix}\\right|=1$ \n",
    "Based on 2  \n",
    "$|P|=\\begin{cases} 1 \\text{ if even no. of row exchanges}\\\\\n",
    "-1 \\text{ if odd no. of row exchanges}\n",
    "\\end{cases}$"
   ]
  },
  {
   "cell_type": "markdown",
   "metadata": {
    "colab_type": "text",
    "id": "EzHxGoDiMAP9"
   },
   "source": [
    "#### Problems"
   ]
  },
  {
   "cell_type": "markdown",
   "metadata": {
    "colab_type": "text",
    "id": "1j6HFR6DMREp"
   },
   "source": [
    "##### Problem 18.1:\n",
    "(5.1 #10. Introduction to Linear Algebra: Strang)  \n",
    "If the entries in every row of a square matrix A add to zero, solve Ax = 0 to prove that det A = 0. If those entries add to one, show that det(A − I) = 0. Does this mean that det A = 1? \n",
    "\n",
    "Let's say  \n",
    "$A=\\left[\\begin{matrix}a&-a\\\\b&-b\\end{matrix}\\right]$  \n",
    "\n",
    "Rank of such a matrix is <m, N(A) is existent Ax=0, has a solution, in our example it is [1,1], in general it is $[1...1]_{1\\times n}$. thus A is not invertible. Thus A is singular and for singular matrices |A|=0.  \n",
    "\n",
    "Another way to solve is $|A|=|A^T|$, And $A^T$ would produce a zero row during elimination, thus |$A^T$|=0=|A|.\n",
    "\n",
    "Matrix A-I would be a matrix where all the respective rows add upto zero. Thus |A-I|=0, but that does not mean |A|=1 in this case as |A+B|$\\neq$|A|+|B|  \n",
    "\n",
    "\n"
   ]
  },
  {
   "cell_type": "markdown",
   "metadata": {
    "colab_type": "text",
    "id": "xRERcMRzP0tB"
   },
   "source": [
    "##### Problem 18.2: \n",
    "(5.1 #18.) Use row operations and the properties of the determinant to calculate the three by three “Vandermonde determinant”:  \n",
    "$\\qquad\\qquad\\left|\\begin{matrix}\n",
    "1&a&a^2\\\\\n",
    "1&b&b^2\\\\\n",
    "1&c&c^2\n",
    "\\end{matrix}\\right|=(b-a)(c-a)(c-b)$ \n",
    "\n",
    "$\\left|\\begin{matrix}\n",
    "1&a&a^2\\\\\n",
    "1&b&b^2\\\\\n",
    "1&c&c^2\n",
    "\\end{matrix}\\right|=\n",
    "\\left|\\begin{matrix}\n",
    "1&a&a^2\\\\\n",
    "0&b-a&b^2-a^2\\\\\n",
    "0&c-a&c^2-a^2\n",
    "\\end{matrix}\\right|=(b-a)(c-a)\n",
    "\\left|\\begin{matrix}\n",
    "1&a&a^2\\\\\n",
    "0&1&b+a\\\\\n",
    "0&1&c+a\n",
    "\\end{matrix}\\right|=(b-a)(c-a)\n",
    "\\left|\\begin{matrix}\n",
    "1&a&a^2\\\\\n",
    "0&1&b+a\\\\\n",
    "0&0&c-b\n",
    "\\end{matrix}\\right|=\n",
    "(b-a)(c-a)(c-b)\n",
    "$  \n",
    "\n",
    "\n",
    "\n",
    "\n",
    "\n"
   ]
  },
  {
   "cell_type": "markdown",
   "metadata": {
    "colab_type": "text",
    "id": "K_E9PKxyMUTx"
   },
   "source": [
    "#### Lecture 18 Video"
   ]
  },
  {
   "cell_type": "code",
   "execution_count": 0,
   "metadata": {
    "colab": {
     "base_uri": "https://localhost:8080/",
     "height": 10
    },
    "colab_type": "code",
    "id": "gh69gbUA_5S3",
    "outputId": "b79e3910-dc2f-4813-d7a2-bf8db7762dcd"
   },
   "outputs": [
    {
     "data": {
      "text/html": [
       "<iframe width=\"560\" height=\"315\" src=\"https://www.youtube.com/embed/srxexLishgY?rel=0\" frameborder=\"0\" allow=\"autoplay; encrypted-media\" allowfullscreen></iframe>"
      ],
      "text/plain": [
       "<IPython.core.display.HTML object>"
      ]
     },
     "metadata": {
      "tags": []
     },
     "output_type": "display_data"
    }
   ],
   "source": [
    "%%HTML\n",
    "<iframe width=\"560\" height=\"315\" src=\"https://www.youtube.com/embed/srxexLishgY?rel=0\" frameborder=\"0\" allow=\"autoplay; encrypted-media\" allowfullscreen></iframe>"
   ]
  },
  {
   "cell_type": "markdown",
   "metadata": {
    "colab_type": "text",
    "id": "n0ugBvGUTcZh"
   },
   "source": [
    "### Calculating determinants, Cofactor Formula and Tridiagonal Formula\n",
    "\n"
   ]
  },
  {
   "cell_type": "markdown",
   "metadata": {
    "colab_type": "text",
    "id": "BLad_PeHbdWx"
   },
   "source": [
    "#### Problems\n"
   ]
  },
  {
   "cell_type": "markdown",
   "metadata": {
    "colab_type": "text",
    "id": "uvZQeq5sbja_"
   },
   "source": [
    "#####Problem 19.1: \n",
    "Compute the determinant of:\n",
    "$A=\\left[\\begin{matrix}\n",
    "0 &0 &0 &1\\\\\n",
    "1 &0 &0 &0\\\\\n",
    "0 &1 &0 &0\\\\\n",
    "0 &0 &1 &0\n",
    "\\end{matrix}\\right]$  \n",
    "Which method of computing the determinant do you prefer for this problem,and why?  \n",
    "\n",
    "|A|=-1\n",
    "As there are 3 row exchanges to get to I and |I|=1\n"
   ]
  },
  {
   "cell_type": "markdown",
   "metadata": {
    "colab_type": "text",
    "id": "eFbsjzNRcLi8"
   },
   "source": [
    "##### Problem 19.2: \n",
    "(5.2 #33. Introduction to Linear Algebra: Strang) \n",
    "The symmetric Pascal matrices have determinant 1. If I subtract 1 from the n, n entry, why does the determinant become zero? (Use rule 3 or cofactors.)  \n",
    "$det(A)=\\left|\\begin{matrix}\n",
    "1& 1& 1& 1\\\\\n",
    "1& 2& 3& 4\\\\\n",
    "1& 3&6& 10\\\\\n",
    "1& 4& 10& 20\n",
    "\\end{matrix}\\right|=1$(known)\n",
    "\n",
    "$det(A)=\\left|\\begin{matrix}\n",
    "1& 1& 1& 1\\\\\n",
    "1& 2& 3& 4\\\\\n",
    "1& 3&6& 10\\\\\n",
    "1& 4& 10& 20-1\n",
    "\\end{matrix}\\right|=0$(explain why)\n",
    "\n",
    "$det(A)=\\left|\\begin{matrix}\n",
    "1& 1& 1& 1\\\\\n",
    "1& 2& 3& 4\\\\\n",
    "1& 3&6& 10\\\\\n",
    "1& 4& 10& 20-1\n",
    "\\end{matrix}\\right|=\\left|\\begin{matrix}\n",
    "1& 1& 1& 1\\\\\n",
    "1& 2& 3& 4\\\\\n",
    "1& 3&6& 10\\\\\n",
    "1& 4& 10& 20\n",
    "\\end{matrix}\\right|+\\left|\\begin{matrix}\n",
    "1& 1& 1& 1\\\\\n",
    "1& 2& 3& 4\\\\\n",
    "1& 3&6& 10\\\\\n",
    "0& 0& 0& -1\n",
    "\\end{matrix}\\right|=|P_4|-1*|P_3|=1-1*1=0$"
   ]
  },
  {
   "cell_type": "markdown",
   "metadata": {
    "colab_type": "text",
    "id": "N8PvHuU7fp-b"
   },
   "source": [
    "#### Lecture 19 Video"
   ]
  },
  {
   "cell_type": "code",
   "execution_count": 9,
   "metadata": {
    "colab": {
     "base_uri": "https://localhost:8080/",
     "height": 10
    },
    "colab_type": "code",
    "id": "Siz1JtrVTinU",
    "outputId": "bf288b3c-5a1d-4a10-afe0-995c90992147"
   },
   "outputs": [
    {
     "data": {
      "text/html": [
       "<iframe width=\"560\" height=\"315\" src=\"https://www.youtube.com/embed/23LLB9mNJvc?rel=0\" frameborder=\"0\" allow=\"autoplay; encrypted-media\" allowfullscreen></iframe>\n"
      ],
      "text/plain": [
       "<IPython.core.display.HTML object>"
      ]
     },
     "metadata": {},
     "output_type": "display_data"
    }
   ],
   "source": [
    "%%HTML\n",
    "<iframe width=\"560\" height=\"315\" src=\"https://www.youtube.com/embed/23LLB9mNJvc?rel=0\" frameborder=\"0\" allow=\"autoplay; encrypted-media\" allowfullscreen></iframe>"
   ]
  },
  {
   "cell_type": "markdown",
   "metadata": {
    "colab_type": "text",
    "id": "xSdikm46fxas"
   },
   "source": [
    "### Cramer's Rule, Inverse Matrix and Volume\n",
    "\n",
    "$A^{-1}=\\frac{1}{|A|}C_{factor}^T$  "
   ]
  },
  {
   "cell_type": "markdown",
   "metadata": {},
   "source": [
    "Ref: how to find cofactor $C_{factor}^T$ http://www.mathwords.com/c/cofactor_matrix.htm"
   ]
  },
  {
   "cell_type": "markdown",
   "metadata": {
    "colab_type": "text",
    "id": "hQbFghoAmlQe"
   },
   "source": [
    "#### Problems"
   ]
  },
  {
   "cell_type": "markdown",
   "metadata": {
    "colab_type": "text",
    "id": "TEsyBQxumpB7"
   },
   "source": [
    "##### Problem 20.1:\n",
    "(5.3 #8. Introduction to Linear Algebra: Strang) Suppose \n",
    "\n",
    "$A=\\left[\\begin{matrix}\n",
    "1& 1& 4\\\\\n",
    "1& 2& 2\\\\\n",
    "1& 2& 5 \n",
    "\\end{matrix}\\right]$  \n",
    "\n",
    "Find its cofactor matrix C and multiply $AC^T$ to find det(A).  \n",
    "If you change $a_{1,3}$ = 4 to 100, why is det(A) unchanged?\n",
    "\n",
    "**Ans:**\n",
    "$C=\\left[\\begin{matrix}\n",
    "6& -3& 0\\\\\n",
    "3& 1& -1\\\\\n",
    "-6& 2& 1 \n",
    "\\end{matrix}\\right]$  \n",
    "$AC^T=\n",
    "\\left[\\begin{matrix}\n",
    "1& 1& 4\\\\\n",
    "1& 2& 2\\\\\n",
    "1& 2& 5 \n",
    "\\end{matrix}\\right]\n",
    "\\left[\\begin{matrix}\n",
    "6& 3& -6\\\\\n",
    "-3& 1& 2\\\\\n",
    "0& -1& 1 \n",
    "\\end{matrix}\\right]=\n",
    "\\left[\\begin{matrix}\n",
    "3& 0& 0\\\\\n",
    "0& 3& 0\\\\\n",
    "0& 0& 3 \n",
    "\\end{matrix}\\right]\n",
    "$\n",
    "\n",
    "Review\n",
    "$A^{-1}=\\frac{1}{|A|}C^T$  \n",
    "$AA^{-1}=\\frac{1}{|A|}AC^T$  \n",
    "$I=\\frac{1}{|A|}AC^T$  \n",
    "\n",
    "\n",
    "**b)**\n",
    "As cofactor of $a_{1,3}$ is zero, the determinant doesn't change. \n",
    "\n",
    "\n"
   ]
  },
  {
   "cell_type": "markdown",
   "metadata": {
    "colab_type": "text",
    "id": "UQPmlZIbqGZG"
   },
   "source": [
    "##### Problem 20.2: \n",
    "(5.3 #28.) Spherical coordinates ρ, φ, θ satisfy x = ρ sin φ cos θ, y = ρ sin φ sin θ and z = ρ cos φ.\n",
    "Find the three by three matrix of partial derivatives: \n",
    "$P=\\left[\n",
    "\\begin{matrix}\n",
    "∂x/∂ρ &∂x/∂φ& ∂x/∂θ\\\\\n",
    "∂y/∂ρ &∂y/∂φ& ∂y/∂θ\\\\\n",
    "∂z/∂ρ &∂z/∂φ &∂z/∂θ\n",
    "\\end{matrix}\n",
    "\\right]$\n",
    "\n",
    "Simplify its determinant to J = ρ2 sin φ. In spherical coordinates,   \n",
    "dV = ρ2 sin φ dρ dφ dθ  \n",
    "is the volume of an infinitesimal “coordinate box.” \n",
    "\n",
    "$P=\\left[\n",
    "\\begin{matrix}\n",
    "sin φ\\, cos θ &ρ cos φ\\, cos θ& -ρ sin φ\\, sin θ\\\\\n",
    "sin φ\\, sin θ &ρ cos φ\\, sin θ& ρ sin φ\\, cos θ\\\\\n",
    "cos φ &-ρ sin φ &0\n",
    "\\end{matrix}\n",
    "\\right]$\n",
    "\n",
    "$J=ρ^2cos φ(cosφ\\,cosθ\\,sinφ\\,cosθ+cosφ\\,sinθ\\,sinφ\\,sinθ)+ρ^2 sin φ(sinφ\\,cosθ\\,sinφ\\,cosθ+sinφ\\,sinθ\\,sinφ\\,sinθ)\\\\\n",
    "=ρ^2cos^2 φ\\,sinφ+ρ^2 sin^3 φ\\\\\n",
    "=ρ^2sinφ$  \n",
    "\n"
   ]
  },
  {
   "cell_type": "markdown",
   "metadata": {
    "colab_type": "text",
    "id": "eaOOF5zsgAyQ"
   },
   "source": [
    "#### Lecture 20 Video"
   ]
  },
  {
   "cell_type": "code",
   "execution_count": 11,
   "metadata": {
    "colab": {
     "base_uri": "https://localhost:8080/",
     "height": 10
    },
    "colab_type": "code",
    "id": "qIHvQH7qf-Lh",
    "outputId": "dca3bcc7-3456-4194-dc65-d57683d0ee62"
   },
   "outputs": [
    {
     "data": {
      "text/html": [
       "<iframe width=\"560\" height=\"315\" src=\"https://www.youtube.com/embed/QNpj-gOXW9M?rel=0\" frameborder=\"0\" allow=\"autoplay; encrypted-media\" allowfullscreen></iframe>\n"
      ],
      "text/plain": [
       "<IPython.core.display.HTML object>"
      ]
     },
     "metadata": {},
     "output_type": "display_data"
    }
   ],
   "source": [
    "%%HTML\n",
    "<iframe width=\"560\" height=\"315\" src=\"https://www.youtube.com/embed/QNpj-gOXW9M?rel=0\" frameborder=\"0\" allow=\"autoplay; encrypted-media\" allowfullscreen></iframe>"
   ]
  },
  {
   "cell_type": "markdown",
   "metadata": {
    "colab_type": "text",
    "id": "cyle6cxMmNF0"
   },
   "source": [
    "### Eigen Vectors & Eigen Values\n",
    "\n",
    "If $A$ is $n*n$ Matrix then there exists a eigen value(complex) $\\lambda$ and eigen vector $v$ such that  \n",
    "    \n",
    "<div style=\"border:solid\">$\\quad Av=\\lambda v$</div>\n",
    "\n",
    "$\\quad Av-\\lambda v=0$\n",
    "\n",
    "$\\quad (A-\\lambda I)v=0$\n",
    "$\\quad |A-\\lambda I|=0\\quad \\quad$\n",
    "for non zero eigen vector v to exist\n",
    "\n",
    "* Sum of eigen values = Trace of the matrix = Sum of elements of the diagonal.  \n",
    "* Product of eigen values = Determinant of the matrix = Product of the elements on the diagonal for triangular matrices  \n",
    "\n",
    "##### Getting Eigen Values  \n",
    "If we consider $\\lambda$ to be a variable then $|A-\\lambda I|=0$ becomes a characteristic polynomial equation of the order of matrix $A$ ($n$). Called **characteristic polynomial** of $A$.  \n",
    "$(\\lambda - \\lambda_{1})(\\lambda - \\lambda_{2})(\\lambda - \\lambda_{3})...(\\lambda - \\lambda_{i})...(\\lambda - \\lambda_{n})=0$  \n",
    "(If you are confused about how a matrix representation became an polynomial equation in $\\lambda$ see the example workout below)  \n",
    "Now $\\lambda_{1},\\lambda_{2}...\\lambda_{n}$ are eigen values of matrix $A$\n",
    "##### Getting Eigen Vectors  \n",
    "After this we can get the corresponding eigen vectors $v_{1},v_{2}...v_{n}$.\n",
    "\n",
    "Geometrically speaking  \n",
    "$A$ scales $v_{1}\\quad by\\quad\\lambda_{1}$  \n",
    "$A$ scales $v_{4}\\quad by\\quad\\lambda_{2}$  \n",
    ".  \n",
    ".  \n",
    ".  \n",
    "$A$ scales $v_{n}\\quad by\\quad\\lambda_{n}$  \n",
    "\n",
    "\n",
    "##### Properties of Eigen Values and Eigen Vectors #####\n",
    "\n",
    "\n",
    "###### Algebraic and Geometric Multiplicity ######\n",
    "In the above polynomial equation in $\\lambda$, there could be duplicate solutions when  \n",
    "$(\\lambda - \\lambda_{1})^{g_{1}}(\\lambda - \\lambda_{2})^{g_{2}}(\\lambda - \\lambda_{3})^{g_{3}}...(\\lambda - \\lambda_{i})^{g_{i}}=0$  \n",
    "$\\sum_{j=1}^{i} g_{j}=n\\quad$ Where $g_{j}$ is the **algebraic multiplicity** of $\\lambda_{j}$ w.r.t the polynomial equation all arrived at from the transformation matrix $A$.  \n",
    "$g_{j}$ the algebraic multiplicty is usually denoted as $\\mu_{A}(\\lambda_{j})$.\n",
    "\n",
    "For each eigen value $\\lambda$ there could be multiple *linearly independent* eigen vectors if $\\mu_{A}(\\lambda)>1$.  \n",
    "The number of linearly independent eignen vectors for each eigen value is known as **geometric multiplicity** denoted by $\\gamma_A(\\lambda)$.  \n",
    "$1\\leq\\gamma_A(\\lambda)\\leq\\mu_A(\\lambda)\\leq n\\quad$ for a given Matrix $A$ of size $n*n$ and one of its eigen value $\\lambda$   \n",
    "\n",
    "<div style=\"border:groove\">$\\lambda$ could be a complex number</div>\n",
    "\n",
    "$\\lambda$ is called a simple eigenvalue if it's algebraic mulitplicity is one.  \n",
    "$\\lambda$ is called a semisimple eigenvalue if $\\mu_A(\\lambda)=\\gamma_A(\\lambda)$  \n",
    "\n",
    "\n",
    "#### For any Matrix $A$ with complex numbers  \n",
    "\n",
    "$\\operatorname {tr} (A)=\\sum _{i=1}^{n}A_{ii}=\\sum _{i=1}^{n}\\lambda _{i}=\\lambda _{1}+\\lambda _{2}+\\cdots +\\lambda _{n}.$  \n",
    "\n",
    "$\\det(A)=\\prod _{i=1}^{n}\\lambda _{i}=\\lambda _{1}\\lambda _{2}\\cdots \\lambda _{n}.$  \n",
    "\n",
    "For symmetric matrices, signs of diagonal elements corresponds to signs on eigen values.  \n",
    "\n",
    "#### Special Cases where handling of Matrices becomes easier.  \n",
    "\n",
    "Conjugate of a complex number $c=x+iy$ is $\\bar{c}=x-iy$.  \n",
    "Conjugate of a matrix $A$ is denoted as $\\bar{A}$.  \n",
    "$\\quad$Where $A_{i,j}=conjugate((\\bar{A})_{j,i})$.      \n",
    "$A$ is Hermitian matrix if $A=\\bar{A}^T$.  \n",
    "Conjugate Transpose of $A$, $\\bar{A}^T$ is usually denoted as $A^*$.  \n",
    "In case of $A=A^*$, all eigen values would be real.  \n",
    "When $A$ is real, $A=\\bar{A}$.  \n",
    "When $A$ is symmetric, $A=A^T$.  \n",
    "When $A$ is real symmetric all it's eigen values would be real.  \n",
    "\n",
    "When $A$ is Hermitan $A=A^*$ which is $\\bar{A^T}$  \n",
    "$\\quad\\bar{v^T}Av = \\bar{v^T} · (\\lambda v) = \\lambda  ||v||^2\\qquad(i)$  \n",
    "$\\quad\\bar{v^T}Av = \\bar{v^T}\\bar{A^T} · v\\qquad Given-A-is-Hermitan$  \n",
    "$\\qquad\\implies\\bar{v^T}Av = \\bar{(Av)^T} · v$  \n",
    "$\\qquad\\implies\\bar{v^T}Av = \\bar{(\\lambda v)^T} · v$  \n",
    "$\\qquad\\implies\\bar{v^T}Av = \\bar{(\\lambda v)^T} · v$  \n",
    "$\\qquad\\implies\\bar{v^T}Av = \\bar{(\\lambda v)^T} · v$  \n",
    "$\\qquad\\implies\\bar{v^T}Av = \\bar{\\lambda }\\bar{v^T} · v$  \n",
    "$\\qquad\\implies\\bar{v^T}Av = \\bar{\\lambda }||v||^2$  \n",
    "$\\qquad\\implies\\bar{v^T}Av = \\bar{\\lambda }||v||^2 = \\lambda  ||v||^2\\qquad from (i)$\n",
    "<div style=\"border:groove\">$\\qquad\\bar{\\lambda }=\\lambda \\qquad$ Thus \\lambda  is real, when $A=A^*=\\bar{A^T}$, esp. when $A$ is real symmetric</div>  \n",
    "<div style=\"border:solid\">When $A$ is real symmetric all it's eigen values would be real.</div>\n",
    "\n",
    "\n",
    "You can go to https://en.wikipedia.org/wiki/Eigenvalues_and_eigenvectors for further information.\n"
   ]
  },
  {
   "cell_type": "markdown",
   "metadata": {
    "colab_type": "text",
    "id": "pz0StXdRJHNH"
   },
   "source": [
    "#### Problems"
   ]
  },
  {
   "cell_type": "markdown",
   "metadata": {
    "colab_type": "text",
    "id": "ekf3TgwsJL6x"
   },
   "source": [
    "##### Problem 21.1: \n",
    "(6.1 #19. Introduction to Linear Algebra: Strang) A three by three matrix B is known to have eigenvalues 0, 1 and 2. This information\n",
    "is enough to find three of these (give the answers where possible):  \n",
    "a) The rank of B  \n",
    "b) The determinant of $B^TB$  \n",
    "c) The eigenvalues of $B^TB$  \n",
    "d) The eigenvalues of $(B^2 + I)^{−1}$  \n",
    "\n",
    "**Ans**\n",
    "\n",
    "**a)** There exists a solution for Bx=0. So all the columns of B are not independent. So the rank of B is 2.  \n",
    "**b)** $|B^TB|=|B^T||B|=|B^T|0=0$, as B is singular.  \n",
    "**c)** The eigenvalues of $B^TB$, there is no enough information to calculate this\n",
    "**d)**\n",
    "If p(t) is a polynomial and if x is an eigenvector of A with eigenvalue λ, then\n",
    "$p(A)x = p(λ)x$.  \n",
    "We also know that if λ is an eigenvalue of A then 1/λ is an eigenvalue of A−1. Hence the eigenvalues of $(B2 + I)$^{−1} are $\\frac{1}{0^2+1},\\,\\,\\frac{1}{1^2+1},\\,\\,\\frac{1}{2^2+1}$ = 1,$\\frac{1}{2}$,$\\frac{1}{5}$  \n",
    "\n",
    "\n",
    "\n",
    "\n"
   ]
  },
  {
   "cell_type": "markdown",
   "metadata": {
    "colab_type": "text",
    "id": "RHiP0m8vP0fW"
   },
   "source": [
    "##### Problem 21.2: \n",
    "(6.1 #29.) Find the eigenvalues of A, B, and C when  \n",
    "$A=\n",
    "\\left[\\begin{matrix}\n",
    "1& 2& 3\\\\\n",
    "0& 4& 5\\\\\n",
    "0& 0& 6 \n",
    "\\end{matrix}\\right],\\quad B=\n",
    "\\left[\\begin{matrix}\n",
    "0& 0& 1\\\\\n",
    "0& 2& 0\\\\ \n",
    "3& 0& 0\n",
    "\\end{matrix}\\right],\\quad C=\n",
    "\\left[\\begin{matrix}\n",
    "2& 2& 2\\\\ \n",
    "2& 2& 2\\\\ \n",
    "2& 2& 2 \n",
    "\\end{matrix}\\right]$ \n",
    "\n",
    "For A eigenvalues are 1,4 &6  \n",
    "For B $\\left|\\begin{matrix}\n",
    "-\\lambda&0&1\\\\\n",
    "0&2-\\lambda&0\\\\\n",
    "3&0&-\\lambda\n",
    "\\end{matrix}\\right|=0\\\\\n",
    "\\implies\\lambda^2(2-\\lambda)-3(2-\\lambda)=0\\\\\n",
    "\\implies-\\lambda^3+2\\lambda^2+3\\lambda-6=0\\\\\n",
    "\\implies-\\lambda^2(\\lambda-2)+3(\\lambda-2)=0\\\\\n",
    "\\implies(3-\\lambda^2)(\\lambda-2)=0\\\\\n",
    "\\implies\\lambda=2,\\pm\\sqrt3$  \n",
    "\n",
    "For C$\\left|\\begin{matrix}\n",
    "2-\\lambda& 2& 2\\\\ \n",
    "2& 2-\\lambda& 2\\\\ \n",
    "2& 2& 2-\\lambda \n",
    "\\end{matrix}\\right|=0\\\\\n",
    "\\implies(2-\\lambda)((2-\\lambda)^2-4)-2(4-2\\lambda-4)+2(4-4+2\\lambda)=0\\\\\n",
    "\\implies(2-\\lambda)(\\lambda^2-4\\lambda)+4\\lambda+4\\lambda=0\\\\\n",
    "\\implies(2-\\lambda)(\\lambda^2-4\\lambda)+8\\lambda=0\\\\\n",
    "\\implies(2-\\lambda)(\\lambda-4)+8=0\\qquad\\text{one solution is} \\lambda=0\\\\\n",
    "\\implies2\\lambda-8-\\lambda^2+4\\lambda+8=0\\\\\n",
    "\\implies-\\lambda^2+6\\lambda=0\\\\\n",
    "\\lambda=0,0\\text{ and }6\n",
    "$\n"
   ]
  },
  {
   "cell_type": "markdown",
   "metadata": {
    "colab_type": "text",
    "id": "t5f56ZkayqLQ"
   },
   "source": [
    "#### Lecture 21 Video"
   ]
  },
  {
   "cell_type": "code",
   "execution_count": 0,
   "metadata": {
    "colab": {
     "base_uri": "https://localhost:8080/",
     "height": 336
    },
    "colab_type": "code",
    "id": "AoBXQ77nyibQ",
    "outputId": "f254b703-8327-4c67-a294-ed5ebdab49f1"
   },
   "outputs": [
    {
     "data": {
      "text/html": [
       "<iframe width=\"560\" height=\"315\" src=\"https://www.youtube.com/embed/lXNXrLcoerU?rel=0\" frameborder=\"0\" allow=\"autoplay; encrypted-media\" allowfullscreen></iframe>"
      ],
      "text/plain": [
       "<IPython.core.display.HTML object>"
      ]
     },
     "metadata": {
      "tags": []
     },
     "output_type": "display_data"
    }
   ],
   "source": [
    "%%HTML\n",
    "<iframe width=\"560\" height=\"315\" src=\"https://www.youtube.com/embed/lXNXrLcoerU?rel=0\" frameborder=\"0\" allow=\"autoplay; encrypted-media\" allowfullscreen></iframe>"
   ]
  },
  {
   "cell_type": "markdown",
   "metadata": {
    "colab_type": "text",
    "id": "GoyjGsVyyVkE"
   },
   "source": [
    "### Diagnolisable\n",
    "\n",
    "$\\quad Av=\\lambda v$  \n",
    "$\\qquad \\implies A{\\begin{bmatrix} v_1 &v_2 &\\cdots &v_n \\end{bmatrix}} ={\\begin{bmatrix}\\lambda _{1}v_{1}&\\lambda _{2}v_{2}&\\cdots &\\lambda _{n}v_{n}\\end{bmatrix}}$.  \n",
    "$\\qquad if D = \\left[{\\begin{array}{cccc} \\lambda_1&0&\\cdots &0\\\\ 0&\\lambda_2&\\cdots &0\\\\\\vdots \\\\0&0&\\cdots &\\lambda_n \\end{array}}\\right]$  \n",
    "$\\qquad if U={\\begin{bmatrix} v_1 &v_2 &\\cdots &v_n \\end{bmatrix}}$  \n",
    "$\\qquad\\implies AU=UD$  \n",
    "$\\qquad\\implies A=UDU^{-1}$  \n",
    "\n",
    "Conversly if we can decompose $A$ in to $UDU^{-1}$ where $D$ is a diagonal matrix. Then the diagonal elements of $D$ would be the eigen values and the columns in $U$ would be eigen vectors.\n",
    "\n",
    "$AU=UD\\\\\n",
    "\\implies A^2U=AUD\\\\\n",
    "\\implies A^2U=UDD\\\\\n",
    "\\implies A^2U=UD^2\\quad $  \n",
    "Thus the lambdas of $A^2$ are $D^2$. In general $A^k$ will have $D^k\\,\\,\\text{as }\\lambda$s, with the same eigen vectors as A.  \n",
    "\n",
    "If $A=A^T\\implies UDU^{-1}=(UDU^{-1})^T\\implies UDU^{-1}=U^{-1}{^T}D^TU^T\\implies UDU^{-1}=U^{-1}{^T}DU^T\\implies U^{-1}=U^T\\implies A=UDU^T$"
   ]
  },
  {
   "cell_type": "markdown",
   "metadata": {
    "colab_type": "text",
    "id": "t8crwNN-hOvH"
   },
   "source": [
    "#### Problems"
   ]
  },
  {
   "cell_type": "markdown",
   "metadata": {
    "colab_type": "text",
    "id": "z5X3ZQdRhRqm"
   },
   "source": [
    "##### Problem 22.1:\n",
    "(6.2 #6. Introduction to Linear Algebra: Strang)  \n",
    "Describe all matrices S that diagonalize this matrix A (find all eigenvectors):  \n",
    "$A=\\left[\\begin{matrix}\n",
    "4&0\\\\ \n",
    "1&2 \n",
    "\\end{matrix}\\right]\n",
    "$  \n",
    "Then describe all matrices that diagonalize $A^{−1}$.\n",
    "\n",
    "$(4-\\lambda)(2-\\lambda)=0\\implies\\lambda=2,4$  \n",
    "\n",
    "Let's find the eigen vectors..  \n",
    "$A=\\left[\\begin{matrix}\n",
    "4&0\\\\ \n",
    "1&2 \n",
    "\\end{matrix}\\right]\n",
    "\\left[\\begin{matrix}\n",
    "x\\\\ \n",
    "y \n",
    "\\end{matrix}\\right]=2\n",
    "\\left[\\begin{matrix}\n",
    "x\\\\ \n",
    "y \n",
    "\\end{matrix}\\right]\\\\\n",
    "\\implies v_1=\\left[\\begin{matrix}\n",
    "0\\\\ \n",
    "1 \n",
    "\\end{matrix}\\right]$\n",
    "\n",
    "$A=\\left[\\begin{matrix}\n",
    "4&0\\\\ \n",
    "1&2 \n",
    "\\end{matrix}\\right]\n",
    "\\left[\\begin{matrix}\n",
    "x\\\\ \n",
    "y \n",
    "\\end{matrix}\\right]=4\n",
    "\\left[\\begin{matrix}\n",
    "x\\\\ \n",
    "y \n",
    "\\end{matrix}\\right]\\\\\n",
    "\\implies v_1=\\left[\\begin{matrix}\n",
    "2\\\\ \n",
    "1 \n",
    "\\end{matrix}\\right]$\n",
    "\n",
    "Thus A can be written as  \n",
    "$A=\\left[\\begin{matrix}\n",
    "0&2\\\\ \n",
    "1&1 \n",
    "\\end{matrix}\\right]\n",
    "\\left[\\begin{matrix}\n",
    "2&0\\\\ \n",
    "0&4 \n",
    "\\end{matrix}\\right]\n",
    "\\left[\\begin{matrix}\n",
    "-1/2&1\\\\ \n",
    "1/2&0 \n",
    "\\end{matrix}\\right]=\n",
    "\\left[\\begin{matrix}\n",
    "0&8\\\\ \n",
    "2&4 \n",
    "\\end{matrix}\\right]\n",
    "\\left[\\begin{matrix}\n",
    "-1/2&1\\\\ \n",
    "1/2&0 \n",
    "\\end{matrix}\\right]=\n",
    "\\left[\\begin{matrix}\n",
    "4&0\\\\ \n",
    "1&2 \n",
    "\\end{matrix}\\right]$  \n",
    "\n",
    "$A=UDU^{-1}\\\\\n",
    "\\implies A^{-1}=\\left(UDU^{-1}\\right)^{-1}\\\\\n",
    "\\implies A^{-1}=(U^{-1})^{-1}D^{-1}U^{-1}\\\\\n",
    "\\implies A^{-1}=UD^{-1}U^{-1}\\\\\n",
    "A^{-1}=\\left[\\begin{matrix}\n",
    "0&2\\\\ \n",
    "1&1 \n",
    "\\end{matrix}\\right]\n",
    "\\left[\\begin{matrix}\n",
    "1/2&0\\\\ \n",
    "0&1/4 \n",
    "\\end{matrix}\\right]\n",
    "\\left[\\begin{matrix}\n",
    "-1/2&1\\\\ \n",
    "1/2&0 \n",
    "\\end{matrix}\\right]\n",
    "$\n",
    "\n"
   ]
  },
  {
   "cell_type": "markdown",
   "metadata": {
    "colab_type": "text",
    "id": "pg8AVvn6q31p"
   },
   "source": [
    "##### Problem 22.2: \n",
    "(6.2 #16.) Find Λ and S to diagonalize A :  \n",
    "$\\left[\\begin{matrix}\n",
    ".6&.9\\\\\n",
    ".4&.1\n",
    "\\end{matrix}\\right]$  \n",
    "What is the limit of $Λ^k$ as k$\\to$∞? What is the limit matrix of $SΛ^kS^{−1}$? In the columns of this matrix you see the \\_\\_\\_\\_\\_. \n",
    "\n",
    "$(6-10\\lambda)(1-10\\lambda)-36=0\\\\\n",
    "\\implies 6-10\\lambda-60\\lambda+100\\lambda^2-36=0\\\\\n",
    "\\implies \\lambda^2-0.7\\lambda-0.3=0\\\\\n",
    "(\\lambda-1)(\\lambda+0.3)=0\n",
    "\\lambda=1,-0.3\n",
    "$  \n",
    "\n",
    "\n",
    "Now for Diagnolising...\n",
    "$\\left[\\begin{matrix}\n",
    ".6&.9\\\\\n",
    ".4&.1\n",
    "\\end{matrix}\\right]\n",
    "\\left[\\begin{matrix}\n",
    "x\\\\\n",
    "y\n",
    "\\end{matrix}\\right]=\n",
    "\\left[\\begin{matrix}\n",
    "x\\\\\n",
    "y\n",
    "\\end{matrix}\\right]\\\\\n",
    "\\implies v_1=\\left[\\begin{matrix}\n",
    "9\\\\\n",
    "4\n",
    "\\end{matrix}\\right]$\n",
    "\n",
    "\n",
    "$\\left[\\begin{matrix}\n",
    ".6&.9\\\\\n",
    ".4&.1\n",
    "\\end{matrix}\\right]\n",
    "\\left[\\begin{matrix}\n",
    "x\\\\\n",
    "y\n",
    "\\end{matrix}\\right]=-0.3\n",
    "\\left[\\begin{matrix}\n",
    "x\\\\\n",
    "y\n",
    "\\end{matrix}\\right]\\\\\n",
    "\\implies v_1=\\left[\\begin{matrix}\n",
    "1\\\\\n",
    "-1\n",
    "\\end{matrix}\\right]$\n",
    "\n",
    "\n",
    "$SΛS^{−1}=\\\\\n",
    "\\frac{1}{13}\\left[\\begin{matrix}\n",
    "1&9\\\\\n",
    "-1&4\n",
    "\\end{matrix}\\right]\n",
    "\\left[\\begin{matrix}\n",
    "-0.3&0\\\\\n",
    "0&1\n",
    "\\end{matrix}\\right]\n",
    "\\left[\\begin{matrix}\n",
    "4&-9\\\\\n",
    "1&1\n",
    "\\end{matrix}\\right]\n",
    "$\n",
    "\n",
    "$Λ^k \\text{ as }k→∞=\\left[\\begin{matrix}\n",
    "0&0\\\\\n",
    "0&1\n",
    "\\end{matrix}\\right]$  \n",
    "\n",
    "$SΛ^kS^{−1}\\text{ as }k→∞=\\frac{1}{13}\\left[\\begin{matrix}\n",
    "1&9\\\\\n",
    "-1&4\n",
    "\\end{matrix}\\right]\n",
    "\\left[\\begin{matrix}\n",
    "0&0\\\\\n",
    "0&1\n",
    "\\end{matrix}\\right]\n",
    "\\left[\\begin{matrix}\n",
    "4&-9\\\\\n",
    "1&1\n",
    "\\end{matrix}\\right]=\\frac{1}{13}\n",
    "\\left[\\begin{matrix}\n",
    "0&9\\\\\n",
    "0&4\n",
    "\\end{matrix}\\right]\n",
    "\\left[\\begin{matrix}\n",
    "4&-9\\\\\n",
    "1&1\n",
    "\\end{matrix}\\right]=\\frac{1}{13}\n",
    "\\left[\\begin{matrix}\n",
    "9&9\\\\\n",
    "4&4\n",
    "\\end{matrix}\\right]$\n",
    "\n",
    "\n",
    "\n",
    "\n"
   ]
  },
  {
   "cell_type": "markdown",
   "metadata": {
    "colab_type": "text",
    "id": "f6royn9WYLpf"
   },
   "source": [
    "#### Lecture 22 Video"
   ]
  },
  {
   "cell_type": "code",
   "execution_count": 0,
   "metadata": {
    "colab": {
     "base_uri": "https://localhost:8080/",
     "height": 10
    },
    "colab_type": "code",
    "id": "UufjcR1wYRDQ",
    "outputId": "b5821292-b134-4267-b5d9-241ae7b9230b"
   },
   "outputs": [
    {
     "data": {
      "text/html": [
       "<iframe width=\"560\" height=\"315\" src=\"https://www.youtube.com/embed/13r9QY6cmjc?rel=0\" frameborder=\"0\" allow=\"autoplay; encrypted-media\" allowfullscreen></iframe>"
      ],
      "text/plain": [
       "<IPython.core.display.HTML object>"
      ]
     },
     "metadata": {
      "tags": []
     },
     "output_type": "display_data"
    }
   ],
   "source": [
    "%%HTML\n",
    "<iframe width=\"560\" height=\"315\" src=\"https://www.youtube.com/embed/13r9QY6cmjc?rel=0\" frameborder=\"0\" allow=\"autoplay; encrypted-media\" allowfullscreen></iframe>"
   ]
  },
  {
   "cell_type": "markdown",
   "metadata": {
    "colab_type": "text",
    "id": "XaaDQQol868Q"
   },
   "source": [
    "### Differential Equations, $e^{At}$ "
   ]
  },
  {
   "cell_type": "markdown",
   "metadata": {
    "colab_type": "text",
    "id": "u60OJLf5KIz9"
   },
   "source": [
    "#### Problems"
   ]
  },
  {
   "cell_type": "markdown",
   "metadata": {
    "colab_type": "text",
    "id": "dX9KTa9WKNti"
   },
   "source": [
    "##### Problem 23.1: \n",
    "(6.3 #14.a Introduction to Linear Algebra: Strang) \n",
    "The matrix in this question is skew-symmetric $(A^T = −A)$ :  \n",
    "$\\frac{du}{dt}=\n",
    "\\left[\\begin{matrix}\n",
    "0& c& −b\\\\\n",
    "−c& 0& a\\\\\n",
    "b& −a& 0\n",
    "\\end{matrix}\\right]u$  \n",
    "or  \n",
    "$u_1' = cu_2 − bu_3$  \n",
    "$u_2'= au_3 − cu_1$  \n",
    "$u_3'= bu_1 − au_2$  \n",
    "Find the derivative of ||u(t)||$^2$ using the definition:  \n",
    "$||u(t)||^2 = u_1^2 + u_2^2 + u_3^2$.  \n",
    "What does this tell you about the rate of change of the length of u? What \n",
    "does this tell you about the range of values of u(t)? \n"
   ]
  },
  {
   "cell_type": "markdown",
   "metadata": {
    "colab_type": "text",
    "id": "CO1D2eSiM0eH"
   },
   "source": [
    "##### Problem 23.2: \n",
    "(6.3 #24.) Write $A =\\left[\\begin{matrix}1&1\\\\0&3\\end{matrix}\\right]$ as $SΛS^{−1}$. Multiply $Se^{Λt}S^{−1}$ to find the matrix exponential $e^{At}$. Check your work by evaluating $e^{At}$ and the derivative of $e^{At}$ when t = 0. \n",
    "\n",
    "$A=\n",
    "\\left[\\begin{matrix}\n",
    "1&1\\\\\n",
    "0&3\n",
    "\\end{matrix}\\right]\n",
    "$  \n",
    "\n",
    "Get eigen values..  \n",
    "$(1-\\lambda)(3-\\lambda)=0\\implies \\lambda_1=1,\\,\\,\\lambda_2=3$  \n",
    "\n",
    "Get corresponding eigen vectors..  \n",
    "For $v_1=\n",
    "\\left[\\begin{matrix}\n",
    "1-1&1\\\\\n",
    "0&3-1\n",
    "\\end{matrix}\\right]\n",
    "\\left[\\begin{matrix}\n",
    "x_!\\\\\n",
    "x_2\n",
    "\\end{matrix}\\right]=0\\implies v_1=\\left[\\begin{matrix}\n",
    "1\\\\\n",
    "0\n",
    "\\end{matrix}\\right]\n",
    "$  \n",
    "For $v_2=\n",
    "\\left[\\begin{matrix}\n",
    "1-3&1\\\\\n",
    "0&3-3\n",
    "\\end{matrix}\\right]\n",
    "\\left[\\begin{matrix}\n",
    "x_!\\\\\n",
    "x_2\n",
    "\\end{matrix}\\right]=0\\implies v_1=\\left[\\begin{matrix}\n",
    "1\\\\\n",
    "2\n",
    "\\end{matrix}\\right]\n",
    "$  \n",
    "\n",
    "So $A=\n",
    "\\left[\\begin{matrix}\n",
    "1&1\\\\\n",
    "0&2\n",
    "\\end{matrix}\\right]\n",
    "\\left[\\begin{matrix}\n",
    "1&0\\\\\n",
    "0&3\n",
    "\\end{matrix}\\right]\n",
    "\\left[\\begin{matrix}\n",
    "1&1\\\\\n",
    "0&2\n",
    "\\end{matrix}\\right]^{-1}=\n",
    "\\left[\\begin{matrix}\n",
    "1&1\\\\\n",
    "0&2\n",
    "\\end{matrix}\\right]\n",
    "\\left[\\begin{matrix}\n",
    "1&0\\\\\n",
    "0&3\n",
    "\\end{matrix}\\right]\n",
    "\\left[\\begin{matrix}\n",
    "1&-1/2\\\\\n",
    "0&1/2\n",
    "\\end{matrix}\\right]\n",
    "$\n",
    "\n",
    "So $e^{At}=\\left[\\begin{matrix}\n",
    "1&1\\\\\n",
    "0&2\n",
    "\\end{matrix}\\right]\n",
    "\\left[\\begin{matrix}\n",
    "e^t&0\\\\\n",
    "0&e^{3t}\n",
    "\\end{matrix}\\right]\n",
    "\\left[\\begin{matrix}\n",
    "1&-1/2\\\\\n",
    "0&1/2\n",
    "\\end{matrix}\\right]=\n",
    "\\left[\\begin{matrix}\n",
    "e^t&e^{3t}\\\\\n",
    "0&2e^{3t}\n",
    "\\end{matrix}\\right]\n",
    "\\left[\\begin{matrix}\n",
    "1&-1/2\\\\\n",
    "0&1/2\n",
    "\\end{matrix}\\right]=\n",
    "\\left[\\begin{matrix}\n",
    "e^t&-e^t/2+e^{3t}/2\\\\\n",
    "0&e^{3t}\n",
    "\\end{matrix}\\right]\n",
    "$\n",
    "\n",
    "$e^{At}\\text{ at }t=0\\text{ is }I$ \n",
    "\n",
    "From above it is \n",
    "$\\left[\\begin{matrix}\n",
    "e^0&-e^0/2+e^{0}/2\\\\\n",
    "0&e^{0}\n",
    "\\end{matrix}\\right]=\\left[\\begin{matrix}\n",
    "1&-1/2+1/2\\\\\n",
    "0&1\n",
    "\\end{matrix}\\right]=\n",
    "I\n",
    "$\n",
    "\n",
    "Derivative would be $Ae^{At}$ and at t=0 it should be $A$. From $A=S\\Lambda S^{-1}$ above  \n",
    "\n",
    "$A'=\\left[\\begin{matrix}\n",
    "e^t&-e^t/2+e^{3t}/2\\\\\n",
    "0&e^{3t}\n",
    "\\end{matrix}\\right]'=\n",
    "\\left[\\begin{matrix}\n",
    "e^t&-e^t/2+3e^{3t}/2\\\\\n",
    "0&3e^{3t}\n",
    "\\end{matrix}\\right]\\\\\n",
    "\\text{ at }t=0\\text{,}A'=\n",
    "\\left[\\begin{matrix}\n",
    "1&-1/2+3/2\\\\\n",
    "0&3\n",
    "\\end{matrix}\\right]=A\n",
    "$\n",
    "\n",
    "\n",
    "\n",
    "\n",
    "\n"
   ]
  },
  {
   "cell_type": "markdown",
   "metadata": {
    "colab_type": "text",
    "id": "FZbvhENy9S_3"
   },
   "source": [
    "#### Lecture 23 Video"
   ]
  },
  {
   "cell_type": "code",
   "execution_count": 0,
   "metadata": {
    "colab": {
     "base_uri": "https://localhost:8080/",
     "height": 336
    },
    "colab_type": "code",
    "id": "ZGlQXpga9Uzr",
    "outputId": "f4dfa70c-f88f-421c-c04e-1935448a3340"
   },
   "outputs": [
    {
     "data": {
      "text/html": [
       "<iframe width=\"560\" height=\"315\" src=\"https://www.youtube.com/embed/IZqwi0wJovM?rel=0\" frameborder=\"0\" allow=\"autoplay; encrypted-media\" allowfullscreen></iframe>"
      ],
      "text/plain": [
       "<IPython.core.display.HTML object>"
      ]
     },
     "metadata": {
      "tags": []
     },
     "output_type": "display_data"
    }
   ],
   "source": [
    "%%HTML\n",
    "<iframe width=\"560\" height=\"315\" src=\"https://www.youtube.com/embed/IZqwi0wJovM?rel=0\" frameborder=\"0\" allow=\"autoplay; encrypted-media\" allowfullscreen></iframe>"
   ]
  },
  {
   "cell_type": "markdown",
   "metadata": {
    "colab_type": "text",
    "id": "uEczepS2-jA4"
   },
   "source": [
    "### App of Eigen: Markov Matrices & Fourier Series\n",
    "\n",
    "* For differential equation solutions steady state is attained due to $\\lambda=0$ as there is $e^{\\lambda t}$  in the eqn.  \n",
    "* For power series the steady state is attained due to $\\lambda=1$ as there is $\\lambda^n$ in the eqn.  \n",
    "Markov Matrix properties\n",
    " 1. All entries$\\geq$0, so det etc are all $\\geq$0  \n",
    " 2. All columns add-up to 1.(probability adds to 1)  \n",
    " 3. $\\lambda=1$ is an eigen value. as A-I will always be sigular as sum of all rows is 0 from (2). Eigen vector corresponding to this eigen value would be the steady state.  \n",
    "\n"
   ]
  },
  {
   "cell_type": "markdown",
   "metadata": {
    "colab_type": "text",
    "id": "XcYWd1-5L2Fn"
   },
   "source": [
    "#### Problems"
   ]
  },
  {
   "cell_type": "markdown",
   "metadata": {
    "colab_type": "text",
    "id": "RlrclndaL4_g"
   },
   "source": [
    "##### Problem 24.1: \n",
    "(6.4 #7. Introduction to Linear Algebra: Strang)  \n",
    "a) Find a symmetric matrix $\\left[\\begin{matrix}1&b\\\\b&1\\end{matrix}\\right]$ that has a negative eigenvalue.  \n",
    "b) How do you know it must have a negative pivot?  \n",
    "c) How do you know it can’t have two negative eigenvalues?   \n",
    "\n",
    "Sum of eigen Values = 2  \n",
    "Product of eigen Values = 1  \n",
    "\n",
    "$(1-\\lambda)^2-b^2=0\\implies 1-\\lambda=\\pm b\\implies \\lambda=1\\mp b$  \n",
    "$(1-b-\\lambda)(1+b-\\lambda)=0\\implies \\lambda=1\\mp b$  \n",
    "\n",
    "**a)** Will have negative eigen value when |b|>1.  \n",
    "**b)** When we get a matrix to a pivot state, all the eigen values lie on the diagonal, thus all the pivots would be it's eigen values  \n",
    "$\\quad\\left[\\begin{matrix}1&b\\\\b&1\\end{matrix}\\right]\\to\\left[\\begin{matrix}1&b\\\\0&1-b^2\\end{matrix}\\right]\\to$  \n",
    "**c)** As the sum of eigen values is 2. The sum has to be a positive, so it cannot have two negative eigen values.\n",
    "\n",
    "\n",
    "\n",
    "\n"
   ]
  },
  {
   "cell_type": "markdown",
   "metadata": {
    "colab_type": "text",
    "id": "6thmYa3_xH8W"
   },
   "source": [
    "##### Problem 24.2:\n",
    "(6.4 #23.) \n",
    "Which of these classes of matrices do A and B belong to: invertible, orthogonal, projection, permutation, diagonalizable, Markov?  \n",
    "$A=\\left[\\begin{matrix}\n",
    "0&0&1\\\\\n",
    "0&1&0\\\\\n",
    "1&0&0 \n",
    "\\end{matrix}\\right],\\quad \n",
    "B=\\frac{1}{3}\n",
    "\\left[\\begin{matrix}\n",
    "1&1&1\\\\\n",
    "1&1&1\\\\\n",
    "1&1&1 \n",
    "\\end{matrix}\\right]\n",
    "$  \n",
    "Which of these factorizations are possible for A and B: $LU, QR, SΛS^{−1}, or QΛQ^{T}$?\n",
    "\n",
    "**Invertible** B is not invertible as we can make one row or column could be zeroed out.  \n",
    "**Othogonal** A is orthogonal as $AA^T=I$, more like a matrix with Orthonormal columns.     \n",
    "**Projection** matrices have $Q^T=Q^{-1}$ For $A^T=A^{-1}$, For B it is not invertible as it's |B|=0. So it cannot be a projection matrix.  \n",
    "**Markov** Matrices have either their columns or rows sum up to 1.  \n",
    "**Permuation** Matrices have I rows/coumns permuted which is A but not B   \n",
    "**Diagonalizable**  A is diagonalizable. B is diagnolizable because it is symmetric.\n"
   ]
  },
  {
   "cell_type": "markdown",
   "metadata": {
    "colab_type": "text",
    "id": "lm5IHYCMGXzt"
   },
   "source": [
    "##### Problem 24.3: \n",
    "(8.3 #11.) \n",
    "Complete A to a Markov matrix and find the steady state eigenvector. When A is a symmetric Markov matrix, why is x1 = (1, . . . , 1) its steady state? \n",
    "$A=\n",
    "\\left[\\begin{matrix}\n",
    ".7&.1&.2\\\\\n",
    ".1&.6&.3\\\\\n",
    "\\_&\\_&\\_\n",
    "\\end{matrix}\\right]\n",
    "$  \n",
    "\n",
    "For $A_{Markov}=\n",
    "\\left[\\begin{matrix}\n",
    ".7&.1&.2\\\\\n",
    ".1&.6&.3\\\\\n",
    ".2&.3&.5\n",
    "\\end{matrix}\\right]\n",
    "$  \n",
    "\n",
    "For Markov matrix 1 is always an eigen value as $|A-\\lambda I|=0$ when $\\lambda=1$ is a singular matrix with sum of all rows=0.  \n",
    "And for a Markov Matrix all $\\lambda$'s would be $\\geq0$  \n",
    "So for $\\lambda=1$ would be a steady state.  \n",
    "\n",
    "$\\left[\\begin{matrix}\n",
    "-.3&.1&.2\\\\\n",
    ".1&-.4&.3\\\\\n",
    ".2&.3&-.5\n",
    "\\end{matrix}\\right]\\left[\\begin{matrix}\n",
    "x\\\\\n",
    "y\\\\\n",
    "z\n",
    "\\end{matrix}\\right]=0\\\\\n",
    "\\implies\n",
    "\\left[\\begin{matrix}\n",
    "1\\\\\n",
    "1\\\\\n",
    "1\n",
    "\\end{matrix}\\right]\n",
    "$ is an the steady steate eigen vector.\n"
   ]
  },
  {
   "cell_type": "markdown",
   "metadata": {
    "colab_type": "text",
    "id": "1dSQk7oa-men"
   },
   "source": [
    "#### Lecture 24 Video"
   ]
  },
  {
   "cell_type": "code",
   "execution_count": 0,
   "metadata": {
    "colab": {
     "base_uri": "https://localhost:8080/",
     "height": 10
    },
    "colab_type": "code",
    "id": "JY9sEIx--q82",
    "outputId": "a06f4adc-ba79-456f-9879-48f89b71aada"
   },
   "outputs": [
    {
     "data": {
      "text/html": [
       "<iframe width=\"560\" height=\"315\" src=\"https://www.youtube.com/embed/8MF3pz-oYHo?rel=0\" frameborder=\"0\" allow=\"autoplay; encrypted-media\" allowfullscreen></iframe>"
      ],
      "text/plain": [
       "<IPython.core.display.HTML object>"
      ]
     },
     "metadata": {
      "tags": []
     },
     "output_type": "display_data"
    }
   ],
   "source": [
    "%%HTML\n",
    "<iframe width=\"560\" height=\"315\" src=\"https://www.youtube.com/embed/8MF3pz-oYHo?rel=0\" frameborder=\"0\" allow=\"autoplay; encrypted-media\" allowfullscreen></iframe>"
   ]
  },
  {
   "cell_type": "markdown",
   "metadata": {
    "colab_type": "text",
    "id": "aeQuEheIUDzI"
   },
   "source": [
    "#### Lecture 24b Video"
   ]
  },
  {
   "cell_type": "code",
   "execution_count": 0,
   "metadata": {
    "colab": {
     "base_uri": "https://localhost:8080/",
     "height": 10
    },
    "colab_type": "code",
    "id": "eXqvAW88UBEI",
    "outputId": "0ea1a7ad-663b-4da0-d981-70cae1510c8e"
   },
   "outputs": [
    {
     "data": {
      "text/html": [
       "<iframe width=\"560\" height=\"315\" src=\"https://www.youtube.com/embed/sFxA8eIS6tA?rel=0\" frameborder=\"0\" allow=\"autoplay; encrypted-media\" allowfullscreen></iframe>"
      ],
      "text/plain": [
       "<IPython.core.display.HTML object>"
      ]
     },
     "metadata": {
      "tags": []
     },
     "output_type": "display_data"
    }
   ],
   "source": [
    "%%HTML\n",
    "<iframe width=\"560\" height=\"315\" src=\"https://www.youtube.com/embed/sFxA8eIS6tA?rel=0\" frameborder=\"0\" allow=\"autoplay; encrypted-media\" allowfullscreen></iframe>"
   ]
  },
  {
   "cell_type": "markdown",
   "metadata": {
    "colab_type": "text",
    "id": "DOYO3S08MrU-"
   },
   "source": [
    "\n",
    "### Symmetric and Positive Definite Matrices\n",
    "\n",
    "1. Eigen Values are real\n",
    "2. Eigen Vectors are perpendicular\n",
    "\n",
    "When A is symmetric $A=S\\Delta S^{-1}$ can be written as $A=Q\\Delta Q^{-1}$ now Q is an orthogonal matrix. Thus $A=Q\\Delta Q^T$  \n",
    "\n",
    "Real eigen values are valid when $A=\\bar{A}^T$ , that is conjugate symmetric or Hermitan Symmetric Matrix.  \n",
    "\n",
    "$A=Q\\Lambda Q^T=[q_1\\,\\,q_2\\,\\,q_3\\,\\,...]\\Lambda \\left[\\begin{matrix}q_1^T\\\\q_2^T\\\\q_3^T\\\\\\vdots\\end{matrix}\\right]=\\lambda_1q_1q_1^T +\\lambda_2q_2q_2^T+....$  \n",
    "Is the above equation $q_1q_T$ are projection matrices onto $q_1$ vector.  \n",
    "\n",
    "Product of Pivots=Product of Eigen Values=Determinant of A if no row exchanges.\n",
    "\n",
    "\n",
    "#### Positive Determinants  \n",
    "\n",
    "* All eigen values are positive\n",
    "* All pivots are positive\n",
    "* All sub determinants will be positive\n",
    "\n",
    "\n"
   ]
  },
  {
   "cell_type": "markdown",
   "metadata": {
    "colab_type": "text",
    "id": "SM7rBfA7kedp"
   },
   "source": [
    "#### Problems"
   ]
  },
  {
   "cell_type": "markdown",
   "metadata": {
    "colab_type": "text",
    "id": "wqwOtXUUklWi"
   },
   "source": [
    "##### Problem 25.1: \n",
    "(6.4 #10. Introduction to Linear Algebra: Strang) \n",
    "Here is a quick “proof” that the eigenvalues of all real matrices are real:  \n",
    "\n",
    "False Proof: Ax = λx gives $x^TAx = \\lambda x^Tx$ so $\\lambda  = \\frac{x^TAx}{x^Tx}$ is real.  \n",
    "\n",
    "There is a hidden assumption in this proof which is not justified. Find the flaw by testing each step on the $90^ ◦$ rotation matrix:  \n",
    "\n",
    "$\\qquad\\qquad A=\\left[\\begin{matrix}0&−1\\\\1&0\\end{matrix}\\right]$  \n",
    "\n",
    "with λ = i and x = (i, 1).\n",
    "\n",
    "**Ans:**  \n",
    "Find $\\lambda s$  \n",
    "$\\lambda^2+1=0$  \n",
    "$\\lambda=\\pm i$\n",
    "\n",
    "Find x corresponding to i  \n",
    "$\\left[\\begin{matrix}-i&−1\\\\1&-i\\end{matrix}\\right]\\left[\\begin{matrix}x_1\\\\x_2\\end{matrix}\\right]=0\\\\\n",
    "x_1=ix_2\\\\\n",
    "-i^2x_2-x_2=0\\\\\n",
    "$  \n",
    "\n",
    "Eigen Vector=[i 1]\n",
    "\n",
    "$x^TAx=[i\\,\\, 1]\\left[\\begin{matrix}0&−1\\\\1&0\\end{matrix}\\right]\\left[\\begin{matrix}i\\\\1\\end{matrix}\\right]=\n",
    "[1\\,\\, -i]\\left[\\begin{matrix}i\\\\1\\end{matrix}\\right]=i-i=0\n",
    "$  \n",
    "\n",
    "Here $x^Tx=0$ thus it cannot be used to calculate $\\lambda$\n",
    "\n",
    "\n"
   ]
  },
  {
   "cell_type": "markdown",
   "metadata": {
    "colab_type": "text",
    "id": "dWfwoQM5oN0Z"
   },
   "source": [
    "##### Problem 25.2: \n",
    "(6.5 #32.) \n",
    "A group of nonsingular matrices includes AB and A^{−1} if it includes A and B. “Products and inverses stay in the group.”\n",
    "Which of these are groups?\n",
    "a) Positive definite symmetric matrices A.  \n",
    "b) Orthogonal matrices Q.  \n",
    "c) All exponentials e^{tA} of a fixed matrix A.  \n",
    "d) Matrices D with determinant 1.  \n",
    "\n",
    "1. Positive Definite Matrices.  \n",
    "   If A is positive definite then it's inverse is also positive definite as all the eigen values remain the same and all the sub determinants remain the same.\n",
    "   If two positive definite matrices are multiplied $A_1A_2$ their determinant will remain positive definite as it is just a product of determinants.    And product of two symmetric matrices may not be symmetric.\n",
    "   So they are not in the group.\n",
    "2. Orthogonal matrices Q  \n",
    "   If Q is positive definite then $Q^{-1}=Q^T$ is also positive definite.\n",
    "   If $Q_1,Q_2$ are positive definite then $Q_1Q_2$. \n",
    "   Check if they are symmetric $(Q_1Q_2)^T=Q_2^TQ_1^T?$  \n",
    "   $(Q_1Q_2)(Q_1Q_2)^T=Q_1Q_2Q_2^TQ_1^T=I$  So $Q_1Q_2$ is positive definite.  \n",
    "   So they are in the group\n",
    "3. Exponential matrices.  \n",
    "   If $e^{At}$ is positive definite...\n",
    "   If we can write $e^{At}=Q\\Lambda Q^T$ the $(e^{At}){^{-1}}=(Q\\Lambda_2Q^T)$ which is again a positive definite as $\\Lambda_2$ is nothing but reciprocal of $\\Lambda$  \n",
    "   Now considering product $e^{At_1}e^{At_2}=Q\\Lambda_{t_11} Q^TQ\\Lambda_{t_2} Q^T=Q\\Lambda_{t_1+t_2}Q^T$  is also a positive definite matrix.  \n",
    "4. Matrices D with determinant 1.\n",
    "   If |A|=1 and symmetric then $|A^{-1}|=1$ and is symmetric. So this suffices.\n",
    "   If |A|=1 and |B|=1, |AB|=|A||B|=1. This this also part of the group. Due to 1 as product of two positive definite matrices is a positive definite matrix.\n",
    "   "
   ]
  },
  {
   "cell_type": "markdown",
   "metadata": {
    "colab_type": "text",
    "id": "jG7NeDGl4fPQ"
   },
   "source": [
    "#### Lecture 25 Video"
   ]
  },
  {
   "cell_type": "code",
   "execution_count": 0,
   "metadata": {
    "colab": {
     "base_uri": "https://localhost:8080/",
     "height": 336
    },
    "colab_type": "code",
    "id": "pH7Vd6-LK7rx",
    "outputId": "7d740c97-a7ef-4501-d264-3c9eefab170d"
   },
   "outputs": [
    {
     "data": {
      "text/html": [
       "<iframe width=\"560\" height=\"315\" src=\"https://www.youtube.com/embed/umt6BB1nJ4w?rel=0\" frameborder=\"0\" allow=\"autoplay; encrypted-media\" allowfullscreen></iframe>"
      ],
      "text/plain": [
       "<IPython.core.display.HTML object>"
      ]
     },
     "metadata": {
      "tags": []
     },
     "output_type": "display_data"
    }
   ],
   "source": [
    "%%HTML\n",
    "<iframe width=\"560\" height=\"315\" src=\"https://www.youtube.com/embed/umt6BB1nJ4w?rel=0\" frameborder=\"0\" allow=\"autoplay; encrypted-media\" allowfullscreen></iframe>"
   ]
  },
  {
   "cell_type": "markdown",
   "metadata": {
    "colab_type": "text",
    "id": "6TdFMoh2SBVg"
   },
   "source": [
    "### Complex Matrices and Fast Fourier Transform\n",
    "\n",
    "Now Symmetry has to be Hertmitan $A=\\bar{A}^T$ so that $\\bar{q}^Tq=|q|^2$\n",
    "\n",
    "Real|Complex\n",
    "---|---\n",
    "Symmetric|Hermitian\n",
    "Orthogonal|Unitary\n",
    "\n",
    "#### Fast Fourier Matrices\n",
    "\n",
    "$F_n=\\left[\\begin{matrix}\n",
    "1&1      &1         &\\dots&1\\\\\n",
    "1&w      &w^2       &\\dots&w^{n-1}\\\\\n",
    "1&w^2    &w^4       &\\dots&w^{2(n-1)}\\\\\n",
    "\\vdots\\\\\n",
    "1&w^{n-1}&w^{2(n-1)}&..&w^{(n-1)^2}\n",
    "\\end{matrix}\\right]$  \n",
    "w is nth root of 1.  \n",
    "\n",
    "Now for   \n",
    "$F_4, w=e^\\frac{i2\\pi}{4}=e^\\frac{i\\pi}{2}=i$  \n",
    "And  \n",
    "$F_4=\\left[\\begin{matrix}\n",
    "1&1      &1         &1\\\\\n",
    "1&i      &i^2       &i^3\\\\\n",
    "1&i^2    &i^4       &i^6\\\\\n",
    "1&i^3    &i^6       &i^9\n",
    "\\end{matrix}\\right]=\n",
    "\\left[\\begin{matrix}\n",
    "1&1      &1         &1\\\\\n",
    "1&i      &-1       &-i\\\\\n",
    "1&-1     &1        &-1\\\\\n",
    "1&-i     &-1       &i\n",
    "\\end{matrix}\\right]$  \n",
    "\n",
    "$F_4^HF_4=I$  "
   ]
  },
  {
   "cell_type": "markdown",
   "metadata": {
    "colab_type": "text",
    "id": "f4EaFe9Awjpo"
   },
   "source": [
    "#### Problems"
   ]
  },
  {
   "cell_type": "markdown",
   "metadata": {
    "colab_type": "text",
    "id": "HQxLY2Wrwm_u"
   },
   "source": [
    "##### Problem 26.1: \n",
    "Compute the matrix F2.  \n",
    "**Ans:**  \n",
    "\n",
    "$F_2=\\left[\\begin{matrix}\n",
    "1&1\\\\\n",
    "1&-1\n",
    "\\end{matrix}\\right]$"
   ]
  },
  {
   "cell_type": "markdown",
   "metadata": {
    "colab_type": "text",
    "id": "1tR_Z5pVx4PK"
   },
   "source": [
    "##### Problem 26.2: \n",
    "\n",
    "Find the matrices D and P used in the factorization:\n",
    "\n",
    "$F_4 =\\left[\\begin{matrix}\n",
    "I&D\\\\\n",
    "I&-D\n",
    "\\end{matrix}\\right]\n",
    "\\left[\\begin{matrix}\n",
    "F_2&\\\\\n",
    "&F_2\n",
    "\\end{matrix}\\right]P$  \n",
    "\n",
    "Hint: D is created using fourth roots, not square roots, of 1. Check your answer by multiplying.  \n",
    "\n",
    "Four Roots of F_4 are $1,e^\\frac{i2\\pi}{4},e^\\frac{i4\\pi}{4},e^\\frac{i6\\pi}{4}=1,i,-1,-i$\n",
    "\n",
    "$F_4=\\left[\\begin{matrix}\n",
    "1&1  &1  &1\\\\\n",
    "1&i  &i^2&i^3\\\\\n",
    "1&i^2&i^4&i^6\\\\\n",
    "1&i^3&i^6&i^9\n",
    "\\end{matrix}\\right]=\n",
    "\\left[\\begin{matrix}\n",
    "1&1  &1  &1\\\\\n",
    "1&i  &-1 &-i\\\\\n",
    "1&-1 &1  &-1\\\\\n",
    "1&-i &-1 &i\n",
    "\\end{matrix}\\right]=\n",
    "\\left[\\begin{matrix}\n",
    "1&0  &1  &0\\\\\n",
    "0&1  &0  &i\\\\\n",
    "1&0  &-1 &0\\\\\n",
    "0&1  &0   &-i\n",
    "\\end{matrix}\\right]\n",
    "\\left[\\begin{matrix}\n",
    "1&1  &0  &0\\\\\n",
    "1&-1 &0  &0\\\\\n",
    "0&0  &1  &1\\\\\n",
    "0&0  &1  &-1\n",
    "\\end{matrix}\\right]$  \n",
    "\n",
    "$\\left[\\begin{matrix}\n",
    "I&D\\\\\n",
    "I&-D\n",
    "\\end{matrix}\\right]\n",
    "\\left[\\begin{matrix}\n",
    "F_2&\\\\\n",
    "&F_2\n",
    "\\end{matrix}\\right]=\n",
    "\\left[\\begin{matrix}\n",
    "F_2&DF_2\\\\\n",
    "F_2&-DF_2\n",
    "\\end{matrix}\\right]=\n",
    "\\left[\\begin{matrix}\n",
    "1&1&1&1\\\\\n",
    "1&-1&i&-i\\\\\n",
    "1&1&-1&-1\\\\\n",
    "1&-1&-i&i\n",
    "\\end{matrix}\\right]$\n",
    "\n",
    "\n",
    "So $P=\\left[\\begin{matrix}\n",
    "1&0&0&0\\\\\n",
    "0&0&1&0\\\\\n",
    "0&1&0&0\\\\\n",
    "0&0&0&1\n",
    "\\end{matrix}\\right]$\n"
   ]
  },
  {
   "cell_type": "markdown",
   "metadata": {
    "colab_type": "text",
    "id": "SKydK1Bz4ZUQ"
   },
   "source": [
    "#### Lecture 26 Video"
   ]
  },
  {
   "cell_type": "code",
   "execution_count": 0,
   "metadata": {
    "colab": {
     "base_uri": "https://localhost:8080/",
     "height": 10
    },
    "colab_type": "code",
    "id": "_XDkh5K8TmNJ",
    "outputId": "d89022f2-d7fa-4f44-9daa-9ad679bf3fa1"
   },
   "outputs": [
    {
     "data": {
      "text/html": [
       "<iframe width=\"560\" height=\"315\" src=\"https://www.youtube.com/embed/M0Sa8fLOajA?rel=0\" frameborder=\"0\" allow=\"autoplay; encrypted-media\" allowfullscreen></iframe>"
      ],
      "text/plain": [
       "<IPython.core.display.HTML object>"
      ]
     },
     "metadata": {
      "tags": []
     },
     "output_type": "display_data"
    }
   ],
   "source": [
    "%%HTML\n",
    "<iframe width=\"560\" height=\"315\" src=\"https://www.youtube.com/embed/M0Sa8fLOajA?rel=0\" frameborder=\"0\" allow=\"autoplay; encrypted-media\" allowfullscreen></iframe>"
   ]
  },
  {
   "cell_type": "markdown",
   "metadata": {
    "colab_type": "text",
    "id": "234t8Ovh4Q2y"
   },
   "source": [
    "### Positive Definite and Minima\n"
   ]
  },
  {
   "cell_type": "markdown",
   "metadata": {
    "colab_type": "text",
    "id": "MZQHZvSu-6Ry"
   },
   "source": [
    "#### Problems\n"
   ]
  },
  {
   "cell_type": "markdown",
   "metadata": {
    "colab_type": "text",
    "id": "FX8fv_OL-8pn"
   },
   "source": [
    "##### Problem 27.1: (6.5 #33. Introduction to Linear Algebra: Strang) \n",
    "When A and B are symmetric positive definite, AB might not even be symmetric, but its eigenvalues are still positive. Start from ABx = λx and take dot products with Bx. Then prove λ > 0. \n",
    "\n",
    "$ABx=\\lambda x\\\\\n",
    "(ABx)T(Bx)=\\lambda x^T(Bx)\\\\\n",
    "(Bx)^TA^T(Bx)=\\lambda x^TBx\\\\\n",
    "(Bx)^TA(Bx)=\\lambda x^TBx$  \n",
    "As A is positive definite $(Bx)^TA(Bx)>0$ and As B is positive definite $x^TBx>0$, Thus $\\lambda$ has to be positive.\n"
   ]
  },
  {
   "cell_type": "markdown",
   "metadata": {
    "colab_type": "text",
    "id": "2jDeV1t1CZeu"
   },
   "source": [
    "##### Problem 27.2: \n",
    "Find the quadratic form associated with the matrix\n",
    "$\\left[\\begin{matrix}\n",
    "1&5\\\\\n",
    "7&9\\end{matrix}\\right]$   \n",
    "Is this function f(x, y) always positive, always negative, or sometimes\n",
    "positive and sometimes negative?  \n",
    "\n",
    "$x^TAx=[x_1\\,\\,x_2]\\left[\\begin{matrix} x_1+5x_2\\\\7x_1+9x_2\\end{matrix}\\right]=x_1^2+12x_1x_2+9x_2^2=(x_1+6x_2)^2-27x_2^2$  \n",
    "\n",
    "$\\left[\\begin{matrix}\n",
    "1&5\\\\\n",
    "0&-27\\end{matrix}\\right]\\implies\\lambda s=1,-27$  \n",
    "\n",
    "sometimes positive and sometimes negative.\n"
   ]
  },
  {
   "cell_type": "markdown",
   "metadata": {
    "colab_type": "text",
    "id": "mk4kyA2FXnJD"
   },
   "source": [
    "#### Lecture 27 Video"
   ]
  },
  {
   "cell_type": "code",
   "execution_count": 0,
   "metadata": {
    "colab": {
     "base_uri": "https://localhost:8080/",
     "height": 336
    },
    "colab_type": "code",
    "id": "9NTau36y4UqB",
    "outputId": "5d7b47d0-732d-4643-c214-481f3d48e965"
   },
   "outputs": [
    {
     "data": {
      "text/html": [
       "<iframe width=\"560\" height=\"315\" src=\"https://www.youtube.com/embed/vF7eyJ2g3kU?rel=0\" frameborder=\"0\" allow=\"autoplay; encrypted-media\" allowfullscreen></iframe>"
      ],
      "text/plain": [
       "<IPython.core.display.HTML object>"
      ]
     },
     "metadata": {
      "tags": []
     },
     "output_type": "display_data"
    }
   ],
   "source": [
    "%%HTML\n",
    "<iframe width=\"560\" height=\"315\" src=\"https://www.youtube.com/embed/vF7eyJ2g3kU?rel=0\" frameborder=\"0\" allow=\"autoplay; encrypted-media\" allowfullscreen></iframe>"
   ]
  },
  {
   "cell_type": "markdown",
   "metadata": {
    "colab_type": "text",
    "id": "o5wZ8mBRF2WD"
   },
   "source": [
    "### Similar Matrices and Jordan Form\n",
    "\n",
    "A and B are similar if there is an M where $A=M^{-1}BM$  \n",
    "Similar matrices have the same $\\lambda s$  \n",
    "\n",
    "$Ax=\\lambda x\\text{ and if }A=M^{-1}BM$  \n",
    "$Ax=\\lambda x\\\\\n",
    "\\implies AMM^{-1}x=\\lambda x\\\\\n",
    "\\implies M^{-1}AMM^{-1}x=\\lambda M^{-1}x\\\\\n",
    "\\implies BM^{-1}x=\\lambda M^{-1}x$  \n",
    "Thus B has the same $\\lambda s$  \n",
    "\n",
    "\n",
    "4I is similar to only itself as $M^{-1}4IM=4I$ and not equal to any other matrix.\n"
   ]
  },
  {
   "cell_type": "markdown",
   "metadata": {
    "colab_type": "text",
    "id": "VTFuNoHFMx5c"
   },
   "source": [
    "#### Problems"
   ]
  },
  {
   "cell_type": "markdown",
   "metadata": {
    "colab_type": "text",
    "id": "yek1dYZ0M00z"
   },
   "source": [
    "###### Problem 28.1: \n",
    "(6.6 #12. Introduction to Linear Algebra: Strang) These Jordan matrices have eigenvalues 0, 0, 0, 0. They have two eigenvectors; one from each block. However, their block sizes don’t match and they are not similar:\n",
    "\n",
    "$J=\\left[\\begin{array}{cc|cc}\n",
    "0&1&0&0\\\\\n",
    "0&0&0&0\\\\\n",
    "\\hline\n",
    "0&0&0&1\\\\\n",
    "0&0&0&0\n",
    "\\end{array}\\right]\\text{ and }K=\\left[\\begin{array}{ccc|c}\n",
    "0&1&0&0\\\\\n",
    "0&0&1&0\\\\\n",
    "0&0&0&0\\\\\n",
    "\\hline\n",
    "0&0&0&0\n",
    "\\end{array}\\right]$\n",
    "\n",
    "For a generic matrix M, show that if JM = MK then M is not invertible and so J is not similar to K.  \n",
    "\n",
    "If M is not invertible then M^{-1}JM=K is not possible.\n",
    "\n",
    "\n"
   ]
  },
  {
   "cell_type": "markdown",
   "metadata": {
    "colab_type": "text",
    "id": "RCZhB5zNOVvO"
   },
   "source": [
    "##### Problem 28.2: \n",
    "(6.6 #20.) Why are these statements all true?  \n",
    "a) If A is similar to B then $A^2$ is similar to $B^2$.  \n",
    "b) $A^2$ and $B^2$ can be similar when A and B are not similar (try λ = 0, 0.)  \n",
    "c) $\\left[\\begin{matrix}3&0\\\\0&4\\end{matrix}\\right]$ is similar to $\\left[\\begin{matrix}3&1\\\\0&4\\end{matrix}\\right]$.  \n",
    "d) $\\left[\\begin{matrix}3&0\\\\0&3\\end{matrix}\\right]$ is not similar to $\\left[\\begin{matrix}3&1\\\\3&0\\end{matrix}\\right]$  \n",
    "e) Given a matrix A, let B be the matrix obtained by exchanging rows 1 and 2 of A and then exchanging columns 1 and 2 of A. Show that A is\n",
    "similar to B.\n",
    "\n",
    "**Ans**\n",
    "\n",
    "1. $A=MBM^{-1}$  \n",
    "$A^2=MBM^{-1}MBM^{-1}=MBBM^{-1}$\n",
    "2. $A^2=MB^2M^{-1}$  \n",
    "3. Trace=7, Det=12 for both matrices so they should have the same lambdas\n",
    "4. Trace=6,Det=9 and Trace=3 and Det=-3 So these two matrices will not have the same eigen values.\n",
    "5. |A|=-|B| to start with and their trace is not the same. But for $A_{new}$ |A_{new}|=|B|=-|A| and trace of $A_{new}$ is the same as trace of B. Thus B and $A_{new}$ are similar.\n"
   ]
  },
  {
   "cell_type": "markdown",
   "metadata": {
    "colab_type": "text",
    "id": "dOjroXqPXbHk"
   },
   "source": [
    "#### Lecture 25 Video"
   ]
  },
  {
   "cell_type": "code",
   "execution_count": 0,
   "metadata": {
    "colab": {
     "base_uri": "https://localhost:8080/",
     "height": 336
    },
    "colab_type": "code",
    "id": "BXQUQjS7F6i0",
    "outputId": "32d03b8b-ab41-42e0-a422-8c3bb9340772"
   },
   "outputs": [
    {
     "data": {
      "text/html": [
       "<iframe width=\"560\" height=\"315\" src=\"https://www.youtube.com/embed/z_zYQHmrh08?rel=0\" frameborder=\"0\" allow=\"autoplay; encrypted-media\" allowfullscreen></iframe>"
      ],
      "text/plain": [
       "<IPython.core.display.HTML object>"
      ]
     },
     "metadata": {
      "tags": []
     },
     "output_type": "display_data"
    }
   ],
   "source": [
    "%%HTML\n",
    "<iframe width=\"560\" height=\"315\" src=\"https://www.youtube.com/embed/z_zYQHmrh08?rel=0\" frameborder=\"0\" allow=\"autoplay; encrypted-media\" allowfullscreen></iframe>"
   ]
  },
  {
   "cell_type": "markdown",
   "metadata": {
    "colab_type": "text",
    "id": "6-SeS68eydZJ"
   },
   "source": [
    "\n",
    "### Singular Value Decomposition\n",
    "\n",
    "Eigen Value decomposition is useful for symmetric matrices for non symmetric matrices we can use SVD.\n",
    "\n",
    "$\\quad A_{m*n}=U_{m*m}\\sum_{m*n}V_{n*m}^{T}$  \n",
    "Here $A$ is called transformation matrix from $m$ space to $n$ space.  \n",
    "$U$ and $V$ should be orthogonal matrices and $\\sum$ should be a diagonal matrix.\n",
    "\n",
    "Given solution for $A^TA=V_sDV_s^{-1}=V_sDV_s^{T}$, as $V_s$ is an orthogonal matrix with orthonormal basis vectors as it's column, usually represented elsewhere as Q matrix.    \n",
    "From $V_s$ can be discard the vectors $i>m$ till $i=n$ and get $A$'s $V$  \n",
    "From $D$ get $\\sum$ by taking squareroot of all the positive λs (call it $\\sigma$)and taking largest $m$ of $n$. \n",
    "**<div style=\"border:solid\"> Now get $U$ by $u_i=\\frac{Av_i}{\\sigma_i}$</div>  \n",
    "**Importantly we need to make sure that $U$ and $V$ are normalized to vector length of 1***  \n",
    "\n",
    "#### Why Square root of $\\lambda$??  \n",
    "If we have $A=VDV^T$, then $A^TA=VD^TV^TVDV^T=VD^TDV^T$...  \n",
    "As we got the lambdas for $A^TA$, the lambdas for A would be squareroot of the ones we got from $A^TA$  \n",
    "\n",
    "#### What vectors and lambdas to drop from A^TA??\n",
    "It depends on the rank of the matrix, the actual matrices that contribute are only the C(A) or R(A) and not the null-space vectors from col or row space. So we need to drop the null-space vectors.\n"
   ]
  },
  {
   "cell_type": "markdown",
   "metadata": {
    "colab_type": "text",
    "id": "UDQGzJwQiT6V"
   },
   "source": [
    "#### Problems"
   ]
  },
  {
   "cell_type": "markdown",
   "metadata": {
    "colab_type": "text",
    "id": "uYW1xFSFiY_s"
   },
   "source": [
    "Do SVD for $\\left[\\begin{matrix}5&5\\\\-1&7\\end{matrix}\\right]$  \n",
    "\n",
    "$A^TA=\\left[\\begin{matrix}5&-1\\\\5&7\\end{matrix}\\right]\\left[\\begin{matrix}5&5\\\\-1&7\\end{matrix}\\right]=\\left[\\begin{matrix}26&18\\\\18&74\\end{matrix}\\right]$  \n",
    "\n",
    "\n",
    "* Find $A=U\\sum V^T$\n",
    "* $A^TA=V\\sum^TU^TU\\sum V^T=V\\sum^T\\sum V^T$\n",
    "* $U\\sum=AV$\n",
    "\n",
    "**Find eigen values:**  \n",
    "$(26-\\lambda)(74-\\lambda)-18^2=0\\\\\n",
    "\\lambda^2-100\\lambda+26*74-18^2=0\\\\\n",
    "\\lambda^2-100\\lambda+4*(13*37-9^2)=0\\\\\n",
    "\\lambda^2-100\\lambda+1600=0$  \n",
    "$\\lambda=\\frac{100\\pm\\sqrt{10000-6400}}{2}=\\frac{100\\pm60}{2}=50\\pm30=80,20$   \n",
    "\n",
    "**Finding eigen vectors:**  \n",
    "$\\lambda=80$  \n",
    "$\\left[\\begin{matrix}26-80&18\\\\18&74-80\\end{matrix}\\right]v=0\\\\\n",
    "\\left[\\begin{matrix}-54&18\\\\18&-6\\end{matrix}\\right]v=0\\\\\n",
    "\\implies v=\\frac{1}{\\sqrt{10}}\\left[\\begin{matrix}1\\\\3\\end{matrix}\\right]\n",
    "$  \n",
    "$\\lambda=20$  \n",
    "$\\left[\\begin{matrix}26-20&18\\\\18&74-20\\end{matrix}\\right]v=0\\\\\n",
    "\\left[\\begin{matrix}6&18\\\\18&54\\end{matrix}\\right]v=0\\\\\n",
    "\\implies v=\\frac{1}{\\sqrt{10}}\\left[\\begin{matrix}-3\\\\1\\end{matrix}\\right]\n",
    "$  \n",
    "**Final V and $\\sum$**\n",
    "$V=\\frac{1}{\\sqrt{10}}\\left[\\begin{matrix}1&-3\\\\3&1\\end{matrix}\\right]$  \n",
    "$\\sum^T\\sum=20\\left[\\begin{matrix}2^2&0\\\\0&1\\end{matrix}\\right]\\implies\n",
    "\\sum=\\sqrt{20}\\left[\\begin{matrix}2&0\\\\0&1\\end{matrix}\\right]$  \n",
    "\n",
    "**Finding U**  \n",
    "$U\\sum=\\frac{1}{\\sqrt{10}}\\left[\\begin{matrix}5&5\\\\-1&7\\end{matrix}\\right]\\left[\\begin{matrix}1&-3\\\\3&1\\end{matrix}\\right]\\\\\n",
    "=\\frac{1}{\\sqrt{10}}\\left[\\begin{matrix}20&-10\\\\20&10\\end{matrix}\\right]$  \n",
    "$\\implies\\sqrt{20}U\\left[\\begin{matrix}2&0\\\\0&1\\end{matrix}\\right]=\\frac{1}{\\sqrt{10}}\\left[\\begin{matrix}20&-10\\\\20&10\\end{matrix}\\right]$  \n",
    "$\\implies U=\\frac{1}{10\\sqrt{2}}\\left[\\begin{matrix}20/2&-10\\\\20/2&10\\end{matrix}\\right]\\\\\n",
    "\\implies U=\\frac{1}{\\sqrt{2}}\\left[\\begin{matrix}1&-1\\\\1&1\\end{matrix}\\right]$  \n",
    "\n",
    "\n",
    "**Finally $A=U\\sum V^T$ is**  \n",
    "$A=\\frac{1}{\\sqrt{2}}\\left[\\begin{matrix}1&-1\\\\1&1\\end{matrix}\\right]\\sqrt{20}\\left[\\begin{matrix}2&0\\\\0&1\\end{matrix}\\right]\\frac{1}{\\sqrt{10}}\\left[\\begin{matrix}1&-3\\\\3&1\\end{matrix}\\right]^T$  \n",
    "$A=\\left[\\begin{matrix}1&-1\\\\1&1\\end{matrix}\\right]\\left[\\begin{matrix}2&0\\\\0&1\\end{matrix}\\right]\\left[\\begin{matrix}1&-3\\\\3&1\\end{matrix}\\right]^T$  \n",
    "\n",
    "**Test**   \n",
    "$\\left[\\begin{matrix}1&-1\\\\1&1\\end{matrix}\\right]\\left[\\begin{matrix}2&0\\\\0&1\\end{matrix}\\right]\\left[\\begin{matrix}1&-3\\\\3&1\\end{matrix}\\right]^T\\\\\\quad=\\left[\\begin{matrix}2&-1\\\\2&1\\end{matrix}\\right]\\left[\\begin{matrix}1&3\\\\-3&1\\end{matrix}\\right]\\\\\\quad=\\left[\\begin{matrix}5&5\\\\-1&7\\end{matrix}\\right]\n",
    "$\n",
    "\n",
    "\n"
   ]
  },
  {
   "cell_type": "markdown",
   "metadata": {
    "colab_type": "text",
    "id": "G2hSffQPzZxA"
   },
   "source": [
    "##### Problem 29.1: \n",
    "(Based on 6.7 #4. Introduction to Linear Algebra: Strang) \n",
    "Verify that if we compute the singular value decomposition $A = UΣV^T$ of the Fibonacci matrix A = $\\left[\\begin{matrix}1&1\\\\1&0\\end{matrix}\\right]$  \n",
    " $\\qquad\\qquad\\Sigma = \\left[\\begin{matrix}\\frac{1+\\sqrt5}{2}&0\\\\0&\\frac{\\sqrt5-1}{2}\\end{matrix}\\right]$  \n",
    " \n",
    "**Ans:**  \n",
    "As A is symmetric we can directly get the lambdas. We don't need to use $A=U\\Sigma V^T$, we would rather use $A=Q\\Sigma Q^T$  \n",
    "\n",
    "**Getting Eigen Values  \n",
    "$-\\lambda(1-\\lambda)-1=0\\implies\\lambda^2-\\lambda-1=0\\\\\n",
    "\\implies \\lambda=\\frac{1\\pm\\sqrt{1+4}}{2}=\\frac{1\\pm\\sqrt{5}}{2}  \n",
    "$  \n",
    "\n",
    "Well we have a situation where A is not positive definite so one of lamdas is negative! So let's us proceed to do as per the question. May be they wanted all positive lambdas.\n",
    "\n",
    "* Find $A=U\\sum V^T$\n",
    "* $A^TA=V\\sum^TU^TU\\sum V^T=V\\sum^T\\sum V^T$\n",
    "* $U\\sum=AV$  \n",
    "  \n",
    "**Calc $A^TA$**  \n",
    "$A^TA=\\left[\\begin{matrix}1&1\\\\1&0\\end{matrix}\\right]\\left[\\begin{matrix}1&1\\\\1&0\\end{matrix}\\right]=\n",
    "\\left[\\begin{matrix}2&1\\\\1&1\\end{matrix}\\right]$  \n",
    "**Eigen Values**  \n",
    "$(2-\\lambda)(1-\\lambda)-1=0\\implies\\lambda^2-3\\lambda+1=0\\\\\n",
    "\\implies\\lambda=\\frac{3\\pm\\sqrt{9-4}}{2}=\\frac{3\\pm\\sqrt{5}}{2}$  \n",
    "**Eigen Vectors**  \n",
    "$Av=\\lambda v\\implies Av-\\lambda Iv=0\\implies(A-\\lambda I)v=0$  \n",
    "For $\\lambda=\\frac{3+\\sqrt{5}}{2}$  \n",
    "$\\left[\\begin{matrix}2-\\frac{3+\\sqrt{5}}{2}&1\\\\1&1-\\frac{3+\\sqrt{5}}{2}\\end{matrix}\\right]v=0\\\\\n",
    "=\\left[\\begin{matrix}\\frac{1-\\sqrt{5}}{2}&1\\\\1&-\\frac{1+\\sqrt{5}}{2}\\end{matrix}\\right]v=0\\\\\n",
    "\\implies v_1=\\left[\\begin{matrix}2\\\\\\sqrt5-1\\end{matrix}\\right]\n",
    "$\n",
    "\n",
    "$v_1^Tv_1=10-2\\sqrt5=L^2$  \n",
    "For $\\lambda=\\frac{3-\\sqrt{5}}{2}$  \n",
    "$\\left[\\begin{matrix}2-\\frac{3-\\sqrt{5}}{2}&1\\\\1&1-\\frac{3-\\sqrt{5}}{2}\\end{matrix}\\right]v=0\\\\\n",
    "=\\left[\\begin{matrix}\\frac{1+\\sqrt{5}}{2}&1\\\\1&-\\frac{1-\\sqrt{5}}{2}\\end{matrix}\\right]v=0\\\\\n",
    "\\implies v_2=\\left[\\begin{matrix}\\sqrt5-1\\\\-2\\end{matrix}\\right]\n",
    "$  \n",
    "$v_2^Tv_2=10-2\\sqrt5=L^2$  \n",
    "\n",
    "**V and $\\Sigma$  \n",
    "$V=\\frac{1}{L}\\left[\\begin{matrix}2&\\sqrt5-1\\\\\\sqrt5-1&-2\\end{matrix}\\right]$  \n",
    "$\\Sigma^T\\Sigma=\\left[\\begin{matrix}\\frac{3+\\sqrt{5}}{2}&0\\\\0&\\frac{3-\\sqrt{5}}{2}\\end{matrix}\\right]$  \n",
    "$\\left(\\frac{\\sqrt5-1}{2}\\right)^2=\\frac{3-\\sqrt5}{2}$**Note that we choose positive root  \n",
    "$\\Sigma=\\left[\\begin{matrix}\\frac{1+\\sqrt{5}}{2}&0\\\\0&\\frac{\\sqrt{5}-1}{2}\\end{matrix}\\right]$  \n",
    "\n",
    "**Finding U**  \n",
    "$U\\Sigma=AV\\\\\n",
    "U\n",
    "\\left[\\begin{matrix}\n",
    "\\frac{1+\\sqrt{5}}{2} & 0\\\\\n",
    "0                    &\\frac{\\sqrt{5}-1}{2}\n",
    "\\end{matrix}\\right]=\\left[\\begin{matrix}\n",
    "1&1\\\\\n",
    "1&0\n",
    "\\end{matrix}\\right]\n",
    "\\frac{1}{L}\n",
    "\\left[\\begin{matrix}\n",
    "2       &\\sqrt5-1\\\\\n",
    "\\sqrt5-1&-2\n",
    "\\end{matrix}\\right]\\\\\n",
    "\\implies \n",
    "U\\left[\\begin{matrix}\\frac{1+\\sqrt{5}}{2}&0\\\\0&\\frac{\\sqrt{5}-1}{2}\\end{matrix}\\right]=\n",
    "\\frac{1}{L}\\left[\\begin{matrix}\n",
    "2+\\sqrt5-1       &\\sqrt5-1-2\\\\\n",
    "2       &\\sqrt5-1\\\\\n",
    "\\end{matrix}\\right]\\\\\n",
    "\\implies U=\n",
    "\\frac{1}{L}\\left[\\begin{matrix}\n",
    "(\\sqrt5+1)\\times\\frac{2}{1+\\sqrt{5}}       &(\\sqrt5-3)\\times\\frac{2}{\\sqrt{5}-1}\\\\\n",
    "2\\times\\frac{2}{1+\\sqrt{5}}                &(\\sqrt5-1)\\times\\frac{2}{\\sqrt{5}-1}\\\\\n",
    "\\end{matrix}\\right]\\\\\n",
    "\\implies U=\n",
    "\\frac{1}{L}\\left[\\begin{matrix}\n",
    "2                                   &\\frac{2(\\sqrt5-3)(\\sqrt5+1)}{5-1}\\\\\n",
    "\\frac{4}{1+\\sqrt{5}}                &2\\\\\n",
    "\\end{matrix}\\right]\\\\\n",
    "\\implies U=\n",
    "\\frac{1}{L}\\left[\\begin{matrix}\n",
    "2                                   &\\frac{5-3-2\\sqrt5}{2}\\\\\n",
    "\\frac{4}{1+\\sqrt{5}}                &2\\\\\n",
    "\\end{matrix}\\right]\\\\\n",
    "\\implies U=\n",
    "\\frac{1}{L}\\left[\\begin{matrix}\n",
    "2                                   &-(\\sqrt5-1)\\\\\n",
    "\\sqrt5-1                            &2\\\\\n",
    "\\end{matrix}\\right]\\\\\n",
    "$   \n",
    "\n",
    "Test SVD  \n",
    "$A=U\\Sigma V^T$  \n",
    "$U\\Sigma V^T=\\frac{1}{L^2}\n",
    "\\left[\\begin{matrix}\n",
    "2                                   &-(\\sqrt5-1)\\\\\n",
    "\\sqrt5-1                            &2\\\\\n",
    "\\end{matrix}\\right]\n",
    "\\left[\\begin{matrix}\n",
    "\\frac{1+\\sqrt{5}}{2}                &0\\\\\n",
    "0                                   &\\frac{\\sqrt{5}-1}{2}\n",
    "\\end{matrix}\\right]\n",
    "\\left[\\begin{matrix}\n",
    "2       &\\sqrt5-1\\\\\n",
    "\\sqrt5-1&-2\n",
    "\\end{matrix}\\right]^T\\\\\n",
    "=\\frac{1}{L^2}\n",
    "\\left[\\begin{matrix}\n",
    "2\\times\\frac{1+\\sqrt{5}}{2}            &-(\\sqrt5-1)\\times\\frac{\\sqrt{5}-1}{2}\\\\\n",
    "(\\sqrt5-1)\\times\\frac{1+\\sqrt{5}}{2}   &2\\times\\frac{\\sqrt{5}-1}{2}\\\\\n",
    "\\end{matrix}\\right]\n",
    "\\left[\\begin{matrix}\n",
    "2       &\\sqrt5-1\\\\\n",
    "\\sqrt5-1&-2\n",
    "\\end{matrix}\\right]\\\\\n",
    "=\\frac{1}{L^2}\n",
    "\\left[\\begin{matrix}\n",
    "\\sqrt{5}+1            &\\sqrt5-3\\\\\n",
    "2                     &\\sqrt{5}-1\\\\\n",
    "\\end{matrix}\\right]\n",
    "\\left[\\begin{matrix}\n",
    "2                     &\\sqrt5-1\\\\\n",
    "\\sqrt5-1              &-2\n",
    "\\end{matrix}\\right]\\\\\n",
    "=\\frac{1}{L^2}\n",
    "\\left[\\begin{matrix}\n",
    "2(\\sqrt{5}+1)+(\\sqrt5-3)(\\sqrt5-1)&4-2(\\sqrt5-3)\\\\\n",
    "4       +(\\sqrt{5}-1)^2&2(\\sqrt5-1)       -2(\\sqrt{5}-1)\\\\\n",
    "\\end{matrix}\\right]\\\\\n",
    "=\\frac{1}{L^2}\n",
    "\\left[\\begin{matrix}\n",
    "2\\sqrt{5}+2-4\\sqrt5+8&10-2\\sqrt5\\\\\n",
    "4 +6-2\\sqrt5&0\\\\\n",
    "\\end{matrix}\\right]\\\\\n",
    "=\\frac{1}{L^2}\n",
    "\\left[\\begin{matrix}\n",
    "10-2\\sqrt5&10-2\\sqrt5\\\\\n",
    "10       -2\\sqrt{5}&0\\\\\n",
    "\\end{matrix}\\right]=\\left[\\begin{matrix}\n",
    "1&1\\\\\n",
    "1&0\\\\\n",
    "\\end{matrix}\\right]\n",
    "$  \n"
   ]
  },
  {
   "cell_type": "markdown",
   "metadata": {
    "colab_type": "text",
    "id": "HSgaY2QTRkJE"
   },
   "source": [
    "##### Problem 29.2: \n",
    "(6.7 #11.) \n",
    "Suppose A has orthogonal columns w1, w2, ..., wn of lengths σ1, σ2, ..., σn. Calculate $A^TA$. What are U, Σ, and V in the SVD?  \n",
    "\n",
    "**Ans**  \n",
    "$A^TA$ would be a diagonal matrix with elements $σ1^2, σ2^2, ..., σn^2$  in it's diagonal.   \n",
    "$A^TA=VΣ^TΣV^T=Σ^TΣ\\quad$Thus V=I.  \n",
    "And Σ would be a diagonal matrix with elements σ1, σ2, ..., σn in it's diagonal.  \n",
    "Now UΣ=AV=A, Thus  \n",
    "$U=[\\frac{w1}{σ1},\\frac{w2}{σ2},...,\\frac{wn}{σn},]$"
   ]
  },
  {
   "cell_type": "markdown",
   "metadata": {
    "colab_type": "text",
    "id": "ajqBtWutXONU"
   },
   "source": [
    "#### Lecture 29 Video"
   ]
  },
  {
   "cell_type": "code",
   "execution_count": 0,
   "metadata": {
    "colab": {
     "base_uri": "https://localhost:8080/",
     "height": 10
    },
    "colab_type": "code",
    "id": "YNZPtsktX9RP",
    "outputId": "372514ba-ecf0-4622-e27c-a402f0e909bb"
   },
   "outputs": [
    {
     "data": {
      "text/html": [
       "<iframe width=\"560\" height=\"315\" src=\"https://www.youtube.com/embed/Nx0lRBaXoz4?rel=0\" frameborder=\"0\" allow=\"autoplay; encrypted-media\" allowfullscreen></iframe>"
      ],
      "text/plain": [
       "<IPython.core.display.HTML object>"
      ]
     },
     "metadata": {
      "tags": []
     },
     "output_type": "display_data"
    }
   ],
   "source": [
    "%%HTML\n",
    "<iframe width=\"560\" height=\"315\" src=\"https://www.youtube.com/embed/Nx0lRBaXoz4?rel=0\" frameborder=\"0\" allow=\"autoplay; encrypted-media\" allowfullscreen></iframe>"
   ]
  },
  {
   "cell_type": "markdown",
   "metadata": {
    "colab_type": "text",
    "id": "8VBMghZ5ThwH"
   },
   "source": [
    "### Linear Transformations\n",
    "\n",
    "$Col_1$ of the transformation *mxn* matrix for $T(v)\\to w:R^n\\to R^m$ is\n",
    "\n",
    "$a_{11},a_{21},a_{31}...a_{n1}$ given that\n",
    "\n",
    "$v_1=a_{11}w_1+ a_{21}w_2+a_{31}w_3...a_{m1}w_m$\n",
    "\n",
    "Thus a co-ordinate v=(1,0,0....0) in $R^n$ with only $v_1=1$ would transform via\n",
    "\n",
    "$Av=Col_1$  \n",
    "\n",
    "This way we can build the whole transfomation matrix.\n",
    "\n",
    "Thus the number of conditions we need is number of basis in the origin space $R^n$=n."
   ]
  },
  {
   "cell_type": "markdown",
   "metadata": {
    "colab_type": "text",
    "id": "HLeX0U2Kb3iY"
   },
   "source": [
    "#### Problems"
   ]
  },
  {
   "cell_type": "markdown",
   "metadata": {
    "colab_type": "text",
    "id": "uKRRordMb6lt"
   },
   "source": [
    "Let $T(A)=A^T$, where A is a 2x2 matrix.\n",
    "\n",
    "1. Why is T Linear? What is T^{-1}?  \n",
    "$T(A+B)=(A+B)^T=A^T+B^T=T(A)+T(B)$  \n",
    "$T(cA)=cA^T=cT(A)$  \n",
    "Thus T is Linear Transformation.  \n",
    "$T^{-1}(A^T)=A\\implies (A^T)^T=A\\implies T^{-1}=T$  \n",
    "2. Write down the matrix of T in \n",
    " * $v_1=\\left[\\begin{matrix}1&0\\\\0&0\\end{matrix}\\right],v_2=\\left[\\begin{matrix}0&1\\\\0&0\\end{matrix}\\right],v_3=\\left[\\begin{matrix}0&0\\\\1&0\\end{matrix}\\right],v_4=\\left[\\begin{matrix}0&0\\\\0&1\\end{matrix}\\right]$  \n",
    " * $w_1=\\left[\\begin{matrix}1&0\\\\0&0\\end{matrix}\\right],w_2=\\left[\\begin{matrix}0&0\\\\0&1\\end{matrix}\\right],w_3=\\left[\\begin{matrix}0&1\\\\1&0\\end{matrix}\\right],w_4=\\left[\\begin{matrix}0&1\\\\-1&0\\end{matrix}\\right]$  \n",
    " \n",
    " "
   ]
  },
  {
   "cell_type": "markdown",
   "metadata": {
    "colab_type": "text",
    "id": "5Jyr0_q8xV3K"
   },
   "source": [
    "##### Problem 30.1: \n",
    "Consider the transformation T that doubles the distance between each point and the origin without changing the direction from the origin to the points. In polar coordinates this is described by T(r, θ) = (2r, θ).  \n",
    "a) Yes or no: is T a linear transformation?  \n",
    "b) Describe T using Cartesian (xy) coordinates. Check your work by confirming that the transformation doubles the lengths of vectors.  \n",
    "c) If your answer to (a) was ”yes”, find the matrix of T. If your answer to (a) was ”no”, explain why the T isn’t linear. \n",
    "\n",
    "**Ans::**  \n",
    "T(A+B)=2(A+B)=2A+2B=T(A)+T(B)  \n",
    "T(cA)=2cA=c(2A)=cT(A)  \n",
    "Thus T is linear.  \n",
    "b)\n",
    "$v_1=2v_1$\n",
    "$v_2=2v_2$\n",
    "\n",
    "Thus T is $\\left[\\begin{matrix}\n",
    "2&0\\\\\n",
    "0&2\n",
    "\\end{matrix}\\right]$\n",
    "\n",
    "\n",
    "Input vetor say $(x_i,y_i)$ and output vector is $(x_o,y_o)$  \n",
    "\n",
    "Then\n",
    "\n",
    "$\\left[\\begin{matrix}\n",
    "2&0\\\\\n",
    "0&2\n",
    "\\end{matrix}\\right]\\left[\\begin{matrix}\n",
    "x_i\\\\\n",
    "y_i\n",
    "\\end{matrix}\\right]=\\left[\\begin{matrix}\n",
    "x_o\\\\\n",
    "y_o\n",
    "\\end{matrix}\\right]\\\\\n",
    "\\implies\n",
    "\\left[\\begin{matrix}\n",
    "2x_i\\\\\n",
    "2y_i\n",
    "\\end{matrix}\\right]=\\left[\\begin{matrix}\n",
    "x_o\\\\\n",
    "y_o\n",
    "\\end{matrix}\\right]\n",
    "$  \n",
    "\n",
    "Length of the vector $(x_o,y_o)$ is   \n",
    "$\\sqrt{x_o^2+y_o^2}=\\sqrt{4x_i^2+4y_i^2}=2\\sqrt{x_i^2+y_i^2}=2(\\text{Input Length})$"
   ]
  },
  {
   "cell_type": "markdown",
   "metadata": {
    "colab_type": "text",
    "id": "3yUffkVNxv8M"
   },
   "source": [
    "##### Problem 30.2: \n",
    "Describe a transformation which leaves the zero vector fixed but which is not a linear transformation.  \n",
    "**ANS**  \n",
    "Example for this a transformation which squares the length of a vector.  \n",
    "$T(cA)=c^2T(A)$, thus this is not linear. But $T(cZ)=cT(Z)=c^2T(Z)=0$ Where Z is the zero vector.\n",
    "\n",
    "\n",
    "\n",
    "\n",
    "\n"
   ]
  },
  {
   "cell_type": "markdown",
   "metadata": {
    "colab_type": "text",
    "id": "HjfjWHDLiFl9"
   },
   "source": [
    "#### Lecture 30 Video"
   ]
  },
  {
   "cell_type": "code",
   "execution_count": 0,
   "metadata": {
    "colab": {
     "base_uri": "https://localhost:8080/",
     "height": 10
    },
    "colab_type": "code",
    "id": "XtKPzUvyTnQF",
    "outputId": "2cf2b1f4-e6f1-41c2-8806-75e2ae003c1f"
   },
   "outputs": [
    {
     "data": {
      "text/html": [
       "[<iframe width=\"560\" height=\"315\" src=\"https://www.youtube.com/embed/Ts3o2I8_Mxc?rel=0\" frameborder=\"0\" allow=\"autoplay; encrypted-media\" allowfullscreen></iframe>"
      ],
      "text/plain": [
       "<IPython.core.display.HTML object>"
      ]
     },
     "metadata": {
      "tags": []
     },
     "output_type": "display_data"
    }
   ],
   "source": [
    "%%HTML\n",
    "[<iframe width=\"560\" height=\"315\" src=\"https://www.youtube.com/embed/Ts3o2I8_Mxc?rel=0\" frameborder=\"0\" allow=\"autoplay; encrypted-media\" allowfullscreen></iframe>"
   ]
  },
  {
   "cell_type": "markdown",
   "metadata": {
    "colab_type": "text",
    "id": "ei-tYrfn1m_w"
   },
   "source": [
    "### Change of basis:Image compression"
   ]
  },
  {
   "cell_type": "markdown",
   "metadata": {
    "colab_type": "text",
    "id": "QiioqiZW8MLC"
   },
   "source": [
    "#### Problems"
   ]
  },
  {
   "cell_type": "markdown",
   "metadata": {
    "colab_type": "text",
    "id": "3mEwDW2O8R2f"
   },
   "source": [
    "##### Example1\n",
    "\n",
    "The vector space of all polynomials in x of degree $\\leq$2 has a basis of $1,x,x^2$. Let $w_1,w_2,w_3$ be a different basis of polynomials whose values at x=-1,0,1 are given by  \n",
    "\n",
    "$x$|$w_1$|$w_2$|$w_3$\n",
    "---|---|---|---\n",
    "-1|1|0|0\n",
    "0|0|1|0\n",
    "1|0|0|1  \n",
    "\n",
    "1. Express y(x)=-x+5 in this basis!  \n",
    "2. Find the change of basis matrices for $(1,x,x^2)\\iff(w_1,w_2,w_3)$  \n",
    "3. Find the matrix of \"taking derivatives\" in both basis.\n",
    "\n",
    "**ans:**  \n",
    "for a given $y(x)=a+bx+cx^2=\\alpha w_1+\\beta w_2+\\gamma w_3$\n",
    "$y(t)=\\left[\\begin{matrix}1&t&t^2\\end{matrix}\\right]\\left[\\begin{matrix}a\\\\b\\\\c\\end{matrix}\\right]=\\left[\\begin{matrix}w_1(t)&w_2(t)&w_3(t)\\end{matrix}\\right]\\left[\\begin{matrix}\\alpha\\\\\\beta\\\\\\gamma\\end{matrix}\\right]$  \n",
    "\n",
    "From the given conditions above we can write...  \n",
    "$\\left[\\begin{matrix}y(-1)\\\\y(0)\\\\y(1)\\end{matrix}\\right]=\n",
    "\\left[\\begin{matrix}\n",
    "1&-1&1\\\\\n",
    "1&0&0\\\\\n",
    "1&1&1\n",
    "\\end{matrix}\\right]\n",
    "\\left[\\begin{matrix}a\\\\b\\\\c\\end{matrix}\\right]=\\left[\\begin{matrix}\n",
    "w_1(-1)&w_2(-1)&w_3(-1)\\\\\n",
    "w_1(0)&w_2(0)&w_3(0)\\\\\n",
    "w_1(1)&w_2(1)&w_3(1)\n",
    "\\end{matrix}\\right]\n",
    "\\left[\\begin{matrix}\\alpha\\\\\\beta\\\\\\gamma\\end{matrix}\\right]=\\left[\\begin{matrix}\n",
    "1&0&0\\\\\n",
    "0&1&0\\\\\n",
    "0&0&1\n",
    "\\end{matrix}\\right]\n",
    "\\left[\\begin{matrix}\\alpha\\\\\\beta\\\\\\gamma\\end{matrix}\\right]=\n",
    "\\left[\\begin{matrix}\\alpha\\\\\\beta\\\\\\gamma\\end{matrix}\\right]\n",
    "$\n",
    "\n",
    "Thus for any given equation of $y(x)=a+bx+cx^2$ we find the relationship of $y(x)=\\alpha w_1+\\beta w_2+\\gamma w_3$ with the below:-\n",
    "\n",
    "$\\left[\\begin{matrix}\\alpha\\\\\\beta\\\\\\gamma\\end{matrix}\\right]=\\left[\\begin{matrix}\n",
    "1&-1&1\\\\\n",
    "1&0&0\\\\\n",
    "1&1&1\n",
    "\\end{matrix}\\right]\n",
    "\\left[\\begin{matrix}a\\\\b\\\\c\\end{matrix}\\right]$  \n",
    "\n",
    "For the given equation y(x)=-x+5 it would be\n",
    "$\\left[\\begin{matrix}\\alpha\\\\\\beta\\\\\\gamma\\end{matrix}\\right]=\\left[\\begin{matrix}\n",
    "1&-1&1\\\\\n",
    "1&0&0\\\\\n",
    "1&1&1\n",
    "\\end{matrix}\\right]\n",
    "\\left[\\begin{matrix}5\\\\-1\\\\0\\end{matrix}\\right]=\n",
    "\\left[\\begin{matrix}5+1\\\\5\\\\5-1\\end{matrix}\\right]=\n",
    "\\left[\\begin{matrix}6\\\\5\\\\4\\end{matrix}\\right]\n",
    "$  \n",
    "\n",
    "For going from $(1,x,x^2)\\to(w_1,w_2,w_3)$ we use  \n",
    "$\\left[\\begin{matrix}\\alpha\\\\\\beta\\\\\\gamma\\end{matrix}\\right]=\\left[\\begin{matrix}\n",
    "1&-1&1\\\\\n",
    "1&0&0\\\\\n",
    "1&1&1\n",
    "\\end{matrix}\\right]\n",
    "\\left[\\begin{matrix}a\\\\b\\\\c\\end{matrix}\\right]$  \n",
    "\n",
    "For going from $(w_1,w_2,w_3)\\to(1,x,x^2)$ we use  \n",
    "$\\left[\\begin{matrix}a\\\\b\\\\c\\end{matrix}\\right]=inv\\left(\\left[\\begin{matrix}\n",
    "1&-1&1\\\\\n",
    "1&0&0\\\\\n",
    "1&1&1\n",
    "\\end{matrix}\\right]\\right)\\left[\\begin{matrix}\\alpha\\\\\\beta\\\\\\gamma\\end{matrix}\\right]=\\left[\\begin{matrix}\n",
    "0   &1 &0\\\\\n",
    "-1/2&0 &1/2\\\\\n",
    "1/2 &-1&1/2\n",
    "\\end{matrix}\\right]\\left[\\begin{matrix}\\alpha\\\\\\beta\\\\\\gamma\\end{matrix}\\right]$  \n",
    "\n",
    "From here we can find actual $w_1,w_2,w_3$  \n",
    "$w_1=      -\\frac{x}{2} +\\frac{x^2}{2}$  \n",
    "$w_2=        1          -x^2$   \n",
    "$w_3=      \\frac{x}{2}  +\\frac{x^2}{2}$  \n",
    "\n",
    "Test w(6,5,4)=b(5,-1,0):  \n",
    "$\\left[\\begin{matrix}\n",
    "0   &1 &0\\\\\n",
    "-1/2&0 &1/2\\\\\n",
    "1/2 &-1&1/2\n",
    "\\end{matrix}\\right]\\left[\\begin{matrix}6\\\\5\\\\4\\end{matrix}\\right]=\n",
    "\\left[\\begin{matrix}\n",
    "5\\\\\n",
    "-6/2+4/2\\\\\n",
    "6/2-5+4/2\\\\\n",
    "\\end{matrix}\\right]=\n",
    "\\left[\\begin{matrix}\n",
    "5\\\\\n",
    "-1\\\\\n",
    "0\\\\\n",
    "\\end{matrix}\\right]$  \n",
    "\n",
    "Derivative is a transformation:  \n",
    "\n",
    "This is a transformation in $R^3\\to R^3$.  \n",
    "We need to find the transformation of each of the basis vectors.\n",
    "\n",
    "$(1,x,x^2)(1,0,0)\\to(1,x,x^2)(0,0,0)\\\\\n",
    "(1,x,x^2)(0,1,0)\\to(1,x,x^2)(1,0,0)\\\\\n",
    "(1,x,x^2)(0,0,1)\\to(1,x,x^2)(0,2,0)$  \n",
    "\n",
    "Transformation matrix can be written from above as $D_x=\\left[\\begin{matrix}\n",
    "0&1&0\\\\\n",
    "0&0&2\\\\\n",
    "0&0&0\n",
    "\\end{matrix}\\right]$  \n",
    "\n",
    "Check derivative transformation of $y(x)=a+bx+cx^2$ \n",
    "\n",
    "$D_x(y(x))=\\left[\\begin{matrix}\n",
    "0&1&0\\\\\n",
    "0&0&2\\\\\n",
    "0&0&0\n",
    "\\end{matrix}\\right]\\left[\\begin{matrix}\n",
    "a\\\\\n",
    "b\\\\\n",
    "c\n",
    "\\end{matrix}\\right]=\n",
    "\\left[\\begin{matrix}\n",
    "0+b+0\\\\\n",
    "0+0+2c\\\\\n",
    "0+0+0\n",
    "\\end{matrix}\\right]=\n",
    "\\left[\\begin{matrix}\n",
    "b\\\\\n",
    "2c\\\\\n",
    "0\n",
    "\\end{matrix}\\right]\n",
    "$  \n",
    "Check's out.\n",
    "\n",
    "Now for getting D_w we can think of it as below:-\n",
    "\n",
    "$w(\\alpha,\\beta,\\gamma)\\xrightarrow{T_{wx}} x(a,b,c) \\xrightarrow{D_x} D_x(a,b,c) \\xrightarrow{T_{xw}} D_w(\\alpha,\\beta,\\gamma)$  \n",
    "\n",
    "So $D_w=T_{xw}D_xT_{wx}=\\left[\\begin{matrix}\n",
    "1&-1&1\\\\\n",
    "1&0&0\\\\\n",
    "1&1&1\n",
    "\\end{matrix}\\right]\n",
    "\\left[\\begin{matrix}\n",
    "0&1&0\\\\\n",
    "0&0&2\\\\\n",
    "0&0&0\n",
    "\\end{matrix}\\right]\n",
    "\\left[\\begin{matrix}\n",
    "0   &1 &0\\\\\n",
    "-1/2&0 &1/2\\\\\n",
    "1/2 &-1&1/2\n",
    "\\end{matrix}\\right]=\n",
    "\\left[\\begin{matrix}\n",
    "0&1&-2\\\\\n",
    "0&1&0\\\\\n",
    "0&1&2\n",
    "\\end{matrix}\\right]\n",
    "\\left[\\begin{matrix}\n",
    "0   &1 &0\\\\\n",
    "-1/2&0 &1/2\\\\\n",
    "1/2 &-1&1/2\n",
    "\\end{matrix}\\right]=\n",
    "\\left[\\begin{matrix}\n",
    "-1/2-2/2 &+2&1/2-2/2\\\\\n",
    "-1/2     &0 &1/2\\\\\n",
    "-1/2+2/2 &-2&1/2+2/2\n",
    "\\end{matrix}\\right]=\n",
    "\\left[\\begin{matrix}\n",
    "-3/2     &2 &-1/2\\\\\n",
    "-1/2     &0 &1/2\\\\\n",
    "1/2      &-2&3/2\n",
    "\\end{matrix}\\right]\n",
    "$  \n",
    "\n",
    "Test D_w(y)=$\\left[\\begin{matrix}\n",
    "-3/2     &2 &-1/2\\\\\n",
    "-1/2     &0 &1/2\\\\\n",
    "1/2      &-2&3/2\n",
    "\\end{matrix}\\right]\n",
    "\\left[\\begin{matrix}\\alpha\\\\\\beta\\\\\\gamma\\end{matrix}\\right]=\n",
    "\\left[\\begin{matrix}\n",
    "-3/2\\alpha     &2\\beta &-1/2\\gamma\\\\\n",
    "-1/2\\alpha     &0 &1/2\\gamma\\\\\n",
    "1/2\\alpha      &-2\\beta&3/2\\gamma\n",
    "\\end{matrix}\\right]\n",
    "$\n",
    "\n",
    "$(-3/2\\alpha     +2\\beta -1/2\\gamma)w_1+\n",
    "(-1/2\\alpha     +0 +1/2\\gamma)w_2+\n",
    "(1/2\\alpha      -2\\beta+3/2\\gamma)w_3=\\alpha(-3/2w_1-1/2w_2+1/2w_3)+\\beta(2w_1-2w_3)+\\gamma(-1/2w_1+1/2w_2+3/2w_3)$  \n",
    "\n",
    "Check alpha  \n",
    "$\\frac{d\\alpha w_1}{dx}=\\alpha\\frac{d}{dx}(-\\frac{x}{2} +\\frac{x^2}{2})=\\alpha(-1/2+x)$\n",
    "\n",
    "\n",
    "$w_1=      -\\frac{x}{2} +\\frac{x^2}{2}$  \n",
    "$w_2=         1         -x^2$   \n",
    "$w_3=      \\frac{x}{2}  +\\frac{x^2}{2}$  \n",
    "\n",
    "$-3/2w_1-1/2w_2+1/2w_3= -3/2\\times-\\frac{x}{2} -3/2\\frac{x^2}{2}\n",
    "-1/2+1/2\\times-x^2\n",
    "+1/2\\frac{x}{2}  +1/2\\frac{x^2}{2}=x-1/2$\n"
   ]
  },
  {
   "cell_type": "code",
   "execution_count": 0,
   "metadata": {
    "colab": {
     "base_uri": "https://localhost:8080/",
     "height": 336
    },
    "colab_type": "code",
    "id": "NunSaVe11vF2",
    "outputId": "5c4042ee-6f53-4823-fe8f-d908dd00c74f"
   },
   "outputs": [
    {
     "data": {
      "text/html": [
       "<iframe width=\"560\" height=\"315\" src=\"https://www.youtube.com/embed/vGkn-3NFGck?rel=0\" frameborder=\"0\" allow=\"autoplay; encrypted-media\" allowfullscreen></iframe>"
      ],
      "text/plain": [
       "<IPython.core.display.HTML object>"
      ]
     },
     "metadata": {
      "tags": []
     },
     "output_type": "display_data"
    }
   ],
   "source": [
    "%%HTML\n",
    "<iframe width=\"560\" height=\"315\" src=\"https://www.youtube.com/embed/vGkn-3NFGck?rel=0\" frameborder=\"0\" allow=\"autoplay; encrypted-media\" allowfullscreen></iframe>"
   ]
  },
  {
   "cell_type": "markdown",
   "metadata": {
    "colab_type": "text",
    "id": "TVpzIfs0_rJY"
   },
   "source": [
    "##### Problem 31.1: \n",
    "Verify that the vectors of the Haar wavelet basis, given in lecture, are orthogonal. Adjust their lengths so that the resulting basis vectors are orthonormal.\n",
    "\n",
    "Each of eight vectors should be normalized/divided by $\\sqrt8,\\sqrt8,\\sqrt4,\\sqrt4,\\sqrt2,\\sqrt2,1,1$"
   ]
  },
  {
   "cell_type": "markdown",
   "metadata": {
    "colab_type": "text",
    "id": "o5pr7pDMAqQJ"
   },
   "source": [
    "##### Problem 31.2: \n",
    "We can think of the set of all two by two matrices with real valued entries as a vector space. Describe two different bases for this space. Is one of your bases better than the other for describing diagonal matrices? What about triangular matrices? Symmetric matrices? \n",
    "\n",
    "Basic basis=\n",
    "$\\left[\\begin{matrix}\n",
    "1&0\\\\\n",
    "0&0\n",
    "\\end{matrix}\\right],\n",
    "\\left[\\begin{matrix}\n",
    "0&1\\\\\n",
    "0&0\n",
    "\\end{matrix}\\right],\n",
    "\\left[\\begin{matrix}\n",
    "0&0\\\\\n",
    "1&0\n",
    "\\end{matrix}\\right],\n",
    "\\left[\\begin{matrix}\n",
    "0&0\\\\\n",
    "0&1\n",
    "\\end{matrix}\\right]$  \n",
    "Wavelet basis=\n",
    "$\\left[\\begin{matrix}\n",
    "1&1\\\\\n",
    "1&1\n",
    "\\end{matrix}\\right],\n",
    "\\left[\\begin{matrix}\n",
    "1&1\\\\\n",
    "-1&-1\n",
    "\\end{matrix}\\right],\n",
    "\\left[\\begin{matrix}\n",
    "1&-1\\\\\n",
    "0&0\n",
    "\\end{matrix}\\right],\n",
    "\\left[\\begin{matrix}\n",
    "0&0\\\\\n",
    "1&-1\n",
    "\\end{matrix}\\right]$\n"
   ]
  },
  {
   "cell_type": "markdown",
   "metadata": {
    "colab_type": "text",
    "id": "jTq6CqKvFxnv"
   },
   "source": [
    "### Review and Exam 3\n"
   ]
  },
  {
   "cell_type": "markdown",
   "metadata": {
    "colab_type": "text",
    "id": "Qc5aVq1_MMWi"
   },
   "source": [
    "Find eigen values and eigen vectors for the following...  \n",
    "\n",
    "1. Projection $P=\\frac{aa^T}{a^Ta}$ where a=(3,4).\n",
    "2. Rotation matrix $Q=\\left[\\begin{matrix}0.6&-0.8\\\\0.8&0.6\\end{matrix}\\right]$\n",
    "3. For a reflection matrix $R=2P-I$.\n",
    "\n",
    "**Ans**  \n",
    "\n",
    "1. $P=\\frac{1}{25}\\left\n",
    "[\\begin{matrix}\n",
    "3\\\\\n",
    "4\n",
    "\\end{matrix}\\right]\n",
    "\\left[\\begin{matrix}\n",
    "3&4\n",
    "\\end{matrix}\\right]=\\frac{1}{25}\\left[\\begin{matrix}\n",
    "9&12\\\\\n",
    "12&16\n",
    "\\end{matrix}\\right]$  \n",
    "** Finding Eigen Values:**  \n",
    "Trace=1  \n",
    "Determinant=0  \n",
    "$\\lambda_1=0 and \\lambda_2=1$  \n",
    "**Finding Eigen Vectors:**  \n",
    "$Av=\\lambda v\\implies(A-\\lambda I)v=0$\n",
    "$\\left[\\begin{matrix}\n",
    "9&12\\\\\n",
    "12&16\n",
    "\\end{matrix}\\right]v=0\\quad$   \n",
    "3x+4y=0  \n",
    "3x+4y=0  \n",
    "$v_1=(4,-3)$  \n",
    "$\\left[\\begin{matrix}\n",
    "9-25&12\\\\\n",
    "12&16-25\n",
    "\\end{matrix}\\right]v2=0\\implies\\left[\\begin{matrix}\n",
    "-16&12\\\\\n",
    "12&-9\n",
    "\\end{matrix}\\right]v2=0$  \n",
    "-4x+3y=0  \n",
    "4x-3y=0  \n",
    "$v_2=(3,4)  \n",
    "\n",
    "2. $\\left[\\begin{matrix}\n",
    "0.6&-0.8\\\\\n",
    "0.8&0.6\n",
    "\\end{matrix}\\right]$  \n",
    "**Finding eigen values**  \n",
    "Sum=Trace=1.2  \n",
    "Prod=Det=0.36+0.64=1  \n",
    "x+y=1.2  \n",
    "xy=1  \n",
    "x^2-1.2x+1=0  \n",
    "$x=\\frac{1.2\\pm\\sqrt{1.44-4}}{2}=\\frac{1.2\\pm\\sqrt{-2.56}}{2}=0.6\\pm i0.8$  \n",
    "Check alternative way  \n",
    "$\\left[\\begin{matrix}\n",
    "0.6-\\lambda&-0.8\\\\\n",
    "0.8&0.6-\\lambda\n",
    "\\end{matrix}\\right|=0\\implies \\lambda^2-1.2\\lambda+1=0$  \n",
    "**Finding eigen vectors**  \n",
    "$\\left[\\begin{matrix}\n",
    "-0.8i&-0.8\\\\\n",
    "0.8&-0.8i\n",
    "\\end{matrix}\\right]x=0$  \n",
    "$-xi-y=0\\implies y=-ix\\implies x=iy$  \n",
    "$0.8x-0.8iy=0\\implies x=iy$  \n",
    "$v_1=(i,1)$  \n",
    "$\\left[\\begin{matrix}\n",
    "+0.8i&-0.8\\\\\n",
    "0.8&+0.8i\n",
    "\\end{matrix}\\right]x=0$  \n",
    "$xi-y=0\\implies y=ix\\implies x=-iy$  \n",
    "$0.8x+0.8iy=0\\implies x=-iy$  \n",
    "$v_2=(-i,1)$  \n",
    "\n",
    "3. For a reflection matrix $R=2P-I$.\n",
    "$R=\\left[\\begin{matrix}\n",
    "18/25-1&24/25\\\\\n",
    "24/25&32/25-1\n",
    "\\end{matrix}\\right]=\\left[\\begin{matrix}\n",
    "-7/25&24/25\\\\\n",
    "24/25&7/25\n",
    "\\end{matrix}\\right]=\\frac{1}{25}\\left[\\begin{matrix}\n",
    "-7&24\\\\\n",
    "24&7\n",
    "\\end{matrix}\\right]$  \n",
    "**Finding eigen values**  \n",
    "Sum=Trace=0  \n",
    "Prod=Det=-49-564=-613  \n",
    "$\\lambda=\\pm \\sqrt{613}$  \n",
    "**Finding eigen vectors**  \n",
    "$\\left[\\begin{matrix}\n",
    "-7-\\sqrt{613}&24\\\\\n",
    "24&7-\\sqrt{613}\\end{matrix}\\right]v=0$  \n",
    "$x(7+\\sqrt{613})=24y$  \n",
    "$24x+(7-\\sqrt{613})y=0\\implies x=(\\sqrt{613}-7)/24y$  \n",
    "Subst x in 1 $(613-49)y=24^2y$ which is true\n",
    "$v_1=(\\sqrt{613}-7,24)$  \n",
    "$\\left[\\begin{matrix}\n",
    "-7+\\sqrt{613}&24\\\\\n",
    "24&7+\\sqrt{613}\\end{matrix}\\right]v=0$  \n",
    "$x(\\sqrt{613}-7)=-24y$  \n",
    "$24x+(7+\\sqrt{613})y=0\\implies x=-(\\sqrt{613}+7)/24y$  \n",
    "Subst x in 1 $-(613-49)y=-24^2y$ which is true\n",
    "$v_2=(\\sqrt{613}+7,-24)$  \n",
    "\n",
    "\n",
    "\n",
    "\n",
    "\n",
    "\n"
   ]
  },
  {
   "cell_type": "markdown",
   "metadata": {
    "colab_type": "text",
    "id": "EI17dzgLLuVZ"
   },
   "source": [
    "#### Review Lecture Video"
   ]
  },
  {
   "cell_type": "code",
   "execution_count": 0,
   "metadata": {
    "colab": {
     "base_uri": "https://localhost:8080/",
     "height": 10
    },
    "colab_type": "code",
    "id": "OhJ2c5WqF9li",
    "outputId": "5a4161cc-fe1f-46b5-c65f-a6ff4dc35f2f"
   },
   "outputs": [
    {
     "data": {
      "text/html": [
       "<iframe width=\"560\" height=\"315\" src=\"https://www.youtube.com/embed/HgC1l_6ySkc?rel=0\" frameborder=\"0\" allow=\"autoplay; encrypted-media\" allowfullscreen></iframe>"
      ],
      "text/plain": [
       "<IPython.core.display.HTML object>"
      ]
     },
     "metadata": {
      "tags": []
     },
     "output_type": "display_data"
    }
   ],
   "source": [
    "%%HTML\n",
    "<iframe width=\"560\" height=\"315\" src=\"https://www.youtube.com/embed/HgC1l_6ySkc?rel=0\" frameborder=\"0\" allow=\"autoplay; encrypted-media\" allowfullscreen></iframe>"
   ]
  },
  {
   "cell_type": "markdown",
   "metadata": {
    "colab_type": "text",
    "id": "-kyEX7ayq1l_"
   },
   "source": [
    "### Right and Left Inverses and PsuedoInverse\n",
    "\n",
    "If A has a full column rank then we can define a  $A_{left}^{-1},\\,\\,\\,\\,A_{left}^{-1}A=I$  then  \n",
    "$A_{left}^{-1}=(A^TA)^{-1}A^T$  \n",
    "\n",
    "If A has a full row rank then we can define a  $A_{right}^{-1},\\,\\,\\,\\,AA_{right}^{-1}=I$  then  \n",
    "$A_{right}^{-1}=A^T(AA^T)^{-1}$\n",
    "\n",
    "If the matrix has rank <m/n then we can define a mapping that takes $RowSpace(R^n\\,\\,w\\,\\,r<m)\\xrightarrow{A=U\\Sigma V^T}ColSpace(R^m\\,\\,w\\,\\,r<n)$ and therefore a reverse mapping called PseudoInverse $ColSpace(R^m\\,\\,w\\,\\,r<n)\\xrightarrow{A^+=V\\Sigma^+ U^T}RowSpace(R^n\\,\\,w\\,\\,r<m)$  \n",
    "\n",
    "$A^+=V\\Sigma^+U^T$\n"
   ]
  },
  {
   "cell_type": "markdown",
   "metadata": {
    "colab_type": "text",
    "id": "3Jcy1fc46Yzo"
   },
   "source": [
    "#### Problems"
   ]
  },
  {
   "cell_type": "markdown",
   "metadata": {
    "colab_type": "text",
    "id": "KtgWVcJ6HEOM"
   },
   "source": []
  },
  {
   "cell_type": "markdown",
   "metadata": {
    "colab_type": "text",
    "id": "3jL1rQmH6c96"
   },
   "source": [
    "##### Recitation\n",
    "\n",
    "Given A=(1 2)\n",
    "1. What is $A^+$ psuedoinverse?\n",
    "2. What is $AA^+$ and $A^+A$?\n",
    "3. If x is in N(A) what is $A^+Ax$?\n",
    "4. If x is in $C(A^T)$ what is $A^+Ax$?\n",
    "\n",
    "**Ans**\n",
    "A=(1 2)\n",
    "\n",
    "$A=U\\Sigma V^T\\implies A^TA=V\\Sigma^TU^TU\\Sigma V^T\\implies A^TA=V\\Sigma^T\\Sigma V^T=Q\\Lambda Q^T$  \n",
    "**Find $A^TA$**  \n",
    "$A^TA=\\left[\\begin{matrix}\n",
    "1&2\\\\\n",
    "2&4\\end{matrix}\\right]$  \n",
    "**Find eigen values**  \n",
    "Sum=Trace=5   \n",
    "Prod=Det=0  \n",
    "$\\lambda=0,5$Note that it is better to order then in descending order while doing SVD  \n",
    "**Find eigen vectors**\n",
    "$Av=\\lambda v\\implies (A-\\lambda I)=0$  \n",
    "$\\left[\\begin{matrix}\n",
    "1&2\\\\\n",
    "2&4\\end{matrix}\\right]x=0$  \n",
    "x=-2y  \n",
    "$v_1=\\left[\\begin{matrix}\n",
    "-2/\\sqrt5\\\\\n",
    "1/\\sqrt5\\end{matrix}\\right]$\n",
    "  \n",
    "$\\left[\\begin{matrix}\n",
    "1-5&2\\\\\n",
    "2&4-5\\end{matrix}\\right]x=0\\implies\\left[\\begin{matrix}\n",
    "-4&2\\\\\n",
    "2&-1\\end{matrix}\\right]x=0$  \n",
    "  \n",
    "y=2x  \n",
    "$v_2=\\left[\\begin{matrix}\n",
    "1/\\sqrt5\\\\\n",
    "2/\\sqrt5\n",
    "\\end{matrix}\\right]$  \n",
    "\n",
    "**Note we missed ordering e-values & vectors properly**  \n",
    "$A^TA=Q\\Lambda Q^T=\\left[\\begin{matrix}\n",
    "-2/\\sqrt5&1/\\sqrt5\\\\\n",
    "1/\\sqrt5 &2/\\sqrt5\n",
    "\\end{matrix}\\right]\n",
    "\\left[\\begin{matrix}\n",
    "0&0\\\\\n",
    "0&5\n",
    "\\end{matrix}\\right]\\left[\\begin{matrix}\n",
    "-2/\\sqrt5&1/\\sqrt5\\\\\n",
    "1/\\sqrt5 &2/\\sqrt5\n",
    "\\end{matrix}\\right]^T=\n",
    "\\left[\\begin{matrix}\n",
    "0 &5/\\sqrt5\\\\\n",
    "0 &10/\\sqrt5\n",
    "\\end{matrix}\\right]\n",
    "\\left[\\begin{matrix}\n",
    "-2/\\sqrt5&1/\\sqrt5\\\\\n",
    "1/\\sqrt5 &2/\\sqrt5\n",
    "\\end{matrix}\\right]=\\left[\\begin{matrix}\n",
    "5/5 &10/5\\\\\n",
    "10/5 &20/5\n",
    "\\end{matrix}\\right]$  \n",
    "** Note down $\\Sigma \\& V$ **  \n",
    "We missed ordering the eigen values and vectors in dec-order of e-values, so re-arranging...\n",
    "$\\Sigma=\\left[\\begin{matrix}\n",
    "\\sqrt5&0\n",
    "\\end{matrix}\\right]$  \n",
    "$V=\\left[\\begin{matrix}\n",
    "1/\\sqrt5&-2/\\sqrt5\\\\\n",
    "2/\\sqrt5&1/\\sqrt5 \n",
    "\\end{matrix}\\right]$  \n",
    "**Now calculate U**  \n",
    "$U\\Sigma=AV$  \n",
    "$U\\left[\\begin{matrix}\n",
    "\\sqrt5&0\n",
    "\\end{matrix}\\right]=\n",
    "\\left[\\begin{matrix}1&2\\end{matrix}\\right]\\left[\\begin{matrix}\n",
    "1/\\sqrt5&-2/\\sqrt5\\\\\n",
    "2/\\sqrt5&1/\\sqrt5 \n",
    "\\end{matrix}\\right]$  \n",
    "$U\\left[\\begin{matrix}\n",
    "\\sqrt5&0\n",
    "\\end{matrix}\\right]=\n",
    "\\left[\\begin{matrix}\n",
    "\\sqrt5&0\n",
    "\\end{matrix}\\right]$   \n",
    "U=1.\n",
    "\n",
    "**Writing A^+**\n",
    "$A^+=V\\Sigma^+ U^T$  \n",
    "$\\Sigma=\\left[\\begin{matrix}\n",
    "\\sqrt5&0\n",
    "\\end{matrix}\\right]$  \n",
    "$\\Sigma^+=\\left[\\begin{matrix}\n",
    "1/\\sqrt5\\\\\n",
    "0\n",
    "\\end{matrix}\\right]$  \n",
    "$A^+=V\\Sigma^+ U^T=\\left[\\begin{matrix}\n",
    "1/\\sqrt5&-2/\\sqrt5\\\\\n",
    "2/\\sqrt5&1/\\sqrt5 \n",
    "\\end{matrix}\\right]\\left[\\begin{matrix}\n",
    "1/\\sqrt5\\\\\n",
    "0\n",
    "\\end{matrix}\\right]=\n",
    "\\left[\\begin{matrix}\n",
    "1/5\\\\\n",
    "2/5 \n",
    "\\end{matrix}\\right]$  \n",
    "\n",
    "2. What is $AA^+$ and $A^+A$?  \n",
    "$A^+A$ Takes you from $R^2(C(A^T))\\to R^1(C(A))\\to R^2(C(A^T))$  \n",
    "$AA^+$ Takes you from $R^1(C(A))\\to R^2(C(A^T))\\to R^1(C(A))$\n",
    "3. If x is in N(A) what is $A^+Ax$?  \n",
    "It is just the zero vector.  \n",
    "4. If x is in $C(A^T)$ what is $A^+Ax$?  \n",
    "In this case x is taken back to $C(A^T)$.  \n",
    "\n",
    "\n",
    "\n",
    "\n"
   ]
  },
  {
   "cell_type": "markdown",
   "metadata": {
    "colab_type": "text",
    "id": "VRq0Jewpnrt3"
   },
   "source": [
    "#### Lecture 33 Video"
   ]
  },
  {
   "cell_type": "code",
   "execution_count": 0,
   "metadata": {
    "colab": {
     "base_uri": "https://localhost:8080/",
     "height": 10
    },
    "colab_type": "code",
    "id": "Y7RkFR1anwBq",
    "outputId": "87e03dbe-6616-49b0-f798-f7e3dc7a8bb9"
   },
   "outputs": [
    {
     "data": {
      "text/html": [
       "<iframe width=\"560\" height=\"315\" src=\"https://www.youtube.com/embed/Go2aLo7ZOlU?rel=0\" frameborder=\"0\" allow=\"autoplay; encrypted-media\" allowfullscreen></iframe>"
      ],
      "text/plain": [
       "<IPython.core.display.HTML object>"
      ]
     },
     "metadata": {
      "tags": []
     },
     "output_type": "display_data"
    }
   ],
   "source": [
    "%%HTML\n",
    "<iframe width=\"560\" height=\"315\" src=\"https://www.youtube.com/embed/Go2aLo7ZOlU?rel=0\" frameborder=\"0\" allow=\"autoplay; encrypted-media\" allowfullscreen></iframe>"
   ]
  },
  {
   "cell_type": "markdown",
   "metadata": {
    "colab_type": "text",
    "id": "5gUEisQourZY"
   },
   "source": [
    "### Final Review\n",
    "\n",
    " "
   ]
  },
  {
   "cell_type": "markdown",
   "metadata": {
    "colab_type": "text",
    "id": "eMd6xDZquvF-"
   },
   "source": [
    "#### Lecture 34 Video"
   ]
  },
  {
   "cell_type": "code",
   "execution_count": 0,
   "metadata": {
    "colab": {
     "base_uri": "https://localhost:8080/",
     "height": 10
    },
    "colab_type": "code",
    "id": "J399aPhmvKsL",
    "outputId": "595bd3a4-b836-4ed5-8454-6782003a352f"
   },
   "outputs": [
    {
     "data": {
      "text/html": [
       "<iframe width=\"560\" height=\"315\" src=\"https://www.youtube.com/embed/RWvi4Vx4CDc?rel=0\" frameborder=\"0\" allow=\"autoplay; encrypted-media\" allowfullscreen></iframe>"
      ],
      "text/plain": [
       "<IPython.core.display.HTML object>"
      ]
     },
     "metadata": {
      "tags": []
     },
     "output_type": "display_data"
    }
   ],
   "source": [
    "%%HTML\n",
    "<iframe width=\"560\" height=\"315\" src=\"https://www.youtube.com/embed/RWvi4Vx4CDc?rel=0\" frameborder=\"0\" allow=\"autoplay; encrypted-media\" allowfullscreen></iframe>"
   ]
  },
  {
   "cell_type": "markdown",
   "metadata": {
    "colab_type": "text",
    "id": "EL9TkAZxmNF3"
   },
   "source": [
    "## Examples\n",
    "*****\n",
    "*****\n",
    "### Example of how to get eigen values and their respective Eigen Vectors ######\n",
    "\n",
    "$\\quad A=\\left[{\\begin{array}{cc} 2&1\\\\1&2 \\end{array}}\\right]$\n",
    "\n",
    "$\\quad A-\\lambda I = \\left[{\\begin{array}{cc} 2-\\lambda &1\\\\1&2-\\lambda \\end{array}}\\right]$\n",
    "\n",
    "$\\quad |A-\\lambda I|=0$\n",
    "\n",
    "$\\quad =>(2-\\lambda)*(2-\\lambda)-1*1=0$\n",
    "\n",
    "$\\quad =>3-4\\lambda +\\lambda ^2=0$\n",
    "\n",
    "$\\quad =>(\\lambda -3)*(\\lambda -1)=0$\n",
    "\n",
    "$\\quad => \\lambda =3$\n",
    "\n",
    "    OR\n",
    "\n",
    "$\\quad \\quad  \\lambda =1$\n",
    "\n",
    "So here 3 and 1 are *eigen values*. Once we've the eigen values we could get the corresponding *eigen vectors*\n",
    "\n",
    "$\\quad Av=\\lambda v$\n",
    "\n",
    "**For $\\lambda =1$\n",
    "$\\quad Av=1*v\\quad    For\\quad    \\lambda =1$\n",
    "    \n",
    "$ \\left[{\\begin{array}{cc} 2&1\\\\1&2 \\end{array}}\\right] * \\left[{\\begin{array}{c} x\\\\y \\end{array}}\\right] = \\left[{\\begin{array}{c} x\\\\y \\end{array}}\\right]$\n",
    "\n",
    "Both equations give $x=-y$\n",
    "So $v_{\\lambda =1}=\\left[{\\begin{array}{c} 1\\\\-1 \\end{array}}\\right]$ or any non-zero scalar multiple of the same.\n",
    "\n",
    "**For $\\lambda =3$\n",
    "$\\quad Av=3*v\\quad    For\\quad    \\lambda =3$\n",
    "    \n",
    "$ \\left[{\\begin{array}{cc} 2&1\\\\1&2 \\end{array}}\\right] * \\left[{\\begin{array}{c} x\\\\y \\end{array}}\\right] = \\left[{\\begin{array}{c} 3x\\\\3y \\end{array}}\\right]$\n",
    "\n",
    "Both equations give $x=y$\n",
    "So $v_{\\lambda =1}=\\left[{\\begin{array}{c} 1\\\\1 \\end{array}}\\right]$ or any non-zero scalar multiple of the same.\n",
    "\n",
    "**So for A, eigen values are 1 and 3 and their corresponding eigen vectors are $v_{\\lambda =1}=\\left[{\\begin{array}{c} 1\\\\-1 \\end{array}}\\right]$ and $v_{\\lambda =1}=\\left[{\\begin{array}{c} 1\\\\1 \\end{array}}\\right]$\n",
    "*******\n",
    "*******\n",
    "### Another Example of decomposition for a diagonal matrix\n",
    "\n",
    "$\\quad A=\\left[{\\begin{array}{ccc} 1&0&0\\\\0&2&0\\\\0&0&3 \\end{array}}\\right]$  \n",
    "Now do $|A-\\lambda I|=0$  \n",
    "$\\quad(1-\\lambda)*(2-\\lambda)*(3-\\lambda)=0$  \n",
    "$\\quad\\lambda_1=1,\\lambda_2=2,\\lambda_3=3$  \n",
    "For $v_1 (\\lambda_1=1)$  \n",
    "$\\quad x=x$  \n",
    "$\\quad\\quad$True for any x, so we choose x=1 and all it's non zero scalar multiples as eigen vectors  \n",
    "$\\quad2y=y$  \n",
    "$\\quad\\quad$y=0  \n",
    "$\\quad3z=z$  \n",
    "$\\quad\\quad$z=0  \n",
    "$\\quad v_1=\\left[{\\begin{array}{c} 1\\\\0\\\\0 \\end{array}}\\right]$  \n",
    "For $v_2 (\\lambda_2=2)$  \n",
    "$\\quad x=2x$  \n",
    "$\\quad 2y=2y$  \n",
    "$\\quad 3z=2z$  \n",
    "$\\quad v_1=\\left[{\\begin{array}{c} 0\\\\1\\\\0 \\end{array}}\\right]$  \n",
    "For $v_3 (\\lambda_3=3)$  \n",
    "$\\quad x=3x$  \n",
    "$\\quad 2y=3y$  \n",
    "$\\quad 3z=3z$  \n",
    "$\\quad v_1=\\left[{\\begin{array}{c} 0\\\\0\\\\1 \\end{array}}\\right]$  \n",
    "\n",
    "****\n",
    "****\n"
   ]
  },
  {
   "cell_type": "markdown",
   "metadata": {
    "colab_type": "text",
    "id": "Aja7bvLamNF3"
   },
   "source": [
    "### SVD Example\n",
    "\n",
    "$\\quad A= \\left[{\\begin{array}{ccc} 3&2&2\\\\2&3&-2 \\end{array}}\\right]$  \n",
    "$\\quad A^TA = \\left[{\\begin{array}{cc} 3&2\\\\2&3\\\\2&-2 \\end{array}}\\right].\\left[{\\begin{array}{ccc} 3&2&2\\\\2&3&-2 \\end{array}}\\right]$  \n",
    "$\\quad A^TA=\\left[{\\begin{array}{ccc} 13&12&2\\\\12&13&-2\\\\2&-2&8 \\end{array}}\\right]$  \n",
    "$\\quad |A^TA-\\lambda I|=0$  \n",
    "$\\quad\\implies \\left|\\left[{\\begin{array}{ccc} 13-\\lambda &12&2\\\\12&13-\\lambda &-2\\\\2&-2&8-\\lambda  \\end{array}}\\right]\\right|=0$  \n",
    "$\\quad\\implies (13-\\lambda )((13-\\lambda )*(8-\\lambda )-4)-12(96-12\\lambda +4)+2(-24-26+2\\lambda )=0$  \n",
    "$\\quad\\implies (13-\\lambda )(13*8-13\\lambda -8\\lambda +\\lambda ^2-4)-12^2*2^3+12^2\\lambda -12*2^2-12*4-13*4+4\\lambda =0$  \n",
    "$\\quad\\implies (13-\\lambda )(2^2*5^2+(2^2-5^2)\\lambda +\\lambda ^2)-13*2^2*5^2+4\\lambda +12^2\\lambda =0$  \n",
    "$\\quad\\implies (13-\\lambda )(2^2*5^2+(2^2-5^2)\\lambda +\\lambda ^2)-13*2^2*5^2+4\\lambda +12^2\\lambda =0$  \n",
    "$\\quad\\implies 13(2^2*5^2+(2^2-5^2)\\lambda +\\lambda ^2)-\\lambda (2^2*5^2+(2^2-5^2)\\lambda +\\lambda ^2)+148\\lambda -13*2^2*5^2=0$  \n",
    "$\\quad\\implies 13*2^2*5^2+13(2^2-5^2)\\lambda +13\\lambda ^2-2^2*5^2\\lambda -(2^2-5^2)\\lambda ^2-\\lambda ^3+148\\lambda -13*2^2*5^2=0$  \n",
    "$\\quad\\implies -\\lambda ^3+13\\lambda ^2-(2^2-5^2)\\lambda ^2+13(2^2-5^2)\\lambda -2^2*5^2\\lambda +148\\lambda +13*2^2*5^2-13*2^2*5^2=0$  \n",
    "$\\quad\\implies -\\lambda ^3+13\\lambda ^2-(2^2-5^2)\\lambda ^2+13(2^2-5^2)\\lambda -2^2*5^2\\lambda +148\\lambda =0$  \n",
    "$\\quad\\implies -\\lambda ^3+(13+5^2-2^2)\\lambda ^2-13(5^2-2^2)\\lambda -2^2*5^2\\lambda +148\\lambda =0$  \n",
    "$\\quad\\implies -\\lambda ^3+(13+5^2-2^2)\\lambda ^2-(13*5^2-13*2^2+2^2*5^2)\\lambda +148\\lambda =0$  \n",
    "$\\quad\\implies -\\lambda ^3+34\\lambda ^2-373\\lambda +148\\lambda =0$  \n",
    "$\\quad\\implies -\\lambda ^3+34\\lambda ^2-225\\lambda =0$  \n",
    "$\\quad\\implies -\\lambda (\\lambda ^2-(25+9)\\lambda +25*9)=0$  \n",
    "$\\quad\\implies -\\lambda (\\lambda -25)(\\lambda -9)=0$  \n",
    "$\\quad\\implies \\lambda =25,9,0$  \n",
    "$D = \\left[{\\begin{array}{ccc} 25&0&0\\\\0&9&0\\\\0&0&0 \\end{array}}\\right]$  this is $D$ for $A^TA$  \n",
    "This also gives us the below:-  \n",
    "**$\\sum=\\left[{\\begin{array}{ccc} 5&0&0\\\\0&3&0\\\\0&0&0 \\end{array}}\\right]$  this is $\\sum$ in \" $A=U\\sum V^T$  \"\n",
    "\n",
    "\n",
    "\n",
    "Let's calculate the eigenvectors for $A^TA$  \n",
    "$\\quad A^TAv_1=\\lambda _1v_1$  \n",
    "$\\left[{\\begin{array}{ccc} 13&12&2\\\\12&13&-2\\\\2&-2&8 \\end{array}}\\right]\\left[{\\begin{array}{c} x\\\\y\\\\z \\end{array}}\\right]=\\left[{\\begin{array}{c} 25x\\\\25y\\\\25z \\end{array}}\\right]$  \n"
   ]
  },
  {
   "cell_type": "markdown",
   "metadata": {
    "colab_type": "text",
    "id": "md9FhEOOmNF4"
   },
   "source": [
    "    \n",
    "$13x+12y+2z=25x$  \n",
    "$12x+13y-2z=25y$  \n",
    "$2x-2y+8z=25z$  \n",
    "  \n",
    "$x-y=z/6$  \n",
    "$x-y=17z/2$  \n",
    "  \n",
    "$x=1,y=1,z=0$ and any non zero scalar multiple of the same would be an eigen vector for $\\lambda=25$  \n",
    "$\\quad v_{\\lambda = 25}=\\left[{\\begin{array}{c}1\\\\1\\\\0\\end{array}}\\right]$  \n",
    "  \n",
    "$13x+12y+2z=9x$  \n",
    "$12x+13y-2z=9y$  \n",
    "$2x-2y+8z=9z$  \n",
    "  \n",
    "$2x+6y=-z$\n",
    "$6x+2y=z$\n",
    "$2x-2y=z$\n",
    "  \n",
    "$\\quad v_{\\lambda = 9}=\\left[{\\begin{array}{c}1\\\\-1\\\\4\\end{array}}\\right]$\n",
    "  \n",
    "There is really no need for us to calculate the eigenvector when $\\lambda =0$  \n",
    "$13x+12y+2z=0  \n",
    "$12x+13y-2z=0  \n",
    "$2x-2y+8z=0  \n",
    "  \n",
    "$x=-y$\n",
    "$x=-2z$\n",
    "  \n",
    "$\\quad v_{\\lambda = 9}=\\left[{\\begin{array}{c}1\\\\-1\\\\-1/2\\end{array}}\\right]$\n",
    "\n",
    "\n",
    "**Now $V=\\left[{\\begin{array}{ccc}1&1&1\\\\1&-1&-1\\\\0&4&-1/2\\end{array}}\\right]$  this is $V$ in \" $A=U\\sum{}V^T$  \"\n",
    "Now $V=\\left[{\\begin{array}{ccc}1/\\sqrt{2}&1/\\sqrt{18}&1\\\\1/\\sqrt{2}&-1/\\sqrt{18}&-1\\\\0&4/\\sqrt{18}&-1/2\\end{array}}\\right]$  this is $V$ in \" $A=U\\sum{}V^T$  \"**\n",
    "\n",
    "**\n",
    "<div style=\"border:solid\">From SVD we define $u_i=Av_i/\\sigma_i$  </div>\n",
    "  **\n",
    "$u_1=1/\\sigma_1 \\left[{\\begin{array}{ccc} 3&2&2\\\\2&3&-2 \\end{array}}\\right].\\left[{\\begin{array}{c}1\\\\1\\\\0\\end{array}}\\right]$  \n",
    "$u_i=1/5 \\left[{\\begin{array}{c} 5\\\\5 \\end{array}}\\right]$  \n",
    "$u_i=\\left[{\\begin{array}{c} 1\\\\1 \\end{array}}\\right]$  \n",
    "  \n",
    "$u_2=1/\\sigma_2 \\left[{\\begin{array}{ccc} 3&2&2\\\\2&3&-2 \\end{array}}\\right].\\left[{\\begin{array}{c}1\\\\-1\\\\4\\end{array}}\\right]$  \n",
    "$u_i=1/3 \\left[{\\begin{array}{c} 9\\\\-9 \\end{array}}\\right]$  \n",
    "$u_i=\\left[{\\begin{array}{c} 3\\\\-3 \\end{array}}\\right]$  \n",
    "\n",
    "Now $U=\\left[{\\begin{array}{cc}1&3\\\\1&-3\\end{array}}\\right]$  this is $V$ in \" $A=U\\sum{}V^T$  \"  \n",
    "**Now $U=\\left[{\\begin{array}{cc}1/\\sqrt{2}&1/\\sqrt{2}\\\\1/\\sqrt{2}&-1/\\sqrt{2}\\end{array}}\\right]$  this is $V$ in \" $A=U\\sum{}V^T$  \"**\n",
    "\n",
    "Now let's calculate $U\\sum V^T$  \n",
    "$U\\sum V^T=\\left[{\\begin{array}{cc}1&3\\\\1&-3\\end{array}}\\right].\\left[{\\begin{array}{ccc} 5&0&0\\\\0&3&0\\\\0&0&0 \\end{array}}\\right].\\left[{\\begin{array}{ccc}1&1&1\\\\1&-1&-1\\\\0&4&-1/2\\end{array}}\\right]^T$  \n"
   ]
  },
  {
   "cell_type": "code",
   "execution_count": 0,
   "metadata": {
    "colab": {
     "base_uri": "https://localhost:8080/",
     "height": 52
    },
    "colab_type": "code",
    "id": "47ppq2almNF5",
    "outputId": "94d1fdf4-3222-4726-9e96-90cc47bd4b3b"
   },
   "outputs": [
    {
     "name": "stdout",
     "output_type": "stream",
     "text": [
      "[[ 14  -4  36]\n",
      " [ -4  14 -36]]\n"
     ]
    }
   ],
   "source": [
    "import numpy as np\n",
    "U=[[1,3],[1,-3]]\n",
    "D=[[5,0],[0,3]]\n",
    "V=np.asarray([[1,1],[1,-1],[0,4]])\n",
    "A=np.matmul(U,D)\n",
    "A=np.matmul(A,np.matrix.transpose(V))\n",
    "print(A)"
   ]
  },
  {
   "cell_type": "markdown",
   "metadata": {
    "colab_type": "text",
    "id": "VHyjJqE1mNGA"
   },
   "source": [
    "$U\\sum V^T=\\left[{\\begin{array}{cc}1&3\\\\1&-3\\end{array}}\\right].\\left[{\\begin{array}{ccc} 5&0\\\\0&3 \\end{array}}\\right].\\left[{\\begin{array}{ccc}1&1&1\\\\1&-1&-1\\\\0&4&-1/2\\end{array}}\\right]^T$  \n",
    "$U\\sum V^T=\\left[{\\begin{array}{cc}1&3\\\\1&-3\\end{array}}\\right].\\left[{\\begin{array}{ccc} 5&0\\\\0&3 \\end{array}}\\right].\\left[{\\begin{array}{cc} 1&1\\\\1&-1\\\\0&4\\end{array}}\\right]^T$  \n",
    "$U\\sum V^T=\\left[{\\begin{array}{cc}1&3\\\\1&-3\\end{array}}\\right].\\left[{\\begin{array}{ccc} 5&0\\\\0&3 \\end{array}}\\right].\\left[{\\begin{array}{ccc} 1&1&0\\\\1&-1&4 \\end{array}}\\right]$  \n",
    "$U\\sum V^T=\\left[{\\begin{array}{cc}5&9\\\\5&-9\\end{array}}\\right].\\left[{\\begin{array}{ccc} 1&1&0\\\\1&-1&4 \\end{array}}\\right]$  \n",
    "\n",
    "Well clearly this is not working... So we need to make sure that the eigen vectors are unitary or normal vectors.\n",
    "\n",
    "$U\\sum V^T=$$\\left[{\\begin{array}{cc}1/\\sqrt{2}&1/\\sqrt{2}\\\\1/\\sqrt{2}&-1/\\sqrt{2}\\end{array}}\\right]$.$\\left[{\\begin{array}{ccc} 5&0&0\\\\0&3&0\\\\0&0&0 \\end{array}}\\right].\\left[{\\begin{array}{ccc}1/\\sqrt{2}&1/\\sqrt{18}&1\\\\1/\\sqrt{2}&-1/\\sqrt{18}&-1\\\\0&4/\\sqrt{18}&-1/2\\end{array}}\\right]^T$  \n",
    "\n"
   ]
  },
  {
   "cell_type": "code",
   "execution_count": 0,
   "metadata": {
    "colab": {
     "base_uri": "https://localhost:8080/",
     "height": 52
    },
    "colab_type": "code",
    "id": "qDSKgKwhmNGC",
    "outputId": "1d199ad1-7e02-4546-f0e6-3bf6545fc172"
   },
   "outputs": [
    {
     "name": "stdout",
     "output_type": "stream",
     "text": [
      "[[ 3.  2.  2.]\n",
      " [ 2.  3. -2.]]\n"
     ]
    }
   ],
   "source": [
    "import numpy as np\n",
    "U=[[1/2**0.5,1/2**0.5],[1/2**0.5,-1/2**0.5]]\n",
    "D=[[5,0],[0,3]]\n",
    "V=np.asarray([[1/2**0.5,1/18**0.5],[1/2**0.5,-1/18**0.5],[0,4/18**0.5]])\n",
    "A=np.matmul(U,D)\n",
    "A=np.matmul(A,np.matrix.transpose(V))\n",
    "print(A)\n"
   ]
  },
  {
   "cell_type": "markdown",
   "metadata": {
    "colab_type": "text",
    "id": "iT1z-QIRmNGF"
   },
   "source": [
    "$U\\sum V^T=\\left[{\\begin{array}{cc}1/\\sqrt{2}&1/\\sqrt{2}\\\\1/\\sqrt{2}&-1/\\sqrt{2}\\end{array}}\\right].\\left[{\\begin{array}{ccc} 5&0\\\\0&3 \\end{array}}\\right].\\left[{\\begin{array}{ccc}1/\\sqrt{2}&1/\\sqrt{18}&1\\\\1/\\sqrt{2}&-1/\\sqrt{18}&-1\\\\0&4/\\sqrt{18}&-1/2\\end{array}}\\right]^T$  \n",
    "$U\\sum V^T=\\left[{\\begin{array}{cc}1/\\sqrt{2}&1/\\sqrt{2}\\\\1/\\sqrt{2}&-1/\\sqrt{2}\\end{array}}\\right].\\left[{\\begin{array}{ccc} 5&0\\\\0&3 \\end{array}}\\right].\\left[{\\begin{array}{cc} 1/\\sqrt{2}&1/\\sqrt{18}\\\\1/\\sqrt{2}&-1/\\sqrt{18}\\\\0&4/\\sqrt{18}\\end{array}}\\right]^T$  \n",
    "$U\\sum V^T=\\left[{\\begin{array}{cc}1/\\sqrt{2}&1/\\sqrt{2}\\\\1/\\sqrt{2}&-1/\\sqrt{2}\\end{array}}\\right].\\left[{\\begin{array}{ccc} 5&0\\\\0&3 \\end{array}}\\right].\\left[{\\begin{array}{ccc} 1/\\sqrt{2}&1/\\sqrt{2}&0\\\\1/\\sqrt{18}&-1/\\sqrt{18}&4/\\sqrt{18} \\end{array}}\\right]$  \n",
    "$U\\sum V^T=\\left[{\\begin{array}{cc}1/\\sqrt{2}&1/\\sqrt{2}\\\\1/\\sqrt{2}&-1/\\sqrt{2}\\end{array}}\\right].\\left[{\\begin{array}{ccc} 5&0\\\\0&3 \\end{array}}\\right].\\left[{\\begin{array}{ccc} 1/\\sqrt{2}&1/\\sqrt{2}&0\\\\1/\\sqrt{18}&-1/\\sqrt{18}&4/\\sqrt{18} \\end{array}}\\right]$  \n",
    "$U\\sum V^T=\\left[{\\begin{array}{cc}5/\\sqrt{2}&3/\\sqrt{2}\\\\5/\\sqrt{2}&-3/\\sqrt{2}\\end{array}}\\right].\\left[{\\begin{array}{ccc} 1/\\sqrt{2}&1/\\sqrt{2}&0\\\\1/\\sqrt{18}&-1/\\sqrt{18}&4/\\sqrt{18} \\end{array}}\\right]$  \n",
    "$U\\sum V^T=\\left[{\\begin{array}{ccc} 6/\\sqrt{2}^2&4/\\sqrt{2}^2&\\frac{3*4}{3*2}\\\\5/\\sqrt{2}^2&6/\\sqrt{2}^2&-\\frac{3*4}{3*2} \\end{array}}\\right]$  \n",
    "$U\\sum V^T=\\left[{\\begin{array}{ccc} 3&2&2\\\\2&3&-2 \\end{array}}\\right]=A$  \n",
    "\n"
   ]
  },
  {
   "cell_type": "markdown",
   "metadata": {
    "colab_type": "text",
    "id": "1GFNrxNxmNGF"
   },
   "source": [
    "\n",
    "\n",
    "##### Single Value Decomposition"
   ]
  },
  {
   "cell_type": "markdown",
   "metadata": {
    "colab_type": "text",
    "id": "hNeIJ6lXmNGG"
   },
   "source": [
    "\n",
    "##### Known notes\n",
    "Given\n",
    "\n",
    "$a_{1}x + b_{1}y + c_{1}z =k_{1}$\n",
    "\n",
    "$a_{2}x + b_{2}y + c_{2}z =k_{2}$\n",
    "\n",
    "$a_{3}x + b_{3}y + c_{3}z =k_{3}$\n",
    "\n",
    "$A=\\left[{\\begin{array}{ccc} \n",
    "    a_{1} & b_{1} & c_{1}\\\\\n",
    "    a_{2} & b_{2} & c_{2}\\\\\n",
    "    a_{3} & b_{3} & c_{3}\\\\\n",
    "    \\end{array}} \\right]$ and $K=\\left[{\\begin{array}{c} \n",
    "    k_{1}\\\\\n",
    "    k_{2}\\\\\n",
    "    k_{3}\\\\\n",
    "    \\end{array}} \\right]$,$V=\\left[{\\begin{array}{c} \n",
    "    x\\\\\n",
    "    y\\\\\n",
    "    z\\\\\n",
    "    \\end{array}} \\right]$\n",
    "\n",
    "$AV=K$\n",
    "\n",
    "$=>A^{-1}AV=A^{-1}K$\n",
    "\n",
    "$=>IV=A^{-1}K$\n",
    "\n",
    "$=>V=A^{-1}K$\n",
    "\n",
    "$=>V=\\frac{1}{|A|} adj(A)K$\n",
    "\n",
    "$=>V=\\frac{1}{|A|} C^{T}K$\n",
    "\n",
    "Where **C** is a co-factor matrix of **A**\n",
    "\n",
    "This is what we learnt in high-school, but there are several problems with this.\n",
    "1. Perfect solutions may not  for equations when no. of var>no. of equations, so we need to find the complete solution.\n",
    "2. Calculating inverse for a big matrices is very computational intensive, especially for sparce matrices, alternative methods are much faster.\n",
    "3. A may not be invertible(Singular matrices), falls into case1 but worth mentioning separately.\n",
    "\n",
    "\n"
   ]
  },
  {
   "cell_type": "markdown",
   "metadata": {
    "colab_type": "text",
    "id": "JTTV1w9qmNGH"
   },
   "source": [
    "### Unknown Terms that should be learnt\n",
    "\n",
    "*  Lebesgue Measure\n",
    "*  Gram Schmidt Process\n",
    "\n",
    "###### Useful is SVD\n",
    "*  Cholesky Decomposition (LU etc..)\n",
    "*  QR Algorithm\n"
   ]
  },
  {
   "cell_type": "markdown",
   "metadata": {
    "colab_type": "text",
    "id": "9nrMlPBtmNGI"
   },
   "source": [
    "### Assignment Problems"
   ]
  },
  {
   "cell_type": "markdown",
   "metadata": {
    "colab_type": "text",
    "id": "_fqjPECNmNGJ"
   },
   "source": [
    "###### Problem A-1. \n",
    "Decide whether the following statements are true or false. No explanation\n",
    "needed.  \n",
    "  \n",
    "1. The row-rank and column-rank of a matrix is always equal to each other.  \n",
    "$\\quad$ True  \n",
    "  \n",
    "2. For a $m × n$ matrix $A$ and a $n × g$ matrix $B$, it is always true that rank(AB) ≤ rank(A).  \n",
    "$\\quad$ True in fact rank(AB) ≤ min(rank(A),rank(B))  \n",
    "  \n",
    "3. There are matrices whose left-inverse and right-inverse are not equal to each other, i.e.,  \n",
    " ∃A, B, C such that BA = I and AC = I.  \n",
    " $\\quad$ False  \n",
    "  \n",
    "4. A matrix has full-rank if and only if it is invertible.  \n",
    "$\\quad$ Not sure but the inverse is true though, a matrix is invertible if and only if it has a fill rank.  \n",
    "  \n",
    "5. All symmetric matrices are invertible.  \n",
    "$\\quad$ Only symmetric matrices with full rank are invertible.  \n",
    "  \n",
    "6. A matrix is invertible if all eigenvalues are distinct.  \n",
    "$\\quad$Ans:If algebraic multiplicty is >1 for a given $\\lambda$ then $\\lambda$s are not distinct.  \n",
    "<div style=\"border:solid\">Not sure of invertibility in relation to multiplicity of an eigen value.</div>  \n",
    "But A matrix is invertible if and only if it has all non-zero eigen values. But a given eigen value is said to be repeated if it's geometric multiplicity is >1.  \n",
    "So the statement could be False.  \n",
    "The statement should be \"A matrix is invertible if all eigenvalues are non-zero real values.\" This would imply that A is Hermitian matrix and thus is invertible.\n",
    "  \n",
    "7. A matrix is diagonalizable if and only if it is invertible.  \n",
    "$\\quad$Ans:Invertibility has nothing to do with diagonalizability as $A=UDU^-1$ for symmetric matrices via EVD and $A=U\\sum V^T$ for non symmetric matrices via  SVD"
   ]
  },
  {
   "cell_type": "markdown",
   "metadata": {
    "colab_type": "text",
    "id": "Zp-5uWDUmNGJ"
   },
   "source": [
    "###### Problem A-2  \n",
    "1. Find an orthonormal basis of the subspace of $R^5$ spanned by $v_1$, $v_2$, and\n",
    "$v_3$, where $v_1$ = (1, 0, 1, 0, 1), $v_2$ = (1, 1, 1, 0, 0), and $v_3$ = (0, 0, 1, 1, 1), using Gram-Schmidt\n",
    "process.\n",
    "2. Complete the basis found in (a), into an orthonormal basis of R5.  \n",
    "3. Find the matrix U which transforms the basis found in (b) into the standard basis of R5.  "
   ]
  },
  {
   "cell_type": "code",
   "execution_count": 0,
   "metadata": {
    "colab": {
     "base_uri": "https://localhost:8080/",
     "height": 380
    },
    "colab_type": "code",
    "id": "QmILIgGimNGK",
    "outputId": "b146c028-5313-48d2-8095-283511d86c5f"
   },
   "outputs": [
    {
     "name": "stdout",
     "output_type": "stream",
     "text": [
      "[[1 1 0]\n",
      " [0 1 0]\n",
      " [1 1 1]\n",
      " [0 0 1]\n",
      " [1 0 1]]\n",
      "[1 0 1 0 1]\n",
      "[ 0.33333333  1.          0.33333333  0.         -0.66666667]\n",
      "[-0.6  0.2  0.4  1.   0.2]\n",
      "Test Orthonormality\n",
      "1.1102230246251565e-16\n",
      "1.1102230246251565e-16\n",
      "-5.551115123125783e-17\n",
      "All vectors are perpendicular to each other as the dot products are very close to zero.\n",
      "U=[[ 0.57735027  0.25819889 -0.47434165]\n",
      " [ 0.          0.77459667  0.15811388]\n",
      " [ 0.57735027  0.25819889  0.31622777]\n",
      " [ 0.          0.          0.79056942]\n",
      " [ 0.57735027 -0.51639778  0.15811388]]\n",
      "Test=[[ 1.00000000e+00  5.84850583e-17  3.92454745e-17]\n",
      " [ 5.84850583e-17  1.00000000e+00 -5.78036515e-17]\n",
      " [ 3.92454745e-17 -5.78036515e-17  1.00000000e+00]]\n"
     ]
    }
   ],
   "source": [
    "import numpy as np\n",
    "\n",
    "A=np.column_stack(([1,0,1,0,1],[1,1,1,0,0],[0,0,1,1,1]))\n",
    "print(A)\n",
    "V1=np.transpose([1,0,1,0,1])\n",
    "V2=np.transpose([1,1,1,0,0])\n",
    "V3=np.transpose([0,0,1,1,1])\n",
    "\n",
    "U1=V1\n",
    "U2=V2-(np.matmul(np.transpose(U1),V2)/np.matmul(np.transpose(U1),U1))*U1\n",
    "U3=V3-(np.matmul(np.transpose(U1),V3)/np.matmul(np.transpose(U1),U1))*U1 - (np.matmul(np.transpose(U2),V3)/np.matmul(np.transpose(U2),U2))*U2\n",
    "\n",
    "print(U1)\n",
    "print(U2)\n",
    "print(U3)\n",
    "print(\"Test Orthonormality\")\n",
    "print(np.matmul(np.transpose(U1),U2))\n",
    "print(np.matmul(np.transpose(U1),U3))\n",
    "print(np.matmul(np.transpose(U2),U3))\n",
    "print(\"All vectors are perpendicular to each other as the dot products are very close to zero.\")\n",
    "\n",
    "E1=U1/np.matmul(np.transpose(U1),U1)**0.5\n",
    "E2=U2/np.matmul(np.transpose(U2),U2)**0.5\n",
    "E3=U3/np.matmul(np.transpose(U3),U3)**0.5\n",
    "\n",
    "U=np.column_stack((E1,E2,E3))\n",
    "print(\"U=\" + str(U))\n",
    "#Tranpose(U).U=I as U is an orthonormal basis.\n",
    "print(\"Test=\" + str(np.matmul(np.transpose(U),U)))\n"
   ]
  },
  {
   "cell_type": "markdown",
   "metadata": {
    "colab_type": "text",
    "id": "Ouyqro1qmNGO"
   },
   "source": [
    "###### Problem B-1. \n",
    "Decide whether the following statements about a singular value decomposition $A = UΣV^T$ are true or false. EXPLAIN the reason.  \n",
    "1.  The number of non-zero diagonal entries of Σ is equal to the rank of A.  \n",
    "$\\quad$True.  \n",
    "  \n",
    "2. Σ is uniquely determined up to permuting the rows and columns.  \n",
    "$\\quad$  Don't understand the question  \n",
    "  \n",
    "3. If A is a n × n matrix, then U and V can be chosen so that U = V .\n",
    "$\\quad$ False.  \n",
    "$\\quad$In $n × n$ case it wouldn't be $A=UDV^T$ but it would be $A=UDV^{-1}$.  \n",
    "$\\quad$Both would be the same only when $V^T=V^{-1}$. This would be the case when A is Hermititan(or real symmetric matrix).\n",
    "\n",
    "4. If A is a symmetric n × n matrix, then U and V can be chosen so that U = V  \n",
    "$\\quad$Not is A is a symmetric n × n matrix, with complex numbers on non-diagonal. In which case it needs to be a Hermitian for this to be True. That is $A=A^*$, that is $A=\\bar{A}^{T}$. This is not the case when A is symmetric as below:-\n",
    "$\\quad$$A=\\left[{\\begin{array}{cc} 1&i\\\\i&1 \\end{array}}\\right]$  \n"
   ]
  },
  {
   "cell_type": "markdown",
   "metadata": {
    "colab_type": "text",
    "id": "7TilbCM0mNGO"
   },
   "source": [
    "###### Problem B-2. \n",
    "Prove that the matrices $AA^T$ and $A^TA$ have the same set of non-zero eigenvalues.\n",
    "(Hint: consider the singular value decomposition of A)\n",
    "\n",
    "$A=U\\sum V^T$  \n",
    "$\\quad\\implies A^T=V(U\\sum )^T$  \n",
    "$\\quad\\implies A^T=V\\sum^TU^T$  \n",
    "$A^TA=V\\sum^2V^T$  \n",
    "$AA^T=U\\sum V^TV\\sum^TU^T$ Since $V$ is an othogonal matrix as $AA^T$ is real symmetric, for orthogonal matrices $VV^T=V^TV=I$ and $V^T=V^{-1}$  \n",
    "$\\quad\\implies AA^T=U\\sum \\sum^TU^T$  \n",
    "$\\quad\\implies AA^T=U\\sum^2U^T$ "
   ]
  },
  {
   "cell_type": "code",
   "execution_count": 0,
   "metadata": {
    "colab": {
     "base_uri": "https://localhost:8080/",
     "height": 483
    },
    "colab_type": "code",
    "id": "sDX0LYxYmNGQ",
    "outputId": "75a3636a-dc6f-4642-e73c-351550de303f"
   },
   "outputs": [
    {
     "name": "stdout",
     "output_type": "stream",
     "text": [
      "[[1 4]\n",
      " [0 1]]\t\n",
      " Transforms \n",
      "[[1]\n",
      " [1]]\t\n",
      " to \n",
      "[[5]\n",
      " [1]]\n",
      "Lambdas=[1. 1.]\n",
      "Vectors=\n",
      "[[ 1.00000000e+00 -1.00000000e+00]\n",
      " [ 0.00000000e+00  5.55111512e-17]]\n",
      "[[1.]\n",
      " [0.]]\n",
      "U\n",
      "[[1. 1.]\n",
      " [0. 0.]]\n",
      "D\n",
      "[[1. 0.]\n",
      " [0. 1.]]\n",
      "V\n",
      "[[1. 1.]\n",
      " [0. 0.]]\n",
      "[[1. 1.]\n",
      " [0. 0.]]\n",
      "[[2. 0.]\n",
      " [0. 0.]]\n"
     ]
    }
   ],
   "source": [
    "import numpy as np\n",
    "#A is a Shear Transformation matrix\n",
    "A=[[1,4],[0,1]]\n",
    "B=[[1],[1]]\n",
    "\n",
    "BT=np.matmul(A,B)\n",
    "print(str(np.array(A)) + \"\\t\\n Transforms \\n\" + str(np.array(B)) + \"\\t\\n to \\n\" + str(BT))\n",
    "\n",
    "l,v=np.linalg.eig(A)\n",
    "print(\"Lambdas=\" + str(l))\n",
    "print(\"Vectors=\\n\" + str(v))\n",
    "\n",
    "v1=np.array([[v[0,0]],[v[1,0]]])\n",
    "print(v1)\n",
    "\n",
    "#U=Av/sigma\n",
    "u1=np.matmul(A,v1)\n",
    "U=np.column_stack((u1,u1))\n",
    "V=np.column_stack((v1,v1))\n",
    "D=np.array([[l[0],0],[0,l[1]]])\n",
    "print(\"U\")\n",
    "print(U)\n",
    "print(\"D\")\n",
    "print(D)\n",
    "print(\"V\")\n",
    "print(V)\n",
    "\n",
    "#A=UZV(T)\n",
    "print(np.matmul(U,D))\n",
    "print(np.matmul(np.matmul(U,D),np.transpose(V)))\n",
    "\n",
    "#Here "
   ]
  },
  {
   "cell_type": "markdown",
   "metadata": {
    "colab_type": "text",
    "id": "q0AjuuDWuB_T"
   },
   "source": [
    "##### Q\n",
    "If A =$\\left[\\begin{matrix}1&4\\\\4&1\\end{matrix}\\right]$, find an invertible matrix C such that $D := C^{−1}AC$ is a diagonal matrix.  \n",
    "Compute $A^{50}$.  \n",
    "**Ans**  \n",
    "A =$\\left[\\begin{matrix}1&4\\\\4&1\\end{matrix}\\right]$  \n",
    "Product of eigen values =|A|=-15  \n",
    "Sum of eigen values=2  \n",
    "We can deterrmine from above that eigen values=5,-3  \n",
    "More formally we find Eigen Values:  \n",
    "$$\\begin{align}&(1-\\lambda)^2-16=0\\\\&\\implies(1-\\lambda)=\\pm4\\\\&\\implies\\lambda=1\\pm4=5,-3\\end{align}$$  \n",
    "$$D=\\left[\\begin{matrix}5&0\\\\0&-3\\end{matrix}\\right]$$  \n",
    "Find eigen vectors for each eigen values:  \n",
    "For $\\lambda=5$  \n",
    "$$\n",
    "\\begin{align}\n",
    "&Av=\\lambda v\\\\\n",
    "&\\left[\\begin{matrix}1-5&4\\\\4&1-5\\end{matrix}\\right]\\left[\\begin{matrix}v_1\\\\v_2\\end{matrix}\\right]=0\\\\\n",
    "&\\left[\\begin{matrix}-4&4\\\\4&-4\\end{matrix}\\right]\\left[\\begin{matrix}v_1\\\\v_2\\end{matrix}\\right]=0\\\\\n",
    "&\\begin{cases}-4v_1+4v_2=0\\\\\n",
    "4v_1-4v_2=0\n",
    "\\end{cases}\n",
    "v=\\left[\\begin{matrix}1\\\\1\\end{matrix}\\right]\n",
    "\\end{align}\n",
    "$$  \n",
    "For $\\lambda=-3$  \n",
    "$$\n",
    "\\begin{align}\n",
    "&Av=\\lambda v\\\\\n",
    "&\\left[\\begin{matrix}1+3&4\\\\4&1+3\\end{matrix}\\right]\\left[\\begin{matrix}v_1\\\\v_2\\end{matrix}\\right]=0\\\\\n",
    "&\\left[\\begin{matrix}4&4\\\\4&4\\end{matrix}\\right]\\left[\\begin{matrix}v_1\\\\v_2\\end{matrix}\\right]=0\\\\\n",
    "&\\begin{cases}4v_1+4v_2=0\\\\\n",
    "4v_1+4v_2=0\n",
    "\\end{cases}\n",
    "v=\\left[\\begin{matrix}1\\\\-1\\end{matrix}\\right]\n",
    "\\end{align}\n",
    "$$  \n",
    "To get $A^{50}$:\n",
    "$$\n",
    "\\begin{align}\n",
    "A&=CDC^{-1}\\\\\n",
    "A&=\\left[\\begin{matrix}1&1\\\\1&-1\\end{matrix}\\right]\\left[\\begin{matrix}5&0\\\\0&-3\\end{matrix}\\right]\\left[\\begin{matrix}1/2&1/2\\\\1/2&-1/2\\end{matrix}\\right]\\\\\n",
    "A^{50}&=\\left[\\begin{matrix}1&1\\\\1&-1\\end{matrix}\\right]\\left[\\begin{matrix}5^{50}&0\\\\0&-3^{50}\\end{matrix}\\right]\\left[\\begin{matrix}1/2&1/2\\\\1/2&-1/2\\end{matrix}\\right]\\\\\n",
    "A^{50}&=\\left[\\begin{matrix}5^{50}&3^{50}\\\\5^{50}&-3^{50}\\end{matrix}\\right]\\left[\\begin{matrix}1/2&1/2\\\\1/2&-1/2\\end{matrix}\\right]\\\\\n",
    "A^{50}&=\\frac{1}{2}\\left[\\begin{matrix}5^{50}+3^{50}&5^{50}-3^{50}\\\\5^{50}-3^{50}&5^{50}+3^{50}\\end{matrix}\\right]\n",
    "\\end{align}\n",
    "$$\n",
    "\n"
   ]
  },
  {
   "cell_type": "markdown",
   "metadata": {
    "colab_type": "text",
    "id": "XNs1Wwrvnb5q"
   },
   "source": [
    "##### Q\n",
    "B–2. Let $T : R^n \\to R^k$ be a real matrix (not necessarily square). If the nullspace of T is {0}, show that the matrix T∗T is invertible and positive definite.  \n",
    "\n",
    "**Ans**  \n",
    "T is a transformation matrix that takes $R^n$ can and maps it to $R^k$.  \n",
    "$$TX_{R_n}=Y_{R_k}\\implies T_{k\\times n}$$\n",
    "If nullspace of T is {0}:\n",
    "$$\\begin{align}Tx=0&\\implies x=0\\\\&\\implies T\\text{ has Full Column Rank}=n\\\\&\\implies k\\geq n\\\\&\\implies\\text{Columns define an n-dimensional subspace in }R_k\\\\&\\implies\\text{Rows define an n-dimensional space fully}\\\\&\\implies (T*T)_{k\\times k}\\text{ has a rank of n}\\end{align}$$\n",
    "\n",
    "Given $T_{k\\times n}\\times x_{n\\times1}=0\\implies x_{n\\times1}=0$  \n",
    "$$T*Tx=0\\implies x=0$$\n",
    "Thus T\\*T is a \n",
    "\n",
    "\n"
   ]
  }
 ],
 "metadata": {
  "colab": {
   "collapsed_sections": [
    "CxsSFN75zy-U",
    "hzoGivWmXXKP",
    "sTa1lbFGz3ID",
    "XfHUfm1SXljE",
    "HYpwEheVPr5R",
    "0dz2eMEWx8eP",
    "FpTyOqMfHTkr",
    "HtGsb0AfYMPz",
    "Km23TPqtUiGl",
    "yJDfy9oaYWUQ",
    "DhU7YtTYuq95",
    "TXUtCWi6PnWg",
    "ZKbi727ZZQAe",
    "1Vtta1O42R18",
    "EvFwrIlChCvi",
    "OvS5d1vghx1x",
    "-12EGoyb_BKB",
    "lXwV-Qyu37_m",
    "ct8tDfVzAaWI",
    "n0ugBvGUTcZh",
    "BLad_PeHbdWx",
    "xSdikm46fxas",
    "cyle6cxMmNF0",
    "pz0StXdRJHNH",
    "GoyjGsVyyVkE",
    "XaaDQQol868Q",
    "uEczepS2-jA4",
    "XcYWd1-5L2Fn",
    "6TdFMoh2SBVg",
    "ajqBtWutXONU",
    "8VBMghZ5ThwH",
    "HLeX0U2Kb3iY",
    "HjfjWHDLiFl9",
    "ei-tYrfn1m_w",
    "jTq6CqKvFxnv",
    "-kyEX7ayq1l_",
    "VRq0Jewpnrt3",
    "5gUEisQourZY",
    "eMd6xDZquvF-"
   ],
   "name": "LinearAlgebra.ipynb",
   "provenance": [],
   "version": "0.3.2"
  },
  "kernelspec": {
   "display_name": "Python 3",
   "language": "python",
   "name": "python3"
  },
  "language_info": {
   "codemirror_mode": {
    "name": "ipython",
    "version": 3
   },
   "file_extension": ".py",
   "mimetype": "text/x-python",
   "name": "python",
   "nbconvert_exporter": "python",
   "pygments_lexer": "ipython3",
   "version": "3.6.7"
  }
 },
 "nbformat": 4,
 "nbformat_minor": 1
}

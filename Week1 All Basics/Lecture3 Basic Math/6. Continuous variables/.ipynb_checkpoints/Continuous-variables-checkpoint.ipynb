{
 "cells": [
  {
   "cell_type": "markdown",
   "metadata": {
    "colab_type": "text",
    "id": "ljQa8ToO9OGq"
   },
   "source": [
    "# 4. thinking-probabilistically--continuous-variables"
   ]
  },
  {
   "cell_type": "markdown",
   "metadata": {
    "colab_type": "text",
    "id": "1E19q5KN9TYP"
   },
   "source": [
    "**Are the Belmont Stakes results Normally distributed?**\n",
    "\n",
    "Since 1926, the Belmont Stakes is a 1.5 mile-long race of 3-year old thoroughbred horses.\n",
    "Secretariat ran the fastest Belmont Stakes in history in 1973. While that was the fastest\n",
    "year, 1970 was the slowest because of unusually wet and sloppy conditions. With these two \n",
    "outliers removed from the data set, compute the mean and standard deviation of the Belmont\n",
    "winners' times. Sample out of a Normal distribution with this mean and standard deviation\n",
    "using the np.random.normal() function and plot a CDF. Overlay the ECDF from the winning\n",
    "Belmont times. Are these close to Normally distributed?\n",
    "\n",
    "Instructions\n",
    "- Compute mean and standard deviation of Belmont winners' times with the two outliers removed.\n",
    "The NumPy array belmont_no_outliers has these data.\n",
    "- Take 10,000 samples out of a normal distribution with this mean and standard deviation using\n",
    "np.random.normal().\n",
    "- Compute the CDF of the theoretical samples and the ECDF of the Belmont winners' data, assigning\n",
    "the results to x_theor, y_theor and x, y, respectively.\n",
    "- Hit submit to plot the CDF of your samples with the ECDF, label your axes and show the plot.\n",
    "\n"
   ]
  },
  {
   "cell_type": "code",
   "execution_count": 0,
   "metadata": {
    "colab": {},
    "colab_type": "code",
    "id": "-rYT8V1Z8UTs"
   },
   "outputs": [],
   "source": [
    "belmont_no_outliers = np.array([148.51,  146.65,  148.52,  150.7,  150.42,  150.88,  151.57,\n",
    "                                147.54,  149.65,  148.74,  147.86,  148.75,  147.5,  148.26,\n",
    "                                149.71,  146.56,  151.19,  147.88,  149.16,  148.82,  148.96,\n",
    "                                152.02,  146.82,  149.97,  146.13,  148.1,  147.2,  146.,\n",
    "                                146.4,  148.2,  149.8,  147.,  147.2,  147.8,  148.2,\n",
    "                                149.,  149.8,  148.6,  146.8,  149.6,  149.,  148.2,\n",
    "                                149.2,  148.,  150.4,  148.8,  147.2,  148.8,  149.6,\n",
    "                                148.4,  148.4,  150.2,  148.8,  149.2,  149.2,  148.4,\n",
    "                                150.2,  146.6,  149.8,  149.,  150.8,  148.6,  150.2,\n",
    "                                149.,  148.6,  150.2,  148.2,  149.4,  150.8,  150.2,\n",
    "                                152.2,  148.2,  149.2,  151.,  149.6,  149.6,  149.4,\n",
    "                                148.6,  150.,  150.6,  149.2,  152.6,  152.8,  149.6,\n",
    "                                151.6,  152.8,  153.2,  152.4,  152.2])"
   ]
  },
  {
   "cell_type": "code",
   "execution_count": 0,
   "metadata": {
    "colab": {},
    "colab_type": "code",
    "id": "JZIIehdi9WpX"
   },
   "outputs": [],
   "source": [
    "def ecdf(data):\n",
    "    \"\"\"Compute ECDF for a one-dimensional array of measurements.\"\"\"\n",
    "\n",
    "    # Number of data points: n\n",
    "    n = len(data)\n",
    "\n",
    "    # x-data for the ECDF: x\n",
    "    x = np.sort(data)\n",
    "\n",
    "    # y-data for the ECDF: y\n",
    "    y = np.arange(1, n + 1) / n\n",
    "\n",
    "    return x, y"
   ]
  },
  {
   "cell_type": "code",
   "execution_count": 0,
   "metadata": {
    "colab": {},
    "colab_type": "code",
    "id": "9RXthrFfCWkh"
   },
   "outputs": [],
   "source": [
    "# Seed random number generator\n",
    "np.random.seed(42)\n",
    "\n",
    "# Compute mean and standard deviation: mu, sigma\n",
    "mu = np.mean(belmont_no_outliers)\n",
    "sigma = np.std(belmont_no_outliers)\n",
    "\n",
    "# Sample out of a normal distribution with this mu and sigma: samples\n",
    "samples = np.random.normal(mu, sigma, 10000)\n",
    "\n",
    "# Get the CDF of the samples and of the data\n",
    "x_theor, y_theor = ecdf(samples)\n",
    "x, y = ecdf(belmont_no_outliers)"
   ]
  },
  {
   "cell_type": "code",
   "execution_count": 0,
   "metadata": {
    "colab": {},
    "colab_type": "code",
    "id": "giw4pYS4CWnM"
   },
   "outputs": [],
   "source": [
    "# Plot the CDFs and show the plot\n",
    "_ = plt.plot(x_theor, y_theor)\n",
    "_ = plt.plot(x, y, marker='.', linestyle='none')\n",
    "plt.margins(0.02)\n",
    "_ = plt.xlabel('Belmont winning time (sec.)')\n",
    "_ = plt.ylabel('CDF')\n",
    "plt.show()"
   ]
  },
  {
   "cell_type": "markdown",
   "metadata": {
    "colab_type": "text",
    "id": "79SRBRLr9t7g"
   },
   "source": [
    "**Distribution of no-hitters and cycles**\n",
    "\n",
    "Now, you'll use your sampling function to compute the waiting time to observer\n",
    "a no-hitter and hitting of the cycle. The mean waiting time for a no-hitter is\n",
    "764 games, and the mean waiting time for hitting the cycle is 715 games.\n",
    "\n",
    "Instructions\n",
    "- Use your successive_poisson() function to draw 100,000 out of the distribution\n",
    "of waiting times for observing a no-hitter and a hitting of the cycle.\n",
    "- Plot the PDF of the waiting times using the step histogram technique of a previous\n",
    "exercise. Don't forget the necessary keyword arguments. You should use bins=100,\n",
    "normed=True, and histtype='step'.\n",
    "- Label the axes.\n",
    "- Show your plot."
   ]
  },
  {
   "cell_type": "code",
   "execution_count": 0,
   "metadata": {
    "colab": {},
    "colab_type": "code",
    "id": "hTwfpqDR9Wrt"
   },
   "outputs": [],
   "source": [
    "def successive_poisson(tau1, tau2, size=1):\n",
    "    # Draw samples out of first exponential distribution: t1\n",
    "    t1 = np.random.exponential(tau1, size)\n",
    "\n",
    "    # Draw samples out of second exponential distribution: t2\n",
    "    t2 = np.random.exponential(tau2, size)\n",
    "\n",
    "    return t1 + t2"
   ]
  },
  {
   "cell_type": "code",
   "execution_count": 0,
   "metadata": {
    "colab": {},
    "colab_type": "code",
    "id": "_oJzSWamCs5h"
   },
   "outputs": [],
   "source": [
    "# Draw samples of waiting times: waiting_times\n",
    "waiting_times = np.array(successive_poisson(764, 715, 100000))"
   ]
  },
  {
   "cell_type": "code",
   "execution_count": 0,
   "metadata": {
    "colab": {},
    "colab_type": "code",
    "id": "9WhZozQu9Wt0"
   },
   "outputs": [],
   "source": [
    "# Make the histogram\n",
    "_ = plt.hist(waiting_times, bins=100, normed=True, histtype='step')\n",
    "\n",
    "# Label axes\n",
    "_ = plt.xlabel('x')\n",
    "_ = plt.ylabel('y')\n",
    "\n",
    "# Show the plot\n",
    "plt.show()"
   ]
  },
  {
   "cell_type": "markdown",
   "metadata": {
    "colab_type": "text",
    "id": "JIhwSQh697d7"
   },
   "source": [
    "**If you have a story, you can simulate it!**\n",
    "\n",
    "Sometimes, the story describing our probability distribution does not have a named\n",
    "distribution to go along with it. In these cases, fear not! You can always simulate\n",
    "it. We'll do that in this and the next exercise.\n",
    "In earlier exercises, we looked at the rare event of no-hitters in Major League Baseball.\n",
    "Hitting the cycle is another rare baseball event. When a batter hits the cycle, he gets\n",
    "all four kinds of hits, a single, double, triple, and home run, in a single game. Like\n",
    "no-hitters, this can be modeled as a Poisson process, so the time between hits of the\n",
    "cycle are also Exponentially distributed.\n",
    "How long must we wait to see both a no-hitter and a batter hit the cycle? The idea is\n",
    "that we have to wait some time for the no-hitter, and then after the no-hitter, we have\n",
    "to wait for hitting the cycle. Stated another way, what is the total waiting time for \n",
    "the arrival of two different Poisson processes? The total waiting time is the time waited\n",
    "for the no-hitter, plus the time waited for the hitting the cycle.\n",
    "Now, you will write a function to sample out of the distribution described by this story.\n",
    "\n",
    "Instructions\n",
    "- Define a function with call signature successive_poisson(tau1, tau2, size=1) that samples\n",
    "the waiting time for a no-hitter and a hit of the cycle.\n",
    "    - Draw waiting times tau1 (size number of samples) for the no-hitter out of an exponential\n",
    "    distribution and assign to t1.\n",
    "    - Draw waiting times tau2 (size number of samples) for hitting the cycle out of an exponential\n",
    "    distribution and assign to t2.\n",
    "    - The function returns the sum of the waiting times for the two events."
   ]
  },
  {
   "cell_type": "code",
   "execution_count": 0,
   "metadata": {
    "colab": {},
    "colab_type": "code",
    "id": "k7CHi4yU9Wv3"
   },
   "outputs": [],
   "source": [
    "def successive_poisson(tau1, tau2, size=1):\n",
    "    # Draw samples out of first exponential distribution: t1\n",
    "    t1 = np.random.exponential(tau1, size)\n",
    "\n",
    "    # Draw samples out of second exponential distribution: t2\n",
    "    t2 = np.random.exponential(tau2, size)\n",
    "\n",
    "    return t1 + t2"
   ]
  },
  {
   "cell_type": "markdown",
   "metadata": {
    "colab_type": "text",
    "id": "z2pe1-UW-NyC"
   },
   "source": [
    "**The Normal CDF**\n",
    "\n",
    "Now that you have a feel for how the Normal PDF looks, let's consider its CDF. Using the\n",
    "samples you generated in the last exercise (in your namespace as samples_std1, samples_std3,\n",
    "and samples_std10), generate and plot the CDFs.\n",
    "\n",
    "Instructions\n",
    "- Use your ecdf() function to generate x and y values for CDFs: x_std1, y_std1, x_std3, y_std3\n",
    "and x_std10, y_std10, respectively.\n",
    "- Plot all three CDFs as dots (do not forget the marker and linestyle keyword arguments!).\n",
    "- Make a 2% margin in your plot.\n",
    "- Hit submit to make a legend, showing which standard deviations you used, and to show your plot.\n",
    "There is no need to label the axes because we have not defined what is being described by the Normal distribution; we are just looking at shapes of CDFs."
   ]
  },
  {
   "cell_type": "code",
   "execution_count": 0,
   "metadata": {
    "colab": {},
    "colab_type": "code",
    "id": "LP05DPLe9Wz8"
   },
   "outputs": [],
   "source": [
    "def ecdf(data):\n",
    "    \"\"\"Compute ECDF for a one-dimensional array of measurements.\"\"\"\n",
    "\n",
    "    # Number of data points: n\n",
    "    n = len(data)\n",
    "\n",
    "    # x-data for the ECDF: x\n",
    "    x = np.sort(data)\n",
    "\n",
    "    # y-data for the ECDF: y\n",
    "    y = np.arange(1, n+1) / n\n",
    "\n",
    "    return x, y\n",
    "\n",
    "# Seed random number generator\n",
    "np.random.seed(42)"
   ]
  },
  {
   "cell_type": "code",
   "execution_count": 0,
   "metadata": {
    "colab": {},
    "colab_type": "code",
    "id": "SausufCS9W2E"
   },
   "outputs": [],
   "source": [
    "# Draw 100000 samples from Normal distribution with stds of interest: samples_std1, samples_std3,\n",
    "#   samples_std10\n",
    "samples_std1 = np.random.normal(20, 1, size=100000)\n",
    "samples_std3 = np.random.normal(20, 3, size=100000)\n",
    "samples_std10 = np.random.normal(20, 10, size=100000)\n",
    "\n",
    "# Generate CDFs\n",
    "x_std1, y_std1 = ecdf(samples_std1)\n",
    "x_std3, y_std3 = ecdf(samples_std3)\n",
    "x_std10, y_std10 = ecdf(samples_std10)"
   ]
  },
  {
   "cell_type": "code",
   "execution_count": 0,
   "metadata": {
    "colab": {},
    "colab_type": "code",
    "id": "tVWjgbNR9W3_"
   },
   "outputs": [],
   "source": [
    "# Plot CDFs\n",
    "_ = plt.plot(x_std1, y_std1, marker='.', linestyle='none')\n",
    "_ = plt.plot(x_std3, y_std3, marker='.', linestyle='none')\n",
    "_ = plt.plot(x_std10, y_std10, marker='.', linestyle='none')\n",
    "\n",
    "# Make 2% margin\n",
    "plt.margins(0.02)\n",
    "\n",
    "# Make a legend and show the plot\n",
    "_ = plt.legend(('std = 1', 'std = 3', 'std = 10'), loc='lower right')\n",
    "plt.show()"
   ]
  },
  {
   "cell_type": "markdown",
   "metadata": {
    "colab_type": "text",
    "id": "I1kTtonD-cTz"
   },
   "source": [
    "**The Normal PDF**\n",
    "\n",
    "In this exercise, you will explore the Normal PDF and also learn a way to plot a PDF\n",
    "of a known distribution using hacker statistics. Specifically, you will plot a Normal\n",
    "PDF for various values of the variance.\n",
    "\n",
    "Instructions\n",
    "- Draw 100,000 samples from a Normal distribution that has a mean of 20 and a standard\n",
    "deviation of 1. Do the same for Normal distributions with standard deviations of 3 and\n",
    "10, each still with a mean of 20. Assign the results to samples_std1, samples_std3 and\n",
    "samples_std10, respectively.\n",
    "- Plot a histograms of each of the samples; for each, use 100 bins, also using the keyword\n",
    "arguments normed=True and histtype='step'. The latter keyword argument makes the plot look\n",
    "much like the smooth theoretical PDF. You will need to make 3 plt.hist() calls.\n",
    "- Hit 'Submit Answer' to make a legend, showing which standard deviations you used, and show\n",
    "your plot! There is no need to label the axes because we have not defined what is being\n",
    "described by the Normal distribution; we are just looking at shapes of PDFs."
   ]
  },
  {
   "cell_type": "code",
   "execution_count": 0,
   "metadata": {
    "colab": {},
    "colab_type": "code",
    "id": "J_rCDLIA9W52"
   },
   "outputs": [],
   "source": [
    "# Seed random number generator\n",
    "np.random.seed(42)\n",
    "\n",
    "# Draw 100000 samples from Normal distribution with stds of interest: samples_std1, samples_std3,\n",
    "#   samples_std10\n",
    "samples_std1 = np.random.normal(20, 1, size=100000)\n",
    "samples_std3 = np.random.normal(20, 3, size=100000)\n",
    "samples_std10 = np.random.normal(20, 10, size=100000)"
   ]
  },
  {
   "cell_type": "code",
   "execution_count": 0,
   "metadata": {
    "colab": {},
    "colab_type": "code",
    "id": "IQOZxgUc9W77"
   },
   "outputs": [],
   "source": [
    "# Make histograms\n",
    "_ = plt.hist(samples_std1, bins=100, normed=True, histtype='step')\n",
    "_ = plt.hist(samples_std3, bins=100, normed=True, histtype='step')\n",
    "_ = plt.hist(samples_std10, bins=100, normed=True, histtype='step')\n",
    "\n",
    "# Make a legend, set limits and show plot\n",
    "_ = plt.legend(('std = 1', 'std = 3', 'std = 10'))\n",
    "plt.ylim(-0.01, 0.42)\n",
    "plt.show()"
   ]
  },
  {
   "cell_type": "markdown",
   "metadata": {
    "colab_type": "text",
    "id": "DbM2F4R1-oXy"
   },
   "source": [
    "**What are the chances of a horse matching or beating Secretariat's record?**\n",
    "\n",
    "Assume that the Belmont winners' times are Normally distributed (with the 1970\n",
    "and 1973 years removed), what is the probability that the winner of a given Belmont\n",
    "Stakes will run it as fast or faster than Secretariat?\n",
    "\n",
    "Instructions\n",
    "- Take 1,000,000 samples from the normal distribution using the np.random.normal() function.\n",
    "- The mean mu and standard deviation sigma are already loaded into the namespace of your\n",
    "IPython instance.\n",
    "- Compute the fraction of samples that have a time less than or equal to Secretariat's time\n",
    "of 144 seconds.\n",
    "- Print the result."
   ]
  },
  {
   "cell_type": "code",
   "execution_count": 0,
   "metadata": {
    "colab": {},
    "colab_type": "code",
    "id": "sU1sdkts9W_y"
   },
   "outputs": [],
   "source": [
    "belmont_no_outliers = np.array([148.51,  146.65,  148.52,  150.7,  150.42,  150.88,  151.57,\n",
    "                                147.54,  149.65,  148.74,  147.86,  148.75,  147.5,  148.26,\n",
    "                                149.71,  146.56,  151.19,  147.88,  149.16,  148.82,  148.96,\n",
    "                                152.02,  146.82,  149.97,  146.13,  148.1,  147.2,  146.,\n",
    "                                146.4,  148.2,  149.8,  147.,  147.2,  147.8,  148.2,\n",
    "                                149.,  149.8,  148.6,  146.8,  149.6,  149.,  148.2,\n",
    "                                149.2,  148.,  150.4,  148.8,  147.2,  148.8,  149.6,\n",
    "                                148.4,  148.4,  150.2,  148.8,  149.2,  149.2,  148.4,\n",
    "                                150.2,  146.6,  149.8,  149.,  150.8,  148.6,  150.2,\n",
    "                                149.,  148.6,  150.2,  148.2,  149.4,  150.8,  150.2,\n",
    "                                152.2,  148.2,  149.2,  151.,  149.6,  149.6,  149.4,\n",
    "                                148.6,  150.,  150.6,  149.2,  152.6,  152.8,  149.6,\n",
    "                                151.6,  152.8,  153.2,  152.4,  152.2])"
   ]
  },
  {
   "cell_type": "code",
   "execution_count": 0,
   "metadata": {
    "colab": {},
    "colab_type": "code",
    "id": "PmV2FPaI9XBq"
   },
   "outputs": [],
   "source": [
    "# Compute mean and standard deviation: mu, sigma\n",
    "mu = np.mean(belmont_no_outliers)\n",
    "sigma = np.std(belmont_no_outliers)\n",
    "\n",
    "# Seed random number generator\n",
    "np.random.seed(42)\n",
    "\n",
    "# Take a million samples out of the Normal distribution: samples\n",
    "samples = np.random.normal(mu, sigma, 1000000)"
   ]
  },
  {
   "cell_type": "code",
   "execution_count": 0,
   "metadata": {
    "colab": {},
    "colab_type": "code",
    "id": "PZimPDZPDva2"
   },
   "outputs": [],
   "source": [
    "# Compute the fraction that are faster than 144 seconds: prob\n",
    "prob = len(samples[np.where(samples <= 144)]) / len(samples)\n",
    "\n",
    "# Print the result\n",
    "print('Probability of besting Secretariat:', prob)"
   ]
  },
  {
   "cell_type": "code",
   "execution_count": 0,
   "metadata": {
    "colab": {},
    "colab_type": "code",
    "id": "V9LynptX_Afw"
   },
   "outputs": [],
   "source": []
  },
  {
   "cell_type": "code",
   "execution_count": 0,
   "metadata": {
    "colab": {},
    "colab_type": "code",
    "id": "q6VL8IMP_Aij"
   },
   "outputs": [],
   "source": []
  },
  {
   "cell_type": "code",
   "execution_count": 0,
   "metadata": {
    "colab": {},
    "colab_type": "code",
    "id": "DVwtz5YI_Ak7"
   },
   "outputs": [],
   "source": []
  }
 ],
 "metadata": {
  "colab": {
   "collapsed_sections": [],
   "name": "4. thinking-probabilistically--continuous-variables.ipynb",
   "provenance": [],
   "toc_visible": true,
   "version": "0.3.2"
  },
  "kernelspec": {
   "display_name": "Python 3",
   "language": "python",
   "name": "python3"
  },
  "language_info": {
   "codemirror_mode": {
    "name": "ipython",
    "version": 3
   },
   "file_extension": ".py",
   "mimetype": "text/x-python",
   "name": "python",
   "nbconvert_exporter": "python",
   "pygments_lexer": "ipython3",
   "version": "3.6.7"
  }
 },
 "nbformat": 4,
 "nbformat_minor": 1
}

{
 "cells": [
  {
   "cell_type": "markdown",
   "metadata": {
    "_uuid": "866e7eb37a03e1a48e71ba4e4c8f4baca43472e8"
   },
   "source": [
    " # <div align=\"center\">  The Data Scientist’s Toolbox Tutorial - 1 </div>\n",
    " ### <div align=\"center\"><b>Quite Practical and Far from any Theoretical Concepts</b></div>\n",
    " \n",
    "<div style=\"text-align:center\">last update: <b>18/01/2019</b></div>"
   ]
  },
  {
   "cell_type": "markdown",
   "metadata": {
    "_uuid": "e02d495da0fb0ad24e0341e91848f4c4cfc35bdb"
   },
   "source": [
    ">###### You may  be interested have a look at 10 Steps to Become a Data Scientist: \n",
    "\n",
    "1. <font color=\"red\">You are in the first step</font>\n",
    "2. [Python Packages](https://www.kaggle.com/mjbahmani/the-data-scientist-s-toolbox-tutorial-2)\n",
    "3. [Mathematics and Linear Algebra](https://www.kaggle.com/mjbahmani/linear-algebra-for-data-scientists)\n",
    "4. [Programming &amp; Analysis Tools](https://www.kaggle.com/mjbahmani/20-ml-algorithms-15-plot-for-beginners)\n",
    "5. [Big Data](https://www.kaggle.com/mjbahmani/a-data-science-framework-for-quora)\n",
    "6. [Data visualization](https://www.kaggle.com/mjbahmani/top-5-data-visualization-libraries-tutorial)\n",
    "7. [Data Cleaning](https://www.kaggle.com/mjbahmani/machine-learning-workflow-for-house-prices)\n",
    "8. [How to solve a Problem?](https://www.kaggle.com/mjbahmani/the-data-scientist-s-toolbox-tutorial-2)\n",
    "9. [Machine Learning](https://www.kaggle.com/mjbahmani/a-comprehensive-ml-workflow-with-python)\n",
    "10. [Deep Learning](https://www.kaggle.com/mjbahmani/top-5-deep-learning-frameworks-tutorial)\n",
    "\n",
    "---------------------------------------------------------------------\n",
    "Fork, Run and Follow this kernel on GitHub:\n",
    "> ###### [ GitHub](https://github.com/mjbahmani/10-steps-to-become-a-data-scientist)\n",
    "\n",
    "\n",
    "-------------------------------------------------------------------------------------------------------------\n",
    " **I hope you find this kernel helpful and some <font color=\"red\">UPVOTES</font> would be very much appreciated**\n",
    " \n",
    " -----------\n"
   ]
  },
  {
   "cell_type": "markdown",
   "metadata": {
    "_uuid": "85b27cf82d3023fd69c338df2be7afb2d7afaf32"
   },
   "source": [
    " <a id=\"top\"></a> <br>\n",
    "**Notebook Content**\n",
    "1. [Introduction](#1)\n",
    "    1. [Import](#11)\n",
    "    1. [Version](#12)\n",
    "    1. [setup](#13)\n",
    "1. [Python](#2)\n",
    "    1. [Python Syntax compared to other programming languages](#21)\n",
    "    1. [Python: Basics](#22)\n",
    "        1. [Variables](#221)\n",
    "        1. [Operators](#222)\n",
    "    1. [Functions](#23)\n",
    "    1. [Types and Sequences](#24)\n",
    "    1. [More on Strings](#25)\n",
    "    1. [Reading and Writing CSV files](#26)\n",
    "    1. [Dates and Times](#27)\n",
    "    1. [Objects and map()](#28)\n",
    "    1. [Lambda and List Comprehensions](#29)\n",
    "    1. [OOP](#210)\n",
    "        1. [Inheritance](#2101)\n",
    "    1. [ Python JSON](#211)\n",
    "        1. [Convert from Python to JSON](#2111)\n",
    "    1. [Python PIP](#212)\n",
    "        1. [Install PIP](#2121)\n",
    "    1. [Python Try Except](#213)\n",
    "    1. [Python Iterators](#214)\n",
    "        1. [Looping Through an Iterator](#2141)\n",
    "    1. [Dictionary](#215)\n",
    "    1. [Tuples](#216)\n",
    "    1. [Set](#217)\n",
    "        1. [Add Items](#2171)\n",
    "1. [Python Packages](#3)\n",
    "    1. [Numpy](#31)\n",
    "    1. [Pandas](#32)\n",
    "1. [Courses](#4)\n",
    "1. [Ebooks](#5)\n",
    "1. [Conclusion](#6)\n",
    "1. [References](#7)"
   ]
  },
  {
   "cell_type": "markdown",
   "metadata": {
    "_uuid": "6b741a5af31141057f72904b11954acfb57f5772"
   },
   "source": [
    "<a id=\"1\"></a> <br>\n",
    "## 1-Introduction"
   ]
  },
  {
   "cell_type": "markdown",
   "metadata": {
    "_uuid": "1e7678d8e7831683d0aefffdab152562c18c3188"
   },
   "source": [
    "In this kernel, we have a comprehensive tutorials for some important packages in python after that you can read my other kernels about machine learning."
   ]
  },
  {
   "cell_type": "markdown",
   "metadata": {
    "_uuid": "918161eb40e34a545c75850d6a7dee64d9bf5cd1"
   },
   "source": [
    " <img src=\"http://s8.picofile.com/file/8340141626/packages1.png\"  height=\"420\" width=\"420\">\n",
    " \n",
    " ###### [Go to top](#top)"
   ]
  },
  {
   "cell_type": "markdown",
   "metadata": {
    "_uuid": "953258de456acd2780aba3d18c1fc817ae689ad7"
   },
   "source": [
    "<a id=\"11\"></a> <br>\n",
    "## 1-1 Import\n",
    "\n",
    "> <font color=\"red\"><b>Note</b></font>\n",
    "\n",
    ">> 20 Python libraries you can’t live without : [pythontips](https://pythontips.com/2013/07/30/20-python-libraries-you-cant-live-without/)"
   ]
  },
  {
   "cell_type": "code",
   "execution_count": 4,
   "metadata": {
    "_kg_hide-input": true,
    "_uuid": "4f8b6d44c99e1141bd001556f554c7efc6b77acf"
   },
   "outputs": [],
   "source": [
    "from plotly.offline import download_plotlyjs, init_notebook_mode, plot, iplot\n",
    "import matplotlib.pyplot as plt\n",
    "import plotly.graph_objs as go\n",
    "import scipy.stats as stats\n",
    "import plotly.plotly as py\n",
    "import seaborn as sns\n",
    "import pandas as pd\n",
    "import numpy as np\n",
    "import matplotlib\n",
    "import warnings\n",
    "import sklearn\n",
    "import scipy\n",
    "import json\n",
    "import sys\n",
    "import csv\n",
    "import os"
   ]
  },
  {
   "cell_type": "markdown",
   "metadata": {
    "_uuid": "9a30328de5327e576716f7a57ef119e63a6e77c3"
   },
   "source": [
    "<a id=\"12\"></a> <br>\n",
    "## 1-2 Version"
   ]
  },
  {
   "cell_type": "code",
   "execution_count": 5,
   "metadata": {
    "_kg_hide-input": true,
    "_uuid": "3925ca44958df0a27f3b51de1dba2a18a2650110"
   },
   "outputs": [
    {
     "name": "stdout",
     "output_type": "stream",
     "text": [
      "matplotlib: 2.2.3\n",
      "sklearn: 0.20.2\n",
      "scipy: 1.1.0\n",
      "seaborn: 0.9.0\n",
      "pandas: 0.23.4\n",
      "numpy: 1.16.0\n",
      "Python: 3.6.6 |Anaconda, Inc.| (default, Oct  9 2018, 12:34:16) \n",
      "[GCC 7.3.0]\n"
     ]
    }
   ],
   "source": [
    "print('matplotlib: {}'.format(matplotlib.__version__))\n",
    "print('sklearn: {}'.format(sklearn.__version__))\n",
    "print('scipy: {}'.format(scipy.__version__))\n",
    "print('seaborn: {}'.format(sns.__version__))\n",
    "print('pandas: {}'.format(pd.__version__))\n",
    "print('numpy: {}'.format(np.__version__))\n",
    "print('Python: {}'.format(sys.version))"
   ]
  },
  {
   "cell_type": "markdown",
   "metadata": {
    "_uuid": "51a98c51b1bf27253f6521a2951a5d61625642bf"
   },
   "source": [
    "<a id=\"13\"></a> <br>\n",
    "##  1-3 Setup"
   ]
  },
  {
   "cell_type": "code",
   "execution_count": 6,
   "metadata": {
    "_kg_hide-input": true,
    "_uuid": "cbf46ff8ec8faf08c4aa9c84eb796ffcf0a8c4c8"
   },
   "outputs": [
    {
     "data": {
      "text/plain": [
       "'%.2f'"
      ]
     },
     "execution_count": 6,
     "metadata": {},
     "output_type": "execute_result"
    }
   ],
   "source": [
    "warnings.filterwarnings('ignore')\n",
    "sns.set(color_codes=True)\n",
    "plt.style.available\n",
    "%matplotlib inline\n",
    "%precision 2"
   ]
  },
  {
   "cell_type": "markdown",
   "metadata": {
    "_uuid": "1b12d7df1d4840ed5266ad92e1fea311b33f166d"
   },
   "source": [
    "<a id=\"14\"></a> <br>\n",
    "## 1-4 Import DataSets"
   ]
  },
  {
   "cell_type": "code",
   "execution_count": 7,
   "metadata": {
    "_kg_hide-input": true,
    "_uuid": "485a726cef25a834e8c49f00f6866c15217cb7ee"
   },
   "outputs": [],
   "source": [
    "hp_train=pd.read_csv('../input/train.csv')\n"
   ]
  },
  {
   "cell_type": "markdown",
   "metadata": {
    "_uuid": "5efeff35ad9951e40551d0763eaf26f08bb4119e"
   },
   "source": [
    " <a id=\"2\"></a> <br>\n",
    "# 2-Python\n",
    "\n",
    "Python is an interpreted, high-level, general-purpose programming language. Created by Guido van Rossum and first released in 1991, Python has a design philosophy that emphasizes code readability, notably using significant whitespace.[6]\n",
    "\n",
    "Applications for Python:\n",
    "\n",
    "1. Web and Internet Development\n",
    "1. Scientific and Numeric\n",
    "1. Education\n",
    "1. Desktop GUIs\n",
    "1. Software Development\n",
    "1. Business Applications[7]\n",
    "\n",
    "###### [Go to top](#top)"
   ]
  },
  {
   "cell_type": "markdown",
   "metadata": {
    "_uuid": "a276b26993c902362e522d8a29a67ef670db103d"
   },
   "source": [
    "<a id=\"21\"></a> <br>\n",
    "# 2-1  Basic\n"
   ]
  },
  {
   "cell_type": "code",
   "execution_count": null,
   "metadata": {
    "_kg_hide-input": true,
    "_uuid": "732b4733f620d36d4ac78b27261933559f7086de"
   },
   "outputs": [],
   "source": [
    "import this"
   ]
  },
  {
   "cell_type": "markdown",
   "metadata": {
    "_uuid": "46d2f5efcea352bda6ee7f8721be0001548440f1"
   },
   "source": [
    "<a id=\"211\"></a> <br>\n",
    "### 2-1-1 how to define a Variable?"
   ]
  },
  {
   "cell_type": "code",
   "execution_count": null,
   "metadata": {
    "_kg_hide-input": true,
    "_uuid": "52c065c046f96806741321dcc3e40dffec8f75fe"
   },
   "outputs": [],
   "source": [
    "x = 2\n",
    "y = 5\n",
    "xy = 'Hey'"
   ]
  },
  {
   "cell_type": "markdown",
   "metadata": {
    "_uuid": "762c34fcdeed69fc79fb84d7bb86c5baf8f9152e"
   },
   "source": [
    "<a id=\"212\"></a> <br>\n",
    "### 2-1-2 Operators"
   ]
  },
  {
   "cell_type": "markdown",
   "metadata": {
    "_uuid": "9dcd3e4436aa8050f116b6f7157cc986e762c794"
   },
   "source": [
    "> <font color=\"red\"><b>Note</b></font>\n",
    "\n",
    ">> \n",
    "Python language supports the following types of operators. [tutorialspoint](https://www.tutorialspoint.com/python/python_basic_operators.htm)\n",
    "\n",
    "* Arithmetic Operators\n",
    "* Comparison (Relational) Operators\n",
    "* Assignment Operators\n",
    "* Logical Operators\n",
    "* Bitwise Operators\n",
    "* Membership Operators\n",
    "* Identity Operators\n",
    "\n",
    "| Symbol | Task Performed |\n",
    "|----|---|\n",
    "| +  | Addition |\n",
    "| -  | Subtraction |\n",
    "| /  | division |\n",
    "| %  | mod |\n",
    "| *  | multiplication |\n",
    "| //  | floor division |\n",
    "| **  | to the power of |\n",
    "\n",
    "### Relational Operators\n",
    "| Symbol | Task Performed |\n",
    "|----|---|\n",
    "| == | True, if it is equal |\n",
    "| !=  | True, if not equal to |\n",
    "| < | less than |\n",
    "| > | greater than |\n",
    "| <=  | less than or equal to |\n",
    "| >=  | greater than or equal to |\n",
    "### Bitwise Operators\n",
    "| Symbol | Task Performed |\n",
    "|----|---|\n",
    "| &  | Logical And |\n",
    "| l  | Logical OR |\n",
    "| ^  | XOR |\n",
    "| ~  | Negate |\n",
    "| >>  | Right shift |\n",
    "| <<  | Left shift |\n",
    "\n",
    "###### [Go to top](#top)"
   ]
  },
  {
   "cell_type": "markdown",
   "metadata": {
    "_uuid": "281c637be82f68519f371353afa603fe842bd5fa"
   },
   "source": [
    "<a id=\"22\"></a> <br>\n",
    "# 2-2 How to define a Functions?\n",
    "`add_numbers` is a function that takes two numbers and adds them together."
   ]
  },
  {
   "cell_type": "code",
   "execution_count": null,
   "metadata": {
    "_kg_hide-input": true,
    "_uuid": "700ebb9c4d8c7c57948194e3d848b4b480e06f9a"
   },
   "outputs": [],
   "source": [
    "def add_numbers(x, y):\n",
    "    return x + y\n",
    "\n",
    "add_numbers(1, 2)"
   ]
  },
  {
   "cell_type": "markdown",
   "metadata": {
    "_uuid": "54244074f574884d9c241727f559466cdc646793"
   },
   "source": [
    "<a id=\"23\"></a> <br>\n",
    "# 2-3 Types and Sequences"
   ]
  },
  {
   "cell_type": "markdown",
   "metadata": {
    "_uuid": "fe3bfa4b99b20b534a24cd4b04953de4c81a2032"
   },
   "source": [
    "<br>\n",
    "Use `type` to return the object's type."
   ]
  },
  {
   "cell_type": "code",
   "execution_count": null,
   "metadata": {
    "_kg_hide-input": true,
    "_uuid": "ea5486e825425487854b66e135142787a8696547"
   },
   "outputs": [],
   "source": [
    "type('This is a string')"
   ]
  },
  {
   "cell_type": "code",
   "execution_count": null,
   "metadata": {
    "_kg_hide-input": true,
    "_uuid": "6b1b6307a4b2363c5f13c86a94a6c6ed83cf05d1"
   },
   "outputs": [],
   "source": [
    "type(None)"
   ]
  },
  {
   "cell_type": "code",
   "execution_count": null,
   "metadata": {
    "_kg_hide-input": true,
    "_uuid": "1bfe51959705a633d7ae10b8e807ba752809f8a2"
   },
   "outputs": [],
   "source": [
    "type(1)"
   ]
  },
  {
   "cell_type": "code",
   "execution_count": null,
   "metadata": {
    "_kg_hide-input": true,
    "_uuid": "9c6ea01bf5fac295d6ca5dea7a867fd769d9854f"
   },
   "outputs": [],
   "source": [
    "type(1.0)"
   ]
  },
  {
   "cell_type": "code",
   "execution_count": null,
   "metadata": {
    "_kg_hide-input": true,
    "_uuid": "08e7ecceb2d59d5964d039b1307736a106abef30"
   },
   "outputs": [],
   "source": [
    "type(add_numbers)"
   ]
  },
  {
   "cell_type": "markdown",
   "metadata": {
    "_uuid": "843a9232374917b366c4afadc94fd123e13bc2cf"
   },
   "source": [
    "<a id=\"231\"></a> <br>\n",
    "### 2-3-1 Tuples\n",
    "> <font color=\"red\"><b>Note</b></font>\n",
    "\n",
    ">> \n",
    "Tuples are an **immutable** data structure (cannot be altered)."
   ]
  },
  {
   "cell_type": "code",
   "execution_count": null,
   "metadata": {
    "_kg_hide-input": true,
    "_uuid": "02c0f949470c05c302705b8cbde9dbc4c5e9ec58"
   },
   "outputs": [],
   "source": [
    "tuple_sample = (1, 'a', 2, 'b')\n",
    "type(tuple_sample)"
   ]
  },
  {
   "cell_type": "markdown",
   "metadata": {
    "_uuid": "32e3d57ead5741f615aaf0ec276583163a6fc1a7"
   },
   "source": [
    "<a id=\"232\"></a> <br>\n",
    "### 2-3-2 Lists\n",
    "> <font color=\"red\"><b>Note</b></font>\n",
    "\n",
    ">> \n",
    "Lists are a mutable data structure."
   ]
  },
  {
   "cell_type": "code",
   "execution_count": null,
   "metadata": {
    "_kg_hide-input": true,
    "_uuid": "e559da4fdd4adcf955e36ee33209728c7f04c873"
   },
   "outputs": [],
   "source": [
    "list_sample = [1, 'a', 2, 'b']\n",
    "type(list_sample)"
   ]
  },
  {
   "cell_type": "markdown",
   "metadata": {
    "_uuid": "1c25590aa57c37e383007ea43e9aebd08dbb7ef8"
   },
   "source": [
    "<br>\n",
    "Use `append` to append an object to a list."
   ]
  },
  {
   "cell_type": "code",
   "execution_count": null,
   "metadata": {
    "_kg_hide-input": true,
    "_uuid": "46b3996bb68391469648cfaf732d9f891aad8e76"
   },
   "outputs": [],
   "source": [
    "list_sample.append(3.3)\n",
    "print(list_sample)"
   ]
  },
  {
   "cell_type": "markdown",
   "metadata": {
    "_uuid": "a0a9f9ad271ff5cab43f7d95c00f917dfa42cda3"
   },
   "source": [
    "<br>\n",
    "This is an example of how to** loop through** each item in the list."
   ]
  },
  {
   "cell_type": "code",
   "execution_count": null,
   "metadata": {
    "_kg_hide-input": true,
    "_uuid": "fdbcbc6f491284146fb7ec2288a48dca70d028f0"
   },
   "outputs": [],
   "source": [
    "for item in list_sample:\n",
    "    print(item)"
   ]
  },
  {
   "cell_type": "markdown",
   "metadata": {
    "_uuid": "a863bf6c33d37823812c0d373bc685f8018328c3"
   },
   "source": [
    "<br>\n",
    "Or using the indexing operator:"
   ]
  },
  {
   "cell_type": "code",
   "execution_count": null,
   "metadata": {
    "_kg_hide-input": true,
    "_uuid": "34ebdc7a81ca55c6d96576e8e1032bb2e2a8c38d"
   },
   "outputs": [],
   "source": [
    "i=0\n",
    "while( i != len(list_sample) ):\n",
    "    print(list_sample[i])\n",
    "    i = i + 1"
   ]
  },
  {
   "cell_type": "markdown",
   "metadata": {
    "_uuid": "2fdc7e3a4da86bf2fc3daef510d521ff4f9e780a"
   },
   "source": [
    "<br>\n",
    "Now let's look at strings. Use bracket notation to slice a string.\n",
    "\n",
    "###### [Go to top](#top)"
   ]
  },
  {
   "cell_type": "code",
   "execution_count": null,
   "metadata": {
    "_kg_hide-input": true,
    "_uuid": "31a527ad3d4ac52203a81f2aa05d6ccbcbefd7d0"
   },
   "outputs": [],
   "source": [
    "x = 'This is a string'\n",
    "print(x[0]) #first character\n",
    "print(x[0:1]) #first character, but we have explicitly set the end character\n",
    "print(x[0:2]) #first two characters\n"
   ]
  },
  {
   "cell_type": "markdown",
   "metadata": {
    "_uuid": "50a1372d759bcc6e0b4d8852588ba9fe1c3a1200"
   },
   "source": [
    "> <font color=\"red\"><b>Note</b></font>\n",
    "\n",
    ">> \n",
    "**Dictionaries** associate keys with values."
   ]
  },
  {
   "cell_type": "code",
   "execution_count": null,
   "metadata": {
    "_kg_hide-input": true,
    "_uuid": "b6dd088e810aca788fc74f76d23777b2115e12d0"
   },
   "outputs": [],
   "source": [
    "x = {'MJ Bahmani': 'Mohamadjavad.bahmani@gmail.com', 'irmatlab': 'irmatlab.ir@gmail.com'}\n",
    "x['MJ Bahmani'] # Retrieve a value by using the indexing operator\n"
   ]
  },
  {
   "cell_type": "markdown",
   "metadata": {
    "_uuid": "6b069e526dd64ce6efba8cb51854ef2636e308b9"
   },
   "source": [
    "<a id=\"25\"></a> <br>\n",
    "# 2-5 Strings\n",
    "\n",
    "###### [Go to top](#top)"
   ]
  },
  {
   "cell_type": "code",
   "execution_count": null,
   "metadata": {
    "_kg_hide-input": true,
    "_uuid": "2aa934d05afb73cd7cdcb9ff223b2014798f3b18"
   },
   "outputs": [],
   "source": [
    "print('MJ' + str(2))"
   ]
  },
  {
   "cell_type": "markdown",
   "metadata": {
    "_uuid": "2a9b5f81e7ae92846e4bce5c8c34ff23490b83ef"
   },
   "source": [
    "<br>\n",
    "Python has a built in method for convenient string formatting."
   ]
  },
  {
   "cell_type": "code",
   "execution_count": null,
   "metadata": {
    "_kg_hide-input": true,
    "_uuid": "a8fa5e6a70f8a2e642f0799b514d96f5e8b4cf67"
   },
   "outputs": [],
   "source": [
    "sales_record = {\n",
    "'price': 3.24,\n",
    "'num_items': 4,\n",
    "'person': 'MJ'}\n",
    "\n",
    "sales_statement = '{} bought {} item(s) at a price of {} each for a total of {}'\n",
    "\n",
    "print(sales_statement.format(sales_record['person'],\n",
    "                             sales_record['num_items'],\n",
    "                             sales_record['price'],\n",
    "                             sales_record['num_items']*sales_record['price']))\n"
   ]
  },
  {
   "cell_type": "markdown",
   "metadata": {
    "_uuid": "7fee00e11e78abee9a0397711ca813c60b1b8c57"
   },
   "source": [
    "<a id=\"26\"></a> <br>\n",
    "# 2-6 How read a CSV files?\n",
    "> <font color=\"red\"><b>Note</b></font>\n",
    "\n",
    ">> \n",
    "Let's import our datafile train.csv [realpython](https://realpython.com/python-csv/)\n",
    "###### [Go to top](#top)"
   ]
  },
  {
   "cell_type": "markdown",
   "metadata": {
    "_uuid": "3f79954fc298a34c3c231d35161dfb3bf743576d"
   },
   "source": []
  },
  {
   "cell_type": "code",
   "execution_count": null,
   "metadata": {
    "_kg_hide-input": true,
    "_uuid": "ab5ab332ba1dc0fb1668d18df1b1771232cc4e35",
    "scrolled": true
   },
   "outputs": [],
   "source": [
    "\n",
    "\n",
    "with open('../input/house-prices-advanced-regression-techniques/train.csv') as csvfile:\n",
    "    house_train = list(csv.DictReader(csvfile))\n",
    "    \n",
    "house_train[:1] # The first three dictionaries in our list."
   ]
  },
  {
   "cell_type": "code",
   "execution_count": null,
   "metadata": {
    "_kg_hide-input": true,
    "_uuid": "1a7f91c1dafbb190b32a21907fc4c346f7eff0a0"
   },
   "outputs": [],
   "source": [
    "type(house_train)"
   ]
  },
  {
   "cell_type": "markdown",
   "metadata": {
    "_uuid": "ac3ffa35fd8725c3b1d81ab92470f1e5de19061b"
   },
   "source": [
    "<br>\n",
    "`csv.Dictreader` has read in each row of our csv file as a dictionary. `len` shows that our list is comprised of 234 dictionaries."
   ]
  },
  {
   "cell_type": "code",
   "execution_count": null,
   "metadata": {
    "_kg_hide-input": true,
    "_uuid": "3f51c4e51000c69c3b3113f4cc8ed1e5e5fa005f"
   },
   "outputs": [],
   "source": [
    "len(house_train)"
   ]
  },
  {
   "cell_type": "markdown",
   "metadata": {
    "_uuid": "59457b14190fe59e900f644450b66f542b2320c4"
   },
   "source": [
    "<br>\n",
    "`keys` gives us the column names of our csv."
   ]
  },
  {
   "cell_type": "code",
   "execution_count": null,
   "metadata": {
    "_kg_hide-input": true,
    "_uuid": "de6d753e74e0345bcc292cb6cfded49241b696f8"
   },
   "outputs": [],
   "source": [
    "house_train[0].keys()"
   ]
  },
  {
   "cell_type": "markdown",
   "metadata": {
    "_uuid": "391e4c865b352e70ae7bc5cbdef9559ccf396cb8"
   },
   "source": [
    "<br>\n",
    "How to do some math action on the data set"
   ]
  },
  {
   "cell_type": "code",
   "execution_count": null,
   "metadata": {
    "_kg_hide-input": true,
    "_uuid": "c654cdc458ff6f8d960caa80268f61e9f213e9e8"
   },
   "outputs": [],
   "source": [
    "sum(float(d['SalePrice']) for d in house_train) / len(house_train)"
   ]
  },
  {
   "cell_type": "markdown",
   "metadata": {
    "_uuid": "a12ec3e5c23e0660c9cfce427333afabe5a4384c"
   },
   "source": [
    "<br>\n",
    "Use `set` to return the unique values for the type of Sex  in our dataset have."
   ]
  },
  {
   "cell_type": "code",
   "execution_count": null,
   "metadata": {
    "_kg_hide-input": true,
    "_uuid": "3541bdc6bd01a88c58e408bcc99411136a953538"
   },
   "outputs": [],
   "source": [
    "SalePrice = set(d['SalePrice'] for d in house_train)\n",
    "print(type(SalePrice ))\n",
    "len(SalePrice)"
   ]
  },
  {
   "cell_type": "markdown",
   "metadata": {
    "_uuid": "51bd65ce547fceba323660a1370a407d004e9abe"
   },
   "source": [
    "<a id=\"27\"></a> <br>\n",
    "# 2-7 Dates and Times"
   ]
  },
  {
   "cell_type": "code",
   "execution_count": null,
   "metadata": {
    "_kg_hide-input": true,
    "_uuid": "77aea246af2c06fe57b72bf45e424a4a6ae2e8c5"
   },
   "outputs": [],
   "source": [
    "import datetime as dt\n",
    "import time as tm"
   ]
  },
  {
   "cell_type": "markdown",
   "metadata": {
    "_uuid": "f14fbbf5385512cc6d6631677a62ff620d51f9ae"
   },
   "source": [
    "<br>\n",
    "`time` returns the current time in seconds since the Epoch. (January 1st, 1970)\n",
    "\n",
    "###### [Go to top](#top)"
   ]
  },
  {
   "cell_type": "code",
   "execution_count": null,
   "metadata": {
    "_kg_hide-input": true,
    "_uuid": "73ffa7423c31ed5efb8bab44ead79a4162711920"
   },
   "outputs": [],
   "source": [
    "tm.time()"
   ]
  },
  {
   "cell_type": "markdown",
   "metadata": {
    "_uuid": "83a2aceba5919534adf74e59c16baa61d6e24bda"
   },
   "source": [
    "<br>\n",
    "Convert the timestamp to datetime."
   ]
  },
  {
   "cell_type": "code",
   "execution_count": null,
   "metadata": {
    "_kg_hide-input": true,
    "_uuid": "b0726eaf4ebb492d3da2396520a7328bbb00263c"
   },
   "outputs": [],
   "source": [
    "dtnow = dt.datetime.fromtimestamp(tm.time())\n",
    "dtnow"
   ]
  },
  {
   "cell_type": "markdown",
   "metadata": {
    "_uuid": "df2a8c0e8237c6c88ea5d8f446604d6c60435b72"
   },
   "source": [
    "<br>\n",
    "Handy datetime attributes:"
   ]
  },
  {
   "cell_type": "code",
   "execution_count": null,
   "metadata": {
    "_kg_hide-input": true,
    "_uuid": "3ca2dd821f01874e23fc1eccf13b6584ba21e795"
   },
   "outputs": [],
   "source": [
    "dtnow.year, dtnow.month, dtnow.day, dtnow.hour, dtnow.minute, dtnow.second # get year, month, day, etc.from a datetime"
   ]
  },
  {
   "cell_type": "markdown",
   "metadata": {
    "_uuid": "85160de1a52833048050277d7df6713172b367c9"
   },
   "source": [
    "<br>\n",
    "`timedelta` is a duration expressing the difference between two dates."
   ]
  },
  {
   "cell_type": "code",
   "execution_count": null,
   "metadata": {
    "_kg_hide-input": true,
    "_uuid": "c466ccf8a9f33641fec51525f0e8a03dbec8fd62"
   },
   "outputs": [],
   "source": [
    "delta = dt.timedelta(days = 100) # create a timedelta of 100 days\n",
    "delta"
   ]
  },
  {
   "cell_type": "markdown",
   "metadata": {
    "_uuid": "c09e3bd1c17b5a67b8e340956fdb27b2e6b32b2d"
   },
   "source": [
    "<br>\n",
    "`date.today` returns the current local date."
   ]
  },
  {
   "cell_type": "code",
   "execution_count": null,
   "metadata": {
    "_kg_hide-input": true,
    "_uuid": "539408df43c0aa1b449551e14b84b49110b04beb"
   },
   "outputs": [],
   "source": [
    "today = dt.date.today()"
   ]
  },
  {
   "cell_type": "markdown",
   "metadata": {
    "_uuid": "a8bcac1b08550c3f143e21cf7ca9049449304a5c"
   },
   "source": [
    "<a id=\"28\"></a> <br>\n",
    "# 2-8 Objects and map()"
   ]
  },
  {
   "cell_type": "markdown",
   "metadata": {
    "_uuid": "28be3905d37e6b7d2fb09a5f1a0e0c9df7e48559"
   },
   "source": [
    "<br>\n",
    "An example of a class in python:"
   ]
  },
  {
   "cell_type": "code",
   "execution_count": null,
   "metadata": {
    "_kg_hide-input": true,
    "_uuid": "2dc3faf4892b932cb1015902e83a13bd47125b20"
   },
   "outputs": [],
   "source": [
    "class Person:\n",
    "    department = 'School of Information' #a class variable\n",
    "\n",
    "    def set_name(self, new_name): #a method\n",
    "        self.name = new_name\n",
    "    def set_location(self, new_location):\n",
    "        self.location = new_location"
   ]
  },
  {
   "cell_type": "code",
   "execution_count": null,
   "metadata": {
    "_kg_hide-input": true,
    "_uuid": "1da9aaf6d97f50fff89e9d08b658adb3c691a262"
   },
   "outputs": [],
   "source": [
    "person = Person()\n",
    "person.set_name('MJ Bahmani')\n",
    "person.set_location('MI, Berlin, Germany')\n",
    "print('{} live in {} and works in the department {}'.format(person.name, person.location, person.department))"
   ]
  },
  {
   "cell_type": "markdown",
   "metadata": {
    "_uuid": "e9c6c70988cd1459c7078f31fb9a43a275965d46"
   },
   "source": [
    "<a id=\"29\"></a> <br>\n",
    "# 2-9 Lambda\n",
    "A lambda function is a small anonymous function.\n",
    "\n",
    "A lambda function can take any number of arguments, but can only have one expression. [w3schools](https://www.w3schools.com/python/python_lambda.asp)"
   ]
  },
  {
   "cell_type": "code",
   "execution_count": null,
   "metadata": {
    "_kg_hide-input": true,
    "_uuid": "a306ae5687e20ae64431306035359f33aa465382"
   },
   "outputs": [],
   "source": [
    "my_function = lambda a, b, c : a + b"
   ]
  },
  {
   "cell_type": "code",
   "execution_count": null,
   "metadata": {
    "_kg_hide-input": true,
    "_uuid": "6bf98de2fab3b4239e41a093386d5fb9acad6367"
   },
   "outputs": [],
   "source": [
    "my_function(1, 2, 3)"
   ]
  },
  {
   "cell_type": "markdown",
   "metadata": {
    "_uuid": "5db80d702a02a1873aa09fa3acd26d922d74ff46"
   },
   "source": [
    "<br>\n",
    "Let's iterate from 0 to 9 and return the even numbers.\n",
    "\n",
    "###### [Go to top](#top)"
   ]
  },
  {
   "cell_type": "code",
   "execution_count": null,
   "metadata": {
    "_kg_hide-input": true,
    "_uuid": "90e7eb5e7689d6ce448b8c0c801c2caef70e6d44"
   },
   "outputs": [],
   "source": [
    "my_list = []\n",
    "for number in range(0, 9):\n",
    "    if number % 2 == 0:\n",
    "        my_list.append(number)\n",
    "my_list"
   ]
  },
  {
   "cell_type": "markdown",
   "metadata": {
    "_uuid": "cd17913a07d4a0affecbeb9e57af99fd7600c723"
   },
   "source": [
    "<a id=\"291\"></a> <br>\n",
    "### 2-9-1  List Comprehensions"
   ]
  },
  {
   "cell_type": "markdown",
   "metadata": {
    "_uuid": "1bfe68a8553e5718a04b14a321262e6e88407b2c"
   },
   "source": [
    "<br>\n",
    "Now the same thing but with list comprehension."
   ]
  },
  {
   "cell_type": "code",
   "execution_count": null,
   "metadata": {
    "_kg_hide-input": true,
    "_uuid": "ee501b9820296d1452845b8da201dbd69d4e0637"
   },
   "outputs": [],
   "source": [
    "my_list = [number for number in range(0,10) if number % 2 == 0]\n",
    "my_list"
   ]
  },
  {
   "cell_type": "markdown",
   "metadata": {
    "_uuid": "e99f98ecb3393b8846fca621cdbad5dcaf1c60d1"
   },
   "source": [
    "<a id=\"210\"></a> <br>\n",
    "# 2-10 OOP\n",
    "1. **Class** − A user-defined prototype for an object that defines a set of attributes that characterize any object of the class. The attributes are data members (class variables and instance variables) and methods, accessed via dot notation.\n",
    "\n",
    "1. **Class variable** − A variable that is shared by all instances of a class. Class variables are defined within a class but outside any of the class's methods. Class variables are not used as frequently as instance variables are.\n",
    "\n",
    "1. **Data member** − A class variable or instance variable that holds data associated with a class and its objects.\n",
    "\n",
    "1. **Function overloading** − The assignment of more than one behavior to a particular function. The operation performed varies by the types of objects or arguments involved.\n",
    "\n",
    "1. **Instance variable** − A variable that is defined inside a method and belongs only to the current instance of a class.\n",
    "\n",
    "1. **Inheritance** − The transfer of the characteristics of a class to other classes that are derived from it.\n",
    "\n",
    "1. **Instance** − An individual object of a certain class. An object obj that belongs to a class Circle, for example, is an instance of the class Circle.\n",
    "\n",
    "1. **Instantiation** − The creation of an instance of a class.\n",
    "\n",
    "1. **Method** − A special kind of function that is defined in a class definition.\n",
    "\n",
    "1. **Object** − A unique instance of a data structure that's defined by its class. An object comprises both data members (class variables and instance variables) and methods.\n",
    "\n",
    "1. **Operator overloading** − The assignment of more than one function to a particular operator.[4]\n",
    "\n",
    "###### [Go to top](#top)"
   ]
  },
  {
   "cell_type": "code",
   "execution_count": null,
   "metadata": {
    "_kg_hide-input": true,
    "_uuid": "1c3c77a74a2f45e0cfbec9e2a43ac089aaa09558"
   },
   "outputs": [],
   "source": [
    "class FirstClass:\n",
    "    test = 'test'\n",
    "    def __init__(self,name,symbol):\n",
    "        self.name = name\n",
    "        self.symbol = symbol"
   ]
  },
  {
   "cell_type": "code",
   "execution_count": null,
   "metadata": {
    "_uuid": "2dd1233bc33a4e9ca7bf528968267868f4d1bbe1"
   },
   "outputs": [],
   "source": [
    "eg3 = FirstClass('Three',3)"
   ]
  },
  {
   "cell_type": "code",
   "execution_count": null,
   "metadata": {
    "_kg_hide-input": true,
    "_uuid": "8bb856d47cf1407cccd295fe241825c2999e0756"
   },
   "outputs": [],
   "source": [
    "print (eg3.test, eg3.name)"
   ]
  },
  {
   "cell_type": "code",
   "execution_count": null,
   "metadata": {
    "_kg_hide-input": true,
    "_uuid": "3fa8ea01163ceea3f5cf46fe2f5eb843fa8a9cc7"
   },
   "outputs": [],
   "source": [
    "class FirstClass:\n",
    "    def __init__(self,name,symbol):\n",
    "        self.name = name\n",
    "        self.symbol = symbol\n",
    "    def square(self):\n",
    "        return self.symbol * self.symbol\n",
    "    def cube(self):\n",
    "        return self.symbol * self.symbol * self.symbol\n",
    "    def multiply(self, x):\n",
    "        return self.symbol * x"
   ]
  },
  {
   "cell_type": "code",
   "execution_count": null,
   "metadata": {
    "_kg_hide-input": true,
    "_uuid": "6086b2eaf54cc57b3447b7c0b47e4b67f208cba3"
   },
   "outputs": [],
   "source": [
    "eg4 = FirstClass('Five',5)"
   ]
  },
  {
   "cell_type": "code",
   "execution_count": null,
   "metadata": {
    "_kg_hide-input": true,
    "_uuid": "7029000f20ae1efcd694754d0db4b7e546cdafae"
   },
   "outputs": [],
   "source": [
    "print (eg4.square())\n",
    "print (eg4.cube())"
   ]
  },
  {
   "cell_type": "code",
   "execution_count": null,
   "metadata": {
    "_kg_hide-input": true,
    "_uuid": "e60cf1e71ae99cb38e6b555ae43cb6948bdfc329"
   },
   "outputs": [],
   "source": [
    "eg4.multiply(2)"
   ]
  },
  {
   "cell_type": "code",
   "execution_count": null,
   "metadata": {
    "_kg_hide-input": true,
    "_uuid": "52ccbcd46b12d802454097d1a4c6ee52c551c4a3"
   },
   "outputs": [],
   "source": [
    "FirstClass.multiply(eg4,2)"
   ]
  },
  {
   "cell_type": "markdown",
   "metadata": {
    "_uuid": "c68d1914adc7080d3ee9b5592420ff95ea2870e7"
   },
   "source": [
    "<a id=\"2101\"></a> <br>\n",
    "### 2-10-1 Inheritance\n",
    "\n",
    "There might be cases where a new class would have all the previous characteristics of an already defined class. So the new class can \"inherit\" the previous class and add it's own methods to it. This is called as inheritance.\n",
    "\n",
    "Consider class SoftwareEngineer which has a method salary."
   ]
  },
  {
   "cell_type": "code",
   "execution_count": null,
   "metadata": {
    "_kg_hide-input": true,
    "_uuid": "ea270e5c33b3e6d6fb3c7b66a0081e8d80825a78"
   },
   "outputs": [],
   "source": [
    "class SoftwareEngineer:\n",
    "    def __init__(self,name,age):\n",
    "        self.name = name\n",
    "        self.age = age\n",
    "    def salary(self, value):\n",
    "        self.money = value\n",
    "        print (self.name,\"earns\",self.money)"
   ]
  },
  {
   "cell_type": "code",
   "execution_count": null,
   "metadata": {
    "_kg_hide-input": true,
    "_uuid": "d63b58d87a62e2e692f25644b1bfd1b0c3c2ccff"
   },
   "outputs": [],
   "source": [
    "a = SoftwareEngineer('Kartik',26)"
   ]
  },
  {
   "cell_type": "code",
   "execution_count": null,
   "metadata": {
    "_uuid": "14e20781ff108a4cc13ac68de99478293413b3d1"
   },
   "outputs": [],
   "source": [
    "a.salary(40000)"
   ]
  },
  {
   "cell_type": "code",
   "execution_count": null,
   "metadata": {
    "_uuid": "89cf62c093a3c6369b77536f4700f70ddf84eebf"
   },
   "outputs": [],
   "source": [
    "dir(SoftwareEngineer)"
   ]
  },
  {
   "cell_type": "code",
   "execution_count": null,
   "metadata": {
    "_kg_hide-input": true,
    "_uuid": "edcf9e2d90a66ca3370d889ffd2109827229825f"
   },
   "outputs": [],
   "source": [
    "class Artist:\n",
    "    def __init__(self,name,age):\n",
    "        self.name = name\n",
    "        self.age = age\n",
    "    def money(self,value):\n",
    "        self.money = value\n",
    "        print (self.name,\"earns\",self.money)\n",
    "    def artform(self, job):\n",
    "        self.job = job\n",
    "        print (self.name,\"is a\", self.job)"
   ]
  },
  {
   "cell_type": "code",
   "execution_count": null,
   "metadata": {
    "_kg_hide-input": true,
    "_uuid": "92e459938effe069d173a19f94819e68b34d4eca"
   },
   "outputs": [],
   "source": [
    "b = Artist('Nitin',20)"
   ]
  },
  {
   "cell_type": "code",
   "execution_count": null,
   "metadata": {
    "_kg_hide-input": true,
    "_uuid": "a708a468bec5bc8314bc40ad7e830568805885bc"
   },
   "outputs": [],
   "source": [
    "b.money(50000)\n",
    "b.artform('Musician')"
   ]
  },
  {
   "cell_type": "code",
   "execution_count": null,
   "metadata": {
    "_uuid": "efa5a80085b1a7a6e98a88c5fd86da6c880421cf"
   },
   "outputs": [],
   "source": [
    "dir(Artist)"
   ]
  },
  {
   "cell_type": "markdown",
   "metadata": {
    "_uuid": "843c1001213bd2cfd201e99b682a5c5bfe78c0c6"
   },
   "source": [
    "<a id=\"211\"></a> <br>\n",
    "## 2-11 Python JSON\n"
   ]
  },
  {
   "cell_type": "code",
   "execution_count": null,
   "metadata": {
    "_kg_hide-input": true,
    "_uuid": "153a10fa7584e50553490e6f765284192776ee5c"
   },
   "outputs": [],
   "source": [
    "\n",
    "\n",
    "# some JSON:\n",
    "x =  '{ \"name\":\"John\", \"age\":30, \"city\":\"New York\"}'\n",
    "\n",
    "# parse x:\n",
    "y = json.loads(x)\n",
    "\n",
    "# the result is a Python dictionary:\n",
    "print(y[\"age\"])"
   ]
  },
  {
   "cell_type": "markdown",
   "metadata": {
    "_uuid": "85876511f2a41d866fe4bfa5208372f51536e6c5"
   },
   "source": [
    "<a id=\"2111\"></a> <br>\n",
    "## 2-11-1 Convert from Python to JSON\n"
   ]
  },
  {
   "cell_type": "code",
   "execution_count": null,
   "metadata": {
    "_kg_hide-input": true,
    "_uuid": "06ce583a101287b07e6e95d28426ae20d5b4e64b"
   },
   "outputs": [],
   "source": [
    "# a Python object (dict):\n",
    "x = {\n",
    "  \"name\": \"John\",\n",
    "  \"age\": 30,\n",
    "  \"city\": \"New York\"\n",
    "}\n",
    "\n",
    "# convert into JSON:\n",
    "y = json.dumps(x)\n",
    "\n",
    "# the result is a JSON string:\n",
    "print(y)"
   ]
  },
  {
   "cell_type": "markdown",
   "metadata": {
    "_uuid": "b016e08d500dc749010ed6495e3c02e3f1144b4e"
   },
   "source": [
    "You can convert Python objects of the following types, into JSON strings:\n",
    "\n",
    "* dict\n",
    "* list\n",
    "* tuple\n",
    "* string\n",
    "* int\n",
    "* float\n",
    "* True\n",
    "* False\n",
    "* None\n",
    "\n",
    "###### [Go to top](#top)"
   ]
  },
  {
   "cell_type": "code",
   "execution_count": null,
   "metadata": {
    "_kg_hide-input": true,
    "_uuid": "2906f3ee8c9392b9be7507c2c99a1fc3db9df95d"
   },
   "outputs": [],
   "source": [
    "print(json.dumps({\"name\": \"John\", \"age\": 30}))\n",
    "print(json.dumps([\"apple\", \"bananas\"]))\n",
    "print(json.dumps((\"apple\", \"bananas\")))\n",
    "print(json.dumps(\"hello\"))\n",
    "print(json.dumps(42))\n",
    "print(json.dumps(31.76))\n",
    "print(json.dumps(True))\n",
    "print(json.dumps(False))\n",
    "print(json.dumps(None))"
   ]
  },
  {
   "cell_type": "markdown",
   "metadata": {
    "_uuid": "5cd4ddf30b6996185afdc94f68ad675b258ebb9a"
   },
   "source": [
    "Convert a Python object containing all the legal data types:"
   ]
  },
  {
   "cell_type": "code",
   "execution_count": null,
   "metadata": {
    "_kg_hide-input": true,
    "_uuid": "7a5a584c5912ac52a6fc9796e23eb4799d5b9261"
   },
   "outputs": [],
   "source": [
    "x = {\n",
    "  \"name\": \"MJ\",\n",
    "  \"age\": 32,\n",
    "  \"married\": True,\n",
    "  \"divorced\": False,\n",
    "  \"children\": (\"Ann\",\"Billy\"),\n",
    "  \"pets\": None,\n",
    "  \"cars\": [\n",
    "    {\"model\": \"BMW 230\", \"mpg\": 27.5},\n",
    "    {\"model\": \"Ford Edge\", \"mpg\": 24.1}\n",
    "  ]\n",
    "}\n",
    "\n",
    "print(json.dumps(x))"
   ]
  },
  {
   "cell_type": "markdown",
   "metadata": {
    "_uuid": "27a8da102cf08964e9cde82973cd653306e3356f"
   },
   "source": [
    "<a id=\"212\"></a> <br>\n",
    "## 2-12 Python PIP\n"
   ]
  },
  {
   "cell_type": "markdown",
   "metadata": {
    "_uuid": "5d13a95f504b710e977b4b589c200d5dadca5bc2"
   },
   "source": [
    "<a id=\"21\"></a> <br>\n",
    "### 2-12-1 What is a Package?\n",
    "A package contains all the files you need for a **module**.\n",
    "\n",
    "**Modules** are Python code libraries you can include in your project.\n",
    "\n",
    "###### [Go to top](#top)"
   ]
  },
  {
   "cell_type": "markdown",
   "metadata": {
    "_uuid": "cfe1ddbfe7ac5b38f1fb0d36401aaa59bf706b06"
   },
   "source": [
    "<a id=\"2122\"></a> <br>\n",
    "### 2-12-2 Install PIP\n",
    "If you do not have PIP installed, you can download and install it from this page: https://pypi.org/project/pip/"
   ]
  },
  {
   "cell_type": "markdown",
   "metadata": {
    "_uuid": "af880b807b69c45d77b21433937a13772453b481"
   },
   "source": [
    "<a id=\"213\"></a> <br>\n",
    "## 2-13 Python Try Except\n",
    "The **try** block lets you test a block of code for errors.\n",
    "\n",
    "The **except** block lets you handle the error.\n",
    "\n",
    "The **finally** block lets you execute code, regardless of the result of the try- and except blocks."
   ]
  },
  {
   "cell_type": "code",
   "execution_count": null,
   "metadata": {
    "_kg_hide-input": true,
    "_uuid": "078d0a98c43a742ff43460848dd6bf31a69975ce"
   },
   "outputs": [],
   "source": [
    "try:\n",
    "  print(x)\n",
    "except NameError:\n",
    "  print(\"Variable x is not defined\")\n",
    "except:\n",
    "  print(\"Something else went wrong\")"
   ]
  },
  {
   "cell_type": "code",
   "execution_count": null,
   "metadata": {
    "_kg_hide-input": true,
    "_uuid": "c5e3cbfe7a287cda43736597455b95e2117ccf4d"
   },
   "outputs": [],
   "source": [
    "try:\n",
    "  print(x)\n",
    "except:\n",
    "  print(\"Something went wrong\")\n",
    "finally:\n",
    "  print(\"The 'try except' is finished\")"
   ]
  },
  {
   "cell_type": "markdown",
   "metadata": {
    "_uuid": "6d4ae311b6798fa03dff0516dfb59e7d271b040e"
   },
   "source": [
    "<a id=\"214\"></a> <br>\n",
    "## 2-14 Python Iterators\n",
    "An iterator is an object that contains a countable number of values.\n",
    "\n",
    "An iterator is an object that can be iterated upon, meaning that you can traverse through all the values.\n",
    "\n",
    "Technically, in Python, an iterator is an object which implements the iterator protocol, which consist of the methods __iter__() and __next__().\n",
    "###### [Go to top](#top)"
   ]
  },
  {
   "cell_type": "markdown",
   "metadata": {
    "_uuid": "0fd29f43681c38533591b6cd0d3cff27e75b6b0c"
   },
   "source": [
    "Return a iterator from a tuple, and print each value:"
   ]
  },
  {
   "cell_type": "code",
   "execution_count": null,
   "metadata": {
    "_kg_hide-input": true,
    "_uuid": "d4f1c3ecdad754158b847660bfc92343470e9c55"
   },
   "outputs": [],
   "source": [
    "mytuple = (\"apple\", \"banana\", \"cherry\")\n",
    "myit = iter(mytuple)\n",
    "\n",
    "print(next(myit))\n",
    "print(next(myit))\n",
    "print(next(myit))"
   ]
  },
  {
   "cell_type": "markdown",
   "metadata": {
    "_uuid": "5a15f75b705e078ec25f1fb628af76ed19da0333"
   },
   "source": [
    "<a id=\"2141\"></a> <br>\n",
    "### 2- 14-1 Looping Through an Iterator\n"
   ]
  },
  {
   "cell_type": "code",
   "execution_count": null,
   "metadata": {
    "_kg_hide-input": true,
    "_uuid": "830a5d61f4d7afec6525f32b8f8e9c0f4783acc0"
   },
   "outputs": [],
   "source": [
    "mytuple = (\"apple\", \"banana\", \"cherry\")\n",
    "\n",
    "for x in mytuple:\n",
    "  print(x)"
   ]
  },
  {
   "cell_type": "markdown",
   "metadata": {
    "_uuid": "e7410e1e9691615946998a833fec7bea80f50cc2"
   },
   "source": [
    "<a id=\"215\"></a> <br>\n",
    "## 2- 15 Dictionary\n",
    "A **dictionary** is a collection which is **unordered, changeable and indexed**. In Python dictionaries are written with curly brackets, and they have **keys and values**."
   ]
  },
  {
   "cell_type": "code",
   "execution_count": null,
   "metadata": {
    "_kg_hide-input": true,
    "_uuid": "85f51ded66c72e13b253c5775e5b1ac914459479"
   },
   "outputs": [],
   "source": [
    "thisdict =\t{\n",
    "  \"brand\": \"Ford\",\n",
    "  \"model\": \"Mustang\",\n",
    "  \"year\": 1964\n",
    "}\n",
    "print(thisdict)"
   ]
  },
  {
   "cell_type": "markdown",
   "metadata": {
    "_uuid": "437f23fd4289f0a757dc1c87a1e339a9c6f96c31"
   },
   "source": [
    "<a id=\"216\"></a> <br>\n",
    "## 2-16 Tuples\n",
    "A **tuple** is a collection which is **ordered and unchangeable**. In Python tuples are written with round brackets.\n",
    "\n"
   ]
  },
  {
   "cell_type": "code",
   "execution_count": null,
   "metadata": {
    "_kg_hide-input": true,
    "_uuid": "253ab9bcc46ce48b2f5b702bacad75db5d95de7c"
   },
   "outputs": [],
   "source": [
    "thistuple = (\"apple\", \"banana\", \"cherry\")\n",
    "print(thistuple)"
   ]
  },
  {
   "cell_type": "markdown",
   "metadata": {
    "_uuid": "0d377a64581e95a0022045181a2c81530eba31d1"
   },
   "source": [
    "<a id=\"217\"></a> <br>\n",
    "## 2-17 Set\n",
    "A set is a collection which is unordered and unindexed. In Python sets are written with curly brackets.\n",
    "###### [Go to top](#top)"
   ]
  },
  {
   "cell_type": "code",
   "execution_count": 1,
   "metadata": {
    "_kg_hide-input": true,
    "_uuid": "0d4b6b6a5efa453ed3a594173586fb63bb6475dc"
   },
   "outputs": [
    {
     "name": "stdout",
     "output_type": "stream",
     "text": [
      "{'house', 'apartment', 'store'}\n"
     ]
    }
   ],
   "source": [
    "house_price = {\"store\", \"apartment\", \"house\"}\n",
    "print(house_price)"
   ]
  },
  {
   "cell_type": "code",
   "execution_count": 2,
   "metadata": {
    "_kg_hide-input": true,
    "_uuid": "dbb1998040fc3bdc67e0d690de391b4f47e117b8"
   },
   "outputs": [
    {
     "name": "stdout",
     "output_type": "stream",
     "text": [
      "house\n",
      "apartment\n",
      "store\n"
     ]
    }
   ],
   "source": [
    "house_price = {\"store\", \"apartment\", \"house\"}\n",
    "\n",
    "for x in house_price:\n",
    "  print(x)"
   ]
  },
  {
   "cell_type": "markdown",
   "metadata": {
    "_uuid": "2f51152b3812f1d279b3a009fed112780aedbda4"
   },
   "source": [
    "<a id=\"2171\"></a> <br>\n",
    "### 2-17-1 Add Items\n",
    "To add one item to a set use the add() method.\n",
    "\n",
    "To add more than one item to a set use the update() method.\n",
    "###### [Go to top](#top)"
   ]
  },
  {
   "cell_type": "code",
   "execution_count": null,
   "metadata": {
    "_kg_hide-input": true,
    "_uuid": "cccd895e65e0b5bbbfbecdd96b3322a43688de78"
   },
   "outputs": [],
   "source": [
    "thisset = {\"apple\", \"banana\", \"cherry\"}\n",
    "\n",
    "thisset.add(\"orange\")\n",
    "\n",
    "print(thisset)"
   ]
  },
  {
   "cell_type": "markdown",
   "metadata": {
    "_uuid": "1a8697f93952e076f6f949997676d40518d7b5a6"
   },
   "source": [
    "<a id=\"3\"></a> <br>\n",
    "# 3- Python Packages\n",
    "* Numpy\n",
    "* Pandas\n",
    "* Matplotlib\n",
    "* Seaborn\n",
    "* Sklearn\n",
    "* plotly"
   ]
  },
  {
   "cell_type": "markdown",
   "metadata": {
    "_uuid": "bfb701e45e93aea0b3ed64e148ca2fdb53559038",
    "collapsed": true
   },
   "source": [
    "<a id=\"31\"></a> <br>\n",
    "# 3-1 NumPy\n",
    "\n",
    "For Reading this section please fork and run the following kernel:\n",
    "\n",
    "[The Data Scientist’s Toolbox Tutorial - 2](https://www.kaggle.com/mjbahmani/the-data-scientist-s-toolbox-tutorial-2/)"
   ]
  },
  {
   "cell_type": "markdown",
   "metadata": {
    "_uuid": "257c95de889d517a1673e5a64cc36a1893dbe7e8"
   },
   "source": [
    "<a id=\"41\"></a> <br>\n",
    "# 3-2 Pandas\n",
    "\n",
    "For Reading this section please fork and run the following kernel:\n",
    "\n",
    "[The Data Scientist’s Toolbox Tutorial - 2](https://www.kaggle.com/mjbahmani/the-data-scientist-s-toolbox-tutorial-2/)"
   ]
  },
  {
   "cell_type": "markdown",
   "metadata": {
    "_uuid": "1cddfa2ed52693fae8532576cc1064c05777354c"
   },
   "source": [
    "<a id=\"4\"></a> <br>\n",
    "## 4- Courses\n",
    "There are a lot of online courses that can help you develop your knowledge, here I have just  listed some of them:\n",
    "\n",
    "1. [Machine Learning Certification by Stanford University (Coursera)](https://www.coursera.org/learn/machine-learning/)\n",
    "\n",
    "2. [Machine Learning A-Z™: Hands-On Python & R In Data Science (Udemy)](https://www.udemy.com/machinelearning/)\n",
    "\n",
    "3. [Deep Learning Certification by Andrew Ng from deeplearning.ai (Coursera)](https://www.coursera.org/specializations/deep-learning)\n",
    "\n",
    "4. [Python for Data Science and Machine Learning Bootcamp (Udemy)](Python for Data Science and Machine Learning Bootcamp (Udemy))\n",
    "\n",
    "5. [Mathematics for Machine Learning by Imperial College London](https://www.coursera.org/specializations/mathematics-machine-learning)\n",
    "\n",
    "6. [Deep Learning A-Z™: Hands-On Artificial Neural Networks](https://www.udemy.com/deeplearning/)\n",
    "\n",
    "7. [Complete Guide to TensorFlow for Deep Learning Tutorial with Python](https://www.udemy.com/complete-guide-to-tensorflow-for-deep-learning-with-python/)\n",
    "\n",
    "8. [Data Science and Machine Learning Tutorial with Python – Hands On](https://www.udemy.com/data-science-and-machine-learning-with-python-hands-on/)\n",
    "\n",
    "9. [Machine Learning Certification by University of Washington](https://www.coursera.org/specializations/machine-learning)\n",
    "\n",
    "10. [Data Science and Machine Learning Bootcamp with R](https://www.udemy.com/data-science-and-machine-learning-bootcamp-with-r/)\n",
    "11. [Creative Applications of Deep Learning with TensorFlow](https://www.class-central.com/course/kadenze-creative-applications-of-deep-learning-with-tensorflow-6679)\n",
    "12. [Neural Networks for Machine Learning](https://www.class-central.com/mooc/398/coursera-neural-networks-for-machine-learning)\n",
    "13. [Practical Deep Learning For Coders, Part 1](https://www.class-central.com/mooc/7887/practical-deep-learning-for-coders-part-1)\n",
    "14. [Machine Learning](https://www.cs.ox.ac.uk/teaching/courses/2014-2015/ml/index.html)"
   ]
  },
  {
   "cell_type": "markdown",
   "metadata": {
    "_uuid": "bc11c635c90414e1d863a51a2b9944f966d1248a"
   },
   "source": [
    " <a id=\"5\"></a> <br>\n",
    "## 5 Ebooks\n",
    "If you love reading , here is **10 free machine learning books**\n",
    "1. [Probability and Statistics for Programmers](http://www.greenteapress.com/thinkstats/)\n",
    "2. [Bayesian Reasoning and Machine Learning](http://web4.cs.ucl.ac.uk/staff/D.Barber/textbook/091117.pdf)\n",
    "2. [An Introduction to Statistical Learning](http://www-bcf.usc.edu/~gareth/ISL/)\n",
    "2. [Understanding Machine Learning](http://www.cs.huji.ac.il/~shais/UnderstandingMachineLearning/index.html)\n",
    "2. [A Programmer’s Guide to Data Mining](http://guidetodatamining.com/)\n",
    "2. [Mining of Massive Datasets](http://infolab.stanford.edu/~ullman/mmds/book.pdf)\n",
    "2. [A Brief Introduction to Neural Networks](http://www.dkriesel.com/_media/science/neuronalenetze-en-zeta2-2col-dkrieselcom.pdf)\n",
    "2. [Deep Learning](http://www.deeplearningbook.org/)\n",
    "2. [Natural Language Processing with Python](https://www.researchgate.net/publication/220691633_Natural_Language_Processing_with_Python)\n",
    "2. [Machine Learning Yearning](http://www.mlyearning.org/)"
   ]
  },
  {
   "cell_type": "markdown",
   "metadata": {
    "_uuid": "a4a58d0f0aa8204797f2b0836d6204404280d6f3"
   },
   "source": [
    "\n",
    "<a id=\"6\"></a> <br>\n",
    "## 6 -Conclusion\n",
    "You have got an introduction to the main packages and ideas in the **The Data Scientist’s Toolbox Tutorial - 1**. I hope,  you have had fun with it also, I want to hear your voice to update this kernel. in addition, there is the new and second version of the kernel that introduces the next packages. to continue please click on [**The Data Scientist’s Toolbox Tutorial - 2**](https://www.kaggle.com/mjbahmani/the-data-scientist-s-toolbox-tutorial-2)"
   ]
  },
  {
   "cell_type": "markdown",
   "metadata": {
    "_uuid": "dc985ec01fe0e62afd495b8ec461359f085071b6"
   },
   "source": [
    "\n",
    "\n",
    "---------------------------------------------------------------------\n",
    "Fork, Run and Follow this kernel on GitHub:\n",
    "> ###### [ GitHub](https://github.com/mjbahmani/10-steps-to-become-a-data-scientist)\n",
    "\n",
    "\n",
    "-------------------------------------------------------------------------------------------------------------\n",
    " **I hope you find this kernel helpful and some <font color=\"red\">UPVOTES</font> would be very much appreciated.**\n",
    " \n",
    " -----------\n"
   ]
  },
  {
   "cell_type": "markdown",
   "metadata": {
    "_uuid": "3eb9f355dc3885ea4b0f38968a4bf14d20de02fd"
   },
   "source": [
    "<a id=\"7\"></a> <br>\n",
    "## 7- References\n",
    "1. [Coursera](https://www.coursera.org/specializations/data-science-python)\n",
    "1. [GitHub](https://github.com/mjbahmani)\n",
    "1. [plot.ly](https://plot.ly/python/offline/)\n",
    "1. [tutorialspoint](https://www.tutorialspoint.com/python/python_classes_objects.htm)\n",
    "1. [Top 28 Cheat Sheets for Machine Learning](https://www.analyticsvidhya.com/blog/2017/02/top-28-cheat-sheets-for-machine-learning-data-science-probability-sql-big-data/)\n",
    "1. [Python](https://en.wikipedia.org/wiki/Python_(programming_language))\n",
    "1. [python-app](https://www.python.org/about/apps/)\n",
    "1. [tutorialspoint-operators](https://www.tutorialspoint.com/python/python_basic_operators.htm)\n",
    "1. [w3schools](https://www.w3schools.com/python/python_lambda.asp)\n",
    "1. [Machine Learning Certification by Stanford University (Coursera)](https://www.coursera.org/learn/machine-learning/)\n",
    "\n",
    "1. [Machine Learning A-Z™: Hands-On Python & R In Data Science (Udemy)](https://www.udemy.com/machinelearning/)\n",
    "\n",
    "1. [Deep Learning Certification by Andrew Ng from deeplearning.ai (Coursera)](https://www.coursera.org/specializations/deep-learning)\n",
    "\n",
    "1. [Python for Data Science and Machine Learning Bootcamp (Udemy)](Python for Data Science and Machine Learning Bootcamp (Udemy))\n",
    "\n",
    "1. [Mathematics for Machine Learning by Imperial College London](https://www.coursera.org/specializations/mathematics-machine-learning)\n",
    "\n",
    "1. [Deep Learning A-Z™: Hands-On Artificial Neural Networks](https://www.udemy.com/deeplearning/)\n",
    "\n",
    "1. [Complete Guide to TensorFlow for Deep Learning Tutorial with Python](https://www.udemy.com/complete-guide-to-tensorflow-for-deep-learning-with-python/)\n",
    "\n",
    "1. [Data Science and Machine Learning Tutorial with Python – Hands On](https://www.udemy.com/data-science-and-machine-learning-with-python-hands-on/)\n",
    "\n",
    "1. [Machine Learning Certification by University of Washington](https://www.coursera.org/specializations/machine-learning)\n",
    "\n",
    "1. [Data Science and Machine Learning Bootcamp with R](https://www.udemy.com/data-science-and-machine-learning-bootcamp-with-r/)\n",
    "1. [Creative Applications of Deep Learning with TensorFlow](https://www.class-central.com/course/kadenze-creative-applications-of-deep-learning-with-tensorflow-6679)\n",
    "1. [Neural Networks for Machine Learning](https://www.class-central.com/mooc/398/coursera-neural-networks-for-machine-learning)\n",
    "1. [Practical Deep Learning For Coders, Part 1](https://www.class-central.com/mooc/7887/practical-deep-learning-for-coders-part-1)\n",
    "1. [Machine Learning](https://www.cs.ox.ac.uk/teaching/courses/2014-2015/ml/index.html)\n",
    "\n",
    "###### [Go to top](#top)"
   ]
  },
  {
   "cell_type": "markdown",
   "metadata": {
    "_uuid": "68134fa4351cbb06d34542ae7a467719d7ecf6ae"
   },
   "source": [
    "Go to first step: [Course Home Page](https://www.kaggle.com/mjbahmani/10-steps-to-become-a-data-scientist)\n",
    "\n",
    "Go to next step : [Titanic](https://www.kaggle.com/mjbahmani/a-comprehensive-ml-workflow-with-python)"
   ]
  }
 ],
 "metadata": {
  "kernelspec": {
   "display_name": "Python 3",
   "language": "python",
   "name": "python3"
  },
  "language_info": {
   "codemirror_mode": {
    "name": "ipython",
    "version": 3
   },
   "file_extension": ".py",
   "mimetype": "text/x-python",
   "name": "python",
   "nbconvert_exporter": "python",
   "pygments_lexer": "ipython3",
   "version": "3.6.7"
  }
 },
 "nbformat": 4,
 "nbformat_minor": 1
}

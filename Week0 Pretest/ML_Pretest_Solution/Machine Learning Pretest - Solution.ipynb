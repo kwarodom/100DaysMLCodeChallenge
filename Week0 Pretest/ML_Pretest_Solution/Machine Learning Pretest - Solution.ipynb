{
 "cells": [
  {
   "cell_type": "markdown",
   "metadata": {},
   "source": [
    "# Machine Learning Pretest\n",
    "## First Part: Multiple Choices\n",
    "## https://goo.gl/forms/emElBoR6SeBAAvMN2"
   ]
  },
  {
   "cell_type": "markdown",
   "metadata": {},
   "source": [
    "## Second Part: Coding Exercise"
   ]
  },
  {
   "cell_type": "markdown",
   "metadata": {},
   "source": [
    "## Exercise 1\n",
    "### Simulate N coin flips and count number of head and number of tail"
   ]
  },
  {
   "cell_type": "code",
   "execution_count": 1,
   "metadata": {},
   "outputs": [],
   "source": [
    "import numpy as np"
   ]
  },
  {
   "cell_type": "code",
   "execution_count": 2,
   "metadata": {},
   "outputs": [],
   "source": [
    "def simulate_coin_flips(N, p):\n",
    "    head = 0\n",
    "    for i in range(N):\n",
    "        if np.random.rand() < p:\n",
    "            head += 1\n",
    "    return head, N-head"
   ]
  },
  {
   "cell_type": "code",
   "execution_count": 16,
   "metadata": {},
   "outputs": [
    {
     "data": {
      "text/plain": [
       "(3, 7)"
      ]
     },
     "execution_count": 16,
     "metadata": {},
     "output_type": "execute_result"
    }
   ],
   "source": [
    "simulate_coin_flips(10, 0.2)"
   ]
  },
  {
   "cell_type": "markdown",
   "metadata": {},
   "source": [
    "## Exercise 2\n",
    "### Write a program to simulate data and answer this question: How many coin flips on average does it take to get n consecutive heads?"
   ]
  },
  {
   "cell_type": "code",
   "execution_count": 18,
   "metadata": {},
   "outputs": [],
   "source": [
    "import numpy as np"
   ]
  },
  {
   "cell_type": "code",
   "execution_count": 21,
   "metadata": {},
   "outputs": [],
   "source": [
    "def average_coin_flips_until_n_heads(n, p):\n",
    "    list_n = []\n",
    "    for i in range(1000):\n",
    "        consec_head = 0\n",
    "        N = 0\n",
    "        while True:\n",
    "            N += 1\n",
    "            if np.random.rand() < p:\n",
    "                consec_head += 1\n",
    "            else:\n",
    "                consec_head = 0\n",
    "            if consec_head == n:\n",
    "                break;\n",
    "        list_n.append(N)\n",
    "    return np.array(list_n).mean()"
   ]
  },
  {
   "cell_type": "code",
   "execution_count": 22,
   "metadata": {},
   "outputs": [
    {
     "data": {
      "text/plain": [
       "10.242"
      ]
     },
     "execution_count": 22,
     "metadata": {},
     "output_type": "execute_result"
    }
   ],
   "source": [
    "average_coin_flips_until_n_heads(5, 0.8)"
   ]
  },
  {
   "cell_type": "markdown",
   "metadata": {},
   "source": [
    "## Exercise 3\n",
    "### Fit linear regression on the simulated data below and show that the fitted parameters are correct"
   ]
  },
  {
   "cell_type": "code",
   "execution_count": 23,
   "metadata": {},
   "outputs": [
    {
     "name": "stdout",
     "output_type": "stream",
     "text": [
      "[[ 0.20247227 -0.6801154 ]\n",
      " [ 1.19738801  0.96564541]\n",
      " [ 0.5976583  -0.46783488]\n",
      " [ 0.10339747  1.73236772]\n",
      " [ 0.4725076   1.62403325]\n",
      " [-1.6182956   1.92852631]\n",
      " [ 0.89969685 -1.7105997 ]\n",
      " [ 0.28485155 -1.12819402]\n",
      " [ 0.64365805 -1.54896474]\n",
      " [-0.19851548  0.22685278]\n",
      " [ 0.66486815 -0.02111321]\n",
      " [ 0.44123366 -1.22589242]\n",
      " [ 0.02572399  0.55605987]\n",
      " [-0.06959101 -1.74422097]\n",
      " [ 0.38486797  0.29815061]\n",
      " [ 0.48616477 -0.66340077]\n",
      " [-1.02301936 -1.83301181]\n",
      " [ 1.45726134  0.62359484]\n",
      " [-0.90194733 -1.42220458]\n",
      " [ 0.18090633  0.253471  ]\n",
      " [ 0.80927805 -0.30447524]\n",
      " [-0.93070746  0.66637921]\n",
      " [-0.64067991  0.3966554 ]\n",
      " [-0.14078586  0.01648334]\n",
      " [ 0.03187822 -0.82879857]\n",
      " [-0.257982   -1.1348514 ]\n",
      " [ 0.08512807  0.82791844]\n",
      " [-0.39506001 -0.18582898]\n",
      " [-0.8098057   0.98397038]\n",
      " [-0.84022311  1.89487634]\n",
      " [ 0.5758341   0.02743357]\n",
      " [ 0.46562989 -0.40010694]\n",
      " [-0.4335258   0.18181174]\n",
      " [ 0.57950294  0.82554701]\n",
      " [ 0.85774337 -0.86352347]\n",
      " [-0.50692473  1.33451819]\n",
      " [-1.21950737 -0.43291019]\n",
      " [ 0.02490598 -1.43196276]\n",
      " [ 2.90659681 -1.53218447]\n",
      " [ 0.59396484  1.35026819]\n",
      " [ 0.82835728  0.56715214]\n",
      " [-1.18843153 -0.34365072]\n",
      " [-1.08027487 -0.20357588]\n",
      " [ 0.73033648 -1.74179424]\n",
      " [ 0.584915   -0.15622051]\n",
      " [-0.28365497  1.15334305]\n",
      " [ 1.09193397  0.52677883]\n",
      " [ 0.72130048 -0.9989872 ]\n",
      " [ 0.35831883  0.3116957 ]\n",
      " [-0.11200086  0.58008643]\n",
      " [ 0.86696917  0.22866955]\n",
      " [-0.18980949 -0.57830302]\n",
      " [ 0.1484141  -1.01507904]\n",
      " [ 0.6504084  -0.07928139]\n",
      " [ 0.68624396 -0.6345138 ]\n",
      " [ 1.07621124 -0.44473264]\n",
      " [-1.93905472 -0.13069762]\n",
      " [ 1.91871117 -0.65391029]\n",
      " [ 0.59446788 -1.23990234]\n",
      " [ 0.20856452 -0.29724824]\n",
      " [ 0.60059752 -2.01578752]\n",
      " [ 0.39280337 -1.06285515]\n",
      " [-1.95121392 -0.09807863]\n",
      " [ 0.08278272 -0.91406997]\n",
      " [ 0.15747912  1.20282671]\n",
      " [-0.57164956 -1.42282499]\n",
      " [ 0.66557396  1.26640364]\n",
      " [ 0.27677294 -1.13893287]\n",
      " [ 0.8434747  -0.56524474]\n",
      " [-2.02787359 -2.0651608 ]\n",
      " [-0.02495638 -0.53375689]\n",
      " [ 0.46206879  1.00247878]\n",
      " [ 0.81036551  0.31283417]\n",
      " [ 2.00946359 -1.16491718]\n",
      " [-1.11941095  0.04994026]\n",
      " [ 0.21385754  0.56062535]\n",
      " [-0.40218906  0.21034849]\n",
      " [ 1.62043761 -0.85930495]\n",
      " [ 0.66496051  0.19823039]\n",
      " [ 0.26346538 -0.06482576]\n",
      " [-0.14593421  0.80066002]\n",
      " [-0.56192704  0.37227266]\n",
      " [-1.34396539 -0.12438611]\n",
      " [ 0.28685016 -1.35277632]\n",
      " [ 0.31385739 -0.20699051]\n",
      " [ 0.12184781  0.34127382]\n",
      " [-0.11420646  0.71278006]\n",
      " [-0.20051367 -0.91501369]\n",
      " [-0.01142916  0.20580703]\n",
      " [-0.19742434 -1.68649672]\n",
      " [-1.71019416 -1.23824134]\n",
      " [ 0.66028624  0.20371272]\n",
      " [ 0.96051248  0.57897093]\n",
      " [-1.25925202  0.19458792]\n",
      " [-1.16340551  0.42866274]\n",
      " [-0.60150836  0.25452994]\n",
      " [ 0.75896884 -0.53092254]\n",
      " [-0.09091016  1.02935065]\n",
      " [-0.34887678  1.40106927]\n",
      " [ 0.28159738  1.88303027]]\n",
      "[  1.20683982  12.42039109   3.45380051  12.97203102  13.53768902\n",
      "   8.78774478  -1.85390796  -0.78641542  -1.81384956   4.53871745\n",
      "   5.88903838  -0.80576111   6.85747131  -4.92987787   6.64535697\n",
      "   2.14149048  -8.23411714  11.48975821  -5.81686488   5.81007396\n",
      "   4.90545795   4.53977368   4.06123727   3.66005912  -0.04835816\n",
      "  -2.448203     8.39497639   1.88567506   6.49043479  10.95371236\n",
      "   5.86467015   3.39635497   3.60848132   9.86624385   2.25561277\n",
      "   9.15181675  -1.82307308  -3.08509584   5.05886809  12.53323548\n",
      "   9.32083256  -1.2835482   -0.25870399  -2.51796176   4.97364247\n",
      "   8.91575031   9.90969606   1.16896547   6.633435     6.56442959\n",
      "   7.74425524   0.53905643  -0.63015293   5.55481824   2.88616291\n",
      "   5.00497052  -2.47065227   6.48658207  -0.41610805   3.13945239\n",
      "  -4.27714503  -0.13586565  -2.3440349   -0.32200167  10.48657092\n",
      "  -4.82907363  12.3287401   -0.86434555   3.7042004  -12.40942477\n",
      "   1.25634644  10.39860028   7.99526736   4.20380486   0.89146845\n",
      "   7.44469937   3.84517527   4.56478808   6.98603351   4.46626734\n",
      "   7.56549749   4.17558217  -0.65382668  -1.90333111   3.90661964\n",
      "   6.07191251   7.22128092  -1.17660946   4.9947477   -5.0247566\n",
      "  -7.32178917   6.99942234   9.77639212   1.19518354   2.65309714\n",
      "   3.46812465   3.62229384   8.87402277   9.95871601  14.25994348]\n"
     ]
    }
   ],
   "source": [
    "import numpy as np\n",
    "\n",
    "x = np.random.normal(size=(100,2))\n",
    "y = 4 + 3 * x[:,0] + 5 * x[:,1]\n",
    "\n",
    "print(x)\n",
    "print(y)"
   ]
  },
  {
   "cell_type": "code",
   "execution_count": 62,
   "metadata": {},
   "outputs": [
    {
     "name": "stdout",
     "output_type": "stream",
     "text": [
      "[ 3.  5.]\n",
      "4.0\n"
     ]
    }
   ],
   "source": [
    "from sklearn import linear_model\n",
    "reg = linear_model.LinearRegression()\n",
    "reg.fit(x,y)\n",
    "print(reg.coef_)\n",
    "print(reg.intercept_)"
   ]
  },
  {
   "cell_type": "markdown",
   "metadata": {},
   "source": [
    "## Exercise 4\n",
    "### Given credit card fraud data below, fit a classification model on the trainData and evaluate the model on the testData using Area under curve of ROC (AUC) as a metric\n",
    "### The label column is \"Class\" and other columns are anonymized features\n",
    "### The data is sample from this dataset: https://www.kaggle.com/dalpozz/creditcardfraud"
   ]
  },
  {
   "cell_type": "code",
   "execution_count": 104,
   "metadata": {
    "collapsed": true
   },
   "outputs": [],
   "source": [
    "import pandas as pd"
   ]
  },
  {
   "cell_type": "code",
   "execution_count": 105,
   "metadata": {
    "collapsed": true
   },
   "outputs": [],
   "source": [
    "trainData = pd.read_csv(\"trainData.csv\")"
   ]
  },
  {
   "cell_type": "code",
   "execution_count": 106,
   "metadata": {
    "collapsed": true
   },
   "outputs": [],
   "source": [
    "testData = pd.read_csv(\"testData.csv\")"
   ]
  },
  {
   "cell_type": "code",
   "execution_count": 109,
   "metadata": {},
   "outputs": [
    {
     "data": {
      "text/plain": [
       "0.97759999999999991"
      ]
     },
     "execution_count": 109,
     "metadata": {},
     "output_type": "execute_result"
    }
   ],
   "source": [
    "from sklearn import linear_model\n",
    "from sklearn.metrics import roc_auc_score\n",
    "\n",
    "reg = linear_model.LogisticRegression()\n",
    "\n",
    "x_train = trainData.ix[:, :-1].astype(np.float32)\n",
    "y_train = trainData.ix[:, -1].astype(np.float32)\n",
    "\n",
    "x_test = testData.ix[:, :-1].astype(np.float32)\n",
    "\n",
    "reg.fit(x, y)\n",
    "y_scores = reg.predict_proba(x_test)[:,1]\n",
    "y_true = testData.ix[:, -1].astype(np.float32)\n",
    "\n",
    "roc_auc_score(y_true, y_scores)"
   ]
  }
 ],
 "metadata": {
  "kernelspec": {
   "display_name": "Python 3",
   "language": "python",
   "name": "python3"
  },
  "language_info": {
   "codemirror_mode": {
    "name": "ipython",
    "version": 3
   },
   "file_extension": ".py",
   "mimetype": "text/x-python",
   "name": "python",
   "nbconvert_exporter": "python",
   "pygments_lexer": "ipython3",
   "version": "3.6.7"
  }
 },
 "nbformat": 4,
 "nbformat_minor": 2
}
